{
 "cells": [
  {
   "cell_type": "markdown",
   "metadata": {
    "collapsed": true
   },
   "source": [
    "# 訓練自己的簡單資料集詞向量模型"
   ]
  },
  {
   "cell_type": "code",
   "execution_count": null,
   "metadata": {
    "collapsed": true
   },
   "outputs": [],
   "source": []
  },
  {
   "cell_type": "markdown",
   "metadata": {},
   "source": [
    "# Using pyfasttext"
   ]
  },
  {
   "cell_type": "code",
   "execution_count": 38,
   "metadata": {},
   "outputs": [
    {
     "name": "stdout",
     "output_type": "stream",
     "text": [
      "Collecting pyfasttext\n",
      "\u001b[33m  Cache entry deserialization failed, entry ignored\u001b[0m\n",
      "\u001b[33m  Cache entry deserialization failed, entry ignored\u001b[0m\n",
      "  Downloading https://files.pythonhosted.org/packages/72/96/741e3502b19d62fcba2b702d06d6707991ea2ba9f1b393e6d36aeae835c5/pyfasttext-0.4.5.tar.gz (232kB)\n",
      "\u001b[K    100% |████████████████████████████████| 235kB 1.2MB/s \n",
      "\u001b[?25hRequirement already satisfied: future in /opt/conda/lib/python3.5/site-packages (from pyfasttext)\n",
      "Requirement already satisfied: cysignals in /opt/conda/lib/python3.5/site-packages (from pyfasttext)\n",
      "Requirement already satisfied: numpy in /opt/conda/lib/python3.5/site-packages (from pyfasttext)\n",
      "Requirement already satisfied: Cython>=0.28 in /opt/conda/lib/python3.5/site-packages (from cysignals->pyfasttext)\n",
      "Building wheels for collected packages: pyfasttext\n",
      "  Running setup.py bdist_wheel for pyfasttext ... \u001b[?25l-\b \b\\\b \b|\b \b/\b \b-\b \b\\\b \b|\b \b/\b \b-\b \b\\\b \b|\b \b/\b \b-\b \b\\\b \b|\b \b/\b \b-\b \bdone\n",
      "\u001b[?25h  Stored in directory: /home/jovyan/.cache/pip/wheels/16/39/bd/45feac9c387843d70387a298d3ccf7c1dd5257c912a08de1e8\n",
      "Successfully built pyfasttext\n",
      "Installing collected packages: pyfasttext\n",
      "Successfully installed pyfasttext-0.4.5\n"
     ]
    }
   ],
   "source": [
    "!pip install pyfasttext"
   ]
  },
  {
   "cell_type": "code",
   "execution_count": null,
   "metadata": {},
   "outputs": [],
   "source": []
  },
  {
   "cell_type": "markdown",
   "metadata": {
    "collapsed": true
   },
   "source": [
    "# 不能安裝pyfasttext解決方法"
   ]
  },
  {
   "cell_type": "code",
   "execution_count": 29,
   "metadata": {},
   "outputs": [
    {
     "name": "stdout",
     "output_type": "stream",
     "text": [
      "Requirement already up-to-date: setuptools in /opt/conda/lib/python3.5/site-packages (39.2.0)\r\n"
     ]
    }
   ],
   "source": [
    "!pip install --upgrade setuptools"
   ]
  },
  {
   "cell_type": "code",
   "execution_count": 36,
   "metadata": {},
   "outputs": [
    {
     "name": "stdout",
     "output_type": "stream",
     "text": [
      "Requirement already satisfied: Cython==0.28.1 in /opt/conda/lib/python3.5/site-packages\r\n"
     ]
    }
   ],
   "source": [
    "!pip install Cython==0.28.1"
   ]
  },
  {
   "cell_type": "code",
   "execution_count": 37,
   "metadata": {
    "scrolled": true
   },
   "outputs": [
    {
     "name": "stdout",
     "output_type": "stream",
     "text": [
      "Collecting cysignals\n",
      "\u001b[33m  Cache entry deserialization failed, entry ignored\u001b[0m\n",
      "Requirement already satisfied: Cython>=0.28 in /opt/conda/lib/python3.5/site-packages (from cysignals)\n",
      "Installing collected packages: cysignals\n",
      "Successfully installed cysignals-1.7.1\n"
     ]
    }
   ],
   "source": [
    "!pip install cysignals"
   ]
  },
  {
   "cell_type": "code",
   "execution_count": null,
   "metadata": {
    "collapsed": true
   },
   "outputs": [],
   "source": []
  },
  {
   "cell_type": "code",
   "execution_count": null,
   "metadata": {
    "collapsed": true
   },
   "outputs": [],
   "source": []
  },
  {
   "cell_type": "raw",
   "metadata": {
    "collapsed": true
   },
   "source": [
    "內定參數：\n",
    "\n",
    "{'bucket': 2000000,\n",
    " 'cutoff': 0,\n",
    " 'dim': 5,\n",
    " 'dsub': 2,\n",
    " 'epoch': 2,\n",
    " 'input': 'data2.txt',\n",
    " 'label': '__label__',\n",
    " 'loss': 'ns',\n",
    " 'lr': 0.07000000029802322,\n",
    " 'lrUpdateRate': 100,\n",
    " 'maxn': 6,\n",
    " 'minCount': 5,\n",
    " 'minCountLabel': 0,\n",
    " 'minn': 3,\n",
    " 'model': 'skipgram',\n",
    " 'neg': 5,\n",
    " 'output': 'sg_model_pyfasttext',\n",
    " 'pretrainedVectors': '',\n",
    " 'qnorm': False,\n",
    " 'qout': False,\n",
    " 'retrain': False,\n",
    " 'saveOutput': 0,\n",
    " 't': 0.0001,\n",
    " 'test': '',\n",
    " 'thread': 12,\n",
    " 'verbose': 2,\n",
    " 'wordNgrams': 1,\n",
    " 'ws': 5}"
   ]
  },
  {
   "cell_type": "code",
   "execution_count": null,
   "metadata": {
    "collapsed": true
   },
   "outputs": [],
   "source": []
  },
  {
   "cell_type": "markdown",
   "metadata": {},
   "source": [
    "# 訓練模型 須輸入字詞檔案"
   ]
  },
  {
   "cell_type": "markdown",
   "metadata": {},
   "source": [
    "# SkipGram model"
   ]
  },
  {
   "cell_type": "code",
   "execution_count": 1,
   "metadata": {
    "collapsed": true
   },
   "outputs": [],
   "source": [
    "from pyfasttext import FastText"
   ]
  },
  {
   "cell_type": "code",
   "execution_count": 2,
   "metadata": {
    "collapsed": true
   },
   "outputs": [],
   "source": [
    "model = FastText()"
   ]
  },
  {
   "cell_type": "code",
   "execution_count": 4,
   "metadata": {
    "collapsed": true
   },
   "outputs": [],
   "source": [
    "#參數解釋\n",
    "# https://github.com/facebookresearch/fastText"
   ]
  },
  {
   "cell_type": "code",
   "execution_count": 5,
   "metadata": {},
   "outputs": [
    {
     "name": "stdout",
     "output_type": "stream",
     "text": [
      "CPU times: user 5.95 s, sys: 317 ms, total: 6.27 s\n",
      "Wall time: 6.96 s\n"
     ]
    }
   ],
   "source": [
    "%%time\n",
    "model.skipgram(input='data2.txt', output='sg_model_pyfasttext2', dim=5, epoch=2, lr=0.07,minCount=1, wordNgrams=2)\n",
    "\n",
    "\n",
    "# dim = 5  詞向量大小 = 給予5個向量值\n",
    "# lr= 學習速率\n",
    "# epoch=2  訓練次數\n",
    "# minCount = 只有當某個詞出現的次數大於或者等於 minCount 時，才會被包含到詞彙表裏，否則會被忽略掉。\n",
    "\n",
    "#wordNgrams=2 \n",
    "#比如說 我愛她  就變成 \"我愛\" \"愛她\"   如果沒有加這個就變成 \"我愛她\" \"他愛我\" 沒有不同了  也就是沒有順序差別\n",
    "\n",
    "# 以下是Word2Vec\n",
    "# vectorSize = 目標數值矢量的維度大小，默認是 100\n",
    "# windowSize =  上下文窗口大小，默認是 5。\n",
    "# numPartitions = 訓練數據的分區數，默認是 1\n",
    "# maxIter = 算法求最大迭代次數，小於或等於分區數。默認是 1.\n",
    "# stepSize = 優化算法的每一次迭代的學習速率。默認值是 0.025.\n",
    "\n"
   ]
  },
  {
   "cell_type": "code",
   "execution_count": null,
   "metadata": {
    "collapsed": true
   },
   "outputs": [],
   "source": [
    "# n-gram 解說\n",
    "# 「apple」，假設n的取值為3，則它的trigram有\n",
    "\n",
    "# 「<ap」, 「app」, 「ppl」, 「ple」, 「le>」\n",
    "\n",
    "# 其中，<表示前綴，>表示後綴。於是，我們可以用這些trigram來表示「apple」這個單詞，\n",
    "# 進一步，我們可以用這5個trigram的向量疊加來表示「apple」的詞向量。"
   ]
  },
  {
   "cell_type": "code",
   "execution_count": null,
   "metadata": {
    "collapsed": true
   },
   "outputs": [],
   "source": []
  },
  {
   "cell_type": "code",
   "execution_count": 6,
   "metadata": {
    "collapsed": true
   },
   "outputs": [],
   "source": [
    "## 重要的操作"
   ]
  },
  {
   "cell_type": "code",
   "execution_count": 7,
   "metadata": {},
   "outputs": [
    {
     "data": {
      "text/plain": [
       "array([-0.02379515, -0.00472686,  0.0063704 ,  0.00302918,  0.01447454],\n",
       "      dtype=float32)"
      ]
     },
     "execution_count": 7,
     "metadata": {},
     "output_type": "execute_result"
    }
   ],
   "source": [
    "#看單字向量\n",
    "model.get_numpy_text_vector('mountain')"
   ]
  },
  {
   "cell_type": "code",
   "execution_count": 8,
   "metadata": {},
   "outputs": [
    {
     "data": {
      "text/plain": [
       "array([-0.6398745 , -0.06511728,  0.16318847,  0.4503791 ,  0.4347564 ],\n",
       "      dtype=float32)"
      ]
     },
     "execution_count": 8,
     "metadata": {},
     "output_type": "execute_result"
    }
   ],
   "source": [
    "#看句子向量\n",
    "model.get_numpy_sentence_vector('mountain view')"
   ]
  },
  {
   "cell_type": "code",
   "execution_count": 9,
   "metadata": {},
   "outputs": [
    {
     "data": {
      "text/plain": [
       "493"
      ]
     },
     "execution_count": 9,
     "metadata": {},
     "output_type": "execute_result"
    }
   ],
   "source": [
    "# 493種單字\n",
    "model.nwords"
   ]
  },
  {
   "cell_type": "code",
   "execution_count": 10,
   "metadata": {},
   "outputs": [
    {
     "data": {
      "text/plain": [
       "['the',\n",
       " 'and',\n",
       " 'was',\n",
       " 'to',\n",
       " 'a',\n",
       " 'I',\n",
       " 'in',\n",
       " 'we',\n",
       " 'that',\n",
       " 'it',\n",
       " 'at',\n",
       " 'We',\n",
       " 'of',\n",
       " 'our',\n",
       " 'on',\n",
       " 'not',\n",
       " 'were',\n",
       " 'for',\n",
       " 'but',\n",
       " 'room',\n",
       " 'so',\n",
       " 'they',\n",
       " 'had',\n",
       " '-',\n",
       " 'this',\n",
       " 'from',\n",
       " 'you',\n",
       " 'there',\n",
       " 'is',\n",
       " 'my',\n",
       " 'up',\n",
       " 'The',\n",
       " 'have',\n",
       " 'as',\n",
       " 'all',\n",
       " 'good',\n",
       " 'husband',\n",
       " 'am',\n",
       " 'one',\n",
       " 'very',\n",
       " 'night',\n",
       " 'went',\n",
       " 'would',\n",
       " 'no',\n",
       " 'towels.',\n",
       " 'when',\n",
       " 'air',\n",
       " 'turned',\n",
       " 'some',\n",
       " 'down',\n",
       " 'by',\n",
       " 'It',\n",
       " 'if',\n",
       " 'she',\n",
       " 'them',\n",
       " 'told',\n",
       " 'check',\n",
       " 'staff',\n",
       " 'me',\n",
       " 'As',\n",
       " 'pool',\n",
       " 'with',\n",
       " 'room.',\n",
       " 'spent',\n",
       " '5',\n",
       " 'hotel',\n",
       " 'smell',\n",
       " 'opened',\n",
       " 'just',\n",
       " 'regular',\n",
       " 'water',\n",
       " \"it's\",\n",
       " 'centre',\n",
       " 'an',\n",
       " 'night!',\n",
       " 'decided',\n",
       " 'back',\n",
       " 'do',\n",
       " 'ceiling',\n",
       " 'location',\n",
       " 'dripping',\n",
       " 'much',\n",
       " 'sleep',\n",
       " 'thought',\n",
       " 'quite',\n",
       " 'return',\n",
       " 'got',\n",
       " 'suitcases',\n",
       " 'are',\n",
       " 'us',\n",
       " 'her',\n",
       " 'did',\n",
       " 'given',\n",
       " 'number',\n",
       " 'small',\n",
       " 'My',\n",
       " 'came',\n",
       " 'can',\n",
       " 'been',\n",
       " 'included',\n",
       " 'asked',\n",
       " 'specifically',\n",
       " 'checked',\n",
       " 'Venice.',\n",
       " 'size',\n",
       " 'both',\n",
       " 'left.',\n",
       " \"sister's\",\n",
       " 'which',\n",
       " 'luggage',\n",
       " 'Then',\n",
       " 'loud',\n",
       " 'next',\n",
       " 'full',\n",
       " 'shower',\n",
       " 'floor',\n",
       " 'called',\n",
       " 'before',\n",
       " 'desk',\n",
       " 'time',\n",
       " 'tried',\n",
       " 'front',\n",
       " 'smoking',\n",
       " 'leak',\n",
       " 'night,',\n",
       " 'morning,',\n",
       " 'non',\n",
       " 'He',\n",
       " 'king',\n",
       " 'about',\n",
       " 'being',\n",
       " '2',\n",
       " 'new',\n",
       " '21',\n",
       " 'first.',\n",
       " 'And',\n",
       " 'glass',\n",
       " 'murano',\n",
       " 'door,',\n",
       " 'ceilings,',\n",
       " 'looked',\n",
       " 'beamed',\n",
       " 'wood',\n",
       " 'furniture,',\n",
       " 'Cute',\n",
       " 'us.',\n",
       " 'charming.',\n",
       " 'under',\n",
       " 'cat',\n",
       " 'phase',\n",
       " 'Hotel',\n",
       " 'Graspo,',\n",
       " 'look',\n",
       " 'mask',\n",
       " 'someone',\n",
       " 'odor',\n",
       " 'body',\n",
       " 'linen',\n",
       " 'litter,',\n",
       " 'fixtures.',\n",
       " 'used',\n",
       " 'like',\n",
       " 'smelled',\n",
       " 'closet',\n",
       " 'sheets.',\n",
       " 'found',\n",
       " 'sheet,',\n",
       " 'approach),',\n",
       " 'hit',\n",
       " 'stairs',\n",
       " 'bottles,',\n",
       " 'alive',\n",
       " 'wine',\n",
       " 'Please',\n",
       " 'stay',\n",
       " 'paper,',\n",
       " 'toilet',\n",
       " 'hallway.',\n",
       " 'stashed',\n",
       " 'find',\n",
       " 'eaten',\n",
       " 'horrid',\n",
       " 'climbed',\n",
       " 'rooms.',\n",
       " 'directions',\n",
       " '\"Booked',\n",
       " 'keys',\n",
       " '2:00-ish,',\n",
       " 'Upon',\n",
       " 'hotel.',\n",
       " 'bad,',\n",
       " 'notice?',\n",
       " 'assumed',\n",
       " 'offered.',\n",
       " 'wrong',\n",
       " 'dramatically',\n",
       " 'life',\n",
       " 'flicker',\n",
       " 'sensors',\n",
       " 'motion',\n",
       " '(lights',\n",
       " 'discount',\n",
       " 'lit',\n",
       " 'dimly',\n",
       " 'bugs,',\n",
       " 'hallways',\n",
       " 'boyfriend',\n",
       " 'suppose',\n",
       " 'junk.',\n",
       " 'other',\n",
       " 'assorted',\n",
       " 'Ua.',\n",
       " 'soon',\n",
       " 'mold/mildew',\n",
       " 'experiences',\n",
       " 'awakened',\n",
       " 'started',\n",
       " 'miserable',\n",
       " 'rooms,',\n",
       " 'again!',\n",
       " 'respective',\n",
       " 'wetness',\n",
       " 'off',\n",
       " 'unacceptable,',\n",
       " 'establishment!!!\"',\n",
       " 'de',\n",
       " 'Graspo',\n",
       " 'turn',\n",
       " 'downstairs',\n",
       " 'wine,',\n",
       " 'food',\n",
       " 'After',\n",
       " 'around',\n",
       " 'leaking.',\n",
       " 'onto',\n",
       " 'pouring',\n",
       " 'beside',\n",
       " 'stream',\n",
       " 'it.',\n",
       " 'steady',\n",
       " 'you,',\n",
       " 'worse!',\n",
       " 'mind',\n",
       " 'leak,',\n",
       " 'walking',\n",
       " 'guess',\n",
       " 'behold,',\n",
       " 'lo',\n",
       " 'on,',\n",
       " 'lights',\n",
       " 'event',\n",
       " 'sound.',\n",
       " '21,',\n",
       " 'heard',\n",
       " 'lights,',\n",
       " 'windows,',\n",
       " 'Hers,',\n",
       " 'above',\n",
       " 'should',\n",
       " 'pass',\n",
       " 'Up',\n",
       " '15',\n",
       " 'stench,',\n",
       " 'remedy',\n",
       " 'circulation',\n",
       " 'hoping',\n",
       " '32,',\n",
       " 'conditioner',\n",
       " 'minutes.',\n",
       " 'later!',\n",
       " 'more',\n",
       " 'bed',\n",
       " 'Apparently',\n",
       " 'freshener.',\n",
       " 'dirty',\n",
       " 'their',\n",
       " 'guestdoes',\n",
       " 'booked',\n",
       " 'ask',\n",
       " 'afternoon',\n",
       " 'lovely',\n",
       " 'long,',\n",
       " 'windows',\n",
       " 'too,',\n",
       " 'musty',\n",
       " 'informed',\n",
       " 'bit',\n",
       " 'pleased.',\n",
       " 'strong',\n",
       " 'bathroom),',\n",
       " '(off',\n",
       " 'balcony',\n",
       " 'little',\n",
       " 'nice',\n",
       " 'solid',\n",
       " 'happened',\n",
       " 'small,',\n",
       " 'floor.',\n",
       " 'top',\n",
       " 'apparently',\n",
       " 'bucks',\n",
       " '200',\n",
       " 'nights',\n",
       " 'any',\n",
       " 'gotten',\n",
       " '6',\n",
       " 'getting',\n",
       " 'fact',\n",
       " 'unsympathetic',\n",
       " 'Very',\n",
       " 'that.',\n",
       " 'willing',\n",
       " 'night.\"',\n",
       " 'themselves',\n",
       " 'noise',\n",
       " 'hear',\n",
       " 'actually',\n",
       " 'outside',\n",
       " 'go',\n",
       " 'urged',\n",
       " 'be',\n",
       " 'might',\n",
       " 'what',\n",
       " 'fathom',\n",
       " 'years',\n",
       " 'idea,',\n",
       " 'give',\n",
       " 'To',\n",
       " 'terrible.',\n",
       " 'has.',\n",
       " 'certainly',\n",
       " 'most',\n",
       " 'occasion',\n",
       " 'let',\n",
       " 'rarely',\n",
       " 'has',\n",
       " \"couldn't\",\n",
       " 'TripAdvisor',\n",
       " 'user',\n",
       " 'Paris.',\n",
       " '#4',\n",
       " 'rating',\n",
       " 'astounded',\n",
       " 'genuinely',\n",
       " 'visiting',\n",
       " 'returned',\n",
       " '\"I\\'ve',\n",
       " '</s>',\n",
       " 'hour',\n",
       " 'generator',\n",
       " 'kind',\n",
       " 'done',\n",
       " 'work',\n",
       " '745',\n",
       " 'down.',\n",
       " 'shut',\n",
       " 'able',\n",
       " 'finally',\n",
       " '3',\n",
       " 'span',\n",
       " 'running',\n",
       " 'over',\n",
       " 'times',\n",
       " 'security',\n",
       " 'people',\n",
       " 'clean.',\n",
       " 'view',\n",
       " '\"\"upgrade\"\"',\n",
       " 'available',\n",
       " 'rooms',\n",
       " 'view,',\n",
       " 'mountain',\n",
       " '20',\n",
       " 'call)',\n",
       " 'each',\n",
       " 'minutes',\n",
       " '10',\n",
       " 'hold',\n",
       " '(sat',\n",
       " 'hours.',\n",
       " '1/2',\n",
       " '1',\n",
       " 'intervals',\n",
       " 'minute',\n",
       " '€20',\n",
       " 'deck',\n",
       " 'run',\n",
       " 'buffer',\n",
       " 'woken',\n",
       " 'again',\n",
       " 'once',\n",
       " 'midnight',\n",
       " 'That',\n",
       " 'in.',\n",
       " 'sleeping',\n",
       " 'definitely',\n",
       " 'ended',\n",
       " 'cruise,',\n",
       " 'fabulous',\n",
       " 'returning',\n",
       " 'money.\"Upon',\n",
       " 'value',\n",
       " 'represent',\n",
       " 'cheap',\n",
       " 'exactly',\n",
       " \"isn't\",\n",
       " 'per',\n",
       " '£135',\n",
       " 'paying',\n",
       " 'husband,',\n",
       " 'pay.',\n",
       " 'still',\n",
       " \"we'd\",\n",
       " 'question',\n",
       " 'mis-understood',\n",
       " 'must',\n",
       " 'he',\n",
       " 'said',\n",
       " 'guy',\n",
       " 'explained',\n",
       " 'breakfast.',\n",
       " 'taking',\n",
       " 'thing',\n",
       " 'only',\n",
       " 'pretty',\n",
       " 'However,',\n",
       " 'through',\n",
       " 'lug',\n",
       " 'need',\n",
       " 'upstairs',\n",
       " 'heavy',\n",
       " '(!)',\n",
       " 'eight',\n",
       " 'bill',\n",
       " 'point,',\n",
       " 'friendly',\n",
       " 'later.',\n",
       " 'agreed',\n",
       " 'pm,',\n",
       " '2:00',\n",
       " 'until',\n",
       " 'early',\n",
       " 'establishment.',\n",
       " 'boyfriend,',\n",
       " 'sister,',\n",
       " \"won't\",\n",
       " 'busy',\n",
       " 'situated',\n",
       " 'also',\n",
       " \"It's\",\n",
       " 'hotel).',\n",
       " 'walk',\n",
       " 'min',\n",
       " 'another',\n",
       " 'metro',\n",
       " 'using',\n",
       " 'fancy',\n",
       " 'street',\n",
       " 'probably',\n",
       " 'lots',\n",
       " 'far',\n",
       " 'how',\n",
       " 'idea',\n",
       " 'gives',\n",
       " 'Metro',\n",
       " 'use',\n",
       " '(yes,',\n",
       " 'Paris',\n",
       " 'cab',\n",
       " 'do)',\n",
       " '€10pp',\n",
       " 'added',\n",
       " 'out',\n",
       " 'bread)',\n",
       " '(cereals',\n",
       " 'basic',\n",
       " '(which',\n",
       " 'breakfast',\n",
       " 'was.',\n",
       " 'rate',\n",
       " 'Breakfast',\n",
       " 'say',\n",
       " 'always',\n",
       " '(as',\n",
       " 'Finally,',\n",
       " 'hand',\n",
       " 'towels',\n",
       " 'bath',\n",
       " 'tiny',\n",
       " '(\"\"Desire\"\")',\n",
       " 'Our',\n",
       " 'time.',\n",
       " 'noisy']"
      ]
     },
     "execution_count": 10,
     "metadata": {},
     "output_type": "execute_result"
    }
   ],
   "source": [
    "#全部列印出來\n",
    "model.words"
   ]
  },
  {
   "cell_type": "code",
   "execution_count": 11,
   "metadata": {},
   "outputs": [
    {
     "data": {
      "text/plain": [
       "{'bucket': 2000000,\n",
       " 'cutoff': 0,\n",
       " 'dim': 5,\n",
       " 'dsub': 2,\n",
       " 'epoch': 2,\n",
       " 'input': 'data2.txt',\n",
       " 'label': '__label__',\n",
       " 'loss': 'ns',\n",
       " 'lr': 0.07000000029802322,\n",
       " 'lrUpdateRate': 100,\n",
       " 'maxn': 6,\n",
       " 'minCount': 1,\n",
       " 'minCountLabel': 0,\n",
       " 'minn': 3,\n",
       " 'model': 'skipgram',\n",
       " 'neg': 5,\n",
       " 'output': 'sg_model_pyfasttext2',\n",
       " 'pretrainedVectors': '',\n",
       " 'qnorm': False,\n",
       " 'qout': False,\n",
       " 'retrain': False,\n",
       " 'saveOutput': 0,\n",
       " 't': 0.0001,\n",
       " 'test': '',\n",
       " 'thread': 12,\n",
       " 'verbose': 2,\n",
       " 'wordNgrams': 2,\n",
       " 'ws': 5}"
      ]
     },
     "execution_count": 11,
     "metadata": {},
     "output_type": "execute_result"
    }
   ],
   "source": [
    "#設定參數\n",
    "model.args"
   ]
  },
  {
   "cell_type": "code",
   "execution_count": 12,
   "metadata": {},
   "outputs": [
    {
     "data": {
      "text/plain": [
       "[('pleased.', 0.9827817678451538),\n",
       " ('21,', 0.9701892137527466),\n",
       " ('downstairs', 0.9673985242843628),\n",
       " ('climbed', 0.9572606086730957),\n",
       " ('cab', 0.9471869468688965),\n",
       " ('cruise,', 0.943205714225769),\n",
       " ('there', 0.9336063861846924),\n",
       " ('taking', 0.9309921860694885),\n",
       " ('charming.', 0.9255679845809937),\n",
       " ('urged', 0.9165847897529602)]"
      ]
     },
     "execution_count": 12,
     "metadata": {},
     "output_type": "execute_result"
    }
   ],
   "source": [
    "#尋找相似詞 詞的相似度\n",
    "model.most_similar('book')"
   ]
  },
  {
   "cell_type": "code",
   "execution_count": 13,
   "metadata": {},
   "outputs": [
    {
     "data": {
      "text/plain": [
       "[('behold,', 0.9233818650245667), ('I', 0.9142428040504456)]"
      ]
     },
     "execution_count": 13,
     "metadata": {},
     "output_type": "execute_result"
    }
   ],
   "source": [
    "#找出跟 ['room', 'our'] 最相關  ['this'] 最不相關的2個詞\n",
    "model.most_similar(positive=['room', 'our'], negative=['this'], k=2)"
   ]
  },
  {
   "cell_type": "code",
   "execution_count": 18,
   "metadata": {},
   "outputs": [
    {
     "data": {
      "text/plain": [
       "[('what', 0.9705005288124084),\n",
       " ('behold,', 0.9334331750869751),\n",
       " ('rooms,', 0.9008268117904663),\n",
       " ('kind', 0.8899126052856445),\n",
       " ('fabulous', 0.8808700442314148)]"
      ]
     },
     "execution_count": 18,
     "metadata": {},
     "output_type": "execute_result"
    }
   ],
   "source": [
    "#透過詞向量 找尋最近似的林鄰居   這邊是找5個\n",
    "model.nearest_neighbors('room', k=5)"
   ]
  },
  {
   "cell_type": "code",
   "execution_count": null,
   "metadata": {
    "collapsed": true
   },
   "outputs": [],
   "source": []
  },
  {
   "cell_type": "markdown",
   "metadata": {
    "collapsed": true
   },
   "source": [
    "# 讀取已經訓練的模型"
   ]
  },
  {
   "cell_type": "code",
   "execution_count": 19,
   "metadata": {
    "collapsed": true
   },
   "outputs": [],
   "source": [
    "model2 = FastText('sg_model_pyfasttext.bin')"
   ]
  },
  {
   "cell_type": "code",
   "execution_count": null,
   "metadata": {
    "collapsed": true
   },
   "outputs": [],
   "source": []
  },
  {
   "cell_type": "markdown",
   "metadata": {},
   "source": [
    "# wordNgrams參數"
   ]
  },
  {
   "cell_type": "markdown",
   "metadata": {
    "collapsed": true
   },
   "source": [
    "多少個字合併為一個字的方式，擴大字彙組合"
   ]
  },
  {
   "cell_type": "markdown",
   "metadata": {
    "collapsed": true
   },
   "source": [
    "-wordNgrams         max length of word ngram [1]"
   ]
  },
  {
   "cell_type": "code",
   "execution_count": null,
   "metadata": {
    "collapsed": true
   },
   "outputs": [],
   "source": []
  },
  {
   "cell_type": "code",
   "execution_count": null,
   "metadata": {
    "collapsed": true
   },
   "outputs": [],
   "source": []
  },
  {
   "cell_type": "code",
   "execution_count": null,
   "metadata": {
    "collapsed": true
   },
   "outputs": [],
   "source": []
  },
  {
   "cell_type": "code",
   "execution_count": null,
   "metadata": {
    "collapsed": true
   },
   "outputs": [],
   "source": []
  },
  {
   "cell_type": "markdown",
   "metadata": {},
   "source": [
    "# 使用fasttext--不建議 功能很少！！"
   ]
  },
  {
   "cell_type": "markdown",
   "metadata": {
    "collapsed": true
   },
   "source": [
    "# CBow model"
   ]
  },
  {
   "cell_type": "code",
   "execution_count": 21,
   "metadata": {
    "collapsed": true
   },
   "outputs": [],
   "source": [
    "import fasttext\n",
    " \n",
    "# CBOW model\n",
    "model = fasttext.cbow('data2.txt', 'cbow_model',lr=0.02, dim=5, ws=5,\n",
    "        epoch=1, min_count=1, neg=5, loss='ns', bucket=2000000, minn=3, \n",
    "        maxn=5,word_ngrams=3, thread=4, t=1e-4, lr_update_rate=100)"
   ]
  },
  {
   "cell_type": "code",
   "execution_count": null,
   "metadata": {
    "collapsed": true
   },
   "outputs": [],
   "source": [
    "# https://github.com/facebookresearch/fastText\n",
    "# 參數文件"
   ]
  },
  {
   "cell_type": "code",
   "execution_count": 23,
   "metadata": {
    "collapsed": true
   },
   "outputs": [],
   "source": [
    "# dim = 5  詞向量大小 = 給予5個向量值\n",
    "# lr= 學習速率\n",
    "# epoch=2  訓練次數\n",
    "# minCount = 只有當某個詞出現的次數大於或者等於 minCount 時，才會被包含到詞彙表裏，否則會被忽略掉。\n",
    "\n",
    "#wordNgrams=2 \n",
    "#比如說 我愛她  就變成 \"我愛\" \"愛她\"   如果沒有加這個就變成 \"我愛她\" \"他愛我\" 沒有不同了  也就是沒有順序差別\n",
    "\n",
    "# 以下是Word2Vec\n",
    "# vectorSize = 目標數值矢量的維度大小，默認是 100\n",
    "# windowSize =  上下文窗口大小，默認是 5。\n",
    "# numPartitions = 訓練數據的分區數，默認是 1\n",
    "# maxIter = 算法求最大迭代次數，小於或等於分區數。默認是 1.\n",
    "# stepSize = 優化算法的每一次迭代的學習速率。默認值是 0.025."
   ]
  },
  {
   "cell_type": "code",
   "execution_count": null,
   "metadata": {
    "collapsed": true
   },
   "outputs": [],
   "source": [
    "# n-gram 解說\n",
    "# 「apple」，假設n的取值為3，則它的trigram有\n",
    "\n",
    "# 「<ap」, 「app」, 「ppl」, 「ple」, 「le>」\n",
    "\n",
    "# 其中，<表示前綴，>表示後綴。於是，我們可以用這些trigram來表示「apple」這個單詞，\n",
    "# 進一步，我們可以用這5個trigram的向量疊加來表示「apple」的詞向量。"
   ]
  },
  {
   "cell_type": "code",
   "execution_count": null,
   "metadata": {
    "collapsed": true
   },
   "outputs": [],
   "source": []
  },
  {
   "cell_type": "raw",
   "metadata": {},
   "source": [
    "import fasttext\n",
    " \n",
    "# CBOW model\n",
    "model = fasttext.cbow('dataset_tripAdvisor/my_tripAdvisor_train.csv', 'cbow_model',lr=0.02, dim=50, ws=5,\n",
    "        epoch=1, min_count=25, neg=5, loss='ns', bucket=2000000, minn=3, maxn=5, thread=4, t=1e-4, lr_update_rate=100)"
   ]
  },
  {
   "cell_type": "code",
   "execution_count": 24,
   "metadata": {},
   "outputs": [
    {
     "data": {
      "text/plain": [
       "493"
      ]
     },
     "execution_count": 24,
     "metadata": {},
     "output_type": "execute_result"
    }
   ],
   "source": [
    "#493種單字\n",
    "len(model.words) # list of words in dictionary"
   ]
  },
  {
   "cell_type": "code",
   "execution_count": 30,
   "metadata": {},
   "outputs": [
    {
     "data": {
      "text/plain": [
       "{'\"\"upgrade\"\"',\n",
       " '\"Booked',\n",
       " '\"I\\'ve',\n",
       " '#4',\n",
       " '(!)',\n",
       " '(\"\"Desire\"\")',\n",
       " '(as',\n",
       " '(cereals',\n",
       " '(lights',\n",
       " '(off',\n",
       " '(sat',\n",
       " '(which',\n",
       " '(yes,',\n",
       " '-',\n",
       " '1',\n",
       " '1/2',\n",
       " '10',\n",
       " '15',\n",
       " '2',\n",
       " '20',\n",
       " '200',\n",
       " '21',\n",
       " '21,',\n",
       " '2:00',\n",
       " '2:00-ish,',\n",
       " '3',\n",
       " '32,',\n",
       " '5',\n",
       " '6',\n",
       " '745',\n",
       " '</s>',\n",
       " 'After',\n",
       " 'And',\n",
       " 'Apparently',\n",
       " 'As',\n",
       " 'Breakfast',\n",
       " 'Cute',\n",
       " 'Finally,',\n",
       " 'Graspo',\n",
       " 'Graspo,',\n",
       " 'He',\n",
       " 'Hers,',\n",
       " 'Hotel',\n",
       " 'However,',\n",
       " 'I',\n",
       " 'It',\n",
       " \"It's\",\n",
       " 'Metro',\n",
       " 'My',\n",
       " 'Our',\n",
       " 'Paris',\n",
       " 'Paris.',\n",
       " 'Please',\n",
       " 'That',\n",
       " 'The',\n",
       " 'Then',\n",
       " 'To',\n",
       " 'TripAdvisor',\n",
       " 'Ua.',\n",
       " 'Up',\n",
       " 'Upon',\n",
       " 'Venice.',\n",
       " 'Very',\n",
       " 'We',\n",
       " 'a',\n",
       " 'able',\n",
       " 'about',\n",
       " 'above',\n",
       " 'actually',\n",
       " 'added',\n",
       " 'afternoon',\n",
       " 'again',\n",
       " 'again!',\n",
       " 'agreed',\n",
       " 'air',\n",
       " 'alive',\n",
       " 'all',\n",
       " 'also',\n",
       " 'always',\n",
       " 'am',\n",
       " 'an',\n",
       " 'and',\n",
       " 'another',\n",
       " 'any',\n",
       " 'apparently',\n",
       " 'approach),',\n",
       " 'are',\n",
       " 'around',\n",
       " 'as',\n",
       " 'ask',\n",
       " 'asked',\n",
       " 'assorted',\n",
       " 'assumed',\n",
       " 'astounded',\n",
       " 'at',\n",
       " 'available',\n",
       " 'awakened',\n",
       " 'back',\n",
       " 'bad,',\n",
       " 'balcony',\n",
       " 'basic',\n",
       " 'bath',\n",
       " 'bathroom),',\n",
       " 'be',\n",
       " 'beamed',\n",
       " 'bed',\n",
       " 'been',\n",
       " 'before',\n",
       " 'behold,',\n",
       " 'being',\n",
       " 'beside',\n",
       " 'bill',\n",
       " 'bit',\n",
       " 'body',\n",
       " 'booked',\n",
       " 'both',\n",
       " 'bottles,',\n",
       " 'boyfriend',\n",
       " 'boyfriend,',\n",
       " 'bread)',\n",
       " 'breakfast',\n",
       " 'breakfast.',\n",
       " 'bucks',\n",
       " 'buffer',\n",
       " 'bugs,',\n",
       " 'busy',\n",
       " 'but',\n",
       " 'by',\n",
       " 'cab',\n",
       " 'call)',\n",
       " 'called',\n",
       " 'came',\n",
       " 'can',\n",
       " 'cat',\n",
       " 'ceiling',\n",
       " 'ceilings,',\n",
       " 'centre',\n",
       " 'certainly',\n",
       " 'charming.',\n",
       " 'cheap',\n",
       " 'check',\n",
       " 'checked',\n",
       " 'circulation',\n",
       " 'clean.',\n",
       " 'climbed',\n",
       " 'closet',\n",
       " 'conditioner',\n",
       " \"couldn't\",\n",
       " 'cruise,',\n",
       " 'de',\n",
       " 'decided',\n",
       " 'deck',\n",
       " 'definitely',\n",
       " 'desk',\n",
       " 'did',\n",
       " 'dimly',\n",
       " 'directions',\n",
       " 'dirty',\n",
       " 'discount',\n",
       " 'do',\n",
       " 'do)',\n",
       " 'done',\n",
       " 'door,',\n",
       " 'down',\n",
       " 'down.',\n",
       " 'downstairs',\n",
       " 'dramatically',\n",
       " 'dripping',\n",
       " 'each',\n",
       " 'early',\n",
       " 'eaten',\n",
       " 'eight',\n",
       " 'ended',\n",
       " 'establishment!!!\"',\n",
       " 'establishment.',\n",
       " 'event',\n",
       " 'exactly',\n",
       " 'experiences',\n",
       " 'explained',\n",
       " 'fabulous',\n",
       " 'fact',\n",
       " 'fancy',\n",
       " 'far',\n",
       " 'fathom',\n",
       " 'finally',\n",
       " 'find',\n",
       " 'first.',\n",
       " 'fixtures.',\n",
       " 'flicker',\n",
       " 'floor',\n",
       " 'floor.',\n",
       " 'food',\n",
       " 'for',\n",
       " 'found',\n",
       " 'freshener.',\n",
       " 'friendly',\n",
       " 'from',\n",
       " 'front',\n",
       " 'full',\n",
       " 'furniture,',\n",
       " 'generator',\n",
       " 'genuinely',\n",
       " 'getting',\n",
       " 'give',\n",
       " 'given',\n",
       " 'gives',\n",
       " 'glass',\n",
       " 'go',\n",
       " 'good',\n",
       " 'got',\n",
       " 'gotten',\n",
       " 'guess',\n",
       " 'guestdoes',\n",
       " 'guy',\n",
       " 'had',\n",
       " 'hallway.',\n",
       " 'hallways',\n",
       " 'hand',\n",
       " 'happened',\n",
       " 'has',\n",
       " 'has.',\n",
       " 'have',\n",
       " 'he',\n",
       " 'hear',\n",
       " 'heard',\n",
       " 'heavy',\n",
       " 'her',\n",
       " 'hit',\n",
       " 'hold',\n",
       " 'hoping',\n",
       " 'horrid',\n",
       " 'hotel',\n",
       " 'hotel).',\n",
       " 'hotel.',\n",
       " 'hour',\n",
       " 'hours.',\n",
       " 'how',\n",
       " 'husband',\n",
       " 'husband,',\n",
       " 'idea',\n",
       " 'idea,',\n",
       " 'if',\n",
       " 'in',\n",
       " 'in.',\n",
       " 'included',\n",
       " 'informed',\n",
       " 'intervals',\n",
       " 'is',\n",
       " \"isn't\",\n",
       " 'it',\n",
       " \"it's\",\n",
       " 'it.',\n",
       " 'junk.',\n",
       " 'just',\n",
       " 'keys',\n",
       " 'kind',\n",
       " 'king',\n",
       " 'later!',\n",
       " 'later.',\n",
       " 'leak',\n",
       " 'leak,',\n",
       " 'leaking.',\n",
       " 'left.',\n",
       " 'let',\n",
       " 'life',\n",
       " 'lights',\n",
       " 'lights,',\n",
       " 'like',\n",
       " 'linen',\n",
       " 'lit',\n",
       " 'litter,',\n",
       " 'little',\n",
       " 'lo',\n",
       " 'location',\n",
       " 'long,',\n",
       " 'look',\n",
       " 'looked',\n",
       " 'lots',\n",
       " 'loud',\n",
       " 'lovely',\n",
       " 'lug',\n",
       " 'luggage',\n",
       " 'mask',\n",
       " 'me',\n",
       " 'metro',\n",
       " 'midnight',\n",
       " 'might',\n",
       " 'min',\n",
       " 'mind',\n",
       " 'minute',\n",
       " 'minutes',\n",
       " 'minutes.',\n",
       " 'mis-understood',\n",
       " 'miserable',\n",
       " 'mold/mildew',\n",
       " 'money.\"Upon',\n",
       " 'more',\n",
       " 'morning,',\n",
       " 'most',\n",
       " 'motion',\n",
       " 'mountain',\n",
       " 'much',\n",
       " 'murano',\n",
       " 'must',\n",
       " 'musty',\n",
       " 'my',\n",
       " 'need',\n",
       " 'new',\n",
       " 'next',\n",
       " 'nice',\n",
       " 'night',\n",
       " 'night!',\n",
       " 'night,',\n",
       " 'night.\"',\n",
       " 'nights',\n",
       " 'no',\n",
       " 'noise',\n",
       " 'noisy',\n",
       " 'non',\n",
       " 'not',\n",
       " 'notice?',\n",
       " 'number',\n",
       " 'occasion',\n",
       " 'odor',\n",
       " 'of',\n",
       " 'off',\n",
       " 'offered.',\n",
       " 'on',\n",
       " 'on,',\n",
       " 'once',\n",
       " 'one',\n",
       " 'only',\n",
       " 'onto',\n",
       " 'opened',\n",
       " 'other',\n",
       " 'our',\n",
       " 'out',\n",
       " 'outside',\n",
       " 'over',\n",
       " 'paper,',\n",
       " 'pass',\n",
       " 'pay.',\n",
       " 'paying',\n",
       " 'people',\n",
       " 'per',\n",
       " 'phase',\n",
       " 'pleased.',\n",
       " 'pm,',\n",
       " 'point,',\n",
       " 'pool',\n",
       " 'pouring',\n",
       " 'pretty',\n",
       " 'probably',\n",
       " 'question',\n",
       " 'quite',\n",
       " 'rarely',\n",
       " 'rate',\n",
       " 'rating',\n",
       " 'regular',\n",
       " 'remedy',\n",
       " 'represent',\n",
       " 'respective',\n",
       " 'return',\n",
       " 'returned',\n",
       " 'returning',\n",
       " 'room',\n",
       " 'room.',\n",
       " 'rooms',\n",
       " 'rooms,',\n",
       " 'rooms.',\n",
       " 'run',\n",
       " 'running',\n",
       " 'said',\n",
       " 'say',\n",
       " 'security',\n",
       " 'sensors',\n",
       " 'she',\n",
       " 'sheet,',\n",
       " 'sheets.',\n",
       " 'should',\n",
       " 'shower',\n",
       " 'shut',\n",
       " \"sister's\",\n",
       " 'sister,',\n",
       " 'situated',\n",
       " 'size',\n",
       " 'sleep',\n",
       " 'sleeping',\n",
       " 'small',\n",
       " 'small,',\n",
       " 'smell',\n",
       " 'smelled',\n",
       " 'smoking',\n",
       " 'so',\n",
       " 'solid',\n",
       " 'some',\n",
       " 'someone',\n",
       " 'soon',\n",
       " 'sound.',\n",
       " 'span',\n",
       " 'specifically',\n",
       " 'spent',\n",
       " 'staff',\n",
       " 'stairs',\n",
       " 'started',\n",
       " 'stashed',\n",
       " 'stay',\n",
       " 'steady',\n",
       " 'stench,',\n",
       " 'still',\n",
       " 'stream',\n",
       " 'street',\n",
       " 'strong',\n",
       " 'suitcases',\n",
       " 'suppose',\n",
       " 'taking',\n",
       " 'terrible.',\n",
       " 'that',\n",
       " 'that.',\n",
       " 'the',\n",
       " 'their',\n",
       " 'them',\n",
       " 'themselves',\n",
       " 'there',\n",
       " 'they',\n",
       " 'thing',\n",
       " 'this',\n",
       " 'thought',\n",
       " 'through',\n",
       " 'time',\n",
       " 'time.',\n",
       " 'times',\n",
       " 'tiny',\n",
       " 'to',\n",
       " 'toilet',\n",
       " 'told',\n",
       " 'too,',\n",
       " 'top',\n",
       " 'towels',\n",
       " 'towels.',\n",
       " 'tried',\n",
       " 'turn',\n",
       " 'turned',\n",
       " 'unacceptable,',\n",
       " 'under',\n",
       " 'unsympathetic',\n",
       " 'until',\n",
       " 'up',\n",
       " 'upstairs',\n",
       " 'urged',\n",
       " 'us',\n",
       " 'us.',\n",
       " 'use',\n",
       " 'used',\n",
       " 'user',\n",
       " 'using',\n",
       " 'value',\n",
       " 'very',\n",
       " 'view',\n",
       " 'view,',\n",
       " 'visiting',\n",
       " 'walk',\n",
       " 'walking',\n",
       " 'was',\n",
       " 'was.',\n",
       " 'water',\n",
       " 'we',\n",
       " \"we'd\",\n",
       " 'went',\n",
       " 'were',\n",
       " 'wetness',\n",
       " 'what',\n",
       " 'when',\n",
       " 'which',\n",
       " 'willing',\n",
       " 'windows',\n",
       " 'windows,',\n",
       " 'wine',\n",
       " 'wine,',\n",
       " 'with',\n",
       " 'woken',\n",
       " \"won't\",\n",
       " 'wood',\n",
       " 'work',\n",
       " 'worse!',\n",
       " 'would',\n",
       " 'wrong',\n",
       " 'years',\n",
       " 'you',\n",
       " 'you,',\n",
       " '£135',\n",
       " '€10pp',\n",
       " '€20'}"
      ]
     },
     "execution_count": 30,
     "metadata": {},
     "output_type": "execute_result"
    }
   ],
   "source": [
    "#展示所有單字\n",
    "model.words"
   ]
  },
  {
   "cell_type": "code",
   "execution_count": 37,
   "metadata": {},
   "outputs": [
    {
     "data": {
      "text/plain": [
       "3"
      ]
     },
     "execution_count": 37,
     "metadata": {},
     "output_type": "execute_result"
    }
   ],
   "source": [
    "#看參數 \n",
    "model.word_ngrams"
   ]
  },
  {
   "cell_type": "code",
   "execution_count": 38,
   "metadata": {},
   "outputs": [
    {
     "data": {
      "text/plain": [
       "[-0.056889090687036514,\n",
       " 0.026112832129001617,\n",
       " -0.02505878359079361,\n",
       " 0.08823327720165253,\n",
       " -0.049270886927843094]"
      ]
     },
     "execution_count": 38,
     "metadata": {},
     "output_type": "execute_result"
    }
   ],
   "source": [
    "model['the'] # get the vector of the word 'machine'"
   ]
  },
  {
   "cell_type": "code",
   "execution_count": 39,
   "metadata": {},
   "outputs": [
    {
     "data": {
      "text/plain": [
       "list"
      ]
     },
     "execution_count": 39,
     "metadata": {},
     "output_type": "execute_result"
    }
   ],
   "source": [
    "#單字the為陣列\n",
    "type(model['the'])"
   ]
  },
  {
   "cell_type": "code",
   "execution_count": 60,
   "metadata": {},
   "outputs": [],
   "source": [
    "#the的向量存入vec1\n",
    "vec1 = model['the']"
   ]
  },
  {
   "cell_type": "code",
   "execution_count": 64,
   "metadata": {},
   "outputs": [
    {
     "data": {
      "text/plain": [
       "[-0.056889090687036514,\n",
       " 0.026112832129001617,\n",
       " -0.02505878359079361,\n",
       " 0.08823327720165253,\n",
       " -0.049270886927843094]"
      ]
     },
     "execution_count": 64,
     "metadata": {},
     "output_type": "execute_result"
    }
   ],
   "source": [
    "#看向量 vec1為陣列\n",
    "vec1"
   ]
  },
  {
   "cell_type": "code",
   "execution_count": null,
   "metadata": {},
   "outputs": [],
   "source": []
  },
  {
   "cell_type": "markdown",
   "metadata": {},
   "source": [
    "# 以下功能都不能用fasttext似乎比pyfasttext功能少很多！！"
   ]
  },
  {
   "cell_type": "raw",
   "metadata": {},
   "source": [
    "model.most_similar('Paris')"
   ]
  },
  {
   "cell_type": "raw",
   "metadata": {},
   "source": [
    "odel.nearest_neighbors('Paris')"
   ]
  },
  {
   "cell_type": "raw",
   "metadata": {},
   "source": [
    "model.nearest_neighbors('tripAdvisor')"
   ]
  },
  {
   "cell_type": "raw",
   "metadata": {},
   "source": [
    "model.most_similar(positive=['woman', 'king'], negative=['man'], k=2)"
   ]
  },
  {
   "cell_type": "code",
   "execution_count": null,
   "metadata": {
    "collapsed": true
   },
   "outputs": [],
   "source": [
    "model.most_similar(positive=['room', 'our'], negative=['this'], k=2)"
   ]
  },
  {
   "cell_type": "code",
   "execution_count": null,
   "metadata": {
    "collapsed": true
   },
   "outputs": [],
   "source": []
  },
  {
   "cell_type": "markdown",
   "metadata": {},
   "source": [
    "# Load model"
   ]
  },
  {
   "cell_type": "code",
   "execution_count": 65,
   "metadata": {},
   "outputs": [
    {
     "data": {
      "text/plain": [
       "[0.01372908428311348,\n",
       " 0.006403112318366766,\n",
       " 0.029133107513189316,\n",
       " 0.0056656114757061005,\n",
       " 0.004047660622745752]"
      ]
     },
     "execution_count": 65,
     "metadata": {},
     "output_type": "execute_result"
    }
   ],
   "source": [
    "import fasttext\n",
    "model = fasttext.load_model('cbow_model.bin')\n",
    "model['machine'] # get the vector of the word 'machine'"
   ]
  },
  {
   "cell_type": "code",
   "execution_count": null,
   "metadata": {
    "collapsed": true
   },
   "outputs": [],
   "source": []
  },
  {
   "cell_type": "markdown",
   "metadata": {},
   "source": [
    "# SkipGram model"
   ]
  },
  {
   "cell_type": "code",
   "execution_count": 66,
   "metadata": {},
   "outputs": [
    {
     "name": "stdout",
     "output_type": "stream",
     "text": [
      "CPU times: user 8.08 s, sys: 1.06 s, total: 9.14 s\n",
      "Wall time: 16.7 s\n"
     ]
    }
   ],
   "source": [
    "%%time\n",
    "import fasttext\n",
    "# Skipgram model\n",
    "model = fasttext.skipgram('data2.txt', 'sg_model')\n",
    "model.words # list of words in dictionary \n",
    "model['machine'] # get the vector of the word 'machine'"
   ]
  },
  {
   "cell_type": "code",
   "execution_count": 69,
   "metadata": {},
   "outputs": [
    {
     "data": {
      "text/plain": [
       "[0.0006919080624356866,\n",
       " -0.0007359562441706657,\n",
       " -0.0019641355611383915,\n",
       " 0.0011312287533655763,\n",
       " 0.0012903703609481454,\n",
       " 6.462953751906753e-05,\n",
       " -0.00028407169156707823,\n",
       " 0.001554278889670968,\n",
       " -9.304678678745404e-05,\n",
       " -0.0022591440938413143,\n",
       " -0.0028471280820667744,\n",
       " 0.0001611815532669425,\n",
       " 0.0013427900848910213,\n",
       " 0.0005207913927733898,\n",
       " -0.00031117178150452673,\n",
       " -4.5907283492852e-05,\n",
       " 0.0002528113836888224,\n",
       " 0.0004664585867431015,\n",
       " -0.0021255461033433676,\n",
       " 0.0011328408727422357,\n",
       " 0.0003234270552638918,\n",
       " -0.0012452577939257026,\n",
       " -0.0016681822016835213,\n",
       " -0.0027910859789699316,\n",
       " -0.0013096934417262673,\n",
       " -0.0010704528540372849,\n",
       " -0.000442657561507076,\n",
       " -0.00045355266775004566,\n",
       " 0.001054201740771532,\n",
       " 0.00016741141735110432,\n",
       " 0.0004278504056856036,\n",
       " 0.0013081899378448725,\n",
       " 0.0004978696233592927,\n",
       " -0.000410503416787833,\n",
       " 0.0012471000663936138,\n",
       " -0.00019807204080279917,\n",
       " -0.000968717213254422,\n",
       " 0.0007255378877744079,\n",
       " -0.000916453602258116,\n",
       " 0.0008959509432315826,\n",
       " -0.0009380721603520215,\n",
       " -0.00026402593357488513,\n",
       " 0.0015234146267175674,\n",
       " 0.0011197554413229227,\n",
       " 0.000999115640297532,\n",
       " -1.8328350051888265e-05,\n",
       " 0.0004021842032670975,\n",
       " 0.00037593464367091656,\n",
       " -0.0012054112739861012,\n",
       " 0.001084725372493267,\n",
       " 0.0016316252294927835,\n",
       " -0.001245534629561007,\n",
       " 0.0019401583122089505,\n",
       " 0.0004576735955197364,\n",
       " -0.0015132483094930649,\n",
       " 0.0008129808702506125,\n",
       " 0.00016935449093580246,\n",
       " -0.0003829144698102027,\n",
       " -0.002827512100338936,\n",
       " -9.532930562272668e-05,\n",
       " -0.0004066957044415176,\n",
       " -3.960053436458111e-05,\n",
       " -0.0008980061393231153,\n",
       " 0.0004923376836813986,\n",
       " -0.00046441852464340627,\n",
       " 0.0016599177615717053,\n",
       " 0.00045961159048601985,\n",
       " 0.0001301482116105035,\n",
       " -0.0010346835479140282,\n",
       " -0.00021637578902300447,\n",
       " 0.00014497479423880577,\n",
       " -0.00042662330088205636,\n",
       " -7.864092185627669e-05,\n",
       " 0.001006630714982748,\n",
       " 0.0010132599854841828,\n",
       " -0.00045192622928880155,\n",
       " 0.0009794352808967233,\n",
       " -0.0007300277356989682,\n",
       " -2.3727750885882415e-05,\n",
       " -0.0024788761511445045,\n",
       " -0.0013571457238867879,\n",
       " 0.0009189597330987453,\n",
       " -0.0009258706122636795,\n",
       " 0.0009508294169791043,\n",
       " 0.0002642257313709706,\n",
       " 0.0012872327351942658,\n",
       " 0.0005439636297523975,\n",
       " -0.0032416132744401693,\n",
       " 0.0013111620210111141,\n",
       " 0.0011737047461792827,\n",
       " 0.0033283329103142023,\n",
       " -0.0018877401016652584,\n",
       " -0.0012857782421633601,\n",
       " -0.00021758058574050665,\n",
       " 0.002127921674400568,\n",
       " 0.001470663701184094,\n",
       " -0.000272993347607553,\n",
       " -0.0023911520838737488,\n",
       " 0.0017049422021955252,\n",
       " -0.0005957841640338302]"
      ]
     },
     "execution_count": 69,
     "metadata": {},
     "output_type": "execute_result"
    }
   ],
   "source": [
    "model['machine']# get the vector of the word 'machine'"
   ]
  },
  {
   "cell_type": "code",
   "execution_count": null,
   "metadata": {
    "collapsed": true
   },
   "outputs": [],
   "source": []
  }
 ],
 "metadata": {
  "kernelspec": {
   "display_name": "Python 3",
   "language": "python",
   "name": "python3"
  },
  "language_info": {
   "codemirror_mode": {
    "name": "ipython",
    "version": 3
   },
   "file_extension": ".py",
   "mimetype": "text/x-python",
   "name": "python",
   "nbconvert_exporter": "python",
   "pygments_lexer": "ipython3",
   "version": "3.5.6"
  }
 },
 "nbformat": 4,
 "nbformat_minor": 1
}
