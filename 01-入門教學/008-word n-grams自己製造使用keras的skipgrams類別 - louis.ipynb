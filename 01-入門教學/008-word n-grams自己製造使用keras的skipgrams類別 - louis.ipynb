{
 "cells": [
  {
   "cell_type": "markdown",
   "metadata": {},
   "source": [
    "# word n-grams自己製造"
   ]
  },
  {
   "cell_type": "markdown",
   "metadata": {},
   "source": [
    "keras.preprocessing.sequence.skipgrams可以產生word n-grams\n",
    "\n",
    "若不合用可以自己寫一個"
   ]
  },
  {
   "cell_type": "raw",
   "metadata": {},
   "source": [
    "skipgrams\n",
    "keras.preprocessing.sequence.skipgrams(sequence, vocabulary_size,\n",
    "    window_size=4, negative_samples=1.0, shuffle=True,\n",
    "    categorical=False, sampling_table=None)\n",
    "\n",
    "Transforms a sequence of word indexes (list of int) into couples of the form:\n",
    "\n",
    "(word, word in the same window), with label 1 (positive samples).\n",
    "(word, random word from the vocabulary), with label 0 (negative samples).\n",
    "\n",
    "\n",
    "每個參數的說明請參考說明文件\n",
    "英文版：\n",
    "https://keras.io/preprocessing/sequence/\n",
    "中文版：\n",
    "https://keras.io/zh/models/sequential/"
   ]
  },
  {
   "cell_type": "code",
   "execution_count": 3,
   "metadata": {
    "collapsed": false
   },
   "outputs": [
    {
     "name": "stderr",
     "output_type": "stream",
     "text": [
      "Using TensorFlow backend.\n"
     ]
    }
   ],
   "source": [
    "from keras.preprocessing.sequence import skipgrams"
   ]
  },
  {
   "cell_type": "code",
   "execution_count": 61,
   "metadata": {
    "collapsed": false
   },
   "outputs": [],
   "source": [
    "sequence = [1,2,3,4,5]"
   ]
  },
  {
   "cell_type": "code",
   "execution_count": 62,
   "metadata": {
    "collapsed": false
   },
   "outputs": [
    {
     "name": "stdout",
     "output_type": "stream",
     "text": [
      "[1, 2, 3, 4, 5]\n"
     ]
    }
   ],
   "source": [
    "print(sequence)"
   ]
  },
  {
   "cell_type": "code",
   "execution_count": 64,
   "metadata": {
    "collapsed": false
   },
   "outputs": [],
   "source": [
    "# 若negative_samples沒有用到，設為0即可\n",
    "couples, labels = skipgrams(sequence , 9,\n",
    "    window_size=2, negative_samples=1.0, shuffle=False,\n",
    "    categorical=False, sampling_table=None)\n",
    "\n",
    "# # sequence\n",
    "# 3 = vocabulary_size = 最大可能單字陣列+1\n",
    "# window_size = 一次吃進多少字詞\n",
    "# negative_samples >=1.0 for no negative (i.e. random) samples\n",
    "# shuffle: Whether to shuffle the word couples before returning them.\n",
    "# categorical: bool. if False, labels will be integers (eg. [0, 1, 1 .. ])\n",
    "\n",
    "# sampling_table:\n",
    "# 1D array of size vocabulary_size \n",
    "# where the entry i encodes the probability to sample a word of rank i."
   ]
  },
  {
   "cell_type": "code",
   "execution_count": 65,
   "metadata": {
    "collapsed": false
   },
   "outputs": [
    {
     "data": {
      "text/plain": [
       "<zip at 0x7ff2476366c8>"
      ]
     },
     "execution_count": 65,
     "metadata": {},
     "output_type": "execute_result"
    }
   ],
   "source": [
    "zip(couples , labels)"
   ]
  },
  {
   "cell_type": "code",
   "execution_count": 66,
   "metadata": {
    "collapsed": true
   },
   "outputs": [],
   "source": [
    "# ouples, labels: \n",
    "# where couples are int pairs and  labels are either 0 or 1.\n",
    "\n",
    "# (word, word in the same window), with label 1 (positive samples).\n",
    "# (word, random word from the vocabulary), with label 0 (negative samples).\n",
    "\n",
    "# (單字,單字在哪個window) , 1 正向樣本)\n",
    "# (單字,從字典中的隨機單字) , 0 負面樣本)"
   ]
  },
  {
   "cell_type": "code",
   "execution_count": 67,
   "metadata": {
    "collapsed": false
   },
   "outputs": [
    {
     "name": "stdout",
     "output_type": "stream",
     "text": [
      "([1, 2], 1)\n",
      "([1, 3], 1)\n",
      "([2, 1], 1)\n",
      "([2, 3], 1)\n",
      "([2, 4], 1)\n",
      "([3, 1], 1)\n",
      "([3, 2], 1)\n",
      "([3, 4], 1)\n",
      "([3, 5], 1)\n",
      "([4, 2], 1)\n",
      "([4, 3], 1)\n",
      "([4, 5], 1)\n",
      "([5, 3], 1)\n",
      "([5, 4], 1)\n",
      "([2, 4], 0)\n",
      "([3, 6], 0)\n",
      "([4, 4], 0)\n",
      "([3, 7], 0)\n",
      "([5, 3], 0)\n",
      "([2, 3], 0)\n",
      "([4, 6], 0)\n",
      "([1, 6], 0)\n",
      "([3, 2], 0)\n",
      "([5, 5], 0)\n",
      "([3, 5], 0)\n",
      "([4, 5], 0)\n",
      "([2, 1], 0)\n",
      "([1, 7], 0)\n"
     ]
    }
   ],
   "source": [
    "for p in zip(couples , labels):\n",
    "    print(p)"
   ]
  },
  {
   "cell_type": "code",
   "execution_count": null,
   "metadata": {
    "collapsed": false
   },
   "outputs": [],
   "source": []
  },
  {
   "cell_type": "code",
   "execution_count": null,
   "metadata": {
    "collapsed": true
   },
   "outputs": [],
   "source": []
  }
 ],
 "metadata": {
  "kernelspec": {
   "display_name": "Python 3",
   "language": "python",
   "name": "python3"
  },
  "language_info": {
   "codemirror_mode": {
    "name": "ipython",
    "version": 3
   },
   "file_extension": ".py",
   "mimetype": "text/x-python",
   "name": "python",
   "nbconvert_exporter": "python",
   "pygments_lexer": "ipython3",
   "version": "3.5.2"
  }
 },
 "nbformat": 4,
 "nbformat_minor": 2
}
