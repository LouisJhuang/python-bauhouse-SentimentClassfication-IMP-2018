{
 "cells": [
  {
   "cell_type": "markdown",
   "metadata": {},
   "source": [
    "# 使用遷移學習Transfer Learning Sentiment analysis\n",
    "\n",
    "# KerasFastText-使用fasttext之AmazonReview預訓練模型"
   ]
  },
  {
   "cell_type": "code",
   "execution_count": null,
   "metadata": {
    "collapsed": true
   },
   "outputs": [],
   "source": [
    " "
   ]
  },
  {
   "cell_type": "markdown",
   "metadata": {
    "collapsed": true
   },
   "source": [
    "若 model.layers[0].trainable = False 似乎無法學習!! 只有五成正確率\n",
    "\n",
    "若 model.layers[0].trainable = True  有85%正確率\n",
    "\n",
    "CNN兩類準確率達 有85%正確率\n",
    "\n",
    "LSTM 85%"
   ]
  },
  {
   "cell_type": "code",
   "execution_count": null,
   "metadata": {
    "collapsed": true
   },
   "outputs": [],
   "source": []
  },
  {
   "cell_type": "code",
   "execution_count": 1,
   "metadata": {
    "scrolled": true
   },
   "outputs": [
    {
     "name": "stderr",
     "output_type": "stream",
     "text": [
      "Using TensorFlow backend.\n"
     ]
    }
   ],
   "source": [
    "import copy\n",
    "import numpy as np\n",
    "import pandas as pd\n",
    "# import matplotlib.pyplot as plt\n",
    "import sys\n",
    "import os\n",
    "import re\n",
    "\n",
    "# from __future__ import print_function\n",
    "import numpy as np\n",
    "np.random.seed(1337)  # for reproducibility\n",
    "\n",
    "from keras.models import Sequential\n",
    "from keras.layers import Dense, Dropout, Activation, Flatten, GlobalAveragePooling1D\n",
    "from keras.optimizers import SGD, RMSprop\n",
    "from keras.utils import np_utils\n",
    "from keras.layers.convolutional import Convolution1D, MaxPooling1D, ZeroPadding1D, AveragePooling1D\n",
    "from keras.callbacks import EarlyStopping\n",
    "from keras.layers.normalization import BatchNormalization\n",
    "from keras.preprocessing import sequence\n",
    "from keras.layers.embeddings import Embedding\n",
    "from keras.layers.recurrent import SimpleRNN, LSTM, GRU\n",
    "from keras.layers.wrappers import TimeDistributed\n",
    "from keras.preprocessing.text import Tokenizer\n",
    "from keras.callbacks import Callback\n",
    "from keras.optimizers import *"
   ]
  },
  {
   "cell_type": "code",
   "execution_count": null,
   "metadata": {
    "collapsed": true
   },
   "outputs": [],
   "source": []
  },
  {
   "cell_type": "code",
   "execution_count": null,
   "metadata": {
    "collapsed": true
   },
   "outputs": [],
   "source": []
  },
  {
   "cell_type": "markdown",
   "metadata": {
    "collapsed": true
   },
   "source": [
    "# Hotel data格式前處理\n",
    "\n",
    "透過clean_dataset整理資料\n",
    "\n",
    "label必須編碼為0,1,2,3,.."
   ]
  },
  {
   "cell_type": "code",
   "execution_count": 2,
   "metadata": {
    "collapsed": true
   },
   "outputs": [],
   "source": [
    "import pandas as pd"
   ]
  },
  {
   "cell_type": "code",
   "execution_count": 4,
   "metadata": {},
   "outputs": [],
   "source": [
    "data=pd.read_csv('./data/hotel_data.csv',encoding='utf8')\n",
    "data = data[['text','polarity']]"
   ]
  },
  {
   "cell_type": "code",
   "execution_count": 5,
   "metadata": {},
   "outputs": [
    {
     "data": {
      "text/html": [
       "<div>\n",
       "<table border=\"1\" class=\"dataframe\">\n",
       "  <thead>\n",
       "    <tr style=\"text-align: right;\">\n",
       "      <th></th>\n",
       "      <th>text</th>\n",
       "      <th>polarity</th>\n",
       "    </tr>\n",
       "  </thead>\n",
       "  <tbody>\n",
       "    <tr>\n",
       "      <th>0</th>\n",
       "      <td>My daughter and I just returned from a four ni...</td>\n",
       "      <td>NEGATIVE</td>\n",
       "    </tr>\n",
       "    <tr>\n",
       "      <th>1</th>\n",
       "      <td>I had searched for a good hotel at a rate of u...</td>\n",
       "      <td>OBJECTIVE</td>\n",
       "    </tr>\n",
       "    <tr>\n",
       "      <th>2</th>\n",
       "      <td>Big mistake.</td>\n",
       "      <td>NEGATIVE</td>\n",
       "    </tr>\n",
       "    <tr>\n",
       "      <th>3</th>\n",
       "      <td>Our room was tiny,</td>\n",
       "      <td>NEGATIVE</td>\n",
       "    </tr>\n",
       "    <tr>\n",
       "      <th>4</th>\n",
       "      <td>and the bath was small too.</td>\n",
       "      <td>NEGATIVE</td>\n",
       "    </tr>\n",
       "    <tr>\n",
       "      <th>5</th>\n",
       "      <td>The public areas were somewhat dingy and showe...</td>\n",
       "      <td>NEGATIVE</td>\n",
       "    </tr>\n",
       "    <tr>\n",
       "      <th>6</th>\n",
       "      <td>Even the bath towels were worn and becoming st...</td>\n",
       "      <td>NEGATIVE</td>\n",
       "    </tr>\n",
       "    <tr>\n",
       "      <th>7</th>\n",
       "      <td>Speaking of such, the maid did not replace sha...</td>\n",
       "      <td>NEGATIVE</td>\n",
       "    </tr>\n",
       "    <tr>\n",
       "      <th>8</th>\n",
       "      <td>You had to put a sign on the bed if you wanted...</td>\n",
       "      <td>NEGATIVE</td>\n",
       "    </tr>\n",
       "    <tr>\n",
       "      <th>9</th>\n",
       "      <td>The minibar was one of the kind that you have ...</td>\n",
       "      <td>NEGATIVE</td>\n",
       "    </tr>\n",
       "  </tbody>\n",
       "</table>\n",
       "</div>"
      ],
      "text/plain": [
       "                                                text   polarity\n",
       "0  My daughter and I just returned from a four ni...   NEGATIVE\n",
       "1  I had searched for a good hotel at a rate of u...  OBJECTIVE\n",
       "2                                       Big mistake.   NEGATIVE\n",
       "3                                 Our room was tiny,   NEGATIVE\n",
       "4                        and the bath was small too.   NEGATIVE\n",
       "5  The public areas were somewhat dingy and showe...   NEGATIVE\n",
       "6  Even the bath towels were worn and becoming st...   NEGATIVE\n",
       "7  Speaking of such, the maid did not replace sha...   NEGATIVE\n",
       "8  You had to put a sign on the bed if you wanted...   NEGATIVE\n",
       "9  The minibar was one of the kind that you have ...   NEGATIVE"
      ]
     },
     "execution_count": 5,
     "metadata": {},
     "output_type": "execute_result"
    }
   ],
   "source": [
    "data.head(10)"
   ]
  },
  {
   "cell_type": "code",
   "execution_count": 6,
   "metadata": {},
   "outputs": [
    {
     "name": "stdout",
     "output_type": "stream",
     "text": [
      "23046\n",
      "25020\n",
      "15200\n"
     ]
    }
   ],
   "source": [
    "print(data[ data['polarity'] == 'POSITIVE'].size)\n",
    "print(data[ data['polarity'] == 'NEGATIVE'].size)\n",
    "print(data[ data['polarity'] == 'OBJECTIVE'].size)"
   ]
  },
  {
   "cell_type": "code",
   "execution_count": null,
   "metadata": {
    "collapsed": true
   },
   "outputs": [],
   "source": []
  },
  {
   "cell_type": "code",
   "execution_count": 7,
   "metadata": {
    "collapsed": true
   },
   "outputs": [],
   "source": [
    "data = data[ (data['polarity'] == 'POSITIVE') |(data['polarity'] == 'NEGATIVE')]"
   ]
  },
  {
   "cell_type": "code",
   "execution_count": 8,
   "metadata": {},
   "outputs": [
    {
     "name": "stdout",
     "output_type": "stream",
     "text": [
      "23046\n",
      "25020\n",
      "0\n"
     ]
    }
   ],
   "source": [
    "print(data[ data['polarity'] == 'POSITIVE'].size)\n",
    "print(data[ data['polarity'] == 'NEGATIVE'].size)\n",
    "print(data[ data['polarity'] == 'OBJECTIVE'].size)"
   ]
  },
  {
   "cell_type": "code",
   "execution_count": null,
   "metadata": {
    "collapsed": true
   },
   "outputs": [],
   "source": []
  },
  {
   "cell_type": "code",
   "execution_count": 9,
   "metadata": {
    "collapsed": true
   },
   "outputs": [],
   "source": [
    "data['polarity'] = data['polarity'].replace({'POSITIVE': 1, 'NEGATIVE': 0})"
   ]
  },
  {
   "cell_type": "code",
   "execution_count": null,
   "metadata": {
    "collapsed": true
   },
   "outputs": [],
   "source": []
  },
  {
   "cell_type": "code",
   "execution_count": 10,
   "metadata": {
    "collapsed": true
   },
   "outputs": [],
   "source": [
    "data = data.rename(columns={'polarity':'label'})"
   ]
  },
  {
   "cell_type": "code",
   "execution_count": null,
   "metadata": {
    "collapsed": true
   },
   "outputs": [],
   "source": []
  },
  {
   "cell_type": "code",
   "execution_count": 11,
   "metadata": {},
   "outputs": [
    {
     "data": {
      "text/html": [
       "<div>\n",
       "<table border=\"1\" class=\"dataframe\">\n",
       "  <thead>\n",
       "    <tr style=\"text-align: right;\">\n",
       "      <th></th>\n",
       "      <th>text</th>\n",
       "      <th>label</th>\n",
       "    </tr>\n",
       "  </thead>\n",
       "  <tbody>\n",
       "    <tr>\n",
       "      <th>0</th>\n",
       "      <td>My daughter and I just returned from a four ni...</td>\n",
       "      <td>0</td>\n",
       "    </tr>\n",
       "    <tr>\n",
       "      <th>2</th>\n",
       "      <td>Big mistake.</td>\n",
       "      <td>0</td>\n",
       "    </tr>\n",
       "    <tr>\n",
       "      <th>3</th>\n",
       "      <td>Our room was tiny,</td>\n",
       "      <td>0</td>\n",
       "    </tr>\n",
       "  </tbody>\n",
       "</table>\n",
       "</div>"
      ],
      "text/plain": [
       "                                                text  label\n",
       "0  My daughter and I just returned from a four ni...      0\n",
       "2                                       Big mistake.      0\n",
       "3                                 Our room was tiny,      0"
      ]
     },
     "execution_count": 11,
     "metadata": {},
     "output_type": "execute_result"
    }
   ],
   "source": [
    "data.head(3)"
   ]
  },
  {
   "cell_type": "code",
   "execution_count": null,
   "metadata": {
    "collapsed": true
   },
   "outputs": [],
   "source": []
  },
  {
   "cell_type": "code",
   "execution_count": null,
   "metadata": {
    "collapsed": true
   },
   "outputs": [],
   "source": []
  },
  {
   "cell_type": "code",
   "execution_count": 12,
   "metadata": {},
   "outputs": [
    {
     "name": "stderr",
     "output_type": "stream",
     "text": [
      "/opt/conda/lib/python3.5/importlib/_bootstrap.py:222: RuntimeWarning: numpy.dtype size changed, may indicate binary incompatibility. Expected 96, got 88\n",
      "  return f(*args, **kwds)\n",
      "/opt/conda/lib/python3.5/importlib/_bootstrap.py:222: RuntimeWarning: numpy.dtype size changed, may indicate binary incompatibility. Expected 96, got 88\n",
      "  return f(*args, **kwds)\n"
     ]
    }
   ],
   "source": [
    "## 切資料\n",
    "\n",
    "from sklearn.model_selection import train_test_split\n",
    "\n",
    "X_train_ , X_test_ , Y_train, Y_test = \\\n",
    "    train_test_split( data['text'], data['label'], test_size=0.2, random_state=42, stratify = data['label'])"
   ]
  },
  {
   "cell_type": "code",
   "execution_count": null,
   "metadata": {
    "collapsed": true
   },
   "outputs": [],
   "source": []
  },
  {
   "cell_type": "code",
   "execution_count": 13,
   "metadata": {
    "collapsed": true
   },
   "outputs": [],
   "source": [
    "input_text = data['text']"
   ]
  },
  {
   "cell_type": "code",
   "execution_count": 14,
   "metadata": {
    "scrolled": true
   },
   "outputs": [
    {
     "data": {
      "text/plain": [
       "0    My daughter and I just returned from a four ni...\n",
       "2                                         Big mistake.\n",
       "Name: text, dtype: object"
      ]
     },
     "execution_count": 14,
     "metadata": {},
     "output_type": "execute_result"
    }
   ],
   "source": [
    "input_text[0:2]"
   ]
  },
  {
   "cell_type": "code",
   "execution_count": 15,
   "metadata": {
    "scrolled": false
   },
   "outputs": [
    {
     "data": {
      "text/plain": [
       "(24033,)"
      ]
     },
     "execution_count": 15,
     "metadata": {},
     "output_type": "execute_result"
    }
   ],
   "source": [
    "input_text.shape"
   ]
  },
  {
   "cell_type": "code",
   "execution_count": null,
   "metadata": {
    "collapsed": true
   },
   "outputs": [],
   "source": []
  },
  {
   "cell_type": "code",
   "execution_count": 16,
   "metadata": {
    "collapsed": true
   },
   "outputs": [],
   "source": [
    "num_words = 20000\n",
    "tok = Tokenizer(num_words)\n",
    "tok.fit_on_texts(input_text)"
   ]
  },
  {
   "cell_type": "code",
   "execution_count": 17,
   "metadata": {},
   "outputs": [
    {
     "data": {
      "text/plain": [
       "13117"
      ]
     },
     "execution_count": 17,
     "metadata": {},
     "output_type": "execute_result"
    }
   ],
   "source": [
    "len(tok.word_index)"
   ]
  },
  {
   "cell_type": "code",
   "execution_count": null,
   "metadata": {
    "collapsed": true
   },
   "outputs": [],
   "source": []
  },
  {
   "cell_type": "code",
   "execution_count": 18,
   "metadata": {
    "collapsed": true
   },
   "outputs": [],
   "source": [
    "X_train = tok.texts_to_sequences(X_train_)\n",
    "X_test  = tok.texts_to_sequences(X_test_)\n",
    "\n",
    "X_train = sequence.pad_sequences(X_train, maxlen=200)\n",
    "X_test  = sequence.pad_sequences(X_test,  maxlen=200)"
   ]
  },
  {
   "cell_type": "code",
   "execution_count": 19,
   "metadata": {
    "scrolled": true
   },
   "outputs": [
    {
     "data": {
      "text/plain": [
       "array([   0,    0,    0,    0,    0,    0,    0,    0,    0,    0,    0,\n",
       "          0,    0,    0,    0,    0,    0,    0,    0,    0,    0,    0,\n",
       "          0,    0,    0,    0,    0,    0,    0,    0,    0,    0,    0,\n",
       "          0,    0,    0,    0,    0,    0,    0,    0,    0,    0,    0,\n",
       "          0,    0,    0,    0,    0,    0,    0,    0,    0,    0,    0,\n",
       "          0,    0,    0,    0,    0,    0,    0,    0,    0,    0,    0,\n",
       "          0,    0,    0,    0,    0,    0,    0,    0,    0,    0,    0,\n",
       "          0,    0,    0,    0,    0,    0,    0,    0,    0,    0,    0,\n",
       "          0,    0,    0,    0,    0,    0,    0,    0,    0,    0,    0,\n",
       "          0,    0,    0,    0,    0,    0,    0,    0,    0,    0,    0,\n",
       "          0,    0,    0,    0,    0,    0,    0,    0,    0,    0,    0,\n",
       "          0,    0,    0,    0,    0,    0,    0,    0,    0,    0,    0,\n",
       "          0,    0,    0,    0,    0,    0,    0,    0,    0,    0,    0,\n",
       "          0,    0,    0,    0,    0,    0,    0,    0,    0,    0,    0,\n",
       "          0,    0,    0,    0,    0,    0,    0,    0,    0,    0,    0,\n",
       "          0,    0,    0,    0,    0,    0,    0,    0,    0,    0,    0,\n",
       "          0,    0,    0,    0,    0,    0,    0,    0,    0,    0,   18,\n",
       "          8,   37,   15,  119,   68,  541,    3,   92,    5, 2796,  660,\n",
       "         31, 1400], dtype=int32)"
      ]
     },
     "execution_count": 19,
     "metadata": {},
     "output_type": "execute_result"
    }
   ],
   "source": [
    "X_train[0]"
   ]
  },
  {
   "cell_type": "code",
   "execution_count": 20,
   "metadata": {},
   "outputs": [
    {
     "data": {
      "text/plain": [
       "13386    0\n",
       "4378     0\n",
       "13797    0\n",
       "30728    0\n",
       "2241     0\n",
       "22352    0\n",
       "20933    1\n",
       "9681     1\n",
       "3271     0\n",
       "9394     0\n",
       "Name: label, dtype: int64"
      ]
     },
     "execution_count": 20,
     "metadata": {},
     "output_type": "execute_result"
    }
   ],
   "source": [
    "Y_train[0:10]"
   ]
  },
  {
   "cell_type": "code",
   "execution_count": 21,
   "metadata": {},
   "outputs": [
    {
     "data": {
      "text/plain": [
       "19226"
      ]
     },
     "execution_count": 21,
     "metadata": {},
     "output_type": "execute_result"
    }
   ],
   "source": [
    "len(Y_train)"
   ]
  },
  {
   "cell_type": "code",
   "execution_count": 22,
   "metadata": {},
   "outputs": [
    {
     "data": {
      "text/plain": [
       "13386    0\n",
       "4378     0\n",
       "13797    0\n",
       "30728    0\n",
       "2241     0\n",
       "22352    0\n",
       "20933    1\n",
       "9681     1\n",
       "3271     0\n",
       "9394     0\n",
       "30363    0\n",
       "15171    1\n",
       "3100     1\n",
       "18783    0\n",
       "7051     0\n",
       "24130    1\n",
       "9191     1\n",
       "23097    1\n",
       "6163     1\n",
       "26460    0\n",
       "4806     1\n",
       "3543     0\n",
       "21434    0\n",
       "30676    1\n",
       "4950     0\n",
       "1867     1\n",
       "2680     0\n",
       "29934    1\n",
       "890      0\n",
       "25126    0\n",
       "        ..\n",
       "8544     1\n",
       "18541    0\n",
       "23587    0\n",
       "18117    0\n",
       "1980     1\n",
       "6066     1\n",
       "12472    0\n",
       "12977    1\n",
       "2318     0\n",
       "30700    0\n",
       "30457    1\n",
       "22531    1\n",
       "12259    1\n",
       "14389    1\n",
       "15827    1\n",
       "6788     0\n",
       "30485    1\n",
       "30685    1\n",
       "30144    0\n",
       "13691    0\n",
       "10073    0\n",
       "17092    1\n",
       "26733    1\n",
       "14713    1\n",
       "11409    1\n",
       "26612    0\n",
       "29536    1\n",
       "13338    1\n",
       "24279    1\n",
       "9204     0\n",
       "Name: label, dtype: int64"
      ]
     },
     "execution_count": 22,
     "metadata": {},
     "output_type": "execute_result"
    }
   ],
   "source": [
    "Y_train"
   ]
  },
  {
   "cell_type": "code",
   "execution_count": null,
   "metadata": {
    "collapsed": true
   },
   "outputs": [],
   "source": []
  },
  {
   "cell_type": "markdown",
   "metadata": {},
   "source": [
    "# 預先訓練好的詞向量在這裡讀"
   ]
  },
  {
   "cell_type": "code",
   "execution_count": null,
   "metadata": {},
   "outputs": [],
   "source": [
    "from pyfasttext import FastText"
   ]
  },
  {
   "cell_type": "code",
   "execution_count": null,
   "metadata": {},
   "outputs": [],
   "source": []
  },
  {
   "cell_type": "code",
   "execution_count": 24,
   "metadata": {
    "collapsed": true
   },
   "outputs": [],
   "source": [
    "fasttext_model = FastText('./model/amazon_review_polarity.bin')"
   ]
  },
  {
   "cell_type": "code",
   "execution_count": 25,
   "metadata": {
    "collapsed": true
   },
   "outputs": [],
   "source": [
    "words = []\n",
    "for iter in range(num_words):\n",
    "    words += [key for key,value in tok.word_index.items() if value==iter+1]"
   ]
  },
  {
   "cell_type": "code",
   "execution_count": 26,
   "metadata": {
    "scrolled": true
   },
   "outputs": [
    {
     "data": {
      "text/plain": [
       "13117"
      ]
     },
     "execution_count": 26,
     "metadata": {},
     "output_type": "execute_result"
    }
   ],
   "source": [
    "words[:10]\n",
    "\n",
    "len(words)"
   ]
  },
  {
   "cell_type": "code",
   "execution_count": null,
   "metadata": {
    "collapsed": true
   },
   "outputs": [],
   "source": []
  },
  {
   "cell_type": "code",
   "execution_count": 27,
   "metadata": {
    "collapsed": true
   },
   "outputs": [],
   "source": [
    "weights = np.zeros((num_words,10))\n",
    "count=0\n",
    "for idx, w in enumerate(words):\n",
    "    try:\n",
    "        weights[idx,:] = fasttext_model.get_numpy_vector(w)\n",
    "    except KeyError as e:\n",
    "        #pass\n",
    "        count=count+1"
   ]
  },
  {
   "cell_type": "code",
   "execution_count": 28,
   "metadata": {},
   "outputs": [
    {
     "data": {
      "text/plain": [
       "0"
      ]
     },
     "execution_count": 28,
     "metadata": {},
     "output_type": "execute_result"
    }
   ],
   "source": [
    "count"
   ]
  },
  {
   "cell_type": "code",
   "execution_count": null,
   "metadata": {
    "collapsed": true
   },
   "outputs": [],
   "source": []
  },
  {
   "cell_type": "code",
   "execution_count": 29,
   "metadata": {},
   "outputs": [
    {
     "data": {
      "text/plain": [
       "(20000, 10)"
      ]
     },
     "execution_count": 29,
     "metadata": {},
     "output_type": "execute_result"
    }
   ],
   "source": [
    "weights.shape"
   ]
  },
  {
   "cell_type": "code",
   "execution_count": 30,
   "metadata": {},
   "outputs": [
    {
     "data": {
      "text/plain": [
       "array([-0.19583936, -0.43317419,  0.2506935 ,  0.26665568,  0.12053128,\n",
       "        0.06536516,  0.05681286,  0.33971819, -0.1765442 ,  1.05415177])"
      ]
     },
     "execution_count": 30,
     "metadata": {},
     "output_type": "execute_result"
    }
   ],
   "source": [
    "weights[0]"
   ]
  },
  {
   "cell_type": "code",
   "execution_count": 31,
   "metadata": {},
   "outputs": [
    {
     "data": {
      "text/plain": [
       "(20000, 10)"
      ]
     },
     "execution_count": 31,
     "metadata": {},
     "output_type": "execute_result"
    }
   ],
   "source": [
    "weights.shape"
   ]
  },
  {
   "cell_type": "code",
   "execution_count": null,
   "metadata": {
    "collapsed": true
   },
   "outputs": [],
   "source": []
  },
  {
   "cell_type": "markdown",
   "metadata": {},
   "source": [
    "# 自己繪圖展示train, validation, test準確率"
   ]
  },
  {
   "cell_type": "code",
   "execution_count": 32,
   "metadata": {},
   "outputs": [],
   "source": [
    "%matplotlib inline\n",
    "from keras.callbacks import Callback\n",
    "class LossHistory(Callback):\n",
    "    def on_train_begin(self, logs={}):\n",
    "        self.losses = []\n",
    "    def on_epoch_end(self,epoch, logs={}):\n",
    "        x, y = X_test, Y_test\n",
    "        lss, acc = self.model.evaluate(x, y, verbose=0)\n",
    "        #self.losses.append([logs.get('loss'),logs.get('acc'),logs.get('val_loss'),logs.get('val_acc'),lss, acc])\n",
    "        self.losses.append({'train_loss':logs.get('loss'),'train_metrics':logs.get('acc'),\n",
    "                            'val_loss':logs.get('val_loss'),'val_metrics':logs.get('val_acc'),\n",
    "                            'test_loss':lss,'test_metrics':acc,\n",
    "                           })\n",
    "        #trlss = logs.get('loss')\n",
    "        #tracc = logs.get('acc')\n",
    "        #valss = logs.get('val_loss')\n",
    "        #vaacc = logs.get('val_acc')\n",
    "        #print('\\nepochs:{}'.format(epoch))\n",
    "        #print('\\nTrain loss: {}, acc: {}'.format(trlss, tracc))\n",
    "        #print('\\nValidation loss: {}, acc: {}'.format(valss, vaacc)) \n",
    "        #print('\\nTesting loss: {}, acc: {}'.format(lss, acc))"
   ]
  },
  {
   "cell_type": "code",
   "execution_count": null,
   "metadata": {
    "collapsed": true
   },
   "outputs": [],
   "source": []
  },
  {
   "cell_type": "code",
   "execution_count": null,
   "metadata": {
    "collapsed": true
   },
   "outputs": [],
   "source": []
  },
  {
   "cell_type": "markdown",
   "metadata": {},
   "source": [
    "# LTSM"
   ]
  },
  {
   "cell_type": "code",
   "execution_count": 33,
   "metadata": {},
   "outputs": [
    {
     "name": "stdout",
     "output_type": "stream",
     "text": [
      "_________________________________________________________________\n",
      "Layer (type)                 Output Shape              Param #   \n",
      "=================================================================\n",
      "embedding_1 (Embedding)      (None, 200, 10)           200000    \n",
      "_________________________________________________________________\n",
      "dropout_1 (Dropout)          (None, 200, 10)           0         \n",
      "_________________________________________________________________\n",
      "lstm_1 (LSTM)                (None, 16)                1728      \n",
      "_________________________________________________________________\n",
      "dense_1 (Dense)              (None, 128)               2176      \n",
      "_________________________________________________________________\n",
      "dropout_2 (Dropout)          (None, 128)               0         \n",
      "_________________________________________________________________\n",
      "activation_1 (Activation)    (None, 128)               0         \n",
      "_________________________________________________________________\n",
      "dense_2 (Dense)              (None, 1)                 129       \n",
      "_________________________________________________________________\n",
      "activation_2 (Activation)    (None, 1)                 0         \n",
      "=================================================================\n",
      "Total params: 204,033\n",
      "Trainable params: 204,033\n",
      "Non-trainable params: 0\n",
      "_________________________________________________________________\n"
     ]
    }
   ],
   "source": [
    "model = Sequential()\n",
    "model.add(Embedding(num_words, 10, input_length= 200))\n",
    "model.add(Dropout(0.5))\n",
    "\n",
    "model.add(LSTM(16,activation='relu'))\n",
    "\n",
    "model.add(Dense(128))\n",
    "model.add(Dropout(0.5))\n",
    "model.add(Activation('relu'))\n",
    "\n",
    "#model.add(GlobalAveragePooling1D())\n",
    "#model.add(Dense(1, activation='softmax'))\n",
    "\n",
    "model.add(Dense(1))\n",
    "model.add(Activation('sigmoid'))\n",
    "\n",
    "#詞嵌入 採用預訓練的 向量\n",
    "model.layers[0].set_weights([weights])\n",
    "#model.layers[0].trainable = False\n",
    "\n",
    "#optim = Adam(lr=0.001, beta_1=0.9, beta_2=0.999, epsilon=1e-08, decay=0.0)\n",
    "\n",
    "model.compile(loss='binary_crossentropy', optimizer = 'Adam' , metrics=['accuracy'])\n",
    "model.summary()"
   ]
  },
  {
   "cell_type": "code",
   "execution_count": null,
   "metadata": {
    "collapsed": true
   },
   "outputs": [],
   "source": []
  },
  {
   "cell_type": "code",
   "execution_count": 34,
   "metadata": {},
   "outputs": [
    {
     "name": "stdout",
     "output_type": "stream",
     "text": [
      "Train on 17303 samples, validate on 1923 samples\n",
      "Epoch 1/10\n",
      "17303/17303 [==============================] - 127s 7ms/step - loss: 0.6375 - acc: 0.6340 - val_loss: 0.5198 - val_acc: 0.7525\n",
      "Epoch 2/10\n",
      "17303/17303 [==============================] - 105s 6ms/step - loss: 0.4709 - acc: 0.7834 - val_loss: 0.4372 - val_acc: 0.8107\n",
      "Epoch 3/10\n",
      "17303/17303 [==============================] - 101s 6ms/step - loss: 0.3934 - acc: 0.8323 - val_loss: 0.3993 - val_acc: 0.8268\n",
      "Epoch 4/10\n",
      "17303/17303 [==============================] - 102s 6ms/step - loss: 0.3485 - acc: 0.8560 - val_loss: 0.4003 - val_acc: 0.8284\n",
      "Epoch 5/10\n",
      "17303/17303 [==============================] - 123s 7ms/step - loss: 0.3194 - acc: 0.8705 - val_loss: 0.4013 - val_acc: 0.8331\n",
      "Epoch 6/10\n",
      "17303/17303 [==============================] - 118s 7ms/step - loss: 0.2948 - acc: 0.8822 - val_loss: 0.3896 - val_acc: 0.8341\n",
      "Epoch 7/10\n",
      "17303/17303 [==============================] - 101s 6ms/step - loss: 0.2797 - acc: 0.8894 - val_loss: 0.3876 - val_acc: 0.8404\n",
      "Epoch 8/10\n",
      "17303/17303 [==============================] - 102s 6ms/step - loss: 0.2626 - acc: 0.8950 - val_loss: 0.4014 - val_acc: 0.8331\n",
      "Epoch 9/10\n",
      "17303/17303 [==============================] - 116s 7ms/step - loss: 0.2468 - acc: 0.9018 - val_loss: 0.3979 - val_acc: 0.8388\n",
      "Epoch 10/10\n",
      "17303/17303 [==============================] - 120s 7ms/step - loss: 0.2388 - acc: 0.9070 - val_loss: 0.3898 - val_acc: 0.8424\n",
      "CPU times: user 10min 59s, sys: 21.7 s, total: 11min 21s\n",
      "Wall time: 19min 10s\n"
     ]
    }
   ],
   "source": [
    "%%time\n",
    "history = LossHistory()\n",
    "hist=model.fit(X_train, Y_train, batch_size= 32, epochs=10, validation_split=0.1, callbacks=[history])"
   ]
  },
  {
   "cell_type": "code",
   "execution_count": null,
   "metadata": {
    "collapsed": true
   },
   "outputs": [],
   "source": []
  },
  {
   "cell_type": "code",
   "execution_count": 35,
   "metadata": {
    "collapsed": true
   },
   "outputs": [],
   "source": [
    "hist_info = pd.DataFrame(history.losses)"
   ]
  },
  {
   "cell_type": "code",
   "execution_count": 36,
   "metadata": {},
   "outputs": [
    {
     "data": {
      "text/html": [
       "<div>\n",
       "<table border=\"1\" class=\"dataframe\">\n",
       "  <thead>\n",
       "    <tr style=\"text-align: right;\">\n",
       "      <th></th>\n",
       "      <th>test_loss</th>\n",
       "      <th>test_metrics</th>\n",
       "      <th>train_loss</th>\n",
       "      <th>train_metrics</th>\n",
       "      <th>val_loss</th>\n",
       "      <th>val_metrics</th>\n",
       "    </tr>\n",
       "  </thead>\n",
       "  <tbody>\n",
       "    <tr>\n",
       "      <th>0</th>\n",
       "      <td>0.509515</td>\n",
       "      <td>0.748908</td>\n",
       "      <td>0.637513</td>\n",
       "      <td>0.633994</td>\n",
       "      <td>0.519817</td>\n",
       "      <td>0.752470</td>\n",
       "    </tr>\n",
       "    <tr>\n",
       "      <th>1</th>\n",
       "      <td>0.413273</td>\n",
       "      <td>0.826295</td>\n",
       "      <td>0.470916</td>\n",
       "      <td>0.783448</td>\n",
       "      <td>0.437243</td>\n",
       "      <td>0.810712</td>\n",
       "    </tr>\n",
       "    <tr>\n",
       "      <th>2</th>\n",
       "      <td>0.382081</td>\n",
       "      <td>0.838361</td>\n",
       "      <td>0.393410</td>\n",
       "      <td>0.832283</td>\n",
       "      <td>0.399298</td>\n",
       "      <td>0.826833</td>\n",
       "    </tr>\n",
       "    <tr>\n",
       "      <th>3</th>\n",
       "      <td>0.378501</td>\n",
       "      <td>0.842313</td>\n",
       "      <td>0.348549</td>\n",
       "      <td>0.855979</td>\n",
       "      <td>0.400345</td>\n",
       "      <td>0.828393</td>\n",
       "    </tr>\n",
       "    <tr>\n",
       "      <th>4</th>\n",
       "      <td>0.365420</td>\n",
       "      <td>0.842937</td>\n",
       "      <td>0.319363</td>\n",
       "      <td>0.870543</td>\n",
       "      <td>0.401255</td>\n",
       "      <td>0.833073</td>\n",
       "    </tr>\n",
       "    <tr>\n",
       "      <th>5</th>\n",
       "      <td>0.355852</td>\n",
       "      <td>0.846890</td>\n",
       "      <td>0.294827</td>\n",
       "      <td>0.882159</td>\n",
       "      <td>0.389592</td>\n",
       "      <td>0.834113</td>\n",
       "    </tr>\n",
       "    <tr>\n",
       "      <th>6</th>\n",
       "      <td>0.354376</td>\n",
       "      <td>0.852507</td>\n",
       "      <td>0.279658</td>\n",
       "      <td>0.889383</td>\n",
       "      <td>0.387638</td>\n",
       "      <td>0.840354</td>\n",
       "    </tr>\n",
       "    <tr>\n",
       "      <th>7</th>\n",
       "      <td>0.378659</td>\n",
       "      <td>0.844602</td>\n",
       "      <td>0.262634</td>\n",
       "      <td>0.895047</td>\n",
       "      <td>0.401424</td>\n",
       "      <td>0.833073</td>\n",
       "    </tr>\n",
       "    <tr>\n",
       "      <th>8</th>\n",
       "      <td>0.373115</td>\n",
       "      <td>0.849594</td>\n",
       "      <td>0.246791</td>\n",
       "      <td>0.901809</td>\n",
       "      <td>0.397913</td>\n",
       "      <td>0.838794</td>\n",
       "    </tr>\n",
       "    <tr>\n",
       "      <th>9</th>\n",
       "      <td>0.371060</td>\n",
       "      <td>0.846890</td>\n",
       "      <td>0.238807</td>\n",
       "      <td>0.906953</td>\n",
       "      <td>0.389818</td>\n",
       "      <td>0.842434</td>\n",
       "    </tr>\n",
       "  </tbody>\n",
       "</table>\n",
       "</div>"
      ],
      "text/plain": [
       "   test_loss  test_metrics  train_loss  train_metrics  val_loss  val_metrics\n",
       "0   0.509515      0.748908    0.637513       0.633994  0.519817     0.752470\n",
       "1   0.413273      0.826295    0.470916       0.783448  0.437243     0.810712\n",
       "2   0.382081      0.838361    0.393410       0.832283  0.399298     0.826833\n",
       "3   0.378501      0.842313    0.348549       0.855979  0.400345     0.828393\n",
       "4   0.365420      0.842937    0.319363       0.870543  0.401255     0.833073\n",
       "5   0.355852      0.846890    0.294827       0.882159  0.389592     0.834113\n",
       "6   0.354376      0.852507    0.279658       0.889383  0.387638     0.840354\n",
       "7   0.378659      0.844602    0.262634       0.895047  0.401424     0.833073\n",
       "8   0.373115      0.849594    0.246791       0.901809  0.397913     0.838794\n",
       "9   0.371060      0.846890    0.238807       0.906953  0.389818     0.842434"
      ]
     },
     "execution_count": 36,
     "metadata": {},
     "output_type": "execute_result"
    }
   ],
   "source": [
    "hist_info"
   ]
  },
  {
   "cell_type": "code",
   "execution_count": 37,
   "metadata": {},
   "outputs": [
    {
     "data": {
      "text/plain": [
       "<matplotlib.axes._subplots.AxesSubplot at 0x7f9a48ee4048>"
      ]
     },
     "execution_count": 37,
     "metadata": {},
     "output_type": "execute_result"
    },
    {
     "data": {
      "image/png": "[encoded data removed]",
      "text/plain": [
       "<matplotlib.figure.Figure at 0x7f9a48ee3a58>"
      ]
     },
     "metadata": {},
     "output_type": "display_data"
    }
   ],
   "source": [
    "hist_info[['train_loss','val_loss', 'test_loss']].plot()"
   ]
  },
  {
   "cell_type": "code",
   "execution_count": 38,
   "metadata": {
    "scrolled": false
   },
   "outputs": [
    {
     "data": {
      "text/plain": [
       "<matplotlib.axes._subplots.AxesSubplot at 0x7f9a48e63438>"
      ]
     },
     "execution_count": 38,
     "metadata": {},
     "output_type": "execute_result"
    },
    {
     "data": {
      "image/png": "[encoded data removed]",
      "text/plain": [
       "<matplotlib.figure.Figure at 0x7f9a48e66cc0>"
      ]
     },
     "metadata": {},
     "output_type": "display_data"
    }
   ],
   "source": [
    "hist_info[['train_metrics', 'val_metrics','test_metrics',]].plot()"
   ]
  },
  {
   "cell_type": "code",
   "execution_count": null,
   "metadata": {
    "collapsed": true
   },
   "outputs": [],
   "source": []
  },
  {
   "cell_type": "code",
   "execution_count": null,
   "metadata": {
    "collapsed": true
   },
   "outputs": [],
   "source": []
  },
  {
   "cell_type": "code",
   "execution_count": null,
   "metadata": {
    "collapsed": true
   },
   "outputs": [],
   "source": []
  },
  {
   "cell_type": "markdown",
   "metadata": {},
   "source": [
    "# CNN"
   ]
  },
  {
   "cell_type": "code",
   "execution_count": 39,
   "metadata": {
    "collapsed": true
   },
   "outputs": [],
   "source": [
    "from keras.models import Sequential\n",
    "from keras.layers import Dense\n",
    "from keras.layers import Flatten\n",
    "from keras.layers.convolutional import Convolution1D\n",
    "from keras.layers.convolutional import MaxPooling1D\n",
    "from keras.layers.embeddings import Embedding\n",
    "from keras.layers.core import Dense, Dropout, Activation\n",
    "from keras import metrics\n",
    "#from keras.preprocessing import sequence"
   ]
  },
  {
   "cell_type": "code",
   "execution_count": 40,
   "metadata": {
    "_cell_guid": "b8f524ba-611f-67b9-5973-e1d3d7b3ee08"
   },
   "outputs": [
    {
     "name": "stdout",
     "output_type": "stream",
     "text": [
      "_________________________________________________________________\n",
      "Layer (type)                 Output Shape              Param #   \n",
      "=================================================================\n",
      "embedding_2 (Embedding)      (None, 200, 10)           200000    \n",
      "_________________________________________________________________\n",
      "conv1d_1 (Conv1D)            (None, 198, 250)          7750      \n",
      "_________________________________________________________________\n",
      "max_pooling1d_1 (MaxPooling1 (None, 99, 250)           0         \n",
      "_________________________________________________________________\n",
      "flatten_1 (Flatten)          (None, 24750)             0         \n",
      "_________________________________________________________________\n",
      "dense_3 (Dense)              (None, 250)               6187750   \n",
      "_________________________________________________________________\n",
      "dropout_3 (Dropout)          (None, 250)               0         \n",
      "_________________________________________________________________\n",
      "activation_3 (Activation)    (None, 250)               0         \n",
      "_________________________________________________________________\n",
      "dense_4 (Dense)              (None, 1)                 251       \n",
      "_________________________________________________________________\n",
      "activation_4 (Activation)    (None, 1)                 0         \n",
      "=================================================================\n",
      "Total params: 6,395,751\n",
      "Trainable params: 6,395,751\n",
      "Non-trainable params: 0\n",
      "_________________________________________________________________\n"
     ]
    }
   ],
   "source": [
    "#nb_classes = 2\n",
    "\n",
    "model = Sequential()\n",
    "model.add(Embedding(num_words, 10, input_length= 200))\n",
    "model.add(Convolution1D(activation=\"relu\", filters=250, kernel_size=3, strides=1, padding=\"valid\"))\n",
    "model.add(MaxPooling1D(pool_size = 2))\n",
    "model.add(Flatten())\n",
    "model.add(Dense(250)) \n",
    "model.add(Dropout(0.2)) \n",
    "model.add(Activation('relu'))\n",
    "model.add(Dense(1))\n",
    "model.add(Activation('sigmoid'))\n",
    "\n",
    "#詞嵌入 採用預訓練的 向量\n",
    "model.layers[0].set_weights([weights])\n",
    "#model.layers[0].trainable = False\n",
    "\n",
    "#optim = Adam(lr=0.001, beta_1=0.9, beta_2=0.999, epsilon=1e-08, decay=0.0)\n",
    "\n",
    "model.compile(loss='binary_crossentropy', optimizer = 'Adam' , metrics=['accuracy'])\n",
    "model.summary()"
   ]
  },
  {
   "cell_type": "code",
   "execution_count": null,
   "metadata": {
    "collapsed": true
   },
   "outputs": [],
   "source": []
  },
  {
   "cell_type": "code",
   "execution_count": 41,
   "metadata": {},
   "outputs": [
    {
     "name": "stdout",
     "output_type": "stream",
     "text": [
      "Train on 17303 samples, validate on 1923 samples\n",
      "Epoch 1/10\n",
      "17303/17303 [==============================] - 77s 4ms/step - loss: 0.5104 - acc: 0.7344 - val_loss: 0.4049 - val_acc: 0.8263\n",
      "Epoch 2/10\n",
      "17303/17303 [==============================] - 75s 4ms/step - loss: 0.3042 - acc: 0.8779 - val_loss: 0.3720 - val_acc: 0.8518\n",
      "Epoch 3/10\n",
      "17303/17303 [==============================] - 75s 4ms/step - loss: 0.2309 - acc: 0.9117 - val_loss: 0.4258 - val_acc: 0.8196\n",
      "Epoch 4/10\n",
      "17303/17303 [==============================] - 104s 6ms/step - loss: 0.1805 - acc: 0.9317 - val_loss: 0.4156 - val_acc: 0.8440\n",
      "Epoch 5/10\n",
      "17303/17303 [==============================] - 109s 6ms/step - loss: 0.1386 - acc: 0.9488 - val_loss: 0.4821 - val_acc: 0.8357\n",
      "Epoch 6/10\n",
      "17303/17303 [==============================] - 82s 5ms/step - loss: 0.1027 - acc: 0.9625 - val_loss: 0.5240 - val_acc: 0.8326\n",
      "Epoch 7/10\n",
      "17303/17303 [==============================] - 86s 5ms/step - loss: 0.0760 - acc: 0.9722 - val_loss: 0.6281 - val_acc: 0.8315\n",
      "Epoch 8/10\n",
      "17303/17303 [==============================] - 109s 6ms/step - loss: 0.0554 - acc: 0.9800 - val_loss: 0.7760 - val_acc: 0.8294\n",
      "Epoch 9/10\n",
      "17303/17303 [==============================] - 133s 8ms/step - loss: 0.0375 - acc: 0.9865 - val_loss: 0.8888 - val_acc: 0.8300\n",
      "Epoch 10/10\n",
      "17303/17303 [==============================] - 121s 7ms/step - loss: 0.0281 - acc: 0.9899 - val_loss: 0.9644 - val_acc: 0.8346\n",
      "CPU times: user 9min 39s, sys: 2min 54s, total: 12min 33s\n",
      "Wall time: 16min 44s\n"
     ]
    }
   ],
   "source": [
    "%%time\n",
    "history = LossHistory()\n",
    "hist=model.fit(X_train, Y_train, batch_size= 32, epochs=10, validation_split=0.1, callbacks=[history])"
   ]
  },
  {
   "cell_type": "code",
   "execution_count": null,
   "metadata": {
    "collapsed": true
   },
   "outputs": [],
   "source": []
  },
  {
   "cell_type": "code",
   "execution_count": 42,
   "metadata": {
    "collapsed": true
   },
   "outputs": [],
   "source": [
    "hist_info = pd.DataFrame(history.losses)"
   ]
  },
  {
   "cell_type": "code",
   "execution_count": 43,
   "metadata": {},
   "outputs": [
    {
     "data": {
      "text/html": [
       "<div>\n",
       "<table border=\"1\" class=\"dataframe\">\n",
       "  <thead>\n",
       "    <tr style=\"text-align: right;\">\n",
       "      <th></th>\n",
       "      <th>test_loss</th>\n",
       "      <th>test_metrics</th>\n",
       "      <th>train_loss</th>\n",
       "      <th>train_metrics</th>\n",
       "      <th>val_loss</th>\n",
       "      <th>val_metrics</th>\n",
       "    </tr>\n",
       "  </thead>\n",
       "  <tbody>\n",
       "    <tr>\n",
       "      <th>0</th>\n",
       "      <td>0.382094</td>\n",
       "      <td>0.835448</td>\n",
       "      <td>0.510367</td>\n",
       "      <td>0.734439</td>\n",
       "      <td>0.404857</td>\n",
       "      <td>0.826313</td>\n",
       "    </tr>\n",
       "    <tr>\n",
       "      <th>1</th>\n",
       "      <td>0.351180</td>\n",
       "      <td>0.850218</td>\n",
       "      <td>0.304233</td>\n",
       "      <td>0.877940</td>\n",
       "      <td>0.372026</td>\n",
       "      <td>0.851794</td>\n",
       "    </tr>\n",
       "    <tr>\n",
       "      <th>2</th>\n",
       "      <td>0.416760</td>\n",
       "      <td>0.829623</td>\n",
       "      <td>0.230871</td>\n",
       "      <td>0.911692</td>\n",
       "      <td>0.425760</td>\n",
       "      <td>0.819553</td>\n",
       "    </tr>\n",
       "    <tr>\n",
       "      <th>3</th>\n",
       "      <td>0.386342</td>\n",
       "      <td>0.846890</td>\n",
       "      <td>0.180472</td>\n",
       "      <td>0.931746</td>\n",
       "      <td>0.415593</td>\n",
       "      <td>0.843994</td>\n",
       "    </tr>\n",
       "    <tr>\n",
       "      <th>4</th>\n",
       "      <td>0.452045</td>\n",
       "      <td>0.841065</td>\n",
       "      <td>0.138629</td>\n",
       "      <td>0.948795</td>\n",
       "      <td>0.482080</td>\n",
       "      <td>0.835673</td>\n",
       "    </tr>\n",
       "    <tr>\n",
       "      <th>5</th>\n",
       "      <td>0.503040</td>\n",
       "      <td>0.838361</td>\n",
       "      <td>0.102654</td>\n",
       "      <td>0.962550</td>\n",
       "      <td>0.523957</td>\n",
       "      <td>0.832553</td>\n",
       "    </tr>\n",
       "    <tr>\n",
       "      <th>6</th>\n",
       "      <td>0.603795</td>\n",
       "      <td>0.834824</td>\n",
       "      <td>0.076014</td>\n",
       "      <td>0.972201</td>\n",
       "      <td>0.628142</td>\n",
       "      <td>0.831513</td>\n",
       "    </tr>\n",
       "    <tr>\n",
       "      <th>7</th>\n",
       "      <td>0.725414</td>\n",
       "      <td>0.842729</td>\n",
       "      <td>0.055434</td>\n",
       "      <td>0.980003</td>\n",
       "      <td>0.775987</td>\n",
       "      <td>0.829433</td>\n",
       "    </tr>\n",
       "    <tr>\n",
       "      <th>8</th>\n",
       "      <td>0.869609</td>\n",
       "      <td>0.835448</td>\n",
       "      <td>0.037543</td>\n",
       "      <td>0.986534</td>\n",
       "      <td>0.888849</td>\n",
       "      <td>0.829953</td>\n",
       "    </tr>\n",
       "    <tr>\n",
       "      <th>9</th>\n",
       "      <td>0.904506</td>\n",
       "      <td>0.839609</td>\n",
       "      <td>0.028092</td>\n",
       "      <td>0.989944</td>\n",
       "      <td>0.964403</td>\n",
       "      <td>0.834633</td>\n",
       "    </tr>\n",
       "  </tbody>\n",
       "</table>\n",
       "</div>"
      ],
      "text/plain": [
       "   test_loss  test_metrics  train_loss  train_metrics  val_loss  val_metrics\n",
       "0   0.382094      0.835448    0.510367       0.734439  0.404857     0.826313\n",
       "1   0.351180      0.850218    0.304233       0.877940  0.372026     0.851794\n",
       "2   0.416760      0.829623    0.230871       0.911692  0.425760     0.819553\n",
       "3   0.386342      0.846890    0.180472       0.931746  0.415593     0.843994\n",
       "4   0.452045      0.841065    0.138629       0.948795  0.482080     0.835673\n",
       "5   0.503040      0.838361    0.102654       0.962550  0.523957     0.832553\n",
       "6   0.603795      0.834824    0.076014       0.972201  0.628142     0.831513\n",
       "7   0.725414      0.842729    0.055434       0.980003  0.775987     0.829433\n",
       "8   0.869609      0.835448    0.037543       0.986534  0.888849     0.829953\n",
       "9   0.904506      0.839609    0.028092       0.989944  0.964403     0.834633"
      ]
     },
     "execution_count": 43,
     "metadata": {},
     "output_type": "execute_result"
    }
   ],
   "source": [
    "hist_info"
   ]
  },
  {
   "cell_type": "code",
   "execution_count": 44,
   "metadata": {},
   "outputs": [
    {
     "data": {
      "text/plain": [
       "<matplotlib.axes._subplots.AxesSubplot at 0x7f9a40caf2e8>"
      ]
     },
     "execution_count": 44,
     "metadata": {},
     "output_type": "execute_result"
    },
    {
     "data": {
      "image/png": "[encoded data removed]",
      "text/plain": [
       "<matplotlib.figure.Figure at 0x7f9a40caf278>"
      ]
     },
     "metadata": {},
     "output_type": "display_data"
    }
   ],
   "source": [
    "hist_info[['train_loss','val_loss', 'test_loss']].plot()"
   ]
  },
  {
   "cell_type": "code",
   "execution_count": 45,
   "metadata": {
    "scrolled": true
   },
   "outputs": [
    {
     "data": {
      "text/plain": [
       "<matplotlib.axes._subplots.AxesSubplot at 0x7f9a40c55b38>"
      ]
     },
     "execution_count": 45,
     "metadata": {},
     "output_type": "execute_result"
    },
    {
     "data": {
      "image/png": "[encoded data removed]",
      "text/plain": [
       "<matplotlib.figure.Figure at 0x7f9a40c5eb70>"
      ]
     },
     "metadata": {},
     "output_type": "display_data"
    }
   ],
   "source": [
    "hist_info[['train_metrics', 'val_metrics','test_metrics',]].plot()"
   ]
  },
  {
   "cell_type": "code",
   "execution_count": null,
   "metadata": {
    "collapsed": true
   },
   "outputs": [],
   "source": []
  },
  {
   "cell_type": "code",
   "execution_count": null,
   "metadata": {
    "collapsed": true
   },
   "outputs": [],
   "source": []
  },
  {
   "cell_type": "code",
   "execution_count": null,
   "metadata": {
    "collapsed": true
   },
   "outputs": [],
   "source": []
  },
  {
   "cell_type": "code",
   "execution_count": null,
   "metadata": {
    "collapsed": true
   },
   "outputs": [],
   "source": []
  }
 ],
 "metadata": {
  "kernelspec": {
   "display_name": "Python 3",
   "language": "python",
   "name": "python3"
  },
  "language_info": {
   "codemirror_mode": {
    "name": "ipython",
    "version": 3
   },
   "file_extension": ".py",
   "mimetype": "text/x-python",
   "name": "python",
   "nbconvert_exporter": "python",
   "pygments_lexer": "ipython3",
   "version": "3.5.6"
  }
 },
 "nbformat": 4,
 "nbformat_minor": 2
}
