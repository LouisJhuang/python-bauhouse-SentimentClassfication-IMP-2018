{
 "cells": [
  {
   "cell_type": "markdown",
   "metadata": {},
   "source": [
    "# 使用遷移學習Transfer Learning Sentiment analysis\n",
    "\n",
    "# KerasFastText-使用fasttext之AmazonReview預訓練模型"
   ]
  },
  {
   "cell_type": "code",
   "execution_count": null,
   "metadata": {
    "collapsed": true
   },
   "outputs": [],
   "source": [
    " "
   ]
  },
  {
   "cell_type": "code",
   "execution_count": null,
   "metadata": {
    "collapsed": true
   },
   "outputs": [],
   "source": []
  },
  {
   "cell_type": "code",
   "execution_count": null,
   "metadata": {
    "collapsed": true
   },
   "outputs": [],
   "source": []
  },
  {
   "cell_type": "code",
   "execution_count": 1,
   "metadata": {
    "collapsed": false,
    "scrolled": true
   },
   "outputs": [
    {
     "name": "stderr",
     "output_type": "stream",
     "text": [
      "Using TensorFlow backend.\n"
     ]
    }
   ],
   "source": [
    "import copy\n",
    "import numpy as np\n",
    "import pandas as pd\n",
    "# import matplotlib.pyplot as plt\n",
    "import sys\n",
    "import os\n",
    "import re\n",
    "\n",
    "# from __future__ import print_function\n",
    "import numpy as np\n",
    "np.random.seed(1337)  # for reproducibility\n",
    "\n",
    "from keras.models import Sequential\n",
    "from keras.layers import Dense, Dropout, Activation, Flatten, GlobalAveragePooling1D\n",
    "from keras.optimizers import SGD, RMSprop\n",
    "from keras.utils import np_utils\n",
    "from keras.layers.convolutional import Convolution1D, MaxPooling1D, ZeroPadding1D, AveragePooling1D\n",
    "from keras.callbacks import EarlyStopping\n",
    "from keras.layers.normalization import BatchNormalization\n",
    "from keras.preprocessing import sequence\n",
    "from keras.layers.embeddings import Embedding\n",
    "from keras.layers.recurrent import SimpleRNN, LSTM, GRU\n",
    "from keras.layers.wrappers import TimeDistributed\n",
    "from keras.preprocessing.text import Tokenizer\n",
    "from keras.callbacks import Callback\n",
    "from keras.optimizers import *"
   ]
  },
  {
   "cell_type": "code",
   "execution_count": null,
   "metadata": {
    "collapsed": true
   },
   "outputs": [],
   "source": []
  },
  {
   "cell_type": "code",
   "execution_count": null,
   "metadata": {
    "collapsed": true
   },
   "outputs": [],
   "source": []
  },
  {
   "cell_type": "markdown",
   "metadata": {
    "collapsed": true
   },
   "source": [
    "# Hotel data格式前處理\n",
    "\n",
    "透過clean_dataset整理資料\n",
    "\n",
    "label必須編碼為0,1,2,3,.."
   ]
  },
  {
   "cell_type": "code",
   "execution_count": 2,
   "metadata": {
    "collapsed": true
   },
   "outputs": [],
   "source": [
    "import pandas as pd"
   ]
  },
  {
   "cell_type": "code",
   "execution_count": 3,
   "metadata": {
    "collapsed": true
   },
   "outputs": [],
   "source": [
    "data=pd.read_csv('./data/hotel_data.csv',encoding='utf8')\n",
    "data = data[['text','polarity']]"
   ]
  },
  {
   "cell_type": "code",
   "execution_count": 4,
   "metadata": {
    "collapsed": false
   },
   "outputs": [
    {
     "data": {
      "text/html": [
       "<div>\n",
       "<table border=\"1\" class=\"dataframe\">\n",
       "  <thead>\n",
       "    <tr style=\"text-align: right;\">\n",
       "      <th></th>\n",
       "      <th>text</th>\n",
       "      <th>polarity</th>\n",
       "    </tr>\n",
       "  </thead>\n",
       "  <tbody>\n",
       "    <tr>\n",
       "      <th>0</th>\n",
       "      <td>My daughter and I just returned from a four ni...</td>\n",
       "      <td>NEGATIVE</td>\n",
       "    </tr>\n",
       "    <tr>\n",
       "      <th>1</th>\n",
       "      <td>I had searched for a good hotel at a rate of u...</td>\n",
       "      <td>OBJECTIVE</td>\n",
       "    </tr>\n",
       "    <tr>\n",
       "      <th>2</th>\n",
       "      <td>Big mistake.</td>\n",
       "      <td>NEGATIVE</td>\n",
       "    </tr>\n",
       "    <tr>\n",
       "      <th>3</th>\n",
       "      <td>Our room was tiny,</td>\n",
       "      <td>NEGATIVE</td>\n",
       "    </tr>\n",
       "    <tr>\n",
       "      <th>4</th>\n",
       "      <td>and the bath was small too.</td>\n",
       "      <td>NEGATIVE</td>\n",
       "    </tr>\n",
       "    <tr>\n",
       "      <th>5</th>\n",
       "      <td>The public areas were somewhat dingy and showe...</td>\n",
       "      <td>NEGATIVE</td>\n",
       "    </tr>\n",
       "    <tr>\n",
       "      <th>6</th>\n",
       "      <td>Even the bath towels were worn and becoming st...</td>\n",
       "      <td>NEGATIVE</td>\n",
       "    </tr>\n",
       "    <tr>\n",
       "      <th>7</th>\n",
       "      <td>Speaking of such, the maid did not replace sha...</td>\n",
       "      <td>NEGATIVE</td>\n",
       "    </tr>\n",
       "    <tr>\n",
       "      <th>8</th>\n",
       "      <td>You had to put a sign on the bed if you wanted...</td>\n",
       "      <td>NEGATIVE</td>\n",
       "    </tr>\n",
       "    <tr>\n",
       "      <th>9</th>\n",
       "      <td>The minibar was one of the kind that you have ...</td>\n",
       "      <td>NEGATIVE</td>\n",
       "    </tr>\n",
       "  </tbody>\n",
       "</table>\n",
       "</div>"
      ],
      "text/plain": [
       "                                                text   polarity\n",
       "0  My daughter and I just returned from a four ni...   NEGATIVE\n",
       "1  I had searched for a good hotel at a rate of u...  OBJECTIVE\n",
       "2                                       Big mistake.   NEGATIVE\n",
       "3                                 Our room was tiny,   NEGATIVE\n",
       "4                        and the bath was small too.   NEGATIVE\n",
       "5  The public areas were somewhat dingy and showe...   NEGATIVE\n",
       "6  Even the bath towels were worn and becoming st...   NEGATIVE\n",
       "7  Speaking of such, the maid did not replace sha...   NEGATIVE\n",
       "8  You had to put a sign on the bed if you wanted...   NEGATIVE\n",
       "9  The minibar was one of the kind that you have ...   NEGATIVE"
      ]
     },
     "execution_count": 4,
     "metadata": {},
     "output_type": "execute_result"
    }
   ],
   "source": [
    "data.head(10)"
   ]
  },
  {
   "cell_type": "code",
   "execution_count": 5,
   "metadata": {
    "collapsed": false
   },
   "outputs": [
    {
     "name": "stdout",
     "output_type": "stream",
     "text": [
      "23046\n",
      "25020\n",
      "15200\n"
     ]
    }
   ],
   "source": [
    "print(data[ data['polarity'] == 'POSITIVE'].size)\n",
    "print(data[ data['polarity'] == 'NEGATIVE'].size)\n",
    "print(data[ data['polarity'] == 'OBJECTIVE'].size)"
   ]
  },
  {
   "cell_type": "code",
   "execution_count": null,
   "metadata": {
    "collapsed": true
   },
   "outputs": [],
   "source": []
  },
  {
   "cell_type": "code",
   "execution_count": 6,
   "metadata": {
    "collapsed": true
   },
   "outputs": [],
   "source": [
    "data = data[ (data['polarity'] == 'POSITIVE') |(data['polarity'] == 'NEGATIVE')]"
   ]
  },
  {
   "cell_type": "code",
   "execution_count": 7,
   "metadata": {
    "collapsed": false
   },
   "outputs": [
    {
     "name": "stdout",
     "output_type": "stream",
     "text": [
      "23046\n",
      "25020\n",
      "0\n"
     ]
    }
   ],
   "source": [
    "print(data[ data['polarity'] == 'POSITIVE'].size)\n",
    "print(data[ data['polarity'] == 'NEGATIVE'].size)\n",
    "print(data[ data['polarity'] == 'OBJECTIVE'].size)"
   ]
  },
  {
   "cell_type": "code",
   "execution_count": null,
   "metadata": {
    "collapsed": true
   },
   "outputs": [],
   "source": []
  },
  {
   "cell_type": "code",
   "execution_count": 8,
   "metadata": {
    "collapsed": true
   },
   "outputs": [],
   "source": [
    "data['polarity'] = data['polarity'].replace({'POSITIVE': 1, 'NEGATIVE': 0})"
   ]
  },
  {
   "cell_type": "code",
   "execution_count": null,
   "metadata": {
    "collapsed": true
   },
   "outputs": [],
   "source": []
  },
  {
   "cell_type": "code",
   "execution_count": 9,
   "metadata": {
    "collapsed": true
   },
   "outputs": [],
   "source": [
    "data = data.rename(columns={'polarity':'label'})"
   ]
  },
  {
   "cell_type": "code",
   "execution_count": null,
   "metadata": {
    "collapsed": true
   },
   "outputs": [],
   "source": []
  },
  {
   "cell_type": "code",
   "execution_count": 10,
   "metadata": {
    "collapsed": false
   },
   "outputs": [
    {
     "data": {
      "text/html": [
       "<div>\n",
       "<table border=\"1\" class=\"dataframe\">\n",
       "  <thead>\n",
       "    <tr style=\"text-align: right;\">\n",
       "      <th></th>\n",
       "      <th>text</th>\n",
       "      <th>label</th>\n",
       "    </tr>\n",
       "  </thead>\n",
       "  <tbody>\n",
       "    <tr>\n",
       "      <th>0</th>\n",
       "      <td>My daughter and I just returned from a four ni...</td>\n",
       "      <td>0</td>\n",
       "    </tr>\n",
       "    <tr>\n",
       "      <th>2</th>\n",
       "      <td>Big mistake.</td>\n",
       "      <td>0</td>\n",
       "    </tr>\n",
       "    <tr>\n",
       "      <th>3</th>\n",
       "      <td>Our room was tiny,</td>\n",
       "      <td>0</td>\n",
       "    </tr>\n",
       "  </tbody>\n",
       "</table>\n",
       "</div>"
      ],
      "text/plain": [
       "                                                text  label\n",
       "0  My daughter and I just returned from a four ni...      0\n",
       "2                                       Big mistake.      0\n",
       "3                                 Our room was tiny,      0"
      ]
     },
     "execution_count": 10,
     "metadata": {},
     "output_type": "execute_result"
    }
   ],
   "source": [
    "data.head(3)"
   ]
  },
  {
   "cell_type": "code",
   "execution_count": null,
   "metadata": {
    "collapsed": true
   },
   "outputs": [],
   "source": []
  },
  {
   "cell_type": "code",
   "execution_count": null,
   "metadata": {
    "collapsed": true
   },
   "outputs": [],
   "source": []
  },
  {
   "cell_type": "code",
   "execution_count": 11,
   "metadata": {
    "collapsed": false
   },
   "outputs": [
    {
     "name": "stderr",
     "output_type": "stream",
     "text": [
      "/opt/conda/lib/python3.5/importlib/_bootstrap.py:222: RuntimeWarning: numpy.dtype size changed, may indicate binary incompatibility. Expected 96, got 88\n",
      "  return f(*args, **kwds)\n",
      "/opt/conda/lib/python3.5/importlib/_bootstrap.py:222: RuntimeWarning: numpy.dtype size changed, may indicate binary incompatibility. Expected 96, got 88\n",
      "  return f(*args, **kwds)\n"
     ]
    }
   ],
   "source": [
    "## 切資料\n",
    "\n",
    "from sklearn.model_selection import train_test_split\n",
    "\n",
    "X_train_, X_test_, Y_train, Y_test = \\\n",
    "    train_test_split( data['text'], data['label'], test_size=0.9, random_state=42, stratify = data['label'])"
   ]
  },
  {
   "cell_type": "code",
   "execution_count": null,
   "metadata": {
    "collapsed": true
   },
   "outputs": [],
   "source": []
  },
  {
   "cell_type": "code",
   "execution_count": 12,
   "metadata": {
    "collapsed": true
   },
   "outputs": [],
   "source": [
    "input_text = data['text']"
   ]
  },
  {
   "cell_type": "code",
   "execution_count": 13,
   "metadata": {
    "collapsed": false,
    "scrolled": true
   },
   "outputs": [
    {
     "data": {
      "text/plain": [
       "0    My daughter and I just returned from a four ni...\n",
       "2                                         Big mistake.\n",
       "Name: text, dtype: object"
      ]
     },
     "execution_count": 13,
     "metadata": {},
     "output_type": "execute_result"
    }
   ],
   "source": [
    "input_text[0:2]"
   ]
  },
  {
   "cell_type": "code",
   "execution_count": 14,
   "metadata": {
    "collapsed": false,
    "scrolled": false
   },
   "outputs": [
    {
     "data": {
      "text/plain": [
       "(24033,)"
      ]
     },
     "execution_count": 14,
     "metadata": {},
     "output_type": "execute_result"
    }
   ],
   "source": [
    "input_text.shape"
   ]
  },
  {
   "cell_type": "code",
   "execution_count": null,
   "metadata": {
    "collapsed": true
   },
   "outputs": [],
   "source": []
  },
  {
   "cell_type": "code",
   "execution_count": 15,
   "metadata": {
    "collapsed": true
   },
   "outputs": [],
   "source": [
    "# 20000\n",
    "num_words = 20000\n",
    "tok = Tokenizer(num_words)\n",
    "tok.fit_on_texts(input_text)"
   ]
  },
  {
   "cell_type": "code",
   "execution_count": 16,
   "metadata": {
    "collapsed": false
   },
   "outputs": [
    {
     "data": {
      "text/plain": [
       "13117"
      ]
     },
     "execution_count": 16,
     "metadata": {},
     "output_type": "execute_result"
    }
   ],
   "source": [
    "len(tok.word_index)"
   ]
  },
  {
   "cell_type": "code",
   "execution_count": null,
   "metadata": {
    "collapsed": true
   },
   "outputs": [],
   "source": []
  },
  {
   "cell_type": "code",
   "execution_count": 17,
   "metadata": {
    "collapsed": true
   },
   "outputs": [],
   "source": [
    "X_train = tok.texts_to_sequences(X_train_)\n",
    "X_test  = tok.texts_to_sequences(X_test_)\n",
    "\n",
    "X_train = sequence.pad_sequences(X_train, maxlen=200)\n",
    "X_test  = sequence.pad_sequences(X_test,  maxlen=200)"
   ]
  },
  {
   "cell_type": "code",
   "execution_count": 18,
   "metadata": {
    "collapsed": false,
    "scrolled": true
   },
   "outputs": [
    {
     "data": {
      "text/plain": [
       "array([   0,    0,    0,    0,    0,    0,    0,    0,    0,    0,    0,\n",
       "          0,    0,    0,    0,    0,    0,    0,    0,    0,    0,    0,\n",
       "          0,    0,    0,    0,    0,    0,    0,    0,    0,    0,    0,\n",
       "          0,    0,    0,    0,    0,    0,    0,    0,    0,    0,    0,\n",
       "          0,    0,    0,    0,    0,    0,    0,    0,    0,    0,    0,\n",
       "          0,    0,    0,    0,    0,    0,    0,    0,    0,    0,    0,\n",
       "          0,    0,    0,    0,    0,    0,    0,    0,    0,    0,    0,\n",
       "          0,    0,    0,    0,    0,    0,    0,    0,    0,    0,    0,\n",
       "          0,    0,    0,    0,    0,    0,    0,    0,    0,    0,    0,\n",
       "          0,    0,    0,    0,    0,    0,    0,    0,    0,    0,    0,\n",
       "          0,    0,    0,    0,    0,    0,    0,    0,    0,    0,    0,\n",
       "          0,    0,    0,    0,    0,    0,    0,    0,    0,    0,    0,\n",
       "          0,    0,    0,    0,    0,    0,    0,    0,    0,    0,    0,\n",
       "          0,    0,    0,    0,    0,    0,    0,    0,    0,    0,    0,\n",
       "          0,    0,    0,    0,    0,    0,    0,    0,    0,    0,    0,\n",
       "          0,    0,    0,    0,    0,    0,    0,    0,    0,    0,    0,\n",
       "          0,    0,    0,    0,    0,    0,    0,    0,    0,    0,    0,\n",
       "          0,    0,    0,    0,    0,    0,    1,  290,  417,   15, 1040,\n",
       "          1,  441], dtype=int32)"
      ]
     },
     "execution_count": 18,
     "metadata": {},
     "output_type": "execute_result"
    }
   ],
   "source": [
    "X_train[0]"
   ]
  },
  {
   "cell_type": "code",
   "execution_count": 19,
   "metadata": {
    "collapsed": false
   },
   "outputs": [
    {
     "data": {
      "text/plain": [
       "2403"
      ]
     },
     "execution_count": 19,
     "metadata": {},
     "output_type": "execute_result"
    }
   ],
   "source": [
    "len(X_train)"
   ]
  },
  {
   "cell_type": "code",
   "execution_count": 20,
   "metadata": {
    "collapsed": false
   },
   "outputs": [
    {
     "data": {
      "text/plain": [
       "20392    0\n",
       "30521    1\n",
       "17683    0\n",
       "22017    1\n",
       "25671    1\n",
       "18700    1\n",
       "16839    0\n",
       "9898     1\n",
       "22673    0\n",
       "13941    1\n",
       "Name: label, dtype: int64"
      ]
     },
     "execution_count": 20,
     "metadata": {},
     "output_type": "execute_result"
    }
   ],
   "source": [
    "Y_train[0:10]"
   ]
  },
  {
   "cell_type": "code",
   "execution_count": 21,
   "metadata": {
    "collapsed": false
   },
   "outputs": [
    {
     "data": {
      "text/plain": [
       "2403"
      ]
     },
     "execution_count": 21,
     "metadata": {},
     "output_type": "execute_result"
    }
   ],
   "source": [
    "len(Y_train)"
   ]
  },
  {
   "cell_type": "code",
   "execution_count": 22,
   "metadata": {
    "collapsed": false
   },
   "outputs": [
    {
     "data": {
      "text/plain": [
       "20392    0\n",
       "30521    1\n",
       "17683    0\n",
       "22017    1\n",
       "25671    1\n",
       "18700    1\n",
       "16839    0\n",
       "9898     1\n",
       "22673    0\n",
       "13941    1\n",
       "8418     1\n",
       "6709     0\n",
       "8868     1\n",
       "2065     1\n",
       "20013    0\n",
       "30917    1\n",
       "16172    1\n",
       "20002    0\n",
       "1812     0\n",
       "31252    0\n",
       "5734     1\n",
       "3444     1\n",
       "20024    1\n",
       "10607    0\n",
       "22331    0\n",
       "30522    1\n",
       "2410     0\n",
       "3102     0\n",
       "10281    0\n",
       "4172     1\n",
       "        ..\n",
       "1021     0\n",
       "6491     1\n",
       "24381    0\n",
       "2318     0\n",
       "6094     1\n",
       "4431     0\n",
       "14413    0\n",
       "26523    1\n",
       "6246     1\n",
       "4036     1\n",
       "17774    1\n",
       "21125    1\n",
       "3784     1\n",
       "12492    1\n",
       "28478    0\n",
       "10073    0\n",
       "23684    0\n",
       "4125     0\n",
       "722      0\n",
       "6606     1\n",
       "25684    0\n",
       "3718     0\n",
       "24048    1\n",
       "16080    0\n",
       "24132    0\n",
       "6030     0\n",
       "6905     0\n",
       "1743     1\n",
       "19235    0\n",
       "26496    1\n",
       "Name: label, dtype: int64"
      ]
     },
     "execution_count": 22,
     "metadata": {},
     "output_type": "execute_result"
    }
   ],
   "source": [
    "Y_train"
   ]
  },
  {
   "cell_type": "code",
   "execution_count": null,
   "metadata": {
    "collapsed": true
   },
   "outputs": [],
   "source": []
  },
  {
   "cell_type": "markdown",
   "metadata": {},
   "source": [
    "# 預先訓練好的詞向量在這裡讀"
   ]
  },
  {
   "cell_type": "code",
   "execution_count": 23,
   "metadata": {
    "collapsed": true
   },
   "outputs": [],
   "source": [
    "from pyfasttext import FastText"
   ]
  },
  {
   "cell_type": "code",
   "execution_count": 24,
   "metadata": {
    "collapsed": true
   },
   "outputs": [],
   "source": [
    "fasttext_model = FastText('./model/amazon_review_polarity.bin')"
   ]
  },
  {
   "cell_type": "code",
   "execution_count": 25,
   "metadata": {
    "collapsed": true
   },
   "outputs": [],
   "source": [
    "words = []\n",
    "for iter in range(num_words):\n",
    "    words += [key for key,value in tok.word_index.items() if value==iter+1]"
   ]
  },
  {
   "cell_type": "code",
   "execution_count": 26,
   "metadata": {
    "collapsed": false,
    "scrolled": true
   },
   "outputs": [
    {
     "data": {
      "text/plain": [
       "13117"
      ]
     },
     "execution_count": 26,
     "metadata": {},
     "output_type": "execute_result"
    }
   ],
   "source": [
    "words[:10]\n",
    "\n",
    "len(words)"
   ]
  },
  {
   "cell_type": "code",
   "execution_count": null,
   "metadata": {
    "collapsed": true
   },
   "outputs": [],
   "source": []
  },
  {
   "cell_type": "code",
   "execution_count": 27,
   "metadata": {
    "collapsed": true
   },
   "outputs": [],
   "source": [
    "weights = np.zeros((num_words,10))\n",
    "count=0\n",
    "for idx, w in enumerate(words):\n",
    "    try:\n",
    "        weights[idx,:] = fasttext_model.get_numpy_vector(w)\n",
    "    except KeyError as e:\n",
    "        #pass\n",
    "        count=count+1"
   ]
  },
  {
   "cell_type": "code",
   "execution_count": 28,
   "metadata": {
    "collapsed": false
   },
   "outputs": [
    {
     "data": {
      "text/plain": [
       "0"
      ]
     },
     "execution_count": 28,
     "metadata": {},
     "output_type": "execute_result"
    }
   ],
   "source": [
    "count"
   ]
  },
  {
   "cell_type": "code",
   "execution_count": null,
   "metadata": {
    "collapsed": true
   },
   "outputs": [],
   "source": []
  },
  {
   "cell_type": "code",
   "execution_count": 29,
   "metadata": {
    "collapsed": false
   },
   "outputs": [
    {
     "data": {
      "text/plain": [
       "(20000, 10)"
      ]
     },
     "execution_count": 29,
     "metadata": {},
     "output_type": "execute_result"
    }
   ],
   "source": [
    "weights.shape"
   ]
  },
  {
   "cell_type": "code",
   "execution_count": 30,
   "metadata": {
    "collapsed": false
   },
   "outputs": [
    {
     "data": {
      "text/plain": [
       "array([-0.19583936, -0.43317419,  0.2506935 ,  0.26665568,  0.12053128,\n",
       "        0.06536516,  0.05681286,  0.33971819, -0.1765442 ,  1.05415177])"
      ]
     },
     "execution_count": 30,
     "metadata": {},
     "output_type": "execute_result"
    }
   ],
   "source": [
    "weights[0]"
   ]
  },
  {
   "cell_type": "code",
   "execution_count": 31,
   "metadata": {
    "collapsed": false
   },
   "outputs": [
    {
     "data": {
      "text/plain": [
       "(20000, 10)"
      ]
     },
     "execution_count": 31,
     "metadata": {},
     "output_type": "execute_result"
    }
   ],
   "source": [
    "weights.shape"
   ]
  },
  {
   "cell_type": "code",
   "execution_count": null,
   "metadata": {
    "collapsed": true
   },
   "outputs": [],
   "source": []
  },
  {
   "cell_type": "markdown",
   "metadata": {},
   "source": [
    "# 自己繪圖展示train, validation, test準確率"
   ]
  },
  {
   "cell_type": "code",
   "execution_count": 32,
   "metadata": {
    "collapsed": false
   },
   "outputs": [],
   "source": [
    "%matplotlib inline\n",
    "from keras.callbacks import Callback\n",
    "class LossHistory(Callback):\n",
    "    def on_train_begin(self, logs={}):\n",
    "        self.losses = []\n",
    "    def on_epoch_end(self,epoch, logs={}):\n",
    "        x, y = X_test, Y_test\n",
    "        lss, acc = self.model.evaluate(x, y, verbose=0)\n",
    "        #self.losses.append([logs.get('loss'),logs.get('acc'),logs.get('val_loss'),logs.get('val_acc'),lss, acc])\n",
    "        self.losses.append({'train_loss':logs.get('loss'),'train_metrics':logs.get('acc'),\n",
    "                            'val_loss':logs.get('val_loss'),'val_metrics':logs.get('val_acc'),\n",
    "                            'test_loss':lss,'test_metrics':acc,\n",
    "                           })\n",
    "        #trlss = logs.get('loss')\n",
    "        #tracc = logs.get('acc')\n",
    "        #valss = logs.get('val_loss')\n",
    "        #vaacc = logs.get('val_acc')\n",
    "        #print('\\nepochs:{}'.format(epoch))\n",
    "        #print('\\nTrain loss: {}, acc: {}'.format(trlss, tracc))\n",
    "        #print('\\nValidation loss: {}, acc: {}'.format(valss, vaacc)) \n",
    "        #print('\\nTesting loss: {}, acc: {}'.format(lss, acc))"
   ]
  },
  {
   "cell_type": "code",
   "execution_count": null,
   "metadata": {
    "collapsed": true
   },
   "outputs": [],
   "source": []
  },
  {
   "cell_type": "code",
   "execution_count": null,
   "metadata": {
    "collapsed": true
   },
   "outputs": [],
   "source": []
  },
  {
   "cell_type": "markdown",
   "metadata": {},
   "source": [
    "# LSTM"
   ]
  },
  {
   "cell_type": "code",
   "execution_count": 33,
   "metadata": {
    "collapsed": false
   },
   "outputs": [
    {
     "name": "stdout",
     "output_type": "stream",
     "text": [
      "_________________________________________________________________\n",
      "Layer (type)                 Output Shape              Param #   \n",
      "=================================================================\n",
      "embedding_1 (Embedding)      (None, 200, 10)           200000    \n",
      "_________________________________________________________________\n",
      "dropout_1 (Dropout)          (None, 200, 10)           0         \n",
      "_________________________________________________________________\n",
      "lstm_1 (LSTM)                (None, 16)                1728      \n",
      "_________________________________________________________________\n",
      "dense_1 (Dense)              (None, 128)               2176      \n",
      "_________________________________________________________________\n",
      "dropout_2 (Dropout)          (None, 128)               0         \n",
      "_________________________________________________________________\n",
      "activation_1 (Activation)    (None, 128)               0         \n",
      "_________________________________________________________________\n",
      "dense_2 (Dense)              (None, 1)                 129       \n",
      "_________________________________________________________________\n",
      "activation_2 (Activation)    (None, 1)                 0         \n",
      "=================================================================\n",
      "Total params: 204,033\n",
      "Trainable params: 204,033\n",
      "Non-trainable params: 0\n",
      "_________________________________________________________________\n"
     ]
    }
   ],
   "source": [
    "model = Sequential()\n",
    "model.add(Embedding(num_words, 10, input_length= 200))\n",
    "model.add(Dropout(0.5))\n",
    "\n",
    "model.add(LSTM(16,activation='relu'))\n",
    "\n",
    "model.add(Dense(128))\n",
    "model.add(Dropout(0.5))\n",
    "model.add(Activation('relu'))\n",
    "\n",
    "#model.add(GlobalAveragePooling1D())\n",
    "#model.add(Dense(1, activation='softmax'))\n",
    "\n",
    "model.add(Dense(1))\n",
    "model.add(Activation('sigmoid'))\n",
    "\n",
    "#詞嵌入 採用預訓練的 向量\n",
    "model.layers[0].set_weights([weights])\n",
    "model.layers[0].trainable = True\n",
    "\n",
    "#optim = Adam(lr=0.001, beta_1=0.9, beta_2=0.999, epsilon=1e-08, decay=0.0)\n",
    "\n",
    "model.compile(loss='binary_crossentropy', optimizer = 'Adam' , metrics=['accuracy'])\n",
    "model.summary()\n"
   ]
  },
  {
   "cell_type": "code",
   "execution_count": null,
   "metadata": {
    "collapsed": true
   },
   "outputs": [],
   "source": []
  },
  {
   "cell_type": "code",
   "execution_count": 34,
   "metadata": {
    "collapsed": false
   },
   "outputs": [
    {
     "name": "stdout",
     "output_type": "stream",
     "text": [
      "Train on 2162 samples, validate on 241 samples\n",
      "Epoch 1/10\n",
      "2162/2162 [==============================] - 19s 9ms/step - loss: 0.6916 - acc: 0.5370 - val_loss: 0.6875 - val_acc: 0.5353\n",
      "Epoch 2/10\n",
      "2162/2162 [==============================] - 14s 6ms/step - loss: 0.6835 - acc: 0.5648 - val_loss: 0.6721 - val_acc: 0.6183\n",
      "Epoch 3/10\n",
      "2162/2162 [==============================] - 15s 7ms/step - loss: 0.6612 - acc: 0.6115 - val_loss: 0.6494 - val_acc: 0.6515\n",
      "Epoch 4/10\n",
      "2162/2162 [==============================] - 13s 6ms/step - loss: 0.6261 - acc: 0.6822 - val_loss: 0.6181 - val_acc: 0.6888\n",
      "Epoch 5/10\n",
      "2162/2162 [==============================] - 13s 6ms/step - loss: 0.5598 - acc: 0.7368 - val_loss: 0.5486 - val_acc: 0.7344\n",
      "Epoch 6/10\n",
      "2162/2162 [==============================] - 13s 6ms/step - loss: 0.4648 - acc: 0.7974 - val_loss: 0.4923 - val_acc: 0.7718\n",
      "Epoch 7/10\n",
      "2162/2162 [==============================] - 13s 6ms/step - loss: 0.3936 - acc: 0.8279 - val_loss: 0.4685 - val_acc: 0.7842\n",
      "Epoch 8/10\n",
      "2162/2162 [==============================] - 13s 6ms/step - loss: 0.3479 - acc: 0.8515 - val_loss: 0.4670 - val_acc: 0.7967\n",
      "Epoch 9/10\n",
      "2162/2162 [==============================] - 13s 6ms/step - loss: 0.2991 - acc: 0.8733 - val_loss: 0.4805 - val_acc: 0.7842\n",
      "Epoch 10/10\n",
      "2162/2162 [==============================] - 13s 6ms/step - loss: 0.2639 - acc: 0.8996 - val_loss: 0.4882 - val_acc: 0.7884\n",
      "CPU times: user 3min 22s, sys: 3.4 s, total: 3min 25s\n",
      "Wall time: 4min 40s\n"
     ]
    }
   ],
   "source": [
    "%%time\n",
    "history = LossHistory()\n",
    "hist=model.fit(X_train, Y_train, batch_size= 32, epochs=10, validation_split=0.1, callbacks=[history])"
   ]
  },
  {
   "cell_type": "code",
   "execution_count": null,
   "metadata": {
    "collapsed": true
   },
   "outputs": [],
   "source": []
  },
  {
   "cell_type": "code",
   "execution_count": 35,
   "metadata": {
    "collapsed": true
   },
   "outputs": [],
   "source": [
    "hist_info = pd.DataFrame(history.losses)"
   ]
  },
  {
   "cell_type": "code",
   "execution_count": 36,
   "metadata": {
    "collapsed": false
   },
   "outputs": [
    {
     "data": {
      "text/html": [
       "<div>\n",
       "<table border=\"1\" class=\"dataframe\">\n",
       "  <thead>\n",
       "    <tr style=\"text-align: right;\">\n",
       "      <th></th>\n",
       "      <th>test_loss</th>\n",
       "      <th>test_metrics</th>\n",
       "      <th>train_loss</th>\n",
       "      <th>train_metrics</th>\n",
       "      <th>val_loss</th>\n",
       "      <th>val_metrics</th>\n",
       "    </tr>\n",
       "  </thead>\n",
       "  <tbody>\n",
       "    <tr>\n",
       "      <th>0</th>\n",
       "      <td>0.689059</td>\n",
       "      <td>0.533056</td>\n",
       "      <td>0.691567</td>\n",
       "      <td>0.537003</td>\n",
       "      <td>0.687479</td>\n",
       "      <td>0.535270</td>\n",
       "    </tr>\n",
       "    <tr>\n",
       "      <th>1</th>\n",
       "      <td>0.677020</td>\n",
       "      <td>0.586685</td>\n",
       "      <td>0.683455</td>\n",
       "      <td>0.564755</td>\n",
       "      <td>0.672102</td>\n",
       "      <td>0.618257</td>\n",
       "    </tr>\n",
       "    <tr>\n",
       "      <th>2</th>\n",
       "      <td>0.659080</td>\n",
       "      <td>0.624318</td>\n",
       "      <td>0.661169</td>\n",
       "      <td>0.611471</td>\n",
       "      <td>0.649441</td>\n",
       "      <td>0.651452</td>\n",
       "    </tr>\n",
       "    <tr>\n",
       "      <th>3</th>\n",
       "      <td>0.633040</td>\n",
       "      <td>0.656033</td>\n",
       "      <td>0.626149</td>\n",
       "      <td>0.682239</td>\n",
       "      <td>0.618071</td>\n",
       "      <td>0.688797</td>\n",
       "    </tr>\n",
       "    <tr>\n",
       "      <th>4</th>\n",
       "      <td>0.592428</td>\n",
       "      <td>0.683264</td>\n",
       "      <td>0.559764</td>\n",
       "      <td>0.736818</td>\n",
       "      <td>0.548611</td>\n",
       "      <td>0.734440</td>\n",
       "    </tr>\n",
       "    <tr>\n",
       "      <th>5</th>\n",
       "      <td>0.554869</td>\n",
       "      <td>0.714609</td>\n",
       "      <td>0.464846</td>\n",
       "      <td>0.797410</td>\n",
       "      <td>0.492260</td>\n",
       "      <td>0.771784</td>\n",
       "    </tr>\n",
       "    <tr>\n",
       "      <th>6</th>\n",
       "      <td>0.535823</td>\n",
       "      <td>0.743504</td>\n",
       "      <td>0.393647</td>\n",
       "      <td>0.827937</td>\n",
       "      <td>0.468466</td>\n",
       "      <td>0.784232</td>\n",
       "    </tr>\n",
       "    <tr>\n",
       "      <th>7</th>\n",
       "      <td>0.524675</td>\n",
       "      <td>0.755571</td>\n",
       "      <td>0.347893</td>\n",
       "      <td>0.851526</td>\n",
       "      <td>0.467022</td>\n",
       "      <td>0.796680</td>\n",
       "    </tr>\n",
       "    <tr>\n",
       "      <th>8</th>\n",
       "      <td>0.558632</td>\n",
       "      <td>0.735321</td>\n",
       "      <td>0.299063</td>\n",
       "      <td>0.873265</td>\n",
       "      <td>0.480493</td>\n",
       "      <td>0.784232</td>\n",
       "    </tr>\n",
       "    <tr>\n",
       "      <th>9</th>\n",
       "      <td>0.535412</td>\n",
       "      <td>0.768516</td>\n",
       "      <td>0.263898</td>\n",
       "      <td>0.899630</td>\n",
       "      <td>0.488170</td>\n",
       "      <td>0.788382</td>\n",
       "    </tr>\n",
       "  </tbody>\n",
       "</table>\n",
       "</div>"
      ],
      "text/plain": [
       "   test_loss  test_metrics  train_loss  train_metrics  val_loss  val_metrics\n",
       "0   0.689059      0.533056    0.691567       0.537003  0.687479     0.535270\n",
       "1   0.677020      0.586685    0.683455       0.564755  0.672102     0.618257\n",
       "2   0.659080      0.624318    0.661169       0.611471  0.649441     0.651452\n",
       "3   0.633040      0.656033    0.626149       0.682239  0.618071     0.688797\n",
       "4   0.592428      0.683264    0.559764       0.736818  0.548611     0.734440\n",
       "5   0.554869      0.714609    0.464846       0.797410  0.492260     0.771784\n",
       "6   0.535823      0.743504    0.393647       0.827937  0.468466     0.784232\n",
       "7   0.524675      0.755571    0.347893       0.851526  0.467022     0.796680\n",
       "8   0.558632      0.735321    0.299063       0.873265  0.480493     0.784232\n",
       "9   0.535412      0.768516    0.263898       0.899630  0.488170     0.788382"
      ]
     },
     "execution_count": 36,
     "metadata": {},
     "output_type": "execute_result"
    }
   ],
   "source": [
    "hist_info"
   ]
  },
  {
   "cell_type": "code",
   "execution_count": 37,
   "metadata": {
    "collapsed": false
   },
   "outputs": [
    {
     "data": {
      "text/plain": [
       "<matplotlib.axes._subplots.AxesSubplot at 0x7f9f4cbbbc88>"
      ]
     },
     "execution_count": 37,
     "metadata": {},
     "output_type": "execute_result"
    },
    {
     "data": {
      "image/png": "[encoded data removed]",
      "text/plain": [
       "<matplotlib.figure.Figure at 0x7f9f4cbca0f0>"
      ]
     },
     "metadata": {},
     "output_type": "display_data"
    }
   ],
   "source": [
    "hist_info[['train_loss','val_loss', 'test_loss']].plot()"
   ]
  },
  {
   "cell_type": "code",
   "execution_count": 38,
   "metadata": {
    "collapsed": false,
    "scrolled": false
   },
   "outputs": [
    {
     "data": {
      "text/plain": [
       "<matplotlib.axes._subplots.AxesSubplot at 0x7f9f4cb4e278>"
      ]
     },
     "execution_count": 38,
     "metadata": {},
     "output_type": "execute_result"
    },
    {
     "data": {
      "image/png": "[encoded data removed]",
      "text/plain": [
       "<matplotlib.figure.Figure at 0x7f9f4cb52550>"
      ]
     },
     "metadata": {},
     "output_type": "display_data"
    }
   ],
   "source": [
    "hist_info[['train_metrics', 'val_metrics','test_metrics',]].plot()"
   ]
  },
  {
   "cell_type": "code",
   "execution_count": null,
   "metadata": {
    "collapsed": true
   },
   "outputs": [],
   "source": []
  },
  {
   "cell_type": "code",
   "execution_count": null,
   "metadata": {
    "collapsed": true
   },
   "outputs": [],
   "source": []
  },
  {
   "cell_type": "code",
   "execution_count": null,
   "metadata": {
    "collapsed": true
   },
   "outputs": [],
   "source": []
  },
  {
   "cell_type": "markdown",
   "metadata": {},
   "source": [
    "# CNN"
   ]
  },
  {
   "cell_type": "code",
   "execution_count": 39,
   "metadata": {
    "collapsed": true
   },
   "outputs": [],
   "source": [
    "from keras.models import Sequential\n",
    "from keras.layers import Dense\n",
    "from keras.layers import Flatten\n",
    "from keras.layers.convolutional import Convolution1D\n",
    "from keras.layers.convolutional import MaxPooling1D\n",
    "from keras.layers.embeddings import Embedding\n",
    "from keras.layers.core import Dense, Dropout, Activation\n",
    "from keras import metrics\n",
    "#from keras.preprocessing import sequence"
   ]
  },
  {
   "cell_type": "code",
   "execution_count": 40,
   "metadata": {
    "_cell_guid": "b8f524ba-611f-67b9-5973-e1d3d7b3ee08",
    "collapsed": false
   },
   "outputs": [
    {
     "name": "stdout",
     "output_type": "stream",
     "text": [
      "_________________________________________________________________\n",
      "Layer (type)                 Output Shape              Param #   \n",
      "=================================================================\n",
      "embedding_2 (Embedding)      (None, 200, 10)           200000    \n",
      "_________________________________________________________________\n",
      "conv1d_1 (Conv1D)            (None, 198, 250)          7750      \n",
      "_________________________________________________________________\n",
      "max_pooling1d_1 (MaxPooling1 (None, 99, 250)           0         \n",
      "_________________________________________________________________\n",
      "flatten_1 (Flatten)          (None, 24750)             0         \n",
      "_________________________________________________________________\n",
      "dense_3 (Dense)              (None, 250)               6187750   \n",
      "_________________________________________________________________\n",
      "dropout_3 (Dropout)          (None, 250)               0         \n",
      "_________________________________________________________________\n",
      "activation_3 (Activation)    (None, 250)               0         \n",
      "_________________________________________________________________\n",
      "dense_4 (Dense)              (None, 1)                 251       \n",
      "_________________________________________________________________\n",
      "activation_4 (Activation)    (None, 1)                 0         \n",
      "=================================================================\n",
      "Total params: 6,395,751\n",
      "Trainable params: 6,395,751\n",
      "Non-trainable params: 0\n",
      "_________________________________________________________________\n"
     ]
    }
   ],
   "source": [
    "#nb_classes = 2\n",
    "\n",
    "model = Sequential()\n",
    "model.add(Embedding(num_words, 10, input_length= 200))\n",
    "model.add(Convolution1D(activation=\"relu\", filters=250, kernel_size=3, strides=1, padding=\"valid\"))\n",
    "model.add(MaxPooling1D(pool_size = 2))\n",
    "model.add(Flatten())\n",
    "model.add(Dense(250)) \n",
    "model.add(Dropout(0.2)) \n",
    "model.add(Activation('relu'))\n",
    "model.add(Dense(1))\n",
    "model.add(Activation('sigmoid'))\n",
    "\n",
    "#詞嵌入 採用預訓練的 向量\n",
    "model.layers[0].set_weights([weights])\n",
    "model.layers[0].trainable = True\n",
    "\n",
    "#optim = Adam(lr=0.001, beta_1=0.9, beta_2=0.999, epsilon=1e-08, decay=0.0)\n",
    "\n",
    "model.compile(loss='binary_crossentropy', optimizer = 'Adam' , metrics=['accuracy'])\n",
    "model.summary()"
   ]
  },
  {
   "cell_type": "code",
   "execution_count": null,
   "metadata": {
    "collapsed": true
   },
   "outputs": [],
   "source": []
  },
  {
   "cell_type": "code",
   "execution_count": 41,
   "metadata": {
    "collapsed": false
   },
   "outputs": [
    {
     "name": "stdout",
     "output_type": "stream",
     "text": [
      "Train on 2162 samples, validate on 241 samples\n",
      "Epoch 1/10\n",
      "2162/2162 [==============================] - 12s 6ms/step - loss: 0.7233 - acc: 0.5342 - val_loss: 0.6820 - val_acc: 0.5934\n",
      "Epoch 2/10\n",
      "2162/2162 [==============================] - 14s 7ms/step - loss: 0.6357 - acc: 0.6485 - val_loss: 0.5995 - val_acc: 0.6971\n",
      "Epoch 3/10\n",
      "2162/2162 [==============================] - 12s 6ms/step - loss: 0.4637 - acc: 0.7891 - val_loss: 0.5484 - val_acc: 0.7510\n",
      "Epoch 4/10\n",
      "2162/2162 [==============================] - 15s 7ms/step - loss: 0.2795 - acc: 0.8862 - val_loss: 0.5418 - val_acc: 0.7552\n",
      "Epoch 5/10\n",
      "2162/2162 [==============================] - 17s 8ms/step - loss: 0.1541 - acc: 0.9408 - val_loss: 0.6408 - val_acc: 0.7676\n",
      "Epoch 6/10\n",
      "2162/2162 [==============================] - 19s 9ms/step - loss: 0.0897 - acc: 0.9722 - val_loss: 0.7570 - val_acc: 0.7759\n",
      "Epoch 7/10\n",
      "2162/2162 [==============================] - 16s 8ms/step - loss: 0.0503 - acc: 0.9852 - val_loss: 0.9055 - val_acc: 0.7510\n",
      "Epoch 8/10\n",
      "2162/2162 [==============================] - 16s 7ms/step - loss: 0.0364 - acc: 0.9898 - val_loss: 0.9657 - val_acc: 0.7510\n",
      "Epoch 9/10\n",
      "2162/2162 [==============================] - 14s 7ms/step - loss: 0.0212 - acc: 0.9954 - val_loss: 1.0740 - val_acc: 0.7718\n",
      "Epoch 10/10\n",
      "2162/2162 [==============================] - 14s 7ms/step - loss: 0.0163 - acc: 0.9944 - val_loss: 1.1428 - val_acc: 0.7552\n",
      "CPU times: user 3min 10s, sys: 25.4 s, total: 3min 35s\n",
      "Wall time: 5min 15s\n"
     ]
    }
   ],
   "source": [
    "%%time\n",
    "history = LossHistory()\n",
    "hist=model.fit(X_train, Y_train, batch_size= 32, epochs=10, validation_split=0.1, callbacks=[history])"
   ]
  },
  {
   "cell_type": "code",
   "execution_count": null,
   "metadata": {
    "collapsed": true
   },
   "outputs": [],
   "source": []
  },
  {
   "cell_type": "code",
   "execution_count": 42,
   "metadata": {
    "collapsed": true
   },
   "outputs": [],
   "source": [
    "hist_info = pd.DataFrame(history.losses)"
   ]
  },
  {
   "cell_type": "code",
   "execution_count": 43,
   "metadata": {
    "collapsed": false
   },
   "outputs": [
    {
     "data": {
      "text/html": [
       "<div>\n",
       "<table border=\"1\" class=\"dataframe\">\n",
       "  <thead>\n",
       "    <tr style=\"text-align: right;\">\n",
       "      <th></th>\n",
       "      <th>test_loss</th>\n",
       "      <th>test_metrics</th>\n",
       "      <th>train_loss</th>\n",
       "      <th>train_metrics</th>\n",
       "      <th>val_loss</th>\n",
       "      <th>val_metrics</th>\n",
       "    </tr>\n",
       "  </thead>\n",
       "  <tbody>\n",
       "    <tr>\n",
       "      <th>0</th>\n",
       "      <td>0.681573</td>\n",
       "      <td>0.577161</td>\n",
       "      <td>0.723295</td>\n",
       "      <td>0.534228</td>\n",
       "      <td>0.681987</td>\n",
       "      <td>0.593361</td>\n",
       "    </tr>\n",
       "    <tr>\n",
       "      <th>1</th>\n",
       "      <td>0.623879</td>\n",
       "      <td>0.656126</td>\n",
       "      <td>0.635743</td>\n",
       "      <td>0.648474</td>\n",
       "      <td>0.599527</td>\n",
       "      <td>0.697095</td>\n",
       "    </tr>\n",
       "    <tr>\n",
       "      <th>2</th>\n",
       "      <td>0.556434</td>\n",
       "      <td>0.724179</td>\n",
       "      <td>0.463667</td>\n",
       "      <td>0.789084</td>\n",
       "      <td>0.548413</td>\n",
       "      <td>0.751037</td>\n",
       "    </tr>\n",
       "    <tr>\n",
       "      <th>3</th>\n",
       "      <td>0.568611</td>\n",
       "      <td>0.756865</td>\n",
       "      <td>0.279459</td>\n",
       "      <td>0.886216</td>\n",
       "      <td>0.541846</td>\n",
       "      <td>0.755187</td>\n",
       "    </tr>\n",
       "    <tr>\n",
       "      <th>4</th>\n",
       "      <td>0.645951</td>\n",
       "      <td>0.765557</td>\n",
       "      <td>0.154090</td>\n",
       "      <td>0.940796</td>\n",
       "      <td>0.640773</td>\n",
       "      <td>0.767635</td>\n",
       "    </tr>\n",
       "    <tr>\n",
       "      <th>5</th>\n",
       "      <td>0.766842</td>\n",
       "      <td>0.754785</td>\n",
       "      <td>0.089670</td>\n",
       "      <td>0.972248</td>\n",
       "      <td>0.757020</td>\n",
       "      <td>0.775934</td>\n",
       "    </tr>\n",
       "    <tr>\n",
       "      <th>6</th>\n",
       "      <td>0.855979</td>\n",
       "      <td>0.765141</td>\n",
       "      <td>0.050284</td>\n",
       "      <td>0.985199</td>\n",
       "      <td>0.905525</td>\n",
       "      <td>0.751037</td>\n",
       "    </tr>\n",
       "    <tr>\n",
       "      <th>7</th>\n",
       "      <td>0.934349</td>\n",
       "      <td>0.757004</td>\n",
       "      <td>0.036373</td>\n",
       "      <td>0.989824</td>\n",
       "      <td>0.965655</td>\n",
       "      <td>0.751037</td>\n",
       "    </tr>\n",
       "    <tr>\n",
       "      <th>8</th>\n",
       "      <td>1.049136</td>\n",
       "      <td>0.761165</td>\n",
       "      <td>0.021233</td>\n",
       "      <td>0.995375</td>\n",
       "      <td>1.074024</td>\n",
       "      <td>0.771784</td>\n",
       "    </tr>\n",
       "    <tr>\n",
       "      <th>9</th>\n",
       "      <td>1.129418</td>\n",
       "      <td>0.759270</td>\n",
       "      <td>0.016287</td>\n",
       "      <td>0.994450</td>\n",
       "      <td>1.142845</td>\n",
       "      <td>0.755187</td>\n",
       "    </tr>\n",
       "  </tbody>\n",
       "</table>\n",
       "</div>"
      ],
      "text/plain": [
       "   test_loss  test_metrics  train_loss  train_metrics  val_loss  val_metrics\n",
       "0   0.681573      0.577161    0.723295       0.534228  0.681987     0.593361\n",
       "1   0.623879      0.656126    0.635743       0.648474  0.599527     0.697095\n",
       "2   0.556434      0.724179    0.463667       0.789084  0.548413     0.751037\n",
       "3   0.568611      0.756865    0.279459       0.886216  0.541846     0.755187\n",
       "4   0.645951      0.765557    0.154090       0.940796  0.640773     0.767635\n",
       "5   0.766842      0.754785    0.089670       0.972248  0.757020     0.775934\n",
       "6   0.855979      0.765141    0.050284       0.985199  0.905525     0.751037\n",
       "7   0.934349      0.757004    0.036373       0.989824  0.965655     0.751037\n",
       "8   1.049136      0.761165    0.021233       0.995375  1.074024     0.771784\n",
       "9   1.129418      0.759270    0.016287       0.994450  1.142845     0.755187"
      ]
     },
     "execution_count": 43,
     "metadata": {},
     "output_type": "execute_result"
    }
   ],
   "source": [
    "hist_info"
   ]
  },
  {
   "cell_type": "code",
   "execution_count": 44,
   "metadata": {
    "collapsed": false
   },
   "outputs": [
    {
     "data": {
      "text/plain": [
       "<matplotlib.axes._subplots.AxesSubplot at 0x7f9f4cc8a710>"
      ]
     },
     "execution_count": 44,
     "metadata": {},
     "output_type": "execute_result"
    },
    {
     "data": {
      "image/png": "[encoded data removed]",
      "text/plain": [
       "<matplotlib.figure.Figure at 0x7f9f4cc8aa58>"
      ]
     },
     "metadata": {},
     "output_type": "display_data"
    }
   ],
   "source": [
    "hist_info[['train_loss','val_loss', 'test_loss']].plot()"
   ]
  },
  {
   "cell_type": "code",
   "execution_count": 45,
   "metadata": {
    "collapsed": false,
    "scrolled": true
   },
   "outputs": [
    {
     "data": {
      "text/plain": [
       "<matplotlib.axes._subplots.AxesSubplot at 0x7f9f4494e668>"
      ]
     },
     "execution_count": 45,
     "metadata": {},
     "output_type": "execute_result"
    },
    {
     "data": {
      "image/png": "[encoded data removed]",
      "text/plain": [
       "<matplotlib.figure.Figure at 0x7f9f449499b0>"
      ]
     },
     "metadata": {},
     "output_type": "display_data"
    }
   ],
   "source": [
    "hist_info[['train_metrics', 'val_metrics','test_metrics',]].plot()"
   ]
  },
  {
   "cell_type": "code",
   "execution_count": null,
   "metadata": {
    "collapsed": true
   },
   "outputs": [],
   "source": []
  },
  {
   "cell_type": "code",
   "execution_count": null,
   "metadata": {
    "collapsed": true
   },
   "outputs": [],
   "source": []
  },
  {
   "cell_type": "code",
   "execution_count": null,
   "metadata": {
    "collapsed": true
   },
   "outputs": [],
   "source": []
  }
 ],
 "metadata": {
  "kernelspec": {
   "display_name": "Python 3",
   "language": "python",
   "name": "python3"
  },
  "language_info": {
   "codemirror_mode": {
    "name": "ipython",
    "version": 3
   },
   "file_extension": ".py",
   "mimetype": "text/x-python",
   "name": "python",
   "nbconvert_exporter": "python",
   "pygments_lexer": "ipython3",
   "version": "3.5.2"
  }
 },
 "nbformat": 4,
 "nbformat_minor": 2
}
