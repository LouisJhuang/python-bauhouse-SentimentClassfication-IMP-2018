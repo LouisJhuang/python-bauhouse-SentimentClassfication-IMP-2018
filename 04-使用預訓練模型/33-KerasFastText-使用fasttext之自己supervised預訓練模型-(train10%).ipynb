{
 "cells": [
  {
   "cell_type": "markdown",
   "metadata": {},
   "source": [
    "# 使用遷移學習Transfer Learning Sentiment analysis\n",
    "\n",
    "# KerasFastText-使用fasttext之自己supervised預訓練模型-(train10%)"
   ]
  },
  {
   "cell_type": "code",
   "execution_count": null,
   "metadata": {
    "collapsed": true
   },
   "outputs": [],
   "source": [
    " "
   ]
  },
  {
   "cell_type": "code",
   "execution_count": null,
   "metadata": {
    "collapsed": true
   },
   "outputs": [],
   "source": []
  },
  {
   "cell_type": "code",
   "execution_count": 1,
   "metadata": {
    "collapsed": false,
    "scrolled": true
   },
   "outputs": [
    {
     "name": "stderr",
     "output_type": "stream",
     "text": [
      "Using TensorFlow backend.\n"
     ]
    }
   ],
   "source": [
    "import copy\n",
    "import numpy as np\n",
    "import pandas as pd\n",
    "# import matplotlib.pyplot as plt\n",
    "import sys\n",
    "import os\n",
    "import re\n",
    "\n",
    "# from __future__ import print_function\n",
    "import numpy as np\n",
    "np.random.seed(1337)  # for reproducibility\n",
    "\n",
    "from keras.models import Sequential\n",
    "from keras.layers import Dense, Dropout, Activation, Flatten, GlobalAveragePooling1D\n",
    "from keras.optimizers import SGD, RMSprop\n",
    "from keras.utils import np_utils\n",
    "from keras.layers.convolutional import Convolution1D, MaxPooling1D, ZeroPadding1D, AveragePooling1D\n",
    "from keras.callbacks import EarlyStopping\n",
    "from keras.layers.normalization import BatchNormalization\n",
    "from keras.preprocessing import sequence\n",
    "from keras.layers.embeddings import Embedding\n",
    "from keras.layers.recurrent import SimpleRNN, LSTM, GRU\n",
    "from keras.layers.wrappers import TimeDistributed\n",
    "from keras.preprocessing.text import Tokenizer\n",
    "from keras.callbacks import Callback\n",
    "from keras.optimizers import *"
   ]
  },
  {
   "cell_type": "code",
   "execution_count": null,
   "metadata": {
    "collapsed": true
   },
   "outputs": [],
   "source": []
  },
  {
   "cell_type": "code",
   "execution_count": null,
   "metadata": {
    "collapsed": true
   },
   "outputs": [],
   "source": []
  },
  {
   "cell_type": "markdown",
   "metadata": {
    "collapsed": true
   },
   "source": [
    "# Hotel data格式前處理\n",
    "\n",
    "透過clean_dataset整理資料\n",
    "\n",
    "label必須編碼為0,1,2,3,.."
   ]
  },
  {
   "cell_type": "code",
   "execution_count": 2,
   "metadata": {
    "collapsed": true
   },
   "outputs": [],
   "source": [
    "import pandas as pd"
   ]
  },
  {
   "cell_type": "code",
   "execution_count": 3,
   "metadata": {
    "collapsed": true
   },
   "outputs": [],
   "source": [
    "data=pd.read_csv('./data/hotel_data.csv',encoding='utf8')\n",
    "data = data[['text','polarity']]"
   ]
  },
  {
   "cell_type": "code",
   "execution_count": 4,
   "metadata": {
    "collapsed": false
   },
   "outputs": [
    {
     "data": {
      "text/html": [
       "<div>\n",
       "<table border=\"1\" class=\"dataframe\">\n",
       "  <thead>\n",
       "    <tr style=\"text-align: right;\">\n",
       "      <th></th>\n",
       "      <th>text</th>\n",
       "      <th>polarity</th>\n",
       "    </tr>\n",
       "  </thead>\n",
       "  <tbody>\n",
       "    <tr>\n",
       "      <th>0</th>\n",
       "      <td>My daughter and I just returned from a four ni...</td>\n",
       "      <td>NEGATIVE</td>\n",
       "    </tr>\n",
       "    <tr>\n",
       "      <th>1</th>\n",
       "      <td>I had searched for a good hotel at a rate of u...</td>\n",
       "      <td>OBJECTIVE</td>\n",
       "    </tr>\n",
       "    <tr>\n",
       "      <th>2</th>\n",
       "      <td>Big mistake.</td>\n",
       "      <td>NEGATIVE</td>\n",
       "    </tr>\n",
       "    <tr>\n",
       "      <th>3</th>\n",
       "      <td>Our room was tiny,</td>\n",
       "      <td>NEGATIVE</td>\n",
       "    </tr>\n",
       "    <tr>\n",
       "      <th>4</th>\n",
       "      <td>and the bath was small too.</td>\n",
       "      <td>NEGATIVE</td>\n",
       "    </tr>\n",
       "    <tr>\n",
       "      <th>5</th>\n",
       "      <td>The public areas were somewhat dingy and showe...</td>\n",
       "      <td>NEGATIVE</td>\n",
       "    </tr>\n",
       "    <tr>\n",
       "      <th>6</th>\n",
       "      <td>Even the bath towels were worn and becoming st...</td>\n",
       "      <td>NEGATIVE</td>\n",
       "    </tr>\n",
       "    <tr>\n",
       "      <th>7</th>\n",
       "      <td>Speaking of such, the maid did not replace sha...</td>\n",
       "      <td>NEGATIVE</td>\n",
       "    </tr>\n",
       "    <tr>\n",
       "      <th>8</th>\n",
       "      <td>You had to put a sign on the bed if you wanted...</td>\n",
       "      <td>NEGATIVE</td>\n",
       "    </tr>\n",
       "    <tr>\n",
       "      <th>9</th>\n",
       "      <td>The minibar was one of the kind that you have ...</td>\n",
       "      <td>NEGATIVE</td>\n",
       "    </tr>\n",
       "  </tbody>\n",
       "</table>\n",
       "</div>"
      ],
      "text/plain": [
       "                                                text   polarity\n",
       "0  My daughter and I just returned from a four ni...   NEGATIVE\n",
       "1  I had searched for a good hotel at a rate of u...  OBJECTIVE\n",
       "2                                       Big mistake.   NEGATIVE\n",
       "3                                 Our room was tiny,   NEGATIVE\n",
       "4                        and the bath was small too.   NEGATIVE\n",
       "5  The public areas were somewhat dingy and showe...   NEGATIVE\n",
       "6  Even the bath towels were worn and becoming st...   NEGATIVE\n",
       "7  Speaking of such, the maid did not replace sha...   NEGATIVE\n",
       "8  You had to put a sign on the bed if you wanted...   NEGATIVE\n",
       "9  The minibar was one of the kind that you have ...   NEGATIVE"
      ]
     },
     "execution_count": 4,
     "metadata": {},
     "output_type": "execute_result"
    }
   ],
   "source": [
    "data.head(10)"
   ]
  },
  {
   "cell_type": "code",
   "execution_count": 5,
   "metadata": {
    "collapsed": false
   },
   "outputs": [
    {
     "name": "stdout",
     "output_type": "stream",
     "text": [
      "23046\n",
      "25020\n",
      "15200\n"
     ]
    }
   ],
   "source": [
    "print(data[ data['polarity'] == 'POSITIVE'].size)\n",
    "print(data[ data['polarity'] == 'NEGATIVE'].size)\n",
    "print(data[ data['polarity'] == 'OBJECTIVE'].size)"
   ]
  },
  {
   "cell_type": "code",
   "execution_count": null,
   "metadata": {
    "collapsed": true
   },
   "outputs": [],
   "source": []
  },
  {
   "cell_type": "code",
   "execution_count": 6,
   "metadata": {
    "collapsed": true
   },
   "outputs": [],
   "source": [
    "data = data[ (data['polarity'] == 'POSITIVE') |(data['polarity'] == 'NEGATIVE')]"
   ]
  },
  {
   "cell_type": "code",
   "execution_count": 7,
   "metadata": {
    "collapsed": false
   },
   "outputs": [
    {
     "name": "stdout",
     "output_type": "stream",
     "text": [
      "23046\n",
      "25020\n",
      "0\n"
     ]
    }
   ],
   "source": [
    "print(data[ data['polarity'] == 'POSITIVE'].size)\n",
    "print(data[ data['polarity'] == 'NEGATIVE'].size)\n",
    "print(data[ data['polarity'] == 'OBJECTIVE'].size)"
   ]
  },
  {
   "cell_type": "code",
   "execution_count": null,
   "metadata": {
    "collapsed": true
   },
   "outputs": [],
   "source": []
  },
  {
   "cell_type": "code",
   "execution_count": 8,
   "metadata": {
    "collapsed": true
   },
   "outputs": [],
   "source": [
    "data['polarity'] = data['polarity'].replace({'POSITIVE': 1, 'NEGATIVE': 0})"
   ]
  },
  {
   "cell_type": "code",
   "execution_count": null,
   "metadata": {
    "collapsed": true
   },
   "outputs": [],
   "source": []
  },
  {
   "cell_type": "code",
   "execution_count": 9,
   "metadata": {
    "collapsed": true
   },
   "outputs": [],
   "source": [
    "data = data.rename(columns={'polarity':'label'})"
   ]
  },
  {
   "cell_type": "code",
   "execution_count": null,
   "metadata": {
    "collapsed": true
   },
   "outputs": [],
   "source": []
  },
  {
   "cell_type": "code",
   "execution_count": 10,
   "metadata": {
    "collapsed": false
   },
   "outputs": [
    {
     "data": {
      "text/html": [
       "<div>\n",
       "<table border=\"1\" class=\"dataframe\">\n",
       "  <thead>\n",
       "    <tr style=\"text-align: right;\">\n",
       "      <th></th>\n",
       "      <th>text</th>\n",
       "      <th>label</th>\n",
       "    </tr>\n",
       "  </thead>\n",
       "  <tbody>\n",
       "    <tr>\n",
       "      <th>0</th>\n",
       "      <td>My daughter and I just returned from a four ni...</td>\n",
       "      <td>0</td>\n",
       "    </tr>\n",
       "    <tr>\n",
       "      <th>2</th>\n",
       "      <td>Big mistake.</td>\n",
       "      <td>0</td>\n",
       "    </tr>\n",
       "    <tr>\n",
       "      <th>3</th>\n",
       "      <td>Our room was tiny,</td>\n",
       "      <td>0</td>\n",
       "    </tr>\n",
       "  </tbody>\n",
       "</table>\n",
       "</div>"
      ],
      "text/plain": [
       "                                                text  label\n",
       "0  My daughter and I just returned from a four ni...      0\n",
       "2                                       Big mistake.      0\n",
       "3                                 Our room was tiny,      0"
      ]
     },
     "execution_count": 10,
     "metadata": {},
     "output_type": "execute_result"
    }
   ],
   "source": [
    "data.head(3)"
   ]
  },
  {
   "cell_type": "code",
   "execution_count": null,
   "metadata": {
    "collapsed": true
   },
   "outputs": [],
   "source": []
  },
  {
   "cell_type": "code",
   "execution_count": null,
   "metadata": {
    "collapsed": true
   },
   "outputs": [],
   "source": []
  },
  {
   "cell_type": "code",
   "execution_count": 11,
   "metadata": {
    "collapsed": false
   },
   "outputs": [
    {
     "name": "stderr",
     "output_type": "stream",
     "text": [
      "/opt/conda/lib/python3.5/importlib/_bootstrap.py:222: RuntimeWarning: numpy.dtype size changed, may indicate binary incompatibility. Expected 96, got 88\n",
      "  return f(*args, **kwds)\n",
      "/opt/conda/lib/python3.5/importlib/_bootstrap.py:222: RuntimeWarning: numpy.dtype size changed, may indicate binary incompatibility. Expected 96, got 88\n",
      "  return f(*args, **kwds)\n"
     ]
    }
   ],
   "source": [
    "## 切資料\n",
    "\n",
    "from sklearn.model_selection import train_test_split\n",
    "\n",
    "X_train_, X_test_, Y_train, Y_test = \\\n",
    "    train_test_split( data['text'], data['label'], test_size=0.9, random_state=42, stratify = data['label'])"
   ]
  },
  {
   "cell_type": "code",
   "execution_count": null,
   "metadata": {
    "collapsed": true
   },
   "outputs": [],
   "source": []
  },
  {
   "cell_type": "code",
   "execution_count": 12,
   "metadata": {
    "collapsed": true
   },
   "outputs": [],
   "source": [
    "input_text = data['text']"
   ]
  },
  {
   "cell_type": "code",
   "execution_count": 13,
   "metadata": {
    "collapsed": false,
    "scrolled": true
   },
   "outputs": [
    {
     "data": {
      "text/plain": [
       "0    My daughter and I just returned from a four ni...\n",
       "2                                         Big mistake.\n",
       "Name: text, dtype: object"
      ]
     },
     "execution_count": 13,
     "metadata": {},
     "output_type": "execute_result"
    }
   ],
   "source": [
    "input_text[0:2]"
   ]
  },
  {
   "cell_type": "code",
   "execution_count": 14,
   "metadata": {
    "collapsed": false,
    "scrolled": false
   },
   "outputs": [
    {
     "data": {
      "text/plain": [
       "(24033,)"
      ]
     },
     "execution_count": 14,
     "metadata": {},
     "output_type": "execute_result"
    }
   ],
   "source": [
    "input_text.shape"
   ]
  },
  {
   "cell_type": "code",
   "execution_count": null,
   "metadata": {
    "collapsed": true
   },
   "outputs": [],
   "source": []
  },
  {
   "cell_type": "code",
   "execution_count": 15,
   "metadata": {
    "collapsed": true
   },
   "outputs": [],
   "source": [
    "# 20000\n",
    "num_words = 20000\n",
    "tok = Tokenizer(num_words)\n",
    "tok.fit_on_texts(input_text)"
   ]
  },
  {
   "cell_type": "code",
   "execution_count": 16,
   "metadata": {
    "collapsed": false
   },
   "outputs": [
    {
     "data": {
      "text/plain": [
       "13117"
      ]
     },
     "execution_count": 16,
     "metadata": {},
     "output_type": "execute_result"
    }
   ],
   "source": [
    "len(tok.word_index)"
   ]
  },
  {
   "cell_type": "code",
   "execution_count": null,
   "metadata": {
    "collapsed": true
   },
   "outputs": [],
   "source": []
  },
  {
   "cell_type": "code",
   "execution_count": 17,
   "metadata": {
    "collapsed": true
   },
   "outputs": [],
   "source": [
    "X_train = tok.texts_to_sequences(X_train_)\n",
    "X_test  = tok.texts_to_sequences(X_test_)\n",
    "\n",
    "X_train = sequence.pad_sequences(X_train, maxlen=200)\n",
    "X_test  = sequence.pad_sequences(X_test,  maxlen=200)"
   ]
  },
  {
   "cell_type": "code",
   "execution_count": 18,
   "metadata": {
    "collapsed": false,
    "scrolled": true
   },
   "outputs": [
    {
     "data": {
      "text/plain": [
       "array([   0,    0,    0,    0,    0,    0,    0,    0,    0,    0,    0,\n",
       "          0,    0,    0,    0,    0,    0,    0,    0,    0,    0,    0,\n",
       "          0,    0,    0,    0,    0,    0,    0,    0,    0,    0,    0,\n",
       "          0,    0,    0,    0,    0,    0,    0,    0,    0,    0,    0,\n",
       "          0,    0,    0,    0,    0,    0,    0,    0,    0,    0,    0,\n",
       "          0,    0,    0,    0,    0,    0,    0,    0,    0,    0,    0,\n",
       "          0,    0,    0,    0,    0,    0,    0,    0,    0,    0,    0,\n",
       "          0,    0,    0,    0,    0,    0,    0,    0,    0,    0,    0,\n",
       "          0,    0,    0,    0,    0,    0,    0,    0,    0,    0,    0,\n",
       "          0,    0,    0,    0,    0,    0,    0,    0,    0,    0,    0,\n",
       "          0,    0,    0,    0,    0,    0,    0,    0,    0,    0,    0,\n",
       "          0,    0,    0,    0,    0,    0,    0,    0,    0,    0,    0,\n",
       "          0,    0,    0,    0,    0,    0,    0,    0,    0,    0,    0,\n",
       "          0,    0,    0,    0,    0,    0,    0,    0,    0,    0,    0,\n",
       "          0,    0,    0,    0,    0,    0,    0,    0,    0,    0,    0,\n",
       "          0,    0,    0,    0,    0,    0,    0,    0,    0,    0,    0,\n",
       "          0,    0,    0,    0,    0,    0,    0,    0,    0,    0,    0,\n",
       "          0,    0,    0,    0,    0,    0,    1,  290,  417,   15, 1040,\n",
       "          1,  441], dtype=int32)"
      ]
     },
     "execution_count": 18,
     "metadata": {},
     "output_type": "execute_result"
    }
   ],
   "source": [
    "X_train[0]"
   ]
  },
  {
   "cell_type": "code",
   "execution_count": 19,
   "metadata": {
    "collapsed": false
   },
   "outputs": [
    {
     "data": {
      "text/plain": [
       "2403"
      ]
     },
     "execution_count": 19,
     "metadata": {},
     "output_type": "execute_result"
    }
   ],
   "source": [
    "len(X_train)"
   ]
  },
  {
   "cell_type": "code",
   "execution_count": 20,
   "metadata": {
    "collapsed": false
   },
   "outputs": [
    {
     "data": {
      "text/plain": [
       "20392    0\n",
       "30521    1\n",
       "17683    0\n",
       "22017    1\n",
       "25671    1\n",
       "18700    1\n",
       "16839    0\n",
       "9898     1\n",
       "22673    0\n",
       "13941    1\n",
       "Name: label, dtype: int64"
      ]
     },
     "execution_count": 20,
     "metadata": {},
     "output_type": "execute_result"
    }
   ],
   "source": [
    "Y_train[0:10]"
   ]
  },
  {
   "cell_type": "code",
   "execution_count": 21,
   "metadata": {
    "collapsed": false
   },
   "outputs": [
    {
     "data": {
      "text/plain": [
       "2403"
      ]
     },
     "execution_count": 21,
     "metadata": {},
     "output_type": "execute_result"
    }
   ],
   "source": [
    "len(Y_train)"
   ]
  },
  {
   "cell_type": "code",
   "execution_count": 22,
   "metadata": {
    "collapsed": false
   },
   "outputs": [
    {
     "data": {
      "text/plain": [
       "20392    0\n",
       "30521    1\n",
       "17683    0\n",
       "22017    1\n",
       "25671    1\n",
       "18700    1\n",
       "16839    0\n",
       "9898     1\n",
       "22673    0\n",
       "13941    1\n",
       "8418     1\n",
       "6709     0\n",
       "8868     1\n",
       "2065     1\n",
       "20013    0\n",
       "30917    1\n",
       "16172    1\n",
       "20002    0\n",
       "1812     0\n",
       "31252    0\n",
       "5734     1\n",
       "3444     1\n",
       "20024    1\n",
       "10607    0\n",
       "22331    0\n",
       "30522    1\n",
       "2410     0\n",
       "3102     0\n",
       "10281    0\n",
       "4172     1\n",
       "        ..\n",
       "1021     0\n",
       "6491     1\n",
       "24381    0\n",
       "2318     0\n",
       "6094     1\n",
       "4431     0\n",
       "14413    0\n",
       "26523    1\n",
       "6246     1\n",
       "4036     1\n",
       "17774    1\n",
       "21125    1\n",
       "3784     1\n",
       "12492    1\n",
       "28478    0\n",
       "10073    0\n",
       "23684    0\n",
       "4125     0\n",
       "722      0\n",
       "6606     1\n",
       "25684    0\n",
       "3718     0\n",
       "24048    1\n",
       "16080    0\n",
       "24132    0\n",
       "6030     0\n",
       "6905     0\n",
       "1743     1\n",
       "19235    0\n",
       "26496    1\n",
       "Name: label, dtype: int64"
      ]
     },
     "execution_count": 22,
     "metadata": {},
     "output_type": "execute_result"
    }
   ],
   "source": [
    "Y_train"
   ]
  },
  {
   "cell_type": "code",
   "execution_count": null,
   "metadata": {
    "collapsed": true
   },
   "outputs": [],
   "source": []
  },
  {
   "cell_type": "markdown",
   "metadata": {},
   "source": [
    "# 預先訓練好的詞向量在這裡讀"
   ]
  },
  {
   "cell_type": "code",
   "execution_count": 23,
   "metadata": {
    "collapsed": true
   },
   "outputs": [],
   "source": [
    "from pyfasttext import FastText"
   ]
  },
  {
   "cell_type": "code",
   "execution_count": 24,
   "metadata": {
    "collapsed": false
   },
   "outputs": [],
   "source": [
    "fasttext_model = FastText('./model/skip_model_13.bin')"
   ]
  },
  {
   "cell_type": "code",
   "execution_count": 25,
   "metadata": {
    "collapsed": true
   },
   "outputs": [],
   "source": [
    "words = []\n",
    "for iter in range(num_words):\n",
    "    words += [key for key,value in tok.word_index.items() if value==iter+1]"
   ]
  },
  {
   "cell_type": "code",
   "execution_count": 26,
   "metadata": {
    "collapsed": false,
    "scrolled": true
   },
   "outputs": [
    {
     "data": {
      "text/plain": [
       "13117"
      ]
     },
     "execution_count": 26,
     "metadata": {},
     "output_type": "execute_result"
    }
   ],
   "source": [
    "words[:10]\n",
    "\n",
    "len(words)"
   ]
  },
  {
   "cell_type": "code",
   "execution_count": null,
   "metadata": {
    "collapsed": true
   },
   "outputs": [],
   "source": []
  },
  {
   "cell_type": "code",
   "execution_count": 27,
   "metadata": {
    "collapsed": true
   },
   "outputs": [],
   "source": [
    "weights = np.zeros((num_words,10))\n",
    "count=0\n",
    "for idx, w in enumerate(words):\n",
    "    try:\n",
    "        weights[idx,:] = fasttext_model.get_numpy_vector(w)\n",
    "    except KeyError as e:\n",
    "        #pass\n",
    "        count=count+1"
   ]
  },
  {
   "cell_type": "code",
   "execution_count": 28,
   "metadata": {
    "collapsed": false
   },
   "outputs": [
    {
     "data": {
      "text/plain": [
       "0"
      ]
     },
     "execution_count": 28,
     "metadata": {},
     "output_type": "execute_result"
    }
   ],
   "source": [
    "count"
   ]
  },
  {
   "cell_type": "code",
   "execution_count": null,
   "metadata": {
    "collapsed": true
   },
   "outputs": [],
   "source": []
  },
  {
   "cell_type": "code",
   "execution_count": 29,
   "metadata": {
    "collapsed": false
   },
   "outputs": [
    {
     "data": {
      "text/plain": [
       "(20000, 10)"
      ]
     },
     "execution_count": 29,
     "metadata": {},
     "output_type": "execute_result"
    }
   ],
   "source": [
    "weights.shape"
   ]
  },
  {
   "cell_type": "code",
   "execution_count": 30,
   "metadata": {
    "collapsed": false
   },
   "outputs": [
    {
     "data": {
      "text/plain": [
       "array([ 0.51421237,  0.33238244, -0.22854866, -0.07036001,  0.01268008,\n",
       "        0.08718   , -0.50573528, -0.16250093,  0.55880743,  0.27797019])"
      ]
     },
     "execution_count": 30,
     "metadata": {},
     "output_type": "execute_result"
    }
   ],
   "source": [
    "weights[0]"
   ]
  },
  {
   "cell_type": "code",
   "execution_count": 31,
   "metadata": {
    "collapsed": false
   },
   "outputs": [
    {
     "data": {
      "text/plain": [
       "(20000, 10)"
      ]
     },
     "execution_count": 31,
     "metadata": {},
     "output_type": "execute_result"
    }
   ],
   "source": [
    "weights.shape"
   ]
  },
  {
   "cell_type": "code",
   "execution_count": null,
   "metadata": {
    "collapsed": true
   },
   "outputs": [],
   "source": []
  },
  {
   "cell_type": "markdown",
   "metadata": {},
   "source": [
    "# 自己繪圖展示train, validation, test準確率"
   ]
  },
  {
   "cell_type": "code",
   "execution_count": 32,
   "metadata": {
    "collapsed": false
   },
   "outputs": [],
   "source": [
    "%matplotlib inline\n",
    "from keras.callbacks import Callback\n",
    "class LossHistory(Callback):\n",
    "    def on_train_begin(self, logs={}):\n",
    "        self.losses = []\n",
    "    def on_epoch_end(self,epoch, logs={}):\n",
    "        x, y = X_test, Y_test\n",
    "        lss, acc = self.model.evaluate(x, y, verbose=0)\n",
    "        #self.losses.append([logs.get('loss'),logs.get('acc'),logs.get('val_loss'),logs.get('val_acc'),lss, acc])\n",
    "        self.losses.append({'train_loss':logs.get('loss'),'train_metrics':logs.get('acc'),\n",
    "                            'val_loss':logs.get('val_loss'),'val_metrics':logs.get('val_acc'),\n",
    "                            'test_loss':lss,'test_metrics':acc,\n",
    "                           })\n",
    "        #trlss = logs.get('loss')\n",
    "        #tracc = logs.get('acc')\n",
    "        #valss = logs.get('val_loss')\n",
    "        #vaacc = logs.get('val_acc')\n",
    "        #print('\\nepochs:{}'.format(epoch))\n",
    "        #print('\\nTrain loss: {}, acc: {}'.format(trlss, tracc))\n",
    "        #print('\\nValidation loss: {}, acc: {}'.format(valss, vaacc)) \n",
    "        #print('\\nTesting loss: {}, acc: {}'.format(lss, acc))"
   ]
  },
  {
   "cell_type": "code",
   "execution_count": null,
   "metadata": {
    "collapsed": true
   },
   "outputs": [],
   "source": []
  },
  {
   "cell_type": "code",
   "execution_count": null,
   "metadata": {
    "collapsed": true
   },
   "outputs": [],
   "source": []
  },
  {
   "cell_type": "markdown",
   "metadata": {},
   "source": [
    "# LSTM"
   ]
  },
  {
   "cell_type": "code",
   "execution_count": 33,
   "metadata": {
    "collapsed": false
   },
   "outputs": [
    {
     "name": "stdout",
     "output_type": "stream",
     "text": [
      "_________________________________________________________________\n",
      "Layer (type)                 Output Shape              Param #   \n",
      "=================================================================\n",
      "embedding_1 (Embedding)      (None, 200, 10)           200000    \n",
      "_________________________________________________________________\n",
      "dropout_1 (Dropout)          (None, 200, 10)           0         \n",
      "_________________________________________________________________\n",
      "lstm_1 (LSTM)                (None, 16)                1728      \n",
      "_________________________________________________________________\n",
      "dense_1 (Dense)              (None, 128)               2176      \n",
      "_________________________________________________________________\n",
      "dropout_2 (Dropout)          (None, 128)               0         \n",
      "_________________________________________________________________\n",
      "activation_1 (Activation)    (None, 128)               0         \n",
      "_________________________________________________________________\n",
      "dense_2 (Dense)              (None, 1)                 129       \n",
      "_________________________________________________________________\n",
      "activation_2 (Activation)    (None, 1)                 0         \n",
      "=================================================================\n",
      "Total params: 204,033\n",
      "Trainable params: 204,033\n",
      "Non-trainable params: 0\n",
      "_________________________________________________________________\n"
     ]
    }
   ],
   "source": [
    "model = Sequential()\n",
    "model.add(Embedding(num_words, 10, input_length= 200))\n",
    "model.add(Dropout(0.5))\n",
    "\n",
    "model.add(LSTM(16,activation='relu'))\n",
    "\n",
    "model.add(Dense(128))\n",
    "model.add(Dropout(0.5))\n",
    "model.add(Activation('relu'))\n",
    "\n",
    "#model.add(GlobalAveragePooling1D())\n",
    "#model.add(Dense(1, activation='softmax'))\n",
    "\n",
    "model.add(Dense(1))\n",
    "model.add(Activation('sigmoid'))\n",
    "\n",
    "#詞嵌入 採用預訓練的 向量\n",
    "model.layers[0].set_weights([weights])\n",
    "model.layers[0].trainable = True\n",
    "\n",
    "#optim = Adam(lr=0.001, beta_1=0.9, beta_2=0.999, epsilon=1e-08, decay=0.0)\n",
    "\n",
    "model.compile(loss='binary_crossentropy', optimizer = 'Adam' , metrics=['accuracy'])\n",
    "model.summary()\n"
   ]
  },
  {
   "cell_type": "code",
   "execution_count": null,
   "metadata": {
    "collapsed": true
   },
   "outputs": [],
   "source": []
  },
  {
   "cell_type": "code",
   "execution_count": 34,
   "metadata": {
    "collapsed": false
   },
   "outputs": [
    {
     "name": "stdout",
     "output_type": "stream",
     "text": [
      "Train on 2162 samples, validate on 241 samples\n",
      "Epoch 1/10\n",
      "2162/2162 [==============================] - 14s 7ms/step - loss: 0.6940 - acc: 0.5046 - val_loss: 0.6904 - val_acc: 0.5270\n",
      "Epoch 2/10\n",
      "2162/2162 [==============================] - 15s 7ms/step - loss: 0.6923 - acc: 0.5287 - val_loss: 0.6864 - val_acc: 0.5768\n",
      "Epoch 3/10\n",
      "2162/2162 [==============================] - 13s 6ms/step - loss: 0.6880 - acc: 0.5467 - val_loss: 0.6799 - val_acc: 0.6307\n",
      "Epoch 4/10\n",
      "2162/2162 [==============================] - 13s 6ms/step - loss: 0.6798 - acc: 0.5870 - val_loss: 0.6598 - val_acc: 0.6473\n",
      "Epoch 5/10\n",
      "2162/2162 [==============================] - 13s 6ms/step - loss: 0.6551 - acc: 0.6133 - val_loss: 0.6248 - val_acc: 0.6680\n",
      "Epoch 6/10\n",
      "2162/2162 [==============================] - 14s 7ms/step - loss: 0.6253 - acc: 0.6536 - val_loss: 0.6092 - val_acc: 0.7054\n",
      "Epoch 7/10\n",
      "2162/2162 [==============================] - 13s 6ms/step - loss: 0.5818 - acc: 0.6938 - val_loss: 0.5739 - val_acc: 0.7178\n",
      "Epoch 8/10\n",
      "2162/2162 [==============================] - 13s 6ms/step - loss: 0.5594 - acc: 0.7188 - val_loss: 0.5615 - val_acc: 0.7178\n",
      "Epoch 9/10\n",
      "2162/2162 [==============================] - 13s 6ms/step - loss: 0.5366 - acc: 0.7377 - val_loss: 0.5584 - val_acc: 0.7178\n",
      "Epoch 10/10\n",
      "2162/2162 [==============================] - 13s 6ms/step - loss: 0.5073 - acc: 0.7507 - val_loss: 0.5387 - val_acc: 0.7427\n",
      "CPU times: user 3min 15s, sys: 3.07 s, total: 3min 18s\n",
      "Wall time: 4min 20s\n"
     ]
    }
   ],
   "source": [
    "%%time\n",
    "history = LossHistory()\n",
    "hist=model.fit(X_train, Y_train, batch_size= 32, epochs=10, validation_split=0.1, callbacks=[history])"
   ]
  },
  {
   "cell_type": "code",
   "execution_count": null,
   "metadata": {
    "collapsed": true
   },
   "outputs": [],
   "source": []
  },
  {
   "cell_type": "code",
   "execution_count": 35,
   "metadata": {
    "collapsed": true
   },
   "outputs": [],
   "source": [
    "hist_info = pd.DataFrame(history.losses)"
   ]
  },
  {
   "cell_type": "code",
   "execution_count": 36,
   "metadata": {
    "collapsed": false
   },
   "outputs": [
    {
     "data": {
      "text/html": [
       "<div>\n",
       "<table border=\"1\" class=\"dataframe\">\n",
       "  <thead>\n",
       "    <tr style=\"text-align: right;\">\n",
       "      <th></th>\n",
       "      <th>test_loss</th>\n",
       "      <th>test_metrics</th>\n",
       "      <th>train_loss</th>\n",
       "      <th>train_metrics</th>\n",
       "      <th>val_loss</th>\n",
       "      <th>val_metrics</th>\n",
       "    </tr>\n",
       "  </thead>\n",
       "  <tbody>\n",
       "    <tr>\n",
       "      <th>0</th>\n",
       "      <td>0.690320</td>\n",
       "      <td>0.521822</td>\n",
       "      <td>0.694039</td>\n",
       "      <td>0.504625</td>\n",
       "      <td>0.690373</td>\n",
       "      <td>0.526971</td>\n",
       "    </tr>\n",
       "    <tr>\n",
       "      <th>1</th>\n",
       "      <td>0.687865</td>\n",
       "      <td>0.545677</td>\n",
       "      <td>0.692299</td>\n",
       "      <td>0.528677</td>\n",
       "      <td>0.686386</td>\n",
       "      <td>0.576763</td>\n",
       "    </tr>\n",
       "    <tr>\n",
       "      <th>2</th>\n",
       "      <td>0.683175</td>\n",
       "      <td>0.582663</td>\n",
       "      <td>0.688014</td>\n",
       "      <td>0.546716</td>\n",
       "      <td>0.679915</td>\n",
       "      <td>0.630705</td>\n",
       "    </tr>\n",
       "    <tr>\n",
       "      <th>3</th>\n",
       "      <td>0.667375</td>\n",
       "      <td>0.609293</td>\n",
       "      <td>0.679798</td>\n",
       "      <td>0.586957</td>\n",
       "      <td>0.659765</td>\n",
       "      <td>0.647303</td>\n",
       "    </tr>\n",
       "    <tr>\n",
       "      <th>4</th>\n",
       "      <td>0.641155</td>\n",
       "      <td>0.626630</td>\n",
       "      <td>0.655111</td>\n",
       "      <td>0.613321</td>\n",
       "      <td>0.624805</td>\n",
       "      <td>0.668050</td>\n",
       "    </tr>\n",
       "    <tr>\n",
       "      <th>5</th>\n",
       "      <td>0.624281</td>\n",
       "      <td>0.650763</td>\n",
       "      <td>0.625333</td>\n",
       "      <td>0.653562</td>\n",
       "      <td>0.609217</td>\n",
       "      <td>0.705394</td>\n",
       "    </tr>\n",
       "    <tr>\n",
       "      <th>6</th>\n",
       "      <td>0.596102</td>\n",
       "      <td>0.670273</td>\n",
       "      <td>0.581760</td>\n",
       "      <td>0.693802</td>\n",
       "      <td>0.573879</td>\n",
       "      <td>0.717842</td>\n",
       "    </tr>\n",
       "    <tr>\n",
       "      <th>7</th>\n",
       "      <td>0.578817</td>\n",
       "      <td>0.687471</td>\n",
       "      <td>0.559354</td>\n",
       "      <td>0.718779</td>\n",
       "      <td>0.561471</td>\n",
       "      <td>0.717842</td>\n",
       "    </tr>\n",
       "    <tr>\n",
       "      <th>8</th>\n",
       "      <td>0.578402</td>\n",
       "      <td>0.685252</td>\n",
       "      <td>0.536553</td>\n",
       "      <td>0.737743</td>\n",
       "      <td>0.558361</td>\n",
       "      <td>0.717842</td>\n",
       "    </tr>\n",
       "    <tr>\n",
       "      <th>9</th>\n",
       "      <td>0.557013</td>\n",
       "      <td>0.707258</td>\n",
       "      <td>0.507305</td>\n",
       "      <td>0.750694</td>\n",
       "      <td>0.538686</td>\n",
       "      <td>0.742739</td>\n",
       "    </tr>\n",
       "  </tbody>\n",
       "</table>\n",
       "</div>"
      ],
      "text/plain": [
       "   test_loss  test_metrics  train_loss  train_metrics  val_loss  val_metrics\n",
       "0   0.690320      0.521822    0.694039       0.504625  0.690373     0.526971\n",
       "1   0.687865      0.545677    0.692299       0.528677  0.686386     0.576763\n",
       "2   0.683175      0.582663    0.688014       0.546716  0.679915     0.630705\n",
       "3   0.667375      0.609293    0.679798       0.586957  0.659765     0.647303\n",
       "4   0.641155      0.626630    0.655111       0.613321  0.624805     0.668050\n",
       "5   0.624281      0.650763    0.625333       0.653562  0.609217     0.705394\n",
       "6   0.596102      0.670273    0.581760       0.693802  0.573879     0.717842\n",
       "7   0.578817      0.687471    0.559354       0.718779  0.561471     0.717842\n",
       "8   0.578402      0.685252    0.536553       0.737743  0.558361     0.717842\n",
       "9   0.557013      0.707258    0.507305       0.750694  0.538686     0.742739"
      ]
     },
     "execution_count": 36,
     "metadata": {},
     "output_type": "execute_result"
    }
   ],
   "source": [
    "hist_info"
   ]
  },
  {
   "cell_type": "code",
   "execution_count": 37,
   "metadata": {
    "collapsed": false
   },
   "outputs": [
    {
     "data": {
      "text/plain": [
       "<matplotlib.axes._subplots.AxesSubplot at 0x7fd4ded5bd30>"
      ]
     },
     "execution_count": 37,
     "metadata": {},
     "output_type": "execute_result"
    },
    {
     "data": {
      "image/png": "[encoded data removed]",
      "text/plain": [
       "<matplotlib.figure.Figure at 0x7fd4ded690f0>"
      ]
     },
     "metadata": {},
     "output_type": "display_data"
    }
   ],
   "source": [
    "hist_info[['train_loss','val_loss', 'test_loss']].plot()"
   ]
  },
  {
   "cell_type": "code",
   "execution_count": 38,
   "metadata": {
    "collapsed": false,
    "scrolled": false
   },
   "outputs": [
    {
     "data": {
      "text/plain": [
       "<matplotlib.axes._subplots.AxesSubplot at 0x7fd4decea390>"
      ]
     },
     "execution_count": 38,
     "metadata": {},
     "output_type": "execute_result"
    },
    {
     "data": {
      "image/png": "[encoded data removed]",
      "text/plain": [
       "<matplotlib.figure.Figure at 0x7fd4decee320>"
      ]
     },
     "metadata": {},
     "output_type": "display_data"
    }
   ],
   "source": [
    "hist_info[['train_metrics', 'val_metrics','test_metrics',]].plot()"
   ]
  },
  {
   "cell_type": "code",
   "execution_count": null,
   "metadata": {
    "collapsed": true
   },
   "outputs": [],
   "source": []
  },
  {
   "cell_type": "code",
   "execution_count": null,
   "metadata": {
    "collapsed": true
   },
   "outputs": [],
   "source": []
  },
  {
   "cell_type": "code",
   "execution_count": null,
   "metadata": {
    "collapsed": true
   },
   "outputs": [],
   "source": []
  },
  {
   "cell_type": "markdown",
   "metadata": {},
   "source": [
    "# CNN"
   ]
  },
  {
   "cell_type": "code",
   "execution_count": 39,
   "metadata": {
    "collapsed": true
   },
   "outputs": [],
   "source": [
    "from keras.models import Sequential\n",
    "from keras.layers import Dense\n",
    "from keras.layers import Flatten\n",
    "from keras.layers.convolutional import Convolution1D\n",
    "from keras.layers.convolutional import MaxPooling1D\n",
    "from keras.layers.embeddings import Embedding\n",
    "from keras.layers.core import Dense, Dropout, Activation\n",
    "from keras import metrics\n",
    "#from keras.preprocessing import sequence"
   ]
  },
  {
   "cell_type": "code",
   "execution_count": 40,
   "metadata": {
    "_cell_guid": "b8f524ba-611f-67b9-5973-e1d3d7b3ee08",
    "collapsed": false
   },
   "outputs": [
    {
     "name": "stdout",
     "output_type": "stream",
     "text": [
      "_________________________________________________________________\n",
      "Layer (type)                 Output Shape              Param #   \n",
      "=================================================================\n",
      "embedding_2 (Embedding)      (None, 200, 10)           200000    \n",
      "_________________________________________________________________\n",
      "conv1d_1 (Conv1D)            (None, 198, 250)          7750      \n",
      "_________________________________________________________________\n",
      "max_pooling1d_1 (MaxPooling1 (None, 99, 250)           0         \n",
      "_________________________________________________________________\n",
      "flatten_1 (Flatten)          (None, 24750)             0         \n",
      "_________________________________________________________________\n",
      "dense_3 (Dense)              (None, 250)               6187750   \n",
      "_________________________________________________________________\n",
      "dropout_3 (Dropout)          (None, 250)               0         \n",
      "_________________________________________________________________\n",
      "activation_3 (Activation)    (None, 250)               0         \n",
      "_________________________________________________________________\n",
      "dense_4 (Dense)              (None, 1)                 251       \n",
      "_________________________________________________________________\n",
      "activation_4 (Activation)    (None, 1)                 0         \n",
      "=================================================================\n",
      "Total params: 6,395,751\n",
      "Trainable params: 6,395,751\n",
      "Non-trainable params: 0\n",
      "_________________________________________________________________\n"
     ]
    }
   ],
   "source": [
    "#nb_classes = 2\n",
    "\n",
    "model = Sequential()\n",
    "model.add(Embedding(num_words, 10, input_length= 200))\n",
    "model.add(Convolution1D(activation=\"relu\", filters=250, kernel_size=3, strides=1, padding=\"valid\"))\n",
    "model.add(MaxPooling1D(pool_size = 2))\n",
    "model.add(Flatten())\n",
    "model.add(Dense(250)) \n",
    "model.add(Dropout(0.2)) \n",
    "model.add(Activation('relu'))\n",
    "model.add(Dense(1))\n",
    "model.add(Activation('sigmoid'))\n",
    "\n",
    "#詞嵌入 採用預訓練的 向量\n",
    "model.layers[0].set_weights([weights])\n",
    "model.layers[0].trainable = True\n",
    "\n",
    "#optim = Adam(lr=0.001, beta_1=0.9, beta_2=0.999, epsilon=1e-08, decay=0.0)\n",
    "\n",
    "model.compile(loss='binary_crossentropy', optimizer = 'Adam' , metrics=['accuracy'])\n",
    "model.summary()"
   ]
  },
  {
   "cell_type": "code",
   "execution_count": null,
   "metadata": {
    "collapsed": true
   },
   "outputs": [],
   "source": []
  },
  {
   "cell_type": "code",
   "execution_count": 41,
   "metadata": {
    "collapsed": false
   },
   "outputs": [
    {
     "name": "stdout",
     "output_type": "stream",
     "text": [
      "Train on 2162 samples, validate on 241 samples\n",
      "Epoch 1/10\n",
      "2162/2162 [==============================] - 16s 7ms/step - loss: 0.7348 - acc: 0.5472 - val_loss: 0.6736 - val_acc: 0.6100\n",
      "Epoch 2/10\n",
      "2162/2162 [==============================] - 14s 7ms/step - loss: 0.6152 - acc: 0.6610 - val_loss: 0.6407 - val_acc: 0.6639\n",
      "Epoch 3/10\n",
      "2162/2162 [==============================] - 15s 7ms/step - loss: 0.5239 - acc: 0.7373 - val_loss: 0.6048 - val_acc: 0.7095\n",
      "Epoch 4/10\n",
      "2162/2162 [==============================] - 17s 8ms/step - loss: 0.4035 - acc: 0.8173 - val_loss: 0.6205 - val_acc: 0.7137\n",
      "Epoch 5/10\n",
      "2162/2162 [==============================] - 18s 8ms/step - loss: 0.2986 - acc: 0.8793 - val_loss: 0.6167 - val_acc: 0.7054\n",
      "Epoch 6/10\n",
      "2162/2162 [==============================] - 14s 7ms/step - loss: 0.2161 - acc: 0.9214 - val_loss: 0.6966 - val_acc: 0.7303\n",
      "Epoch 7/10\n",
      "2162/2162 [==============================] - 18s 8ms/step - loss: 0.1455 - acc: 0.9468 - val_loss: 0.7252 - val_acc: 0.7510\n",
      "Epoch 8/10\n",
      "2162/2162 [==============================] - 18s 8ms/step - loss: 0.0960 - acc: 0.9662 - val_loss: 0.8617 - val_acc: 0.7676\n",
      "Epoch 9/10\n",
      "2162/2162 [==============================] - 16s 8ms/step - loss: 0.0597 - acc: 0.9787 - val_loss: 0.8831 - val_acc: 0.7593\n",
      "Epoch 10/10\n",
      "2162/2162 [==============================] - 15s 7ms/step - loss: 0.0362 - acc: 0.9935 - val_loss: 0.9255 - val_acc: 0.7635\n",
      "CPU times: user 3min 11s, sys: 24.2 s, total: 3min 35s\n",
      "Wall time: 5min 42s\n"
     ]
    }
   ],
   "source": [
    "%%time\n",
    "history = LossHistory()\n",
    "hist=model.fit(X_train, Y_train, batch_size= 32, epochs=10, validation_split=0.1, callbacks=[history])"
   ]
  },
  {
   "cell_type": "code",
   "execution_count": null,
   "metadata": {
    "collapsed": true
   },
   "outputs": [],
   "source": []
  },
  {
   "cell_type": "code",
   "execution_count": 42,
   "metadata": {
    "collapsed": true
   },
   "outputs": [],
   "source": [
    "hist_info = pd.DataFrame(history.losses)"
   ]
  },
  {
   "cell_type": "code",
   "execution_count": 43,
   "metadata": {
    "collapsed": false
   },
   "outputs": [
    {
     "data": {
      "text/html": [
       "<div>\n",
       "<table border=\"1\" class=\"dataframe\">\n",
       "  <thead>\n",
       "    <tr style=\"text-align: right;\">\n",
       "      <th></th>\n",
       "      <th>test_loss</th>\n",
       "      <th>test_metrics</th>\n",
       "      <th>train_loss</th>\n",
       "      <th>train_metrics</th>\n",
       "      <th>val_loss</th>\n",
       "      <th>val_metrics</th>\n",
       "    </tr>\n",
       "  </thead>\n",
       "  <tbody>\n",
       "    <tr>\n",
       "      <th>0</th>\n",
       "      <td>0.681575</td>\n",
       "      <td>0.573509</td>\n",
       "      <td>0.734813</td>\n",
       "      <td>0.547179</td>\n",
       "      <td>0.673560</td>\n",
       "      <td>0.609959</td>\n",
       "    </tr>\n",
       "    <tr>\n",
       "      <th>1</th>\n",
       "      <td>0.656647</td>\n",
       "      <td>0.632779</td>\n",
       "      <td>0.615234</td>\n",
       "      <td>0.660962</td>\n",
       "      <td>0.640674</td>\n",
       "      <td>0.663900</td>\n",
       "    </tr>\n",
       "    <tr>\n",
       "      <th>2</th>\n",
       "      <td>0.625999</td>\n",
       "      <td>0.675358</td>\n",
       "      <td>0.523853</td>\n",
       "      <td>0.737280</td>\n",
       "      <td>0.604819</td>\n",
       "      <td>0.709544</td>\n",
       "    </tr>\n",
       "    <tr>\n",
       "      <th>3</th>\n",
       "      <td>0.628887</td>\n",
       "      <td>0.697873</td>\n",
       "      <td>0.403537</td>\n",
       "      <td>0.817299</td>\n",
       "      <td>0.620499</td>\n",
       "      <td>0.713693</td>\n",
       "    </tr>\n",
       "    <tr>\n",
       "      <th>4</th>\n",
       "      <td>0.641929</td>\n",
       "      <td>0.701618</td>\n",
       "      <td>0.298562</td>\n",
       "      <td>0.879278</td>\n",
       "      <td>0.616730</td>\n",
       "      <td>0.705394</td>\n",
       "    </tr>\n",
       "    <tr>\n",
       "      <th>5</th>\n",
       "      <td>0.740258</td>\n",
       "      <td>0.695469</td>\n",
       "      <td>0.216055</td>\n",
       "      <td>0.921369</td>\n",
       "      <td>0.696644</td>\n",
       "      <td>0.730290</td>\n",
       "    </tr>\n",
       "    <tr>\n",
       "      <th>6</th>\n",
       "      <td>0.751426</td>\n",
       "      <td>0.728941</td>\n",
       "      <td>0.145534</td>\n",
       "      <td>0.946809</td>\n",
       "      <td>0.725240</td>\n",
       "      <td>0.751037</td>\n",
       "    </tr>\n",
       "    <tr>\n",
       "      <th>7</th>\n",
       "      <td>0.888559</td>\n",
       "      <td>0.739621</td>\n",
       "      <td>0.096020</td>\n",
       "      <td>0.966235</td>\n",
       "      <td>0.861713</td>\n",
       "      <td>0.767635</td>\n",
       "    </tr>\n",
       "    <tr>\n",
       "      <th>8</th>\n",
       "      <td>0.898926</td>\n",
       "      <td>0.730837</td>\n",
       "      <td>0.059677</td>\n",
       "      <td>0.978723</td>\n",
       "      <td>0.883137</td>\n",
       "      <td>0.759336</td>\n",
       "    </tr>\n",
       "    <tr>\n",
       "      <th>9</th>\n",
       "      <td>0.959700</td>\n",
       "      <td>0.744105</td>\n",
       "      <td>0.036213</td>\n",
       "      <td>0.993525</td>\n",
       "      <td>0.925490</td>\n",
       "      <td>0.763485</td>\n",
       "    </tr>\n",
       "  </tbody>\n",
       "</table>\n",
       "</div>"
      ],
      "text/plain": [
       "   test_loss  test_metrics  train_loss  train_metrics  val_loss  val_metrics\n",
       "0   0.681575      0.573509    0.734813       0.547179  0.673560     0.609959\n",
       "1   0.656647      0.632779    0.615234       0.660962  0.640674     0.663900\n",
       "2   0.625999      0.675358    0.523853       0.737280  0.604819     0.709544\n",
       "3   0.628887      0.697873    0.403537       0.817299  0.620499     0.713693\n",
       "4   0.641929      0.701618    0.298562       0.879278  0.616730     0.705394\n",
       "5   0.740258      0.695469    0.216055       0.921369  0.696644     0.730290\n",
       "6   0.751426      0.728941    0.145534       0.946809  0.725240     0.751037\n",
       "7   0.888559      0.739621    0.096020       0.966235  0.861713     0.767635\n",
       "8   0.898926      0.730837    0.059677       0.978723  0.883137     0.759336\n",
       "9   0.959700      0.744105    0.036213       0.993525  0.925490     0.763485"
      ]
     },
     "execution_count": 43,
     "metadata": {},
     "output_type": "execute_result"
    }
   ],
   "source": [
    "hist_info"
   ]
  },
  {
   "cell_type": "code",
   "execution_count": 44,
   "metadata": {
    "collapsed": false
   },
   "outputs": [
    {
     "data": {
      "text/plain": [
       "<matplotlib.axes._subplots.AxesSubplot at 0x7fd4dee269b0>"
      ]
     },
     "execution_count": 44,
     "metadata": {},
     "output_type": "execute_result"
    },
    {
     "data": {
      "image/png": "[encoded data removed]",
      "text/plain": [
       "<matplotlib.figure.Figure at 0x7fd4dee26828>"
      ]
     },
     "metadata": {},
     "output_type": "display_data"
    }
   ],
   "source": [
    "hist_info[['train_loss','val_loss', 'test_loss']].plot()"
   ]
  },
  {
   "cell_type": "code",
   "execution_count": 45,
   "metadata": {
    "collapsed": false,
    "scrolled": true
   },
   "outputs": [
    {
     "data": {
      "text/plain": [
       "<matplotlib.axes._subplots.AxesSubplot at 0x7fd4dc305320>"
      ]
     },
     "execution_count": 45,
     "metadata": {},
     "output_type": "execute_result"
    },
    {
     "data": {
      "image/png": "[encoded data removed]",
      "text/plain": [
       "<matplotlib.figure.Figure at 0x7fd4dc2d8cf8>"
      ]
     },
     "metadata": {},
     "output_type": "display_data"
    }
   ],
   "source": [
    "hist_info[['train_metrics', 'val_metrics','test_metrics',]].plot()"
   ]
  },
  {
   "cell_type": "code",
   "execution_count": null,
   "metadata": {
    "collapsed": true
   },
   "outputs": [],
   "source": []
  },
  {
   "cell_type": "code",
   "execution_count": null,
   "metadata": {
    "collapsed": true
   },
   "outputs": [],
   "source": []
  },
  {
   "cell_type": "code",
   "execution_count": null,
   "metadata": {
    "collapsed": true
   },
   "outputs": [],
   "source": []
  }
 ],
 "metadata": {
  "kernelspec": {
   "display_name": "Python 3",
   "language": "python",
   "name": "python3"
  },
  "language_info": {
   "codemirror_mode": {
    "name": "ipython",
    "version": 3
   },
   "file_extension": ".py",
   "mimetype": "text/x-python",
   "name": "python",
   "nbconvert_exporter": "python",
   "pygments_lexer": "ipython3",
   "version": "3.5.2"
  }
 },
 "nbformat": 4,
 "nbformat_minor": 2
}
