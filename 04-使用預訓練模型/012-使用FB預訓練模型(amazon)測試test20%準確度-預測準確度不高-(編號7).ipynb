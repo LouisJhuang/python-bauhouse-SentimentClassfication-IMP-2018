{
 "cells": [
  {
   "cell_type": "code",
   "execution_count": null,
   "metadata": {
    "collapsed": true
   },
   "outputs": [],
   "source": [
    "# 模型來源\n",
    "# https://fasttext.cc/docs/en/supervised-models.html#content"
   ]
  },
  {
   "cell_type": "code",
   "execution_count": null,
   "metadata": {
    "collapsed": true
   },
   "outputs": [],
   "source": [
    "# 測試資料集使用bauhouse -hotel data"
   ]
  },
  {
   "cell_type": "code",
   "execution_count": 1,
   "metadata": {
    "collapsed": true
   },
   "outputs": [],
   "source": [
    "import fasttext\n",
    "from pyfasttext import FastText\n",
    "import time\n",
    "import pandas as pd"
   ]
  },
  {
   "cell_type": "markdown",
   "metadata": {},
   "source": [
    "# 載入模型方法1"
   ]
  },
  {
   "cell_type": "code",
   "execution_count": 2,
   "metadata": {
    "collapsed": false
   },
   "outputs": [],
   "source": [
    "# 載入模型方法1\n",
    "amazon_model = FastText('./model/amazon_review_polarity.bin')"
   ]
  },
  {
   "cell_type": "code",
   "execution_count": null,
   "metadata": {
    "collapsed": false
   },
   "outputs": [],
   "source": []
  },
  {
   "cell_type": "markdown",
   "metadata": {},
   "source": [
    "# 載入模型方法2"
   ]
  },
  {
   "cell_type": "code",
   "execution_count": 11,
   "metadata": {
    "collapsed": false
   },
   "outputs": [],
   "source": [
    "# 載入模型方法2\n",
    "amazon_model = FastText()"
   ]
  },
  {
   "cell_type": "code",
   "execution_count": 12,
   "metadata": {
    "collapsed": false
   },
   "outputs": [],
   "source": [
    "amazon_model.load_model('./model/amazon_review_polarity.bin' )"
   ]
  },
  {
   "cell_type": "code",
   "execution_count": null,
   "metadata": {
    "collapsed": true
   },
   "outputs": [],
   "source": []
  },
  {
   "cell_type": "markdown",
   "metadata": {},
   "source": [
    "# 把FB模型拿來預測切割的20%資料集"
   ]
  },
  {
   "cell_type": "markdown",
   "metadata": {},
   "source": [
    "## 載入20% test.txt"
   ]
  },
  {
   "cell_type": "code",
   "execution_count": 3,
   "metadata": {
    "collapsed": false
   },
   "outputs": [],
   "source": [
    "# 原本沒header 給予命名  方便作業\n",
    "pred_data_1 = pd.read_csv('./data/hotel_label_only12_test.txt', names=['label', 'content'] )"
   ]
  },
  {
   "cell_type": "code",
   "execution_count": 4,
   "metadata": {
    "collapsed": false
   },
   "outputs": [
    {
     "data": {
      "text/html": [
       "<div>\n",
       "<table border=\"1\" class=\"dataframe\">\n",
       "  <thead>\n",
       "    <tr style=\"text-align: right;\">\n",
       "      <th></th>\n",
       "      <th>label</th>\n",
       "      <th>content</th>\n",
       "    </tr>\n",
       "  </thead>\n",
       "  <tbody>\n",
       "    <tr>\n",
       "      <th>0</th>\n",
       "      <td>__label__2</td>\n",
       "      <td>the hotel is trendy in a minimalistic  clean s...</td>\n",
       "    </tr>\n",
       "    <tr>\n",
       "      <th>1</th>\n",
       "      <td>__label__2</td>\n",
       "      <td>the varenne was indeed clean  lovely and in a ...</td>\n",
       "    </tr>\n",
       "    <tr>\n",
       "      <th>2</th>\n",
       "      <td>__label__1</td>\n",
       "      <td>in conclusion  a disappointing choice when one...</td>\n",
       "    </tr>\n",
       "    <tr>\n",
       "      <th>3</th>\n",
       "      <td>__label__2</td>\n",
       "      <td>safe provided .</td>\n",
       "    </tr>\n",
       "    <tr>\n",
       "      <th>4</th>\n",
       "      <td>__label__1</td>\n",
       "      <td>but they skimp on the big ticket items .</td>\n",
       "    </tr>\n",
       "  </tbody>\n",
       "</table>\n",
       "</div>"
      ],
      "text/plain": [
       "         label                                            content\n",
       "0  __label__2   the hotel is trendy in a minimalistic  clean s...\n",
       "1  __label__2   the varenne was indeed clean  lovely and in a ...\n",
       "2  __label__1   in conclusion  a disappointing choice when one...\n",
       "3  __label__2                                    safe provided . \n",
       "4  __label__1           but they skimp on the big ticket items . "
      ]
     },
     "execution_count": 4,
     "metadata": {},
     "output_type": "execute_result"
    }
   ],
   "source": [
    "pred_data_1.head(5)"
   ]
  },
  {
   "cell_type": "markdown",
   "metadata": {},
   "source": [
    "# 因為有label 必須去除掉"
   ]
  },
  {
   "cell_type": "code",
   "execution_count": 5,
   "metadata": {
    "collapsed": false
   },
   "outputs": [
    {
     "data": {
      "text/plain": [
       "(4807, 2)"
      ]
     },
     "execution_count": 5,
     "metadata": {},
     "output_type": "execute_result"
    }
   ],
   "source": [
    "pred_data_1.shape"
   ]
  },
  {
   "cell_type": "code",
   "execution_count": 7,
   "metadata": {
    "collapsed": false
   },
   "outputs": [],
   "source": [
    "# 不要label\n",
    "pred_data_1 = pred_data_1['content']"
   ]
  },
  {
   "cell_type": "markdown",
   "metadata": {},
   "source": [
    "# 留下內容就好 分類用"
   ]
  },
  {
   "cell_type": "code",
   "execution_count": 8,
   "metadata": {
    "collapsed": false
   },
   "outputs": [
    {
     "data": {
      "text/plain": [
       "0    the hotel is trendy in a minimalistic  clean s...\n",
       "1    the varenne was indeed clean  lovely and in a ...\n",
       "2    in conclusion  a disappointing choice when one...\n",
       "3                                     safe provided . \n",
       "4            but they skimp on the big ticket items . \n",
       "Name: content, dtype: object"
      ]
     },
     "execution_count": 8,
     "metadata": {},
     "output_type": "execute_result"
    }
   ],
   "source": [
    "pred_data_1.head(5)"
   ]
  },
  {
   "cell_type": "code",
   "execution_count": 9,
   "metadata": {
    "collapsed": false
   },
   "outputs": [
    {
     "data": {
      "text/plain": [
       "(4807,)"
      ]
     },
     "execution_count": 9,
     "metadata": {},
     "output_type": "execute_result"
    }
   ],
   "source": [
    "pred_data_1.shape"
   ]
  },
  {
   "cell_type": "markdown",
   "metadata": {},
   "source": [
    "# 將只有20% test用檔案存檔"
   ]
  },
  {
   "cell_type": "code",
   "execution_count": 10,
   "metadata": {
    "collapsed": true
   },
   "outputs": [],
   "source": [
    "pred_data_1.to_csv('./data/hotel_label_test20_onlycontent.txt', index=None, header=None)"
   ]
  },
  {
   "cell_type": "code",
   "execution_count": null,
   "metadata": {
    "collapsed": true
   },
   "outputs": [],
   "source": []
  },
  {
   "cell_type": "markdown",
   "metadata": {},
   "source": [
    "# 把模型拿來分類 test20% 觀看結果"
   ]
  },
  {
   "cell_type": "code",
   "execution_count": 3,
   "metadata": {
    "collapsed": true
   },
   "outputs": [],
   "source": [
    "# 這個資料集連label都沒有  只有內容  所以可以拿來預測結果\n",
    "pred_data = amazon_model.predict_file('./data/hotel_label_test20_onlycontent.txt')"
   ]
  },
  {
   "cell_type": "code",
   "execution_count": 4,
   "metadata": {
    "collapsed": false
   },
   "outputs": [
    {
     "data": {
      "text/plain": [
       "[['1'],\n",
       " ['2'],\n",
       " ['1'],\n",
       " ['1'],\n",
       " ['2'],\n",
       " ['2'],\n",
       " ['1'],\n",
       " ['1'],\n",
       " ['1'],\n",
       " ['2'],\n",
       " ['1'],\n",
       " ['1'],\n",
       " ['2'],\n",
       " ['1'],\n",
       " ['1'],\n",
       " ['1'],\n",
       " ['2'],\n",
       " ['2'],\n",
       " ['1'],\n",
       " ['1'],\n",
       " ['1'],\n",
       " ['2'],\n",
       " ['2'],\n",
       " ['1'],\n",
       " ['1'],\n",
       " ['1'],\n",
       " ['1'],\n",
       " ['1'],\n",
       " ['2'],\n",
       " ['2'],\n",
       " ['1'],\n",
       " ['2'],\n",
       " ['2'],\n",
       " ['1'],\n",
       " ['2'],\n",
       " ['2'],\n",
       " ['1'],\n",
       " ['1'],\n",
       " ['1'],\n",
       " ['2'],\n",
       " ['1'],\n",
       " ['1'],\n",
       " ['1'],\n",
       " ['2'],\n",
       " ['2'],\n",
       " ['1'],\n",
       " ['2'],\n",
       " ['2'],\n",
       " ['1'],\n",
       " ['2'],\n",
       " ['2'],\n",
       " ['1'],\n",
       " ['2'],\n",
       " ['2'],\n",
       " ['2'],\n",
       " ['2'],\n",
       " ['2'],\n",
       " ['1'],\n",
       " ['2'],\n",
       " ['2'],\n",
       " ['2'],\n",
       " ['2'],\n",
       " ['2'],\n",
       " ['2'],\n",
       " ['1'],\n",
       " ['2'],\n",
       " ['2'],\n",
       " ['2'],\n",
       " ['2'],\n",
       " ['2'],\n",
       " ['1'],\n",
       " ['2'],\n",
       " ['2'],\n",
       " ['2'],\n",
       " ['1'],\n",
       " ['1'],\n",
       " ['1'],\n",
       " ['1'],\n",
       " ['2'],\n",
       " ['2'],\n",
       " ['2'],\n",
       " ['2'],\n",
       " ['2'],\n",
       " ['2'],\n",
       " ['2'],\n",
       " ['1'],\n",
       " ['2'],\n",
       " ['2'],\n",
       " ['2'],\n",
       " ['1'],\n",
       " ['2'],\n",
       " ['2'],\n",
       " ['1'],\n",
       " ['1'],\n",
       " ['1'],\n",
       " ['1'],\n",
       " ['1'],\n",
       " ['2'],\n",
       " ['2'],\n",
       " ['2'],\n",
       " ['1'],\n",
       " ['2'],\n",
       " ['2'],\n",
       " ['1'],\n",
       " ['2'],\n",
       " ['2'],\n",
       " ['1'],\n",
       " ['2'],\n",
       " ['1'],\n",
       " ['1'],\n",
       " ['2'],\n",
       " ['1'],\n",
       " ['1'],\n",
       " ['1'],\n",
       " ['2'],\n",
       " ['2'],\n",
       " ['1'],\n",
       " ['1'],\n",
       " ['2'],\n",
       " ['1'],\n",
       " ['1'],\n",
       " ['2'],\n",
       " ['2'],\n",
       " ['2'],\n",
       " ['1'],\n",
       " ['2'],\n",
       " ['1'],\n",
       " ['1'],\n",
       " ['2'],\n",
       " ['2'],\n",
       " ['2'],\n",
       " ['1'],\n",
       " ['1'],\n",
       " ['2'],\n",
       " ['2'],\n",
       " ['1'],\n",
       " ['1'],\n",
       " ['1'],\n",
       " ['2'],\n",
       " ['2'],\n",
       " ['1'],\n",
       " ['2'],\n",
       " ['1'],\n",
       " ['1'],\n",
       " ['2'],\n",
       " ['1'],\n",
       " ['1'],\n",
       " ['2'],\n",
       " ['1'],\n",
       " ['1'],\n",
       " ['1'],\n",
       " ['2'],\n",
       " ['1'],\n",
       " ['1'],\n",
       " ['1'],\n",
       " ['2'],\n",
       " ['2'],\n",
       " ['1'],\n",
       " ['2'],\n",
       " ['1'],\n",
       " ['1'],\n",
       " ['2'],\n",
       " ['2'],\n",
       " ['1'],\n",
       " ['1'],\n",
       " ['1'],\n",
       " ['2'],\n",
       " ['1'],\n",
       " ['1'],\n",
       " ['1'],\n",
       " ['1'],\n",
       " ['1'],\n",
       " ['1'],\n",
       " ['1'],\n",
       " ['1'],\n",
       " ['2'],\n",
       " ['1'],\n",
       " ['2'],\n",
       " ['1'],\n",
       " ['2'],\n",
       " ['1'],\n",
       " ['2'],\n",
       " ['1'],\n",
       " ['1'],\n",
       " ['1'],\n",
       " ['1'],\n",
       " ['1'],\n",
       " ['1'],\n",
       " ['1'],\n",
       " ['1'],\n",
       " ['2'],\n",
       " ['2'],\n",
       " ['2'],\n",
       " ['2'],\n",
       " ['2'],\n",
       " ['2'],\n",
       " ['2'],\n",
       " ['1'],\n",
       " ['1'],\n",
       " ['2'],\n",
       " ['1'],\n",
       " ['2'],\n",
       " ['2'],\n",
       " ['1'],\n",
       " ['2'],\n",
       " ['1'],\n",
       " ['2'],\n",
       " ['1'],\n",
       " ['2'],\n",
       " ['1'],\n",
       " ['2'],\n",
       " ['2'],\n",
       " ['2'],\n",
       " ['1'],\n",
       " ['2'],\n",
       " ['1'],\n",
       " ['2'],\n",
       " ['1'],\n",
       " ['2'],\n",
       " ['1'],\n",
       " ['2'],\n",
       " ['2'],\n",
       " ['2'],\n",
       " ['1'],\n",
       " ['1'],\n",
       " ['1'],\n",
       " ['1'],\n",
       " ['1'],\n",
       " ['1'],\n",
       " ['2'],\n",
       " ['1'],\n",
       " ['1'],\n",
       " ['1'],\n",
       " ['1'],\n",
       " ['1'],\n",
       " ['2'],\n",
       " ['2'],\n",
       " ['1'],\n",
       " ['1'],\n",
       " ['2'],\n",
       " ['2'],\n",
       " ['1'],\n",
       " ['1'],\n",
       " ['1'],\n",
       " ['1'],\n",
       " ['2'],\n",
       " ['1'],\n",
       " ['1'],\n",
       " ['1'],\n",
       " ['1'],\n",
       " ['1'],\n",
       " ['2'],\n",
       " ['2'],\n",
       " ['2'],\n",
       " ['2'],\n",
       " ['1'],\n",
       " ['1'],\n",
       " ['2'],\n",
       " ['2'],\n",
       " ['1'],\n",
       " ['2'],\n",
       " ['1'],\n",
       " ['1'],\n",
       " ['2'],\n",
       " ['2'],\n",
       " ['2'],\n",
       " ['1'],\n",
       " ['1'],\n",
       " ['1'],\n",
       " ['1'],\n",
       " ['2'],\n",
       " ['1'],\n",
       " ['1'],\n",
       " ['2'],\n",
       " ['2'],\n",
       " ['2'],\n",
       " ['1'],\n",
       " ['2'],\n",
       " ['2'],\n",
       " ['2'],\n",
       " ['2'],\n",
       " ['1'],\n",
       " ['2'],\n",
       " ['2'],\n",
       " ['1'],\n",
       " ['1'],\n",
       " ['1'],\n",
       " ['2'],\n",
       " ['2'],\n",
       " ['2'],\n",
       " ['1'],\n",
       " ['1'],\n",
       " ['2'],\n",
       " ['1'],\n",
       " ['1'],\n",
       " ['1'],\n",
       " ['1'],\n",
       " ['2'],\n",
       " ['1'],\n",
       " ['2'],\n",
       " ['2'],\n",
       " ['2'],\n",
       " ['2'],\n",
       " ['2'],\n",
       " ['1'],\n",
       " ['2'],\n",
       " ['2'],\n",
       " ['2'],\n",
       " ['1'],\n",
       " ['2'],\n",
       " ['1'],\n",
       " ['1'],\n",
       " ['2'],\n",
       " ['2'],\n",
       " ['2'],\n",
       " ['1'],\n",
       " ['2'],\n",
       " ['2'],\n",
       " ['2'],\n",
       " ['2'],\n",
       " ['2'],\n",
       " ['2'],\n",
       " ['1'],\n",
       " ['2'],\n",
       " ['1'],\n",
       " ['2'],\n",
       " ['1'],\n",
       " ['1'],\n",
       " ['2'],\n",
       " ['1'],\n",
       " ['2'],\n",
       " ['1'],\n",
       " ['1'],\n",
       " ['1'],\n",
       " ['1'],\n",
       " ['1'],\n",
       " ['2'],\n",
       " ['1'],\n",
       " ['2'],\n",
       " ['2'],\n",
       " ['2'],\n",
       " ['2'],\n",
       " ['2'],\n",
       " ['2'],\n",
       " ['1'],\n",
       " ['1'],\n",
       " ['2'],\n",
       " ['2'],\n",
       " ['1'],\n",
       " ['1'],\n",
       " ['2'],\n",
       " ['2'],\n",
       " ['2'],\n",
       " ['1'],\n",
       " ['1'],\n",
       " ['1'],\n",
       " ['2'],\n",
       " ['2'],\n",
       " ['1'],\n",
       " ['2'],\n",
       " ['2'],\n",
       " ['2'],\n",
       " ['1'],\n",
       " ['1'],\n",
       " ['1'],\n",
       " ['2'],\n",
       " ['2'],\n",
       " ['1'],\n",
       " ['1'],\n",
       " ['1'],\n",
       " ['2'],\n",
       " ['2'],\n",
       " ['1'],\n",
       " ['2'],\n",
       " ['1'],\n",
       " ['2'],\n",
       " ['1'],\n",
       " ['2'],\n",
       " ['1'],\n",
       " ['1'],\n",
       " ['2'],\n",
       " ['1'],\n",
       " ['1'],\n",
       " ['2'],\n",
       " ['1'],\n",
       " ['1'],\n",
       " ['2'],\n",
       " ['1'],\n",
       " ['2'],\n",
       " ['2'],\n",
       " ['1'],\n",
       " ['2'],\n",
       " ['2'],\n",
       " ['1'],\n",
       " ['2'],\n",
       " ['1'],\n",
       " ['2'],\n",
       " ['2'],\n",
       " ['1'],\n",
       " ['2'],\n",
       " ['2'],\n",
       " ['1'],\n",
       " ['2'],\n",
       " ['1'],\n",
       " ['1'],\n",
       " ['2'],\n",
       " ['1'],\n",
       " ['1'],\n",
       " ['2'],\n",
       " ['2'],\n",
       " ['2'],\n",
       " ['2'],\n",
       " ['2'],\n",
       " ['2'],\n",
       " ['1'],\n",
       " ['1'],\n",
       " ['1'],\n",
       " ['2'],\n",
       " ['2'],\n",
       " ['2'],\n",
       " ['1'],\n",
       " ['1'],\n",
       " ['2'],\n",
       " ['2'],\n",
       " ['1'],\n",
       " ['1'],\n",
       " ['2'],\n",
       " ['2'],\n",
       " ['2'],\n",
       " ['1'],\n",
       " ['1'],\n",
       " ['1'],\n",
       " ['1'],\n",
       " ['1'],\n",
       " ['1'],\n",
       " ['1'],\n",
       " ['1'],\n",
       " ['2'],\n",
       " ['1'],\n",
       " ['2'],\n",
       " ['1'],\n",
       " ['1'],\n",
       " ['2'],\n",
       " ['2'],\n",
       " ['1'],\n",
       " ['2'],\n",
       " ['2'],\n",
       " ['1'],\n",
       " ['2'],\n",
       " ['1'],\n",
       " ['2'],\n",
       " ['1'],\n",
       " ['1'],\n",
       " ['2'],\n",
       " ['2'],\n",
       " ['1'],\n",
       " ['2'],\n",
       " ['2'],\n",
       " ['2'],\n",
       " ['1'],\n",
       " ['2'],\n",
       " ['2'],\n",
       " ['1'],\n",
       " ['2'],\n",
       " ['2'],\n",
       " ['2'],\n",
       " ['2'],\n",
       " ['2'],\n",
       " ['1'],\n",
       " ['1'],\n",
       " ['2'],\n",
       " ['1'],\n",
       " ['1'],\n",
       " ['2'],\n",
       " ['2'],\n",
       " ['2'],\n",
       " ['1'],\n",
       " ['1'],\n",
       " ['1'],\n",
       " ['2'],\n",
       " ['2'],\n",
       " ['1'],\n",
       " ['2'],\n",
       " ['1'],\n",
       " ['2'],\n",
       " ['2'],\n",
       " ['1'],\n",
       " ['1'],\n",
       " ['2'],\n",
       " ['1'],\n",
       " ['1'],\n",
       " ['2'],\n",
       " ['2'],\n",
       " ['2'],\n",
       " ['2'],\n",
       " ['1'],\n",
       " ['1'],\n",
       " ['1'],\n",
       " ['2'],\n",
       " ['1'],\n",
       " ['2'],\n",
       " ['1'],\n",
       " ['2'],\n",
       " ['2'],\n",
       " ['2'],\n",
       " ['1'],\n",
       " ['2'],\n",
       " ['2'],\n",
       " ['1'],\n",
       " ['2'],\n",
       " ['2'],\n",
       " ['1'],\n",
       " ['2'],\n",
       " ['1'],\n",
       " ['1'],\n",
       " ['2'],\n",
       " ['2'],\n",
       " ['1'],\n",
       " ['2'],\n",
       " ['1'],\n",
       " ['1'],\n",
       " ['1'],\n",
       " ['2'],\n",
       " ['1'],\n",
       " ['1'],\n",
       " ['2'],\n",
       " ['1'],\n",
       " ['2'],\n",
       " ['2'],\n",
       " ['1'],\n",
       " ['2'],\n",
       " ['2'],\n",
       " ['1'],\n",
       " ['1'],\n",
       " ['1'],\n",
       " ['2'],\n",
       " ['2'],\n",
       " ['2'],\n",
       " ['2'],\n",
       " ['1'],\n",
       " ['1'],\n",
       " ['1'],\n",
       " ['1'],\n",
       " ['2'],\n",
       " ['2'],\n",
       " ['2'],\n",
       " ['1'],\n",
       " ['2'],\n",
       " ['1'],\n",
       " ['1'],\n",
       " ['1'],\n",
       " ['2'],\n",
       " ['2'],\n",
       " ['2'],\n",
       " ['1'],\n",
       " ['1'],\n",
       " ['2'],\n",
       " ['1'],\n",
       " ['2'],\n",
       " ['1'],\n",
       " ['2'],\n",
       " ['1'],\n",
       " ['1'],\n",
       " ['2'],\n",
       " ['2'],\n",
       " ['2'],\n",
       " ['1'],\n",
       " ['2'],\n",
       " ['1'],\n",
       " ['1'],\n",
       " ['2'],\n",
       " ['2'],\n",
       " ['2'],\n",
       " ['2'],\n",
       " ['1'],\n",
       " ['1'],\n",
       " ['1'],\n",
       " ['2'],\n",
       " ['2'],\n",
       " ['1'],\n",
       " ['2'],\n",
       " ['1'],\n",
       " ['1'],\n",
       " ['2'],\n",
       " ['2'],\n",
       " ['2'],\n",
       " ['2'],\n",
       " ['1'],\n",
       " ['2'],\n",
       " ['2'],\n",
       " ['1'],\n",
       " ['2'],\n",
       " ['1'],\n",
       " ['2'],\n",
       " ['1'],\n",
       " ['2'],\n",
       " ['1'],\n",
       " ['1'],\n",
       " ['1'],\n",
       " ['2'],\n",
       " ['1'],\n",
       " ['2'],\n",
       " ['1'],\n",
       " ['2'],\n",
       " ['1'],\n",
       " ['2'],\n",
       " ['2'],\n",
       " ['1'],\n",
       " ['2'],\n",
       " ['2'],\n",
       " ['2'],\n",
       " ['1'],\n",
       " ['2'],\n",
       " ['2'],\n",
       " ['1'],\n",
       " ['1'],\n",
       " ['2'],\n",
       " ['1'],\n",
       " ['2'],\n",
       " ['1'],\n",
       " ['2'],\n",
       " ['2'],\n",
       " ['2'],\n",
       " ['1'],\n",
       " ['1'],\n",
       " ['1'],\n",
       " ['1'],\n",
       " ['1'],\n",
       " ['2'],\n",
       " ['2'],\n",
       " ['1'],\n",
       " ['1'],\n",
       " ['1'],\n",
       " ['1'],\n",
       " ['1'],\n",
       " ['2'],\n",
       " ['1'],\n",
       " ['2'],\n",
       " ['1'],\n",
       " ['2'],\n",
       " ['2'],\n",
       " ['2'],\n",
       " ['2'],\n",
       " ['2'],\n",
       " ['1'],\n",
       " ['2'],\n",
       " ['2'],\n",
       " ['1'],\n",
       " ['2'],\n",
       " ['1'],\n",
       " ['1'],\n",
       " ['2'],\n",
       " ['1'],\n",
       " ['1'],\n",
       " ['1'],\n",
       " ['1'],\n",
       " ['2'],\n",
       " ['1'],\n",
       " ['2'],\n",
       " ['2'],\n",
       " ['2'],\n",
       " ['1'],\n",
       " ['2'],\n",
       " ['1'],\n",
       " ['2'],\n",
       " ['2'],\n",
       " ['2'],\n",
       " ['1'],\n",
       " ['1'],\n",
       " ['2'],\n",
       " ['1'],\n",
       " ['2'],\n",
       " ['1'],\n",
       " ['2'],\n",
       " ['1'],\n",
       " ['2'],\n",
       " ['1'],\n",
       " ['1'],\n",
       " ['2'],\n",
       " ['1'],\n",
       " ['2'],\n",
       " ['2'],\n",
       " ['2'],\n",
       " ['1'],\n",
       " ['2'],\n",
       " ['2'],\n",
       " ['2'],\n",
       " ['1'],\n",
       " ['1'],\n",
       " ['1'],\n",
       " ['1'],\n",
       " ['1'],\n",
       " ['1'],\n",
       " ['1'],\n",
       " ['1'],\n",
       " ['2'],\n",
       " ['2'],\n",
       " ['1'],\n",
       " ['1'],\n",
       " ['2'],\n",
       " ['2'],\n",
       " ['2'],\n",
       " ['2'],\n",
       " ['1'],\n",
       " ['2'],\n",
       " ['2'],\n",
       " ['1'],\n",
       " ['2'],\n",
       " ['2'],\n",
       " ['1'],\n",
       " ['1'],\n",
       " ['2'],\n",
       " ['1'],\n",
       " ['1'],\n",
       " ['1'],\n",
       " ['1'],\n",
       " ['2'],\n",
       " ['2'],\n",
       " ['1'],\n",
       " ['2'],\n",
       " ['2'],\n",
       " ['2'],\n",
       " ['2'],\n",
       " ['1'],\n",
       " ['1'],\n",
       " ['2'],\n",
       " ['1'],\n",
       " ['1'],\n",
       " ['1'],\n",
       " ['1'],\n",
       " ['1'],\n",
       " ['1'],\n",
       " ['1'],\n",
       " ['1'],\n",
       " ['2'],\n",
       " ['2'],\n",
       " ['1'],\n",
       " ['1'],\n",
       " ['2'],\n",
       " ['1'],\n",
       " ['1'],\n",
       " ['1'],\n",
       " ['1'],\n",
       " ['1'],\n",
       " ['2'],\n",
       " ['1'],\n",
       " ['1'],\n",
       " ['1'],\n",
       " ['1'],\n",
       " ['2'],\n",
       " ['2'],\n",
       " ['1'],\n",
       " ['1'],\n",
       " ['2'],\n",
       " ['2'],\n",
       " ['2'],\n",
       " ['1'],\n",
       " ['2'],\n",
       " ['1'],\n",
       " ['2'],\n",
       " ['1'],\n",
       " ['2'],\n",
       " ['1'],\n",
       " ['1'],\n",
       " ['2'],\n",
       " ['2'],\n",
       " ['2'],\n",
       " ['1'],\n",
       " ['1'],\n",
       " ['1'],\n",
       " ['1'],\n",
       " ['2'],\n",
       " ['2'],\n",
       " ['2'],\n",
       " ['1'],\n",
       " ['2'],\n",
       " ['1'],\n",
       " ['1'],\n",
       " ['2'],\n",
       " ['2'],\n",
       " ['1'],\n",
       " ['1'],\n",
       " ['2'],\n",
       " ['2'],\n",
       " ['2'],\n",
       " ['2'],\n",
       " ['2'],\n",
       " ['2'],\n",
       " ['1'],\n",
       " ['2'],\n",
       " ['2'],\n",
       " ['1'],\n",
       " ['1'],\n",
       " ['2'],\n",
       " ['1'],\n",
       " ['1'],\n",
       " ['2'],\n",
       " ['2'],\n",
       " ['1'],\n",
       " ['1'],\n",
       " ['1'],\n",
       " ['1'],\n",
       " ['1'],\n",
       " ['1'],\n",
       " ['2'],\n",
       " ['2'],\n",
       " ['2'],\n",
       " ['1'],\n",
       " ['2'],\n",
       " ['2'],\n",
       " ['1'],\n",
       " ['2'],\n",
       " ['1'],\n",
       " ['1'],\n",
       " ['2'],\n",
       " ['1'],\n",
       " ['2'],\n",
       " ['1'],\n",
       " ['1'],\n",
       " ['2'],\n",
       " ['1'],\n",
       " ['1'],\n",
       " ['1'],\n",
       " ['1'],\n",
       " ['1'],\n",
       " ['1'],\n",
       " ['2'],\n",
       " ['2'],\n",
       " ['2'],\n",
       " ['2'],\n",
       " ['2'],\n",
       " ['1'],\n",
       " ['2'],\n",
       " ['1'],\n",
       " ['1'],\n",
       " ['2'],\n",
       " ['1'],\n",
       " ['1'],\n",
       " ['1'],\n",
       " ['2'],\n",
       " ['1'],\n",
       " ['1'],\n",
       " ['2'],\n",
       " ['1'],\n",
       " ['2'],\n",
       " ['1'],\n",
       " ['2'],\n",
       " ['2'],\n",
       " ['1'],\n",
       " ['2'],\n",
       " ['1'],\n",
       " ['2'],\n",
       " ['2'],\n",
       " ['2'],\n",
       " ['2'],\n",
       " ['2'],\n",
       " ['2'],\n",
       " ['2'],\n",
       " ['2'],\n",
       " ['2'],\n",
       " ['2'],\n",
       " ['2'],\n",
       " ['1'],\n",
       " ['2'],\n",
       " ['1'],\n",
       " ['1'],\n",
       " ['2'],\n",
       " ['1'],\n",
       " ['2'],\n",
       " ['2'],\n",
       " ['1'],\n",
       " ['1'],\n",
       " ['1'],\n",
       " ['2'],\n",
       " ['1'],\n",
       " ['1'],\n",
       " ['2'],\n",
       " ['1'],\n",
       " ['1'],\n",
       " ['2'],\n",
       " ['1'],\n",
       " ['1'],\n",
       " ['2'],\n",
       " ['1'],\n",
       " ['1'],\n",
       " ['1'],\n",
       " ['1'],\n",
       " ['2'],\n",
       " ['2'],\n",
       " ['2'],\n",
       " ['2'],\n",
       " ['1'],\n",
       " ['1'],\n",
       " ['1'],\n",
       " ['2'],\n",
       " ['1'],\n",
       " ['2'],\n",
       " ['2'],\n",
       " ['2'],\n",
       " ['1'],\n",
       " ['2'],\n",
       " ['1'],\n",
       " ['2'],\n",
       " ['1'],\n",
       " ['2'],\n",
       " ['1'],\n",
       " ['1'],\n",
       " ['2'],\n",
       " ['2'],\n",
       " ['1'],\n",
       " ['2'],\n",
       " ['1'],\n",
       " ['1'],\n",
       " ['2'],\n",
       " ['1'],\n",
       " ['1'],\n",
       " ['1'],\n",
       " ['1'],\n",
       " ['1'],\n",
       " ['1'],\n",
       " ['1'],\n",
       " ['1'],\n",
       " ['1'],\n",
       " ['2'],\n",
       " ['1'],\n",
       " ['2'],\n",
       " ['1'],\n",
       " ['2'],\n",
       " ['2'],\n",
       " ['1'],\n",
       " ['2'],\n",
       " ['2'],\n",
       " ['1'],\n",
       " ['2'],\n",
       " ['1'],\n",
       " ['2'],\n",
       " ['1'],\n",
       " ['1'],\n",
       " ['1'],\n",
       " ['1'],\n",
       " ['1'],\n",
       " ['2'],\n",
       " ['1'],\n",
       " ['1'],\n",
       " ['1'],\n",
       " ['2'],\n",
       " ['1'],\n",
       " ['2'],\n",
       " ['1'],\n",
       " ['1'],\n",
       " ['1'],\n",
       " ['1'],\n",
       " ['1'],\n",
       " ['1'],\n",
       " ['2'],\n",
       " ['2'],\n",
       " ['2'],\n",
       " ['1'],\n",
       " ['2'],\n",
       " ['2'],\n",
       " ['1'],\n",
       " ['1'],\n",
       " ['2'],\n",
       " ['1'],\n",
       " ['1'],\n",
       " ['1'],\n",
       " ['2'],\n",
       " ['1'],\n",
       " ['2'],\n",
       " ['1'],\n",
       " ['2'],\n",
       " ['2'],\n",
       " ['2'],\n",
       " ['1'],\n",
       " ['2'],\n",
       " ['2'],\n",
       " ['2'],\n",
       " ['2'],\n",
       " ['2'],\n",
       " ['2'],\n",
       " ['2'],\n",
       " ['1'],\n",
       " ['2'],\n",
       " ['2'],\n",
       " ['1'],\n",
       " ['1'],\n",
       " ['2'],\n",
       " ['1'],\n",
       " ['1'],\n",
       " ['2'],\n",
       " ['1'],\n",
       " ['1'],\n",
       " ['1'],\n",
       " ['2'],\n",
       " ['2'],\n",
       " ['1'],\n",
       " ['1'],\n",
       " ['1'],\n",
       " ['2'],\n",
       " ['2'],\n",
       " ...]"
      ]
     },
     "execution_count": 4,
     "metadata": {},
     "output_type": "execute_result"
    }
   ],
   "source": [
    "# 會得到20%資料的預測面向\n",
    "pred_data"
   ]
  },
  {
   "cell_type": "code",
   "execution_count": null,
   "metadata": {
    "collapsed": true
   },
   "outputs": [],
   "source": []
  },
  {
   "cell_type": "code",
   "execution_count": null,
   "metadata": {
    "collapsed": true
   },
   "outputs": [],
   "source": []
  },
  {
   "cell_type": "code",
   "execution_count": null,
   "metadata": {
    "collapsed": true
   },
   "outputs": [],
   "source": []
  },
  {
   "cell_type": "markdown",
   "metadata": {},
   "source": [
    "# 觀看預測的資料集"
   ]
  },
  {
   "cell_type": "code",
   "execution_count": 5,
   "metadata": {
    "collapsed": false
   },
   "outputs": [
    {
     "data": {
      "text/plain": [
       "4807"
      ]
     },
     "execution_count": 5,
     "metadata": {},
     "output_type": "execute_result"
    }
   ],
   "source": [
    "# 預測後共多少筆資料\n",
    "len(pred_data)"
   ]
  },
  {
   "cell_type": "code",
   "execution_count": 6,
   "metadata": {
    "collapsed": false
   },
   "outputs": [
    {
     "data": {
      "text/plain": [
       "[['1'], ['2'], ['1'], ['1'], ['2'], ['2'], ['1'], ['1'], ['1'], ['2']]"
      ]
     },
     "execution_count": 6,
     "metadata": {},
     "output_type": "execute_result"
    }
   ],
   "source": [
    "# 前10筆預測面向\n",
    "pred_data[0:10]"
   ]
  },
  {
   "cell_type": "code",
   "execution_count": 7,
   "metadata": {
    "collapsed": false
   },
   "outputs": [
    {
     "data": {
      "text/plain": [
       "['1']"
      ]
     },
     "execution_count": 7,
     "metadata": {},
     "output_type": "execute_result"
    }
   ],
   "source": [
    "#  最後一筆資料\n",
    "pred_data[-1]"
   ]
  },
  {
   "cell_type": "code",
   "execution_count": 8,
   "metadata": {
    "collapsed": false
   },
   "outputs": [
    {
     "data": {
      "text/plain": [
       "list"
      ]
     },
     "execution_count": 8,
     "metadata": {},
     "output_type": "execute_result"
    }
   ],
   "source": [
    "# 為list型態  \n",
    "type(pred_data[0])"
   ]
  },
  {
   "cell_type": "markdown",
   "metadata": {},
   "source": [
    "# 因為是list型態 必須轉型為str"
   ]
  },
  {
   "cell_type": "code",
   "execution_count": 9,
   "metadata": {
    "collapsed": true
   },
   "outputs": [],
   "source": [
    "pred_data_str = []"
   ]
  },
  {
   "cell_type": "code",
   "execution_count": 10,
   "metadata": {
    "collapsed": false
   },
   "outputs": [],
   "source": [
    "# 轉換完str丟進去陣列\n",
    "for i in range(len(pred_data)):\n",
    "    pred_data_str += list(map(str, pred_data[i]))"
   ]
  },
  {
   "cell_type": "code",
   "execution_count": 11,
   "metadata": {
    "collapsed": false
   },
   "outputs": [
    {
     "data": {
      "text/plain": [
       "4807"
      ]
     },
     "execution_count": 11,
     "metadata": {},
     "output_type": "execute_result"
    }
   ],
   "source": [
    "# 確認轉換完後 資料筆數正確\n",
    "len(pred_data_str)"
   ]
  },
  {
   "cell_type": "code",
   "execution_count": 12,
   "metadata": {
    "collapsed": false
   },
   "outputs": [
    {
     "data": {
      "text/plain": [
       "list"
      ]
     },
     "execution_count": 12,
     "metadata": {},
     "output_type": "execute_result"
    }
   ],
   "source": [
    "# 觀看型態\n",
    "type(pred_data_str)"
   ]
  },
  {
   "cell_type": "code",
   "execution_count": 13,
   "metadata": {
    "collapsed": false
   },
   "outputs": [
    {
     "data": {
      "text/plain": [
       "str"
      ]
     },
     "execution_count": 13,
     "metadata": {},
     "output_type": "execute_result"
    }
   ],
   "source": [
    "# 確定轉換為str\n",
    "type(pred_data_str[0])"
   ]
  },
  {
   "cell_type": "code",
   "execution_count": null,
   "metadata": {
    "collapsed": true
   },
   "outputs": [],
   "source": []
  },
  {
   "cell_type": "code",
   "execution_count": 14,
   "metadata": {
    "collapsed": false
   },
   "outputs": [
    {
     "data": {
      "text/plain": [
       "['1', '2', '1', '1', '2', '2', '1', '1', '1', '2']"
      ]
     },
     "execution_count": 14,
     "metadata": {},
     "output_type": "execute_result"
    }
   ],
   "source": [
    "# 前10筆預測面向\n",
    "pred_data_str[0:10]"
   ]
  },
  {
   "cell_type": "code",
   "execution_count": 15,
   "metadata": {
    "collapsed": false
   },
   "outputs": [
    {
     "data": {
      "text/plain": [
       "'1'"
      ]
     },
     "execution_count": 15,
     "metadata": {},
     "output_type": "execute_result"
    }
   ],
   "source": [
    "# 最後一筆\n",
    "pred_data_str[-1]"
   ]
  },
  {
   "cell_type": "code",
   "execution_count": null,
   "metadata": {
    "collapsed": true
   },
   "outputs": [],
   "source": []
  },
  {
   "cell_type": "markdown",
   "metadata": {},
   "source": [
    "# 接下來載入正確的資料集(test20%資料集)"
   ]
  },
  {
   "cell_type": "code",
   "execution_count": 16,
   "metadata": {
    "collapsed": true
   },
   "outputs": [],
   "source": [
    "import pandas as pd"
   ]
  },
  {
   "cell_type": "code",
   "execution_count": 17,
   "metadata": {
    "collapsed": false
   },
   "outputs": [],
   "source": [
    "# 為全部的資料集  但是沒有加上_label__ 這樣才可以拿來做迴圈比較\n",
    "true_data = pd.read_csv('./data/hotel_nolabel_only12_test.txt',encoding='utf8' , header =None)"
   ]
  },
  {
   "cell_type": "code",
   "execution_count": 18,
   "metadata": {
    "collapsed": false
   },
   "outputs": [
    {
     "data": {
      "text/html": [
       "<div>\n",
       "<table border=\"1\" class=\"dataframe\">\n",
       "  <thead>\n",
       "    <tr style=\"text-align: right;\">\n",
       "      <th></th>\n",
       "      <th>0</th>\n",
       "      <th>1</th>\n",
       "    </tr>\n",
       "  </thead>\n",
       "  <tbody>\n",
       "    <tr>\n",
       "      <th>0</th>\n",
       "      <td>2</td>\n",
       "      <td>the hotel is trendy in a minimalistic  clean s...</td>\n",
       "    </tr>\n",
       "    <tr>\n",
       "      <th>1</th>\n",
       "      <td>2</td>\n",
       "      <td>the varenne was indeed clean  lovely and in a ...</td>\n",
       "    </tr>\n",
       "    <tr>\n",
       "      <th>2</th>\n",
       "      <td>1</td>\n",
       "      <td>in conclusion  a disappointing choice when one...</td>\n",
       "    </tr>\n",
       "    <tr>\n",
       "      <th>3</th>\n",
       "      <td>2</td>\n",
       "      <td>safe provided .</td>\n",
       "    </tr>\n",
       "    <tr>\n",
       "      <th>4</th>\n",
       "      <td>1</td>\n",
       "      <td>but they skimp on the big ticket items .</td>\n",
       "    </tr>\n",
       "  </tbody>\n",
       "</table>\n",
       "</div>"
      ],
      "text/plain": [
       "   0                                                  1\n",
       "0  2  the hotel is trendy in a minimalistic  clean s...\n",
       "1  2  the varenne was indeed clean  lovely and in a ...\n",
       "2  1  in conclusion  a disappointing choice when one...\n",
       "3  2                                   safe provided . \n",
       "4  1          but they skimp on the big ticket items . "
      ]
     },
     "execution_count": 18,
     "metadata": {},
     "output_type": "execute_result"
    }
   ],
   "source": [
    "true_data.head(5)"
   ]
  },
  {
   "cell_type": "code",
   "execution_count": 19,
   "metadata": {
    "collapsed": false
   },
   "outputs": [
    {
     "data": {
      "text/plain": [
       "4807"
      ]
     },
     "execution_count": 19,
     "metadata": {},
     "output_type": "execute_result"
    }
   ],
   "source": [
    "len(true_data)"
   ]
  },
  {
   "cell_type": "code",
   "execution_count": null,
   "metadata": {
    "collapsed": true
   },
   "outputs": [],
   "source": []
  },
  {
   "cell_type": "code",
   "execution_count": 20,
   "metadata": {
    "collapsed": false
   },
   "outputs": [
    {
     "data": {
      "text/plain": [
       "4807"
      ]
     },
     "execution_count": 20,
     "metadata": {},
     "output_type": "execute_result"
    }
   ],
   "source": [
    "len(true_data)"
   ]
  },
  {
   "cell_type": "code",
   "execution_count": null,
   "metadata": {
    "collapsed": true
   },
   "outputs": [],
   "source": []
  },
  {
   "cell_type": "code",
   "execution_count": 22,
   "metadata": {
    "collapsed": false
   },
   "outputs": [
    {
     "data": {
      "text/plain": [
       "4807"
      ]
     },
     "execution_count": 22,
     "metadata": {},
     "output_type": "execute_result"
    }
   ],
   "source": [
    "#   共多少筆真實資料\n",
    "len(true_data)"
   ]
  },
  {
   "cell_type": "code",
   "execution_count": 23,
   "metadata": {
    "collapsed": false
   },
   "outputs": [
    {
     "data": {
      "text/plain": [
       "numpy.int64"
      ]
     },
     "execution_count": 23,
     "metadata": {},
     "output_type": "execute_result"
    }
   ],
   "source": [
    "#int 型態\n",
    "type(true_data[0][0])"
   ]
  },
  {
   "cell_type": "code",
   "execution_count": 24,
   "metadata": {
    "collapsed": false
   },
   "outputs": [
    {
     "data": {
      "text/plain": [
       "2"
      ]
     },
     "execution_count": 24,
     "metadata": {},
     "output_type": "execute_result"
    }
   ],
   "source": [
    "# 第1筆資料  \n",
    "(true_data[0][0])"
   ]
  },
  {
   "cell_type": "code",
   "execution_count": 25,
   "metadata": {
    "collapsed": false
   },
   "outputs": [
    {
     "data": {
      "text/plain": [
       "1"
      ]
     },
     "execution_count": 25,
     "metadata": {},
     "output_type": "execute_result"
    }
   ],
   "source": [
    "# 最後一筆\n",
    "true_data[0][len(true_data)-1]"
   ]
  },
  {
   "cell_type": "code",
   "execution_count": 26,
   "metadata": {
    "collapsed": false
   },
   "outputs": [
    {
     "data": {
      "text/plain": [
       "4807"
      ]
     },
     "execution_count": 26,
     "metadata": {},
     "output_type": "execute_result"
    }
   ],
   "source": [
    "# 看資料有幾筆\n",
    "len(true_data)"
   ]
  },
  {
   "cell_type": "code",
   "execution_count": null,
   "metadata": {
    "collapsed": true
   },
   "outputs": [],
   "source": []
  },
  {
   "cell_type": "markdown",
   "metadata": {},
   "source": [
    "# 把numpy.int64 轉 str"
   ]
  },
  {
   "cell_type": "code",
   "execution_count": 27,
   "metadata": {
    "collapsed": true
   },
   "outputs": [],
   "source": [
    "true_data_str = []"
   ]
  },
  {
   "cell_type": "code",
   "execution_count": 28,
   "metadata": {
    "collapsed": false
   },
   "outputs": [],
   "source": [
    "# 把numpy.int64 轉 str \n",
    "for i in range(len(true_data)):\n",
    "    true_data_str += [true_data[0][i].astype(str)]"
   ]
  },
  {
   "cell_type": "code",
   "execution_count": 29,
   "metadata": {
    "collapsed": false
   },
   "outputs": [
    {
     "name": "stdout",
     "output_type": "stream",
     "text": [
      "2\n",
      "2\n",
      "1\n",
      "2\n",
      "1\n",
      "2\n",
      "1\n",
      "1\n",
      "1\n",
      "2\n",
      "1\n",
      "2\n",
      "2\n",
      "1\n",
      "1\n"
     ]
    }
   ],
   "source": [
    "# 看前15筆\n",
    "for j in range(15):\n",
    "    print(true_data_str[j][0])"
   ]
  },
  {
   "cell_type": "code",
   "execution_count": 30,
   "metadata": {
    "collapsed": false
   },
   "outputs": [
    {
     "data": {
      "text/plain": [
       "str"
      ]
     },
     "execution_count": 30,
     "metadata": {},
     "output_type": "execute_result"
    }
   ],
   "source": [
    "# 確認轉成str\n",
    "type(true_data_str[0][0])"
   ]
  },
  {
   "cell_type": "code",
   "execution_count": null,
   "metadata": {
    "collapsed": true
   },
   "outputs": [],
   "source": []
  },
  {
   "cell_type": "code",
   "execution_count": null,
   "metadata": {
    "collapsed": true
   },
   "outputs": [],
   "source": []
  },
  {
   "cell_type": "markdown",
   "metadata": {},
   "source": [
    "# 使用 confusion_matrix 誤差計算(混淆矩陣)"
   ]
  },
  {
   "cell_type": "code",
   "execution_count": 31,
   "metadata": {
    "collapsed": false
   },
   "outputs": [
    {
     "name": "stderr",
     "output_type": "stream",
     "text": [
      "/opt/conda/lib/python3.5/importlib/_bootstrap.py:222: RuntimeWarning: numpy.dtype size changed, may indicate binary incompatibility. Expected 96, got 88\n",
      "  return f(*args, **kwds)\n",
      "/opt/conda/lib/python3.5/importlib/_bootstrap.py:222: RuntimeWarning: numpy.dtype size changed, may indicate binary incompatibility. Expected 96, got 88\n",
      "  return f(*args, **kwds)\n"
     ]
    }
   ],
   "source": [
    "from sklearn.metrics import confusion_matrix"
   ]
  },
  {
   "cell_type": "code",
   "execution_count": 32,
   "metadata": {
    "collapsed": false
   },
   "outputs": [
    {
     "data": {
      "text/plain": [
       "array([[1900,  584],\n",
       "       [ 572, 1751]])"
      ]
     },
     "execution_count": 32,
     "metadata": {},
     "output_type": "execute_result"
    }
   ],
   "source": [
    "confusion_matrix (pred_data_str, true_data_str)"
   ]
  },
  {
   "cell_type": "code",
   "execution_count": null,
   "metadata": {
    "collapsed": true
   },
   "outputs": [],
   "source": []
  },
  {
   "cell_type": "markdown",
   "metadata": {},
   "source": [
    "# 觀看混淆矩陣結果"
   ]
  },
  {
   "cell_type": "code",
   "execution_count": 33,
   "metadata": {
    "collapsed": true
   },
   "outputs": [],
   "source": [
    "from sklearn.metrics import classification_report"
   ]
  },
  {
   "cell_type": "code",
   "execution_count": 34,
   "metadata": {
    "collapsed": false
   },
   "outputs": [
    {
     "name": "stdout",
     "output_type": "stream",
     "text": [
      "             precision    recall  f1-score   support\n",
      "\n",
      "          1       0.77      0.76      0.77      2484\n",
      "          2       0.75      0.75      0.75      2323\n",
      "\n",
      "avg / total       0.76      0.76      0.76      4807\n",
      "\n"
     ]
    }
   ],
   "source": [
    "# avg = ( precision *support ) / total   =  ( 0.78 *12725 + 0.75 *11308 ) /24033\n",
    "# 1面向跟2面向 分別命中率\n",
    "\n",
    "\n",
    "# recall = 命中產品項目數/ 目標顧客所想要的產品項目數\n",
    "# F1−measure = 2 ∗ 𝑃𝑟𝑒𝑐𝑖𝑠𝑖𝑜𝑛 ∗ 𝑅𝑒𝑐𝑎𝑙𝑙( 𝑃𝑟𝑒𝑐𝑖𝑠𝑖𝑜𝑛 + 𝑅𝑒𝑐𝑎𝑙𝑙 )\n",
    "\n",
    "\n",
    "print( classification_report ( pred_data_str, true_data_str) )"
   ]
  },
  {
   "cell_type": "code",
   "execution_count": null,
   "metadata": {
    "collapsed": true
   },
   "outputs": [],
   "source": []
  },
  {
   "cell_type": "code",
   "execution_count": null,
   "metadata": {
    "collapsed": true
   },
   "outputs": [],
   "source": []
  }
 ],
 "metadata": {
  "kernelspec": {
   "display_name": "Python 3",
   "language": "python",
   "name": "python3"
  },
  "language_info": {
   "codemirror_mode": {
    "name": "ipython",
    "version": 3
   },
   "file_extension": ".py",
   "mimetype": "text/x-python",
   "name": "python",
   "nbconvert_exporter": "python",
   "pygments_lexer": "ipython3",
   "version": "3.5.2"
  }
 },
 "nbformat": 4,
 "nbformat_minor": 2
}
