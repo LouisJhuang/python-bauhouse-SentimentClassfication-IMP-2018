{
 "cells": [
  {
   "cell_type": "markdown",
   "metadata": {},
   "source": [
    "# 使用遷移學習Transfer Learning Sentiment analysis\n",
    "\n",
    "# KerasFastText-使用fasttext之自己supervised預訓練模型-(train20%)"
   ]
  },
  {
   "cell_type": "code",
   "execution_count": null,
   "metadata": {
    "collapsed": true
   },
   "outputs": [],
   "source": [
    " "
   ]
  },
  {
   "cell_type": "code",
   "execution_count": null,
   "metadata": {
    "collapsed": true
   },
   "outputs": [],
   "source": []
  },
  {
   "cell_type": "code",
   "execution_count": null,
   "metadata": {
    "collapsed": true
   },
   "outputs": [],
   "source": []
  },
  {
   "cell_type": "code",
   "execution_count": 1,
   "metadata": {
    "scrolled": true
   },
   "outputs": [
    {
     "name": "stderr",
     "output_type": "stream",
     "text": [
      "Using TensorFlow backend.\n"
     ]
    }
   ],
   "source": [
    "import copy\n",
    "import numpy as np\n",
    "import pandas as pd\n",
    "# import matplotlib.pyplot as plt\n",
    "import sys\n",
    "import os\n",
    "import re\n",
    "\n",
    "# from __future__ import print_function\n",
    "import numpy as np\n",
    "np.random.seed(1337)  # for reproducibility\n",
    "\n",
    "from keras.models import Sequential\n",
    "from keras.layers import Dense, Dropout, Activation, Flatten, GlobalAveragePooling1D\n",
    "from keras.optimizers import SGD, RMSprop\n",
    "from keras.utils import np_utils\n",
    "from keras.layers.convolutional import Convolution1D, MaxPooling1D, ZeroPadding1D, AveragePooling1D\n",
    "from keras.callbacks import EarlyStopping\n",
    "from keras.layers.normalization import BatchNormalization\n",
    "from keras.preprocessing import sequence\n",
    "from keras.layers.embeddings import Embedding\n",
    "from keras.layers.recurrent import SimpleRNN, LSTM, GRU\n",
    "from keras.layers.wrappers import TimeDistributed\n",
    "from keras.preprocessing.text import Tokenizer\n",
    "from keras.callbacks import Callback\n",
    "from keras.optimizers import *"
   ]
  },
  {
   "cell_type": "code",
   "execution_count": null,
   "metadata": {
    "collapsed": true
   },
   "outputs": [],
   "source": []
  },
  {
   "cell_type": "code",
   "execution_count": null,
   "metadata": {
    "collapsed": true
   },
   "outputs": [],
   "source": []
  },
  {
   "cell_type": "markdown",
   "metadata": {
    "collapsed": true
   },
   "source": [
    "# Hotel data格式前處理\n",
    "\n",
    "透過clean_dataset整理資料\n",
    "\n",
    "label必須編碼為0,1,2,3,.."
   ]
  },
  {
   "cell_type": "code",
   "execution_count": 2,
   "metadata": {
    "collapsed": true
   },
   "outputs": [],
   "source": [
    "import pandas as pd"
   ]
  },
  {
   "cell_type": "code",
   "execution_count": 3,
   "metadata": {
    "collapsed": true
   },
   "outputs": [],
   "source": [
    "data=pd.read_csv('./data/hotel_data.csv',encoding='utf8')\n",
    "data = data[['text','polarity']]"
   ]
  },
  {
   "cell_type": "code",
   "execution_count": 4,
   "metadata": {},
   "outputs": [
    {
     "data": {
      "text/html": [
       "<div>\n",
       "<table border=\"1\" class=\"dataframe\">\n",
       "  <thead>\n",
       "    <tr style=\"text-align: right;\">\n",
       "      <th></th>\n",
       "      <th>text</th>\n",
       "      <th>polarity</th>\n",
       "    </tr>\n",
       "  </thead>\n",
       "  <tbody>\n",
       "    <tr>\n",
       "      <th>0</th>\n",
       "      <td>My daughter and I just returned from a four ni...</td>\n",
       "      <td>NEGATIVE</td>\n",
       "    </tr>\n",
       "    <tr>\n",
       "      <th>1</th>\n",
       "      <td>I had searched for a good hotel at a rate of u...</td>\n",
       "      <td>OBJECTIVE</td>\n",
       "    </tr>\n",
       "    <tr>\n",
       "      <th>2</th>\n",
       "      <td>Big mistake.</td>\n",
       "      <td>NEGATIVE</td>\n",
       "    </tr>\n",
       "    <tr>\n",
       "      <th>3</th>\n",
       "      <td>Our room was tiny,</td>\n",
       "      <td>NEGATIVE</td>\n",
       "    </tr>\n",
       "    <tr>\n",
       "      <th>4</th>\n",
       "      <td>and the bath was small too.</td>\n",
       "      <td>NEGATIVE</td>\n",
       "    </tr>\n",
       "    <tr>\n",
       "      <th>5</th>\n",
       "      <td>The public areas were somewhat dingy and showe...</td>\n",
       "      <td>NEGATIVE</td>\n",
       "    </tr>\n",
       "    <tr>\n",
       "      <th>6</th>\n",
       "      <td>Even the bath towels were worn and becoming st...</td>\n",
       "      <td>NEGATIVE</td>\n",
       "    </tr>\n",
       "    <tr>\n",
       "      <th>7</th>\n",
       "      <td>Speaking of such, the maid did not replace sha...</td>\n",
       "      <td>NEGATIVE</td>\n",
       "    </tr>\n",
       "    <tr>\n",
       "      <th>8</th>\n",
       "      <td>You had to put a sign on the bed if you wanted...</td>\n",
       "      <td>NEGATIVE</td>\n",
       "    </tr>\n",
       "    <tr>\n",
       "      <th>9</th>\n",
       "      <td>The minibar was one of the kind that you have ...</td>\n",
       "      <td>NEGATIVE</td>\n",
       "    </tr>\n",
       "  </tbody>\n",
       "</table>\n",
       "</div>"
      ],
      "text/plain": [
       "                                                text   polarity\n",
       "0  My daughter and I just returned from a four ni...   NEGATIVE\n",
       "1  I had searched for a good hotel at a rate of u...  OBJECTIVE\n",
       "2                                       Big mistake.   NEGATIVE\n",
       "3                                 Our room was tiny,   NEGATIVE\n",
       "4                        and the bath was small too.   NEGATIVE\n",
       "5  The public areas were somewhat dingy and showe...   NEGATIVE\n",
       "6  Even the bath towels were worn and becoming st...   NEGATIVE\n",
       "7  Speaking of such, the maid did not replace sha...   NEGATIVE\n",
       "8  You had to put a sign on the bed if you wanted...   NEGATIVE\n",
       "9  The minibar was one of the kind that you have ...   NEGATIVE"
      ]
     },
     "execution_count": 4,
     "metadata": {},
     "output_type": "execute_result"
    }
   ],
   "source": [
    "data.head(10)"
   ]
  },
  {
   "cell_type": "code",
   "execution_count": 5,
   "metadata": {},
   "outputs": [
    {
     "name": "stdout",
     "output_type": "stream",
     "text": [
      "23046\n",
      "25020\n",
      "15200\n"
     ]
    }
   ],
   "source": [
    "print(data[ data['polarity'] == 'POSITIVE'].size)\n",
    "print(data[ data['polarity'] == 'NEGATIVE'].size)\n",
    "print(data[ data['polarity'] == 'OBJECTIVE'].size)"
   ]
  },
  {
   "cell_type": "code",
   "execution_count": null,
   "metadata": {
    "collapsed": true
   },
   "outputs": [],
   "source": []
  },
  {
   "cell_type": "code",
   "execution_count": 6,
   "metadata": {
    "collapsed": true
   },
   "outputs": [],
   "source": [
    "data = data[ (data['polarity'] == 'POSITIVE') |(data['polarity'] == 'NEGATIVE')]"
   ]
  },
  {
   "cell_type": "code",
   "execution_count": 7,
   "metadata": {},
   "outputs": [
    {
     "name": "stdout",
     "output_type": "stream",
     "text": [
      "23046\n",
      "25020\n",
      "0\n"
     ]
    }
   ],
   "source": [
    "print(data[ data['polarity'] == 'POSITIVE'].size)\n",
    "print(data[ data['polarity'] == 'NEGATIVE'].size)\n",
    "print(data[ data['polarity'] == 'OBJECTIVE'].size)"
   ]
  },
  {
   "cell_type": "code",
   "execution_count": null,
   "metadata": {
    "collapsed": true
   },
   "outputs": [],
   "source": []
  },
  {
   "cell_type": "code",
   "execution_count": 8,
   "metadata": {
    "collapsed": true
   },
   "outputs": [],
   "source": [
    "data['polarity'] = data['polarity'].replace({'POSITIVE': 1, 'NEGATIVE': 0})"
   ]
  },
  {
   "cell_type": "code",
   "execution_count": null,
   "metadata": {
    "collapsed": true
   },
   "outputs": [],
   "source": []
  },
  {
   "cell_type": "code",
   "execution_count": 9,
   "metadata": {
    "collapsed": true
   },
   "outputs": [],
   "source": [
    "data = data.rename(columns={'polarity':'label'})"
   ]
  },
  {
   "cell_type": "code",
   "execution_count": null,
   "metadata": {
    "collapsed": true
   },
   "outputs": [],
   "source": []
  },
  {
   "cell_type": "code",
   "execution_count": 10,
   "metadata": {},
   "outputs": [
    {
     "data": {
      "text/html": [
       "<div>\n",
       "<table border=\"1\" class=\"dataframe\">\n",
       "  <thead>\n",
       "    <tr style=\"text-align: right;\">\n",
       "      <th></th>\n",
       "      <th>text</th>\n",
       "      <th>label</th>\n",
       "    </tr>\n",
       "  </thead>\n",
       "  <tbody>\n",
       "    <tr>\n",
       "      <th>0</th>\n",
       "      <td>My daughter and I just returned from a four ni...</td>\n",
       "      <td>0</td>\n",
       "    </tr>\n",
       "    <tr>\n",
       "      <th>2</th>\n",
       "      <td>Big mistake.</td>\n",
       "      <td>0</td>\n",
       "    </tr>\n",
       "    <tr>\n",
       "      <th>3</th>\n",
       "      <td>Our room was tiny,</td>\n",
       "      <td>0</td>\n",
       "    </tr>\n",
       "  </tbody>\n",
       "</table>\n",
       "</div>"
      ],
      "text/plain": [
       "                                                text  label\n",
       "0  My daughter and I just returned from a four ni...      0\n",
       "2                                       Big mistake.      0\n",
       "3                                 Our room was tiny,      0"
      ]
     },
     "execution_count": 10,
     "metadata": {},
     "output_type": "execute_result"
    }
   ],
   "source": [
    "data.head(3)"
   ]
  },
  {
   "cell_type": "code",
   "execution_count": null,
   "metadata": {
    "collapsed": true
   },
   "outputs": [],
   "source": []
  },
  {
   "cell_type": "code",
   "execution_count": null,
   "metadata": {
    "collapsed": true
   },
   "outputs": [],
   "source": []
  },
  {
   "cell_type": "code",
   "execution_count": 11,
   "metadata": {},
   "outputs": [
    {
     "name": "stderr",
     "output_type": "stream",
     "text": [
      "/opt/conda/lib/python3.5/importlib/_bootstrap.py:222: RuntimeWarning: numpy.dtype size changed, may indicate binary incompatibility. Expected 96, got 88\n",
      "  return f(*args, **kwds)\n",
      "/opt/conda/lib/python3.5/importlib/_bootstrap.py:222: RuntimeWarning: numpy.dtype size changed, may indicate binary incompatibility. Expected 96, got 88\n",
      "  return f(*args, **kwds)\n"
     ]
    }
   ],
   "source": [
    "## 切資料\n",
    "\n",
    "from sklearn.model_selection import train_test_split\n",
    "\n",
    "X_train_, X_test_, Y_train, Y_test = \\\n",
    "    train_test_split( data['text'], data['label'], test_size=0.8, random_state=42, stratify = data['label'])"
   ]
  },
  {
   "cell_type": "code",
   "execution_count": null,
   "metadata": {
    "collapsed": true
   },
   "outputs": [],
   "source": []
  },
  {
   "cell_type": "code",
   "execution_count": 12,
   "metadata": {
    "collapsed": true
   },
   "outputs": [],
   "source": [
    "input_text = data['text']"
   ]
  },
  {
   "cell_type": "code",
   "execution_count": 13,
   "metadata": {
    "scrolled": true
   },
   "outputs": [
    {
     "data": {
      "text/plain": [
       "0    My daughter and I just returned from a four ni...\n",
       "2                                         Big mistake.\n",
       "Name: text, dtype: object"
      ]
     },
     "execution_count": 13,
     "metadata": {},
     "output_type": "execute_result"
    }
   ],
   "source": [
    "input_text[0:2]"
   ]
  },
  {
   "cell_type": "code",
   "execution_count": 14,
   "metadata": {
    "scrolled": false
   },
   "outputs": [
    {
     "data": {
      "text/plain": [
       "(24033,)"
      ]
     },
     "execution_count": 14,
     "metadata": {},
     "output_type": "execute_result"
    }
   ],
   "source": [
    "input_text.shape"
   ]
  },
  {
   "cell_type": "code",
   "execution_count": null,
   "metadata": {
    "collapsed": true
   },
   "outputs": [],
   "source": []
  },
  {
   "cell_type": "code",
   "execution_count": 15,
   "metadata": {
    "collapsed": true
   },
   "outputs": [],
   "source": [
    "# 20000\n",
    "num_words = 20000\n",
    "tok = Tokenizer(num_words)\n",
    "tok.fit_on_texts(input_text)"
   ]
  },
  {
   "cell_type": "code",
   "execution_count": 16,
   "metadata": {},
   "outputs": [
    {
     "data": {
      "text/plain": [
       "13117"
      ]
     },
     "execution_count": 16,
     "metadata": {},
     "output_type": "execute_result"
    }
   ],
   "source": [
    "len(tok.word_index)"
   ]
  },
  {
   "cell_type": "code",
   "execution_count": null,
   "metadata": {
    "collapsed": true
   },
   "outputs": [],
   "source": []
  },
  {
   "cell_type": "code",
   "execution_count": 17,
   "metadata": {
    "collapsed": true
   },
   "outputs": [],
   "source": [
    "X_train = tok.texts_to_sequences(X_train_)\n",
    "X_test  = tok.texts_to_sequences(X_test_)\n",
    "\n",
    "X_train = sequence.pad_sequences(X_train, maxlen=200)\n",
    "X_test  = sequence.pad_sequences(X_test,  maxlen=200)"
   ]
  },
  {
   "cell_type": "code",
   "execution_count": 18,
   "metadata": {
    "scrolled": true
   },
   "outputs": [
    {
     "data": {
      "text/plain": [
       "array([   0,    0,    0,    0,    0,    0,    0,    0,    0,    0,    0,\n",
       "          0,    0,    0,    0,    0,    0,    0,    0,    0,    0,    0,\n",
       "          0,    0,    0,    0,    0,    0,    0,    0,    0,    0,    0,\n",
       "          0,    0,    0,    0,    0,    0,    0,    0,    0,    0,    0,\n",
       "          0,    0,    0,    0,    0,    0,    0,    0,    0,    0,    0,\n",
       "          0,    0,    0,    0,    0,    0,    0,    0,    0,    0,    0,\n",
       "          0,    0,    0,    0,    0,    0,    0,    0,    0,    0,    0,\n",
       "          0,    0,    0,    0,    0,    0,    0,    0,    0,    0,    0,\n",
       "          0,    0,    0,    0,    0,    0,    0,    0,    0,    0,    0,\n",
       "          0,    0,    0,    0,    0,    0,    0,    0,    0,    0,    0,\n",
       "          0,    0,    0,    0,    0,    0,    0,    0,    0,    0,    0,\n",
       "          0,    0,    0,    0,    0,    0,    0,    0,    0,    0,    0,\n",
       "          0,    0,    0,    0,    0,    0,    0,    0,    0,    0,    0,\n",
       "          0,    0,    0,    0,    0,    0,    0,    0,    0,    0,    0,\n",
       "          0,    0,    0,    0,    0,    0,    0,    0,    0,    0,    0,\n",
       "          0,    0,    0,    0,    0,    0,    0,    0,    0,    0,    0,\n",
       "          0,    0,    0,    0,    0,    0,    0,    0, 3321,  676, 2131,\n",
       "          2,    3,  924, 1297,   22,  249,   67,   15, 5083,    1,   64,\n",
       "        242, 4257], dtype=int32)"
      ]
     },
     "execution_count": 18,
     "metadata": {},
     "output_type": "execute_result"
    }
   ],
   "source": [
    "X_train[0]"
   ]
  },
  {
   "cell_type": "code",
   "execution_count": 19,
   "metadata": {},
   "outputs": [
    {
     "data": {
      "text/plain": [
       "4806"
      ]
     },
     "execution_count": 19,
     "metadata": {},
     "output_type": "execute_result"
    }
   ],
   "source": [
    "len(X_train)"
   ]
  },
  {
   "cell_type": "code",
   "execution_count": 20,
   "metadata": {},
   "outputs": [
    {
     "data": {
      "text/plain": [
       "19053    0\n",
       "594      0\n",
       "24210    0\n",
       "13343    1\n",
       "13903    0\n",
       "6290     0\n",
       "7862     1\n",
       "13824    0\n",
       "24539    1\n",
       "23987    1\n",
       "Name: label, dtype: int64"
      ]
     },
     "execution_count": 20,
     "metadata": {},
     "output_type": "execute_result"
    }
   ],
   "source": [
    "Y_train[0:10]"
   ]
  },
  {
   "cell_type": "code",
   "execution_count": 21,
   "metadata": {},
   "outputs": [
    {
     "data": {
      "text/plain": [
       "4806"
      ]
     },
     "execution_count": 21,
     "metadata": {},
     "output_type": "execute_result"
    }
   ],
   "source": [
    "len(Y_train)"
   ]
  },
  {
   "cell_type": "code",
   "execution_count": 22,
   "metadata": {},
   "outputs": [
    {
     "data": {
      "text/plain": [
       "19053    0\n",
       "594      0\n",
       "24210    0\n",
       "13343    1\n",
       "13903    0\n",
       "6290     0\n",
       "7862     1\n",
       "13824    0\n",
       "24539    1\n",
       "23987    1\n",
       "31471    0\n",
       "1616     0\n",
       "30509    1\n",
       "25472    0\n",
       "18666    0\n",
       "14192    1\n",
       "127      1\n",
       "13238    0\n",
       "3271     0\n",
       "18494    1\n",
       "14377    1\n",
       "11257    1\n",
       "26447    0\n",
       "19267    1\n",
       "14270    0\n",
       "21465    0\n",
       "9967     0\n",
       "21562    0\n",
       "18038    1\n",
       "12932    0\n",
       "        ..\n",
       "3072     1\n",
       "18117    0\n",
       "1021     0\n",
       "9244     1\n",
       "12472    0\n",
       "24381    0\n",
       "2318     0\n",
       "4431     0\n",
       "28721    1\n",
       "7301     0\n",
       "9506     0\n",
       "5231     0\n",
       "25559    0\n",
       "20787    0\n",
       "21080    1\n",
       "24214    1\n",
       "17020    1\n",
       "10073    0\n",
       "23684    0\n",
       "4125     0\n",
       "19144    1\n",
       "28339    1\n",
       "26003    1\n",
       "234      0\n",
       "8255     1\n",
       "16080    0\n",
       "6030     0\n",
       "18127    0\n",
       "19235    0\n",
       "27176    1\n",
       "Name: label, dtype: int64"
      ]
     },
     "execution_count": 22,
     "metadata": {},
     "output_type": "execute_result"
    }
   ],
   "source": [
    "Y_train"
   ]
  },
  {
   "cell_type": "code",
   "execution_count": null,
   "metadata": {
    "collapsed": true
   },
   "outputs": [],
   "source": []
  },
  {
   "cell_type": "markdown",
   "metadata": {},
   "source": [
    "# 預先訓練好的詞向量在這裡讀"
   ]
  },
  {
   "cell_type": "code",
   "execution_count": 23,
   "metadata": {
    "collapsed": true
   },
   "outputs": [],
   "source": [
    "from pyfasttext import FastText"
   ]
  },
  {
   "cell_type": "code",
   "execution_count": 24,
   "metadata": {
    "collapsed": true
   },
   "outputs": [],
   "source": [
    "fasttext_model = FastText('./model/skip_model_13.bin')"
   ]
  },
  {
   "cell_type": "code",
   "execution_count": 25,
   "metadata": {
    "collapsed": true
   },
   "outputs": [],
   "source": [
    "words = []\n",
    "for iter in range(num_words):\n",
    "    words += [key for key,value in tok.word_index.items() if value==iter+1]"
   ]
  },
  {
   "cell_type": "code",
   "execution_count": 26,
   "metadata": {
    "scrolled": true
   },
   "outputs": [
    {
     "data": {
      "text/plain": [
       "13117"
      ]
     },
     "execution_count": 26,
     "metadata": {},
     "output_type": "execute_result"
    }
   ],
   "source": [
    "words[:10]\n",
    "\n",
    "len(words)"
   ]
  },
  {
   "cell_type": "code",
   "execution_count": null,
   "metadata": {
    "collapsed": true
   },
   "outputs": [],
   "source": []
  },
  {
   "cell_type": "code",
   "execution_count": 27,
   "metadata": {
    "collapsed": true
   },
   "outputs": [],
   "source": [
    "weights = np.zeros((num_words,10))\n",
    "count=0\n",
    "for idx, w in enumerate(words):\n",
    "    try:\n",
    "        weights[idx,:] = fasttext_model.get_numpy_vector(w)\n",
    "    except KeyError as e:\n",
    "        #pass\n",
    "        count=count+1"
   ]
  },
  {
   "cell_type": "code",
   "execution_count": 28,
   "metadata": {},
   "outputs": [
    {
     "data": {
      "text/plain": [
       "0"
      ]
     },
     "execution_count": 28,
     "metadata": {},
     "output_type": "execute_result"
    }
   ],
   "source": [
    "count"
   ]
  },
  {
   "cell_type": "code",
   "execution_count": null,
   "metadata": {
    "collapsed": true
   },
   "outputs": [],
   "source": []
  },
  {
   "cell_type": "code",
   "execution_count": 29,
   "metadata": {},
   "outputs": [
    {
     "data": {
      "text/plain": [
       "(20000, 10)"
      ]
     },
     "execution_count": 29,
     "metadata": {},
     "output_type": "execute_result"
    }
   ],
   "source": [
    "weights.shape"
   ]
  },
  {
   "cell_type": "code",
   "execution_count": 30,
   "metadata": {},
   "outputs": [
    {
     "data": {
      "text/plain": [
       "array([ 0.51421237,  0.33238244, -0.22854866, -0.07036001,  0.01268008,\n",
       "        0.08718   , -0.50573528, -0.16250093,  0.55880743,  0.27797019])"
      ]
     },
     "execution_count": 30,
     "metadata": {},
     "output_type": "execute_result"
    }
   ],
   "source": [
    "weights[0]"
   ]
  },
  {
   "cell_type": "code",
   "execution_count": 31,
   "metadata": {},
   "outputs": [
    {
     "data": {
      "text/plain": [
       "(20000, 10)"
      ]
     },
     "execution_count": 31,
     "metadata": {},
     "output_type": "execute_result"
    }
   ],
   "source": [
    "weights.shape"
   ]
  },
  {
   "cell_type": "code",
   "execution_count": null,
   "metadata": {
    "collapsed": true
   },
   "outputs": [],
   "source": []
  },
  {
   "cell_type": "markdown",
   "metadata": {},
   "source": [
    "# 自己繪圖展示train, validation, test準確率"
   ]
  },
  {
   "cell_type": "code",
   "execution_count": 32,
   "metadata": {},
   "outputs": [],
   "source": [
    "%matplotlib inline\n",
    "from keras.callbacks import Callback\n",
    "class LossHistory(Callback):\n",
    "    def on_train_begin(self, logs={}):\n",
    "        self.losses = []\n",
    "    def on_epoch_end(self,epoch, logs={}):\n",
    "        x, y = X_test, Y_test\n",
    "        lss, acc = self.model.evaluate(x, y, verbose=0)\n",
    "        #self.losses.append([logs.get('loss'),logs.get('acc'),logs.get('val_loss'),logs.get('val_acc'),lss, acc])\n",
    "        self.losses.append({'train_loss':logs.get('loss'),'train_metrics':logs.get('acc'),\n",
    "                            'val_loss':logs.get('val_loss'),'val_metrics':logs.get('val_acc'),\n",
    "                            'test_loss':lss,'test_metrics':acc,\n",
    "                           })\n",
    "        #trlss = logs.get('loss')\n",
    "        #tracc = logs.get('acc')\n",
    "        #valss = logs.get('val_loss')\n",
    "        #vaacc = logs.get('val_acc')\n",
    "        #print('\\nepochs:{}'.format(epoch))\n",
    "        #print('\\nTrain loss: {}, acc: {}'.format(trlss, tracc))\n",
    "        #print('\\nValidation loss: {}, acc: {}'.format(valss, vaacc)) \n",
    "        #print('\\nTesting loss: {}, acc: {}'.format(lss, acc))"
   ]
  },
  {
   "cell_type": "code",
   "execution_count": null,
   "metadata": {
    "collapsed": true
   },
   "outputs": [],
   "source": []
  },
  {
   "cell_type": "code",
   "execution_count": null,
   "metadata": {
    "collapsed": true
   },
   "outputs": [],
   "source": []
  },
  {
   "cell_type": "markdown",
   "metadata": {},
   "source": [
    "# LSTM"
   ]
  },
  {
   "cell_type": "code",
   "execution_count": 33,
   "metadata": {},
   "outputs": [
    {
     "name": "stdout",
     "output_type": "stream",
     "text": [
      "_________________________________________________________________\n",
      "Layer (type)                 Output Shape              Param #   \n",
      "=================================================================\n",
      "embedding_1 (Embedding)      (None, 200, 10)           200000    \n",
      "_________________________________________________________________\n",
      "dropout_1 (Dropout)          (None, 200, 10)           0         \n",
      "_________________________________________________________________\n",
      "lstm_1 (LSTM)                (None, 16)                1728      \n",
      "_________________________________________________________________\n",
      "dense_1 (Dense)              (None, 128)               2176      \n",
      "_________________________________________________________________\n",
      "dropout_2 (Dropout)          (None, 128)               0         \n",
      "_________________________________________________________________\n",
      "activation_1 (Activation)    (None, 128)               0         \n",
      "_________________________________________________________________\n",
      "dense_2 (Dense)              (None, 1)                 129       \n",
      "_________________________________________________________________\n",
      "activation_2 (Activation)    (None, 1)                 0         \n",
      "=================================================================\n",
      "Total params: 204,033\n",
      "Trainable params: 204,033\n",
      "Non-trainable params: 0\n",
      "_________________________________________________________________\n"
     ]
    }
   ],
   "source": [
    "model = Sequential()\n",
    "model.add(Embedding(num_words, 10, input_length= 200))\n",
    "model.add(Dropout(0.5))\n",
    "\n",
    "model.add(LSTM(16,activation='relu'))\n",
    "\n",
    "model.add(Dense(128))\n",
    "model.add(Dropout(0.5))\n",
    "model.add(Activation('relu'))\n",
    "\n",
    "#model.add(GlobalAveragePooling1D())\n",
    "#model.add(Dense(1, activation='softmax'))\n",
    "\n",
    "model.add(Dense(1))\n",
    "model.add(Activation('sigmoid'))\n",
    "\n",
    "#詞嵌入 採用預訓練的 向量\n",
    "model.layers[0].set_weights([weights])\n",
    "model.layers[0].trainable = True\n",
    "\n",
    "#optim = Adam(lr=0.001, beta_1=0.9, beta_2=0.999, epsilon=1e-08, decay=0.0)\n",
    "\n",
    "model.compile(loss='binary_crossentropy', optimizer = 'Adam' , metrics=['accuracy'])\n",
    "model.summary()\n"
   ]
  },
  {
   "cell_type": "code",
   "execution_count": null,
   "metadata": {
    "collapsed": true
   },
   "outputs": [],
   "source": []
  },
  {
   "cell_type": "code",
   "execution_count": 34,
   "metadata": {},
   "outputs": [
    {
     "name": "stdout",
     "output_type": "stream",
     "text": [
      "Train on 4325 samples, validate on 481 samples\n",
      "Epoch 1/10\n",
      "4325/4325 [==============================] - 32s 7ms/step - loss: 0.6902 - acc: 0.5378 - val_loss: 0.6868 - val_acc: 0.5676\n",
      "Epoch 2/10\n",
      "4325/4325 [==============================] - 26s 6ms/step - loss: 0.6793 - acc: 0.5704 - val_loss: 0.6675 - val_acc: 0.5967\n",
      "Epoch 3/10\n",
      "4325/4325 [==============================] - 25s 6ms/step - loss: 0.6533 - acc: 0.6234 - val_loss: 0.6423 - val_acc: 0.6632\n",
      "Epoch 4/10\n",
      "4325/4325 [==============================] - 26s 6ms/step - loss: 0.6153 - acc: 0.6664 - val_loss: 0.5978 - val_acc: 0.6757\n",
      "Epoch 5/10\n",
      "4325/4325 [==============================] - 26s 6ms/step - loss: 0.5829 - acc: 0.6957 - val_loss: 0.5768 - val_acc: 0.6965\n",
      "Epoch 6/10\n",
      "4325/4325 [==============================] - 27s 6ms/step - loss: 0.5578 - acc: 0.7172 - val_loss: 0.5614 - val_acc: 0.7235\n",
      "Epoch 7/10\n",
      "4325/4325 [==============================] - 26s 6ms/step - loss: 0.5347 - acc: 0.7385 - val_loss: 0.5446 - val_acc: 0.7297\n",
      "Epoch 8/10\n",
      "4325/4325 [==============================] - 25s 6ms/step - loss: 0.5110 - acc: 0.7496 - val_loss: 0.5255 - val_acc: 0.7297\n",
      "Epoch 9/10\n",
      "4325/4325 [==============================] - 29s 7ms/step - loss: 0.4738 - acc: 0.7801 - val_loss: 0.5217 - val_acc: 0.7277\n",
      "Epoch 10/10\n",
      "4325/4325 [==============================] - 34s 8ms/step - loss: 0.4656 - acc: 0.7877 - val_loss: 0.5042 - val_acc: 0.7380\n",
      "CPU times: user 4min 27s, sys: 5.98 s, total: 4min 33s\n",
      "Wall time: 6min 37s\n"
     ]
    }
   ],
   "source": [
    "%%time\n",
    "history = LossHistory()\n",
    "hist=model.fit(X_train, Y_train, batch_size= 32, epochs=10, validation_split=0.1, callbacks=[history])"
   ]
  },
  {
   "cell_type": "code",
   "execution_count": null,
   "metadata": {
    "collapsed": true
   },
   "outputs": [],
   "source": []
  },
  {
   "cell_type": "code",
   "execution_count": 35,
   "metadata": {
    "collapsed": true
   },
   "outputs": [],
   "source": [
    "hist_info = pd.DataFrame(history.losses)"
   ]
  },
  {
   "cell_type": "code",
   "execution_count": 36,
   "metadata": {},
   "outputs": [
    {
     "data": {
      "text/html": [
       "<div>\n",
       "<table border=\"1\" class=\"dataframe\">\n",
       "  <thead>\n",
       "    <tr style=\"text-align: right;\">\n",
       "      <th></th>\n",
       "      <th>test_loss</th>\n",
       "      <th>test_metrics</th>\n",
       "      <th>train_loss</th>\n",
       "      <th>train_metrics</th>\n",
       "      <th>val_loss</th>\n",
       "      <th>val_metrics</th>\n",
       "    </tr>\n",
       "  </thead>\n",
       "  <tbody>\n",
       "    <tr>\n",
       "      <th>0</th>\n",
       "      <td>0.685894</td>\n",
       "      <td>0.555469</td>\n",
       "      <td>0.690246</td>\n",
       "      <td>0.537803</td>\n",
       "      <td>0.686850</td>\n",
       "      <td>0.567568</td>\n",
       "    </tr>\n",
       "    <tr>\n",
       "      <th>1</th>\n",
       "      <td>0.666706</td>\n",
       "      <td>0.615489</td>\n",
       "      <td>0.679275</td>\n",
       "      <td>0.570405</td>\n",
       "      <td>0.667516</td>\n",
       "      <td>0.596674</td>\n",
       "    </tr>\n",
       "    <tr>\n",
       "      <th>2</th>\n",
       "      <td>0.640850</td>\n",
       "      <td>0.655276</td>\n",
       "      <td>0.653260</td>\n",
       "      <td>0.623353</td>\n",
       "      <td>0.642313</td>\n",
       "      <td>0.663202</td>\n",
       "    </tr>\n",
       "    <tr>\n",
       "      <th>3</th>\n",
       "      <td>0.593330</td>\n",
       "      <td>0.683570</td>\n",
       "      <td>0.615330</td>\n",
       "      <td>0.666358</td>\n",
       "      <td>0.597758</td>\n",
       "      <td>0.675676</td>\n",
       "    </tr>\n",
       "    <tr>\n",
       "      <th>4</th>\n",
       "      <td>0.568172</td>\n",
       "      <td>0.698237</td>\n",
       "      <td>0.582950</td>\n",
       "      <td>0.695723</td>\n",
       "      <td>0.576770</td>\n",
       "      <td>0.696466</td>\n",
       "    </tr>\n",
       "    <tr>\n",
       "      <th>5</th>\n",
       "      <td>0.557311</td>\n",
       "      <td>0.717533</td>\n",
       "      <td>0.557794</td>\n",
       "      <td>0.717225</td>\n",
       "      <td>0.561403</td>\n",
       "      <td>0.723493</td>\n",
       "    </tr>\n",
       "    <tr>\n",
       "      <th>6</th>\n",
       "      <td>0.535881</td>\n",
       "      <td>0.729599</td>\n",
       "      <td>0.534707</td>\n",
       "      <td>0.738497</td>\n",
       "      <td>0.544645</td>\n",
       "      <td>0.729730</td>\n",
       "    </tr>\n",
       "    <tr>\n",
       "      <th>7</th>\n",
       "      <td>0.515045</td>\n",
       "      <td>0.743954</td>\n",
       "      <td>0.510971</td>\n",
       "      <td>0.749595</td>\n",
       "      <td>0.525454</td>\n",
       "      <td>0.729730</td>\n",
       "    </tr>\n",
       "    <tr>\n",
       "      <th>8</th>\n",
       "      <td>0.511012</td>\n",
       "      <td>0.745878</td>\n",
       "      <td>0.473823</td>\n",
       "      <td>0.780116</td>\n",
       "      <td>0.521729</td>\n",
       "      <td>0.727651</td>\n",
       "    </tr>\n",
       "    <tr>\n",
       "      <th>9</th>\n",
       "      <td>0.492474</td>\n",
       "      <td>0.758777</td>\n",
       "      <td>0.465560</td>\n",
       "      <td>0.787746</td>\n",
       "      <td>0.504164</td>\n",
       "      <td>0.738046</td>\n",
       "    </tr>\n",
       "  </tbody>\n",
       "</table>\n",
       "</div>"
      ],
      "text/plain": [
       "   test_loss  test_metrics  train_loss  train_metrics  val_loss  val_metrics\n",
       "0   0.685894      0.555469    0.690246       0.537803  0.686850     0.567568\n",
       "1   0.666706      0.615489    0.679275       0.570405  0.667516     0.596674\n",
       "2   0.640850      0.655276    0.653260       0.623353  0.642313     0.663202\n",
       "3   0.593330      0.683570    0.615330       0.666358  0.597758     0.675676\n",
       "4   0.568172      0.698237    0.582950       0.695723  0.576770     0.696466\n",
       "5   0.557311      0.717533    0.557794       0.717225  0.561403     0.723493\n",
       "6   0.535881      0.729599    0.534707       0.738497  0.544645     0.729730\n",
       "7   0.515045      0.743954    0.510971       0.749595  0.525454     0.729730\n",
       "8   0.511012      0.745878    0.473823       0.780116  0.521729     0.727651\n",
       "9   0.492474      0.758777    0.465560       0.787746  0.504164     0.738046"
      ]
     },
     "execution_count": 36,
     "metadata": {},
     "output_type": "execute_result"
    }
   ],
   "source": [
    "hist_info"
   ]
  },
  {
   "cell_type": "code",
   "execution_count": 37,
   "metadata": {},
   "outputs": [
    {
     "data": {
      "text/plain": [
       "<matplotlib.axes._subplots.AxesSubplot at 0x7fd024024978>"
      ]
     },
     "execution_count": 37,
     "metadata": {},
     "output_type": "execute_result"
    },
    {
     "data": {
      "image/png": "[encoded data removed]",
      "text/plain": [
       "<matplotlib.figure.Figure at 0x7fd024024160>"
      ]
     },
     "metadata": {},
     "output_type": "display_data"
    }
   ],
   "source": [
    "hist_info[['train_loss','val_loss', 'test_loss']].plot()"
   ]
  },
  {
   "cell_type": "code",
   "execution_count": 38,
   "metadata": {
    "scrolled": false
   },
   "outputs": [
    {
     "data": {
      "text/plain": [
       "<matplotlib.axes._subplots.AxesSubplot at 0x7fd0240240f0>"
      ]
     },
     "execution_count": 38,
     "metadata": {},
     "output_type": "execute_result"
    },
    {
     "data": {
      "image/png": "[encoded data removed]",
      "text/plain": [
       "<matplotlib.figure.Figure at 0x7fd01f7a8cf8>"
      ]
     },
     "metadata": {},
     "output_type": "display_data"
    }
   ],
   "source": [
    "hist_info[['train_metrics', 'val_metrics','test_metrics',]].plot()"
   ]
  },
  {
   "cell_type": "code",
   "execution_count": null,
   "metadata": {
    "collapsed": true
   },
   "outputs": [],
   "source": []
  },
  {
   "cell_type": "code",
   "execution_count": null,
   "metadata": {
    "collapsed": true
   },
   "outputs": [],
   "source": []
  },
  {
   "cell_type": "code",
   "execution_count": null,
   "metadata": {
    "collapsed": true
   },
   "outputs": [],
   "source": []
  },
  {
   "cell_type": "markdown",
   "metadata": {},
   "source": [
    "# CNN"
   ]
  },
  {
   "cell_type": "code",
   "execution_count": 39,
   "metadata": {
    "collapsed": true
   },
   "outputs": [],
   "source": [
    "from keras.models import Sequential\n",
    "from keras.layers import Dense\n",
    "from keras.layers import Flatten\n",
    "from keras.layers.convolutional import Convolution1D\n",
    "from keras.layers.convolutional import MaxPooling1D\n",
    "from keras.layers.embeddings import Embedding\n",
    "from keras.layers.core import Dense, Dropout, Activation\n",
    "from keras import metrics\n",
    "#from keras.preprocessing import sequence"
   ]
  },
  {
   "cell_type": "code",
   "execution_count": 40,
   "metadata": {
    "_cell_guid": "b8f524ba-611f-67b9-5973-e1d3d7b3ee08"
   },
   "outputs": [
    {
     "name": "stdout",
     "output_type": "stream",
     "text": [
      "_________________________________________________________________\n",
      "Layer (type)                 Output Shape              Param #   \n",
      "=================================================================\n",
      "embedding_2 (Embedding)      (None, 200, 10)           200000    \n",
      "_________________________________________________________________\n",
      "conv1d_1 (Conv1D)            (None, 198, 250)          7750      \n",
      "_________________________________________________________________\n",
      "max_pooling1d_1 (MaxPooling1 (None, 99, 250)           0         \n",
      "_________________________________________________________________\n",
      "flatten_1 (Flatten)          (None, 24750)             0         \n",
      "_________________________________________________________________\n",
      "dense_3 (Dense)              (None, 250)               6187750   \n",
      "_________________________________________________________________\n",
      "dropout_3 (Dropout)          (None, 250)               0         \n",
      "_________________________________________________________________\n",
      "activation_3 (Activation)    (None, 250)               0         \n",
      "_________________________________________________________________\n",
      "dense_4 (Dense)              (None, 1)                 251       \n",
      "_________________________________________________________________\n",
      "activation_4 (Activation)    (None, 1)                 0         \n",
      "=================================================================\n",
      "Total params: 6,395,751\n",
      "Trainable params: 6,395,751\n",
      "Non-trainable params: 0\n",
      "_________________________________________________________________\n"
     ]
    }
   ],
   "source": [
    "#nb_classes = 2\n",
    "\n",
    "model = Sequential()\n",
    "model.add(Embedding(num_words, 10, input_length= 200))\n",
    "model.add(Convolution1D(activation=\"relu\", filters=250, kernel_size=3, strides=1, padding=\"valid\"))\n",
    "model.add(MaxPooling1D(pool_size = 2))\n",
    "model.add(Flatten())\n",
    "model.add(Dense(250)) \n",
    "model.add(Dropout(0.2)) \n",
    "model.add(Activation('relu'))\n",
    "model.add(Dense(1))\n",
    "model.add(Activation('sigmoid'))\n",
    "\n",
    "#詞嵌入 採用預訓練的 向量\n",
    "model.layers[0].set_weights([weights])\n",
    "model.layers[0].trainable = True\n",
    "\n",
    "#optim = Adam(lr=0.001, beta_1=0.9, beta_2=0.999, epsilon=1e-08, decay=0.0)\n",
    "\n",
    "model.compile(loss='binary_crossentropy', optimizer = 'Adam' , metrics=['accuracy'])\n",
    "model.summary()"
   ]
  },
  {
   "cell_type": "code",
   "execution_count": null,
   "metadata": {
    "collapsed": true
   },
   "outputs": [],
   "source": []
  },
  {
   "cell_type": "code",
   "execution_count": 41,
   "metadata": {},
   "outputs": [
    {
     "name": "stdout",
     "output_type": "stream",
     "text": [
      "Train on 4325 samples, validate on 481 samples\n",
      "Epoch 1/10\n",
      "4325/4325 [==============================] - 32s 7ms/step - loss: 0.7146 - acc: 0.5748 - val_loss: 0.6714 - val_acc: 0.5884\n",
      "Epoch 2/10\n",
      "4325/4325 [==============================] - 30s 7ms/step - loss: 0.5916 - acc: 0.6911 - val_loss: 0.6095 - val_acc: 0.6902\n",
      "Epoch 3/10\n",
      "4325/4325 [==============================] - 22s 5ms/step - loss: 0.4654 - acc: 0.7857 - val_loss: 0.5382 - val_acc: 0.7214\n",
      "Epoch 4/10\n",
      "4325/4325 [==============================] - 23s 5ms/step - loss: 0.3550 - acc: 0.8504 - val_loss: 0.5238 - val_acc: 0.7588\n",
      "Epoch 5/10\n",
      "4325/4325 [==============================] - 25s 6ms/step - loss: 0.2559 - acc: 0.9010 - val_loss: 0.5175 - val_acc: 0.7796\n",
      "Epoch 6/10\n",
      "4325/4325 [==============================] - 28s 6ms/step - loss: 0.1861 - acc: 0.9362 - val_loss: 0.5728 - val_acc: 0.7879\n",
      "Epoch 7/10\n",
      "4325/4325 [==============================] - 28s 7ms/step - loss: 0.1244 - acc: 0.9586 - val_loss: 0.6075 - val_acc: 0.8067\n",
      "Epoch 8/10\n",
      "4325/4325 [==============================] - 28s 7ms/step - loss: 0.0809 - acc: 0.9753 - val_loss: 0.6741 - val_acc: 0.7963\n",
      "Epoch 9/10\n",
      "4325/4325 [==============================] - 29s 7ms/step - loss: 0.0565 - acc: 0.9824 - val_loss: 0.7811 - val_acc: 0.7817\n",
      "Epoch 10/10\n",
      "4325/4325 [==============================] - 29s 7ms/step - loss: 0.0372 - acc: 0.9912 - val_loss: 0.8350 - val_acc: 0.7879\n",
      "CPU times: user 4min 4s, sys: 46.2 s, total: 4min 51s\n",
      "Wall time: 6min 35s\n"
     ]
    }
   ],
   "source": [
    "%%time\n",
    "history = LossHistory()\n",
    "hist=model.fit(X_train, Y_train, batch_size= 32, epochs=10, validation_split=0.1, callbacks=[history])"
   ]
  },
  {
   "cell_type": "code",
   "execution_count": null,
   "metadata": {
    "collapsed": true
   },
   "outputs": [],
   "source": []
  },
  {
   "cell_type": "code",
   "execution_count": 42,
   "metadata": {
    "collapsed": true
   },
   "outputs": [],
   "source": [
    "hist_info = pd.DataFrame(history.losses)"
   ]
  },
  {
   "cell_type": "code",
   "execution_count": 43,
   "metadata": {},
   "outputs": [
    {
     "data": {
      "text/html": [
       "<div>\n",
       "<table border=\"1\" class=\"dataframe\">\n",
       "  <thead>\n",
       "    <tr style=\"text-align: right;\">\n",
       "      <th></th>\n",
       "      <th>test_loss</th>\n",
       "      <th>test_metrics</th>\n",
       "      <th>train_loss</th>\n",
       "      <th>train_metrics</th>\n",
       "      <th>val_loss</th>\n",
       "      <th>val_metrics</th>\n",
       "    </tr>\n",
       "  </thead>\n",
       "  <tbody>\n",
       "    <tr>\n",
       "      <th>0</th>\n",
       "      <td>0.665222</td>\n",
       "      <td>0.587767</td>\n",
       "      <td>0.714555</td>\n",
       "      <td>0.574798</td>\n",
       "      <td>0.671360</td>\n",
       "      <td>0.588358</td>\n",
       "    </tr>\n",
       "    <tr>\n",
       "      <th>1</th>\n",
       "      <td>0.589629</td>\n",
       "      <td>0.690227</td>\n",
       "      <td>0.591602</td>\n",
       "      <td>0.691098</td>\n",
       "      <td>0.609536</td>\n",
       "      <td>0.690229</td>\n",
       "    </tr>\n",
       "    <tr>\n",
       "      <th>2</th>\n",
       "      <td>0.523932</td>\n",
       "      <td>0.742081</td>\n",
       "      <td>0.465354</td>\n",
       "      <td>0.785665</td>\n",
       "      <td>0.538192</td>\n",
       "      <td>0.721414</td>\n",
       "    </tr>\n",
       "    <tr>\n",
       "      <th>3</th>\n",
       "      <td>0.506765</td>\n",
       "      <td>0.771727</td>\n",
       "      <td>0.355040</td>\n",
       "      <td>0.850405</td>\n",
       "      <td>0.523777</td>\n",
       "      <td>0.758836</td>\n",
       "    </tr>\n",
       "    <tr>\n",
       "      <th>4</th>\n",
       "      <td>0.529503</td>\n",
       "      <td>0.784158</td>\n",
       "      <td>0.255891</td>\n",
       "      <td>0.901040</td>\n",
       "      <td>0.517469</td>\n",
       "      <td>0.779626</td>\n",
       "    </tr>\n",
       "    <tr>\n",
       "      <th>5</th>\n",
       "      <td>0.565415</td>\n",
       "      <td>0.788162</td>\n",
       "      <td>0.186094</td>\n",
       "      <td>0.936185</td>\n",
       "      <td>0.572834</td>\n",
       "      <td>0.787942</td>\n",
       "    </tr>\n",
       "    <tr>\n",
       "      <th>6</th>\n",
       "      <td>0.621852</td>\n",
       "      <td>0.794508</td>\n",
       "      <td>0.124382</td>\n",
       "      <td>0.958613</td>\n",
       "      <td>0.607522</td>\n",
       "      <td>0.806653</td>\n",
       "    </tr>\n",
       "    <tr>\n",
       "      <th>7</th>\n",
       "      <td>0.696115</td>\n",
       "      <td>0.788891</td>\n",
       "      <td>0.080869</td>\n",
       "      <td>0.975260</td>\n",
       "      <td>0.674125</td>\n",
       "      <td>0.796258</td>\n",
       "    </tr>\n",
       "    <tr>\n",
       "      <th>8</th>\n",
       "      <td>0.833688</td>\n",
       "      <td>0.775992</td>\n",
       "      <td>0.056452</td>\n",
       "      <td>0.982428</td>\n",
       "      <td>0.781066</td>\n",
       "      <td>0.781705</td>\n",
       "    </tr>\n",
       "    <tr>\n",
       "      <th>9</th>\n",
       "      <td>0.846611</td>\n",
       "      <td>0.789723</td>\n",
       "      <td>0.037237</td>\n",
       "      <td>0.991214</td>\n",
       "      <td>0.835032</td>\n",
       "      <td>0.787942</td>\n",
       "    </tr>\n",
       "  </tbody>\n",
       "</table>\n",
       "</div>"
      ],
      "text/plain": [
       "   test_loss  test_metrics  train_loss  train_metrics  val_loss  val_metrics\n",
       "0   0.665222      0.587767    0.714555       0.574798  0.671360     0.588358\n",
       "1   0.589629      0.690227    0.591602       0.691098  0.609536     0.690229\n",
       "2   0.523932      0.742081    0.465354       0.785665  0.538192     0.721414\n",
       "3   0.506765      0.771727    0.355040       0.850405  0.523777     0.758836\n",
       "4   0.529503      0.784158    0.255891       0.901040  0.517469     0.779626\n",
       "5   0.565415      0.788162    0.186094       0.936185  0.572834     0.787942\n",
       "6   0.621852      0.794508    0.124382       0.958613  0.607522     0.806653\n",
       "7   0.696115      0.788891    0.080869       0.975260  0.674125     0.796258\n",
       "8   0.833688      0.775992    0.056452       0.982428  0.781066     0.781705\n",
       "9   0.846611      0.789723    0.037237       0.991214  0.835032     0.787942"
      ]
     },
     "execution_count": 43,
     "metadata": {},
     "output_type": "execute_result"
    }
   ],
   "source": [
    "hist_info"
   ]
  },
  {
   "cell_type": "code",
   "execution_count": 44,
   "metadata": {},
   "outputs": [
    {
     "data": {
      "text/plain": [
       "<matplotlib.axes._subplots.AxesSubplot at 0x7fd0240e2e80>"
      ]
     },
     "execution_count": 44,
     "metadata": {},
     "output_type": "execute_result"
    },
    {
     "data": {
      "image/png": "[encoded data removed]",
      "text/plain": [
       "<matplotlib.figure.Figure at 0x7fd0240d47b8>"
      ]
     },
     "metadata": {},
     "output_type": "display_data"
    }
   ],
   "source": [
    "hist_info[['train_loss','val_loss', 'test_loss']].plot()"
   ]
  },
  {
   "cell_type": "code",
   "execution_count": 45,
   "metadata": {
    "scrolled": true
   },
   "outputs": [
    {
     "data": {
      "text/plain": [
       "<matplotlib.axes._subplots.AxesSubplot at 0x7fd01f70fc88>"
      ]
     },
     "execution_count": 45,
     "metadata": {},
     "output_type": "execute_result"
    },
    {
     "data": {
      "image/png": "[encoded data removed]",
      "text/plain": [
       "<matplotlib.figure.Figure at 0x7fd01b5b5630>"
      ]
     },
     "metadata": {},
     "output_type": "display_data"
    }
   ],
   "source": [
    "hist_info[['train_metrics', 'val_metrics','test_metrics',]].plot()"
   ]
  },
  {
   "cell_type": "code",
   "execution_count": null,
   "metadata": {
    "collapsed": true
   },
   "outputs": [],
   "source": []
  },
  {
   "cell_type": "code",
   "execution_count": null,
   "metadata": {
    "collapsed": true
   },
   "outputs": [],
   "source": []
  },
  {
   "cell_type": "code",
   "execution_count": null,
   "metadata": {
    "collapsed": true
   },
   "outputs": [],
   "source": []
  }
 ],
 "metadata": {
  "kernelspec": {
   "display_name": "Python 3",
   "language": "python",
   "name": "python3"
  },
  "language_info": {
   "codemirror_mode": {
    "name": "ipython",
    "version": 3
   },
   "file_extension": ".py",
   "mimetype": "text/x-python",
   "name": "python",
   "nbconvert_exporter": "python",
   "pygments_lexer": "ipython3",
   "version": "3.6.5"
  }
 },
 "nbformat": 4,
 "nbformat_minor": 2
}
