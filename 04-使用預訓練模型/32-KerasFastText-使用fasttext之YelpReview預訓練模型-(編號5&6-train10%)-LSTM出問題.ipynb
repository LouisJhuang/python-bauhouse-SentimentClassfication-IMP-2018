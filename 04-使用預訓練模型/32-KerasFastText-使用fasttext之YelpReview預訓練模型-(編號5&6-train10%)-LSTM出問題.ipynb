{
 "cells": [
  {
   "cell_type": "markdown",
   "metadata": {},
   "source": [
    "# 使用遷移學習Transfer Learning Sentiment analysis\n",
    "\n",
    "# KerasFastText-使用fasttext之YelpReview預訓練模型"
   ]
  },
  {
   "cell_type": "code",
   "execution_count": null,
   "metadata": {
    "collapsed": true
   },
   "outputs": [],
   "source": [
    " "
   ]
  },
  {
   "cell_type": "code",
   "execution_count": null,
   "metadata": {
    "collapsed": true
   },
   "outputs": [],
   "source": []
  },
  {
   "cell_type": "code",
   "execution_count": null,
   "metadata": {
    "collapsed": true
   },
   "outputs": [],
   "source": []
  },
  {
   "cell_type": "code",
   "execution_count": 1,
   "metadata": {
    "collapsed": false,
    "scrolled": true
   },
   "outputs": [
    {
     "name": "stderr",
     "output_type": "stream",
     "text": [
      "Using TensorFlow backend.\n"
     ]
    }
   ],
   "source": [
    "import copy\n",
    "import numpy as np\n",
    "import pandas as pd\n",
    "# import matplotlib.pyplot as plt\n",
    "import sys\n",
    "import os\n",
    "import re\n",
    "\n",
    "# from __future__ import print_function\n",
    "import numpy as np\n",
    "np.random.seed(1337)  # for reproducibility\n",
    "\n",
    "from keras.models import Sequential\n",
    "from keras.layers import Dense, Dropout, Activation, Flatten, GlobalAveragePooling1D\n",
    "from keras.optimizers import SGD, RMSprop\n",
    "from keras.utils import np_utils\n",
    "from keras.layers.convolutional import Convolution1D, MaxPooling1D, ZeroPadding1D, AveragePooling1D\n",
    "from keras.callbacks import EarlyStopping\n",
    "from keras.layers.normalization import BatchNormalization\n",
    "from keras.preprocessing import sequence\n",
    "from keras.layers.embeddings import Embedding\n",
    "from keras.layers.recurrent import SimpleRNN, LSTM, GRU\n",
    "from keras.layers.wrappers import TimeDistributed\n",
    "from keras.preprocessing.text import Tokenizer\n",
    "from keras.callbacks import Callback\n",
    "from keras.optimizers import *"
   ]
  },
  {
   "cell_type": "code",
   "execution_count": null,
   "metadata": {
    "collapsed": true
   },
   "outputs": [],
   "source": []
  },
  {
   "cell_type": "code",
   "execution_count": null,
   "metadata": {
    "collapsed": true
   },
   "outputs": [],
   "source": []
  },
  {
   "cell_type": "markdown",
   "metadata": {
    "collapsed": true
   },
   "source": [
    "# Hotel data格式前處理\n",
    "\n",
    "透過clean_dataset整理資料\n",
    "\n",
    "label必須編碼為0,1,2,3,.."
   ]
  },
  {
   "cell_type": "code",
   "execution_count": 2,
   "metadata": {
    "collapsed": true
   },
   "outputs": [],
   "source": [
    "import pandas as pd"
   ]
  },
  {
   "cell_type": "code",
   "execution_count": 3,
   "metadata": {
    "collapsed": false
   },
   "outputs": [],
   "source": [
    "data=pd.read_csv('./data/hotel_data.csv',encoding='utf8')\n",
    "data = data[['text','polarity']]"
   ]
  },
  {
   "cell_type": "code",
   "execution_count": 4,
   "metadata": {
    "collapsed": false
   },
   "outputs": [
    {
     "data": {
      "text/html": [
       "<div>\n",
       "<table border=\"1\" class=\"dataframe\">\n",
       "  <thead>\n",
       "    <tr style=\"text-align: right;\">\n",
       "      <th></th>\n",
       "      <th>text</th>\n",
       "      <th>polarity</th>\n",
       "    </tr>\n",
       "  </thead>\n",
       "  <tbody>\n",
       "    <tr>\n",
       "      <th>0</th>\n",
       "      <td>My daughter and I just returned from a four ni...</td>\n",
       "      <td>NEGATIVE</td>\n",
       "    </tr>\n",
       "    <tr>\n",
       "      <th>1</th>\n",
       "      <td>I had searched for a good hotel at a rate of u...</td>\n",
       "      <td>OBJECTIVE</td>\n",
       "    </tr>\n",
       "    <tr>\n",
       "      <th>2</th>\n",
       "      <td>Big mistake.</td>\n",
       "      <td>NEGATIVE</td>\n",
       "    </tr>\n",
       "    <tr>\n",
       "      <th>3</th>\n",
       "      <td>Our room was tiny,</td>\n",
       "      <td>NEGATIVE</td>\n",
       "    </tr>\n",
       "    <tr>\n",
       "      <th>4</th>\n",
       "      <td>and the bath was small too.</td>\n",
       "      <td>NEGATIVE</td>\n",
       "    </tr>\n",
       "    <tr>\n",
       "      <th>5</th>\n",
       "      <td>The public areas were somewhat dingy and showe...</td>\n",
       "      <td>NEGATIVE</td>\n",
       "    </tr>\n",
       "    <tr>\n",
       "      <th>6</th>\n",
       "      <td>Even the bath towels were worn and becoming st...</td>\n",
       "      <td>NEGATIVE</td>\n",
       "    </tr>\n",
       "    <tr>\n",
       "      <th>7</th>\n",
       "      <td>Speaking of such, the maid did not replace sha...</td>\n",
       "      <td>NEGATIVE</td>\n",
       "    </tr>\n",
       "    <tr>\n",
       "      <th>8</th>\n",
       "      <td>You had to put a sign on the bed if you wanted...</td>\n",
       "      <td>NEGATIVE</td>\n",
       "    </tr>\n",
       "    <tr>\n",
       "      <th>9</th>\n",
       "      <td>The minibar was one of the kind that you have ...</td>\n",
       "      <td>NEGATIVE</td>\n",
       "    </tr>\n",
       "  </tbody>\n",
       "</table>\n",
       "</div>"
      ],
      "text/plain": [
       "                                                text   polarity\n",
       "0  My daughter and I just returned from a four ni...   NEGATIVE\n",
       "1  I had searched for a good hotel at a rate of u...  OBJECTIVE\n",
       "2                                       Big mistake.   NEGATIVE\n",
       "3                                 Our room was tiny,   NEGATIVE\n",
       "4                        and the bath was small too.   NEGATIVE\n",
       "5  The public areas were somewhat dingy and showe...   NEGATIVE\n",
       "6  Even the bath towels were worn and becoming st...   NEGATIVE\n",
       "7  Speaking of such, the maid did not replace sha...   NEGATIVE\n",
       "8  You had to put a sign on the bed if you wanted...   NEGATIVE\n",
       "9  The minibar was one of the kind that you have ...   NEGATIVE"
      ]
     },
     "execution_count": 4,
     "metadata": {},
     "output_type": "execute_result"
    }
   ],
   "source": [
    "data.head(10)"
   ]
  },
  {
   "cell_type": "code",
   "execution_count": 5,
   "metadata": {
    "collapsed": false
   },
   "outputs": [
    {
     "name": "stdout",
     "output_type": "stream",
     "text": [
      "23046\n",
      "25020\n",
      "15200\n"
     ]
    }
   ],
   "source": [
    "print(data[ data['polarity'] == 'POSITIVE'].size)\n",
    "print(data[ data['polarity'] == 'NEGATIVE'].size)\n",
    "print(data[ data['polarity'] == 'OBJECTIVE'].size)"
   ]
  },
  {
   "cell_type": "code",
   "execution_count": null,
   "metadata": {
    "collapsed": true
   },
   "outputs": [],
   "source": []
  },
  {
   "cell_type": "code",
   "execution_count": 6,
   "metadata": {
    "collapsed": true
   },
   "outputs": [],
   "source": [
    "data = data[ (data['polarity'] == 'POSITIVE') |(data['polarity'] == 'NEGATIVE')]"
   ]
  },
  {
   "cell_type": "code",
   "execution_count": 7,
   "metadata": {
    "collapsed": false
   },
   "outputs": [
    {
     "name": "stdout",
     "output_type": "stream",
     "text": [
      "23046\n",
      "25020\n",
      "0\n"
     ]
    }
   ],
   "source": [
    "print(data[ data['polarity'] == 'POSITIVE'].size)\n",
    "print(data[ data['polarity'] == 'NEGATIVE'].size)\n",
    "print(data[ data['polarity'] == 'OBJECTIVE'].size)"
   ]
  },
  {
   "cell_type": "code",
   "execution_count": null,
   "metadata": {
    "collapsed": true
   },
   "outputs": [],
   "source": []
  },
  {
   "cell_type": "code",
   "execution_count": 8,
   "metadata": {
    "collapsed": true
   },
   "outputs": [],
   "source": [
    "data['polarity'] = data['polarity'].replace({'POSITIVE': 1, 'NEGATIVE': 0})"
   ]
  },
  {
   "cell_type": "code",
   "execution_count": null,
   "metadata": {
    "collapsed": true
   },
   "outputs": [],
   "source": []
  },
  {
   "cell_type": "code",
   "execution_count": 9,
   "metadata": {
    "collapsed": true
   },
   "outputs": [],
   "source": [
    "data = data.rename(columns={'polarity':'label'})"
   ]
  },
  {
   "cell_type": "code",
   "execution_count": null,
   "metadata": {
    "collapsed": true
   },
   "outputs": [],
   "source": []
  },
  {
   "cell_type": "code",
   "execution_count": 10,
   "metadata": {
    "collapsed": false
   },
   "outputs": [
    {
     "data": {
      "text/html": [
       "<div>\n",
       "<table border=\"1\" class=\"dataframe\">\n",
       "  <thead>\n",
       "    <tr style=\"text-align: right;\">\n",
       "      <th></th>\n",
       "      <th>text</th>\n",
       "      <th>label</th>\n",
       "    </tr>\n",
       "  </thead>\n",
       "  <tbody>\n",
       "    <tr>\n",
       "      <th>0</th>\n",
       "      <td>My daughter and I just returned from a four ni...</td>\n",
       "      <td>0</td>\n",
       "    </tr>\n",
       "    <tr>\n",
       "      <th>2</th>\n",
       "      <td>Big mistake.</td>\n",
       "      <td>0</td>\n",
       "    </tr>\n",
       "    <tr>\n",
       "      <th>3</th>\n",
       "      <td>Our room was tiny,</td>\n",
       "      <td>0</td>\n",
       "    </tr>\n",
       "  </tbody>\n",
       "</table>\n",
       "</div>"
      ],
      "text/plain": [
       "                                                text  label\n",
       "0  My daughter and I just returned from a four ni...      0\n",
       "2                                       Big mistake.      0\n",
       "3                                 Our room was tiny,      0"
      ]
     },
     "execution_count": 10,
     "metadata": {},
     "output_type": "execute_result"
    }
   ],
   "source": [
    "data.head(3)"
   ]
  },
  {
   "cell_type": "code",
   "execution_count": null,
   "metadata": {
    "collapsed": true
   },
   "outputs": [],
   "source": []
  },
  {
   "cell_type": "code",
   "execution_count": null,
   "metadata": {
    "collapsed": true
   },
   "outputs": [],
   "source": []
  },
  {
   "cell_type": "code",
   "execution_count": 11,
   "metadata": {
    "collapsed": false
   },
   "outputs": [
    {
     "name": "stderr",
     "output_type": "stream",
     "text": [
      "/opt/conda/lib/python3.5/importlib/_bootstrap.py:222: RuntimeWarning: numpy.dtype size changed, may indicate binary incompatibility. Expected 96, got 88\n",
      "  return f(*args, **kwds)\n",
      "/opt/conda/lib/python3.5/importlib/_bootstrap.py:222: RuntimeWarning: numpy.dtype size changed, may indicate binary incompatibility. Expected 96, got 88\n",
      "  return f(*args, **kwds)\n"
     ]
    }
   ],
   "source": [
    "## 切資料\n",
    "\n",
    "from sklearn.model_selection import train_test_split\n",
    "\n",
    "X_train_, X_test_, Y_train, Y_test = \\\n",
    "    train_test_split( data['text'], data['label'], test_size=0.9, random_state=42, stratify = data['label'])"
   ]
  },
  {
   "cell_type": "code",
   "execution_count": null,
   "metadata": {
    "collapsed": true
   },
   "outputs": [],
   "source": []
  },
  {
   "cell_type": "code",
   "execution_count": 12,
   "metadata": {
    "collapsed": true
   },
   "outputs": [],
   "source": [
    "input_text = data['text']"
   ]
  },
  {
   "cell_type": "code",
   "execution_count": 13,
   "metadata": {
    "collapsed": false,
    "scrolled": true
   },
   "outputs": [
    {
     "data": {
      "text/plain": [
       "0    My daughter and I just returned from a four ni...\n",
       "2                                         Big mistake.\n",
       "Name: text, dtype: object"
      ]
     },
     "execution_count": 13,
     "metadata": {},
     "output_type": "execute_result"
    }
   ],
   "source": [
    "input_text[0:2]"
   ]
  },
  {
   "cell_type": "code",
   "execution_count": 14,
   "metadata": {
    "collapsed": false,
    "scrolled": false
   },
   "outputs": [
    {
     "data": {
      "text/plain": [
       "(24033,)"
      ]
     },
     "execution_count": 14,
     "metadata": {},
     "output_type": "execute_result"
    }
   ],
   "source": [
    "# (positive + negative) / 2 \n",
    "input_text.shape"
   ]
  },
  {
   "cell_type": "code",
   "execution_count": null,
   "metadata": {
    "collapsed": true
   },
   "outputs": [],
   "source": []
  },
  {
   "cell_type": "code",
   "execution_count": 15,
   "metadata": {
    "collapsed": true
   },
   "outputs": [],
   "source": [
    "#20000\n",
    "num_words = 20000\n",
    "tok = Tokenizer(num_words)\n",
    "tok.fit_on_texts(input_text)"
   ]
  },
  {
   "cell_type": "code",
   "execution_count": 16,
   "metadata": {
    "collapsed": false
   },
   "outputs": [
    {
     "data": {
      "text/plain": [
       "13117"
      ]
     },
     "execution_count": 16,
     "metadata": {},
     "output_type": "execute_result"
    }
   ],
   "source": [
    "len(tok.word_index)"
   ]
  },
  {
   "cell_type": "code",
   "execution_count": null,
   "metadata": {
    "collapsed": true
   },
   "outputs": [],
   "source": []
  },
  {
   "cell_type": "code",
   "execution_count": 17,
   "metadata": {
    "collapsed": true
   },
   "outputs": [],
   "source": [
    "X_train = tok.texts_to_sequences(X_train_)\n",
    "X_test  = tok.texts_to_sequences(X_test_)\n",
    "\n",
    "X_train = sequence.pad_sequences(X_train, maxlen=200)\n",
    "X_test  = sequence.pad_sequences(X_test,  maxlen=200)"
   ]
  },
  {
   "cell_type": "code",
   "execution_count": 18,
   "metadata": {
    "collapsed": false,
    "scrolled": true
   },
   "outputs": [
    {
     "data": {
      "text/plain": [
       "array([   0,    0,    0,    0,    0,    0,    0,    0,    0,    0,    0,\n",
       "          0,    0,    0,    0,    0,    0,    0,    0,    0,    0,    0,\n",
       "          0,    0,    0,    0,    0,    0,    0,    0,    0,    0,    0,\n",
       "          0,    0,    0,    0,    0,    0,    0,    0,    0,    0,    0,\n",
       "          0,    0,    0,    0,    0,    0,    0,    0,    0,    0,    0,\n",
       "          0,    0,    0,    0,    0,    0,    0,    0,    0,    0,    0,\n",
       "          0,    0,    0,    0,    0,    0,    0,    0,    0,    0,    0,\n",
       "          0,    0,    0,    0,    0,    0,    0,    0,    0,    0,    0,\n",
       "          0,    0,    0,    0,    0,    0,    0,    0,    0,    0,    0,\n",
       "          0,    0,    0,    0,    0,    0,    0,    0,    0,    0,    0,\n",
       "          0,    0,    0,    0,    0,    0,    0,    0,    0,    0,    0,\n",
       "          0,    0,    0,    0,    0,    0,    0,    0,    0,    0,    0,\n",
       "          0,    0,    0,    0,    0,    0,    0,    0,    0,    0,    0,\n",
       "          0,    0,    0,    0,    0,    0,    0,    0,    0,    0,    0,\n",
       "          0,    0,    0,    0,    0,    0,    0,    0,    0,    0,    0,\n",
       "          0,    0,    0,    0,    0,    0,    0,    0,    0,    0,    0,\n",
       "          0,    0,    0,    0,    0,    0,    0,    0,    0,    0,    0,\n",
       "          0,    0,    0,    0,    0,    0,    1,  290,  417,   15, 1040,\n",
       "          1,  441], dtype=int32)"
      ]
     },
     "execution_count": 18,
     "metadata": {},
     "output_type": "execute_result"
    }
   ],
   "source": [
    "X_train[0]"
   ]
  },
  {
   "cell_type": "code",
   "execution_count": 19,
   "metadata": {
    "collapsed": false
   },
   "outputs": [
    {
     "data": {
      "text/plain": [
       "2403"
      ]
     },
     "execution_count": 19,
     "metadata": {},
     "output_type": "execute_result"
    }
   ],
   "source": [
    "# 24033 * 0.2\n",
    "len(X_train)"
   ]
  },
  {
   "cell_type": "code",
   "execution_count": 20,
   "metadata": {
    "collapsed": false
   },
   "outputs": [
    {
     "data": {
      "text/plain": [
       "20392    0\n",
       "30521    1\n",
       "17683    0\n",
       "22017    1\n",
       "25671    1\n",
       "18700    1\n",
       "16839    0\n",
       "9898     1\n",
       "22673    0\n",
       "13941    1\n",
       "Name: label, dtype: int64"
      ]
     },
     "execution_count": 20,
     "metadata": {},
     "output_type": "execute_result"
    }
   ],
   "source": [
    "Y_train[0:10]"
   ]
  },
  {
   "cell_type": "code",
   "execution_count": 21,
   "metadata": {
    "collapsed": false
   },
   "outputs": [
    {
     "data": {
      "text/plain": [
       "2403"
      ]
     },
     "execution_count": 21,
     "metadata": {},
     "output_type": "execute_result"
    }
   ],
   "source": [
    "# 24033 * 0.2\n",
    "len(Y_train)"
   ]
  },
  {
   "cell_type": "code",
   "execution_count": 22,
   "metadata": {
    "collapsed": false
   },
   "outputs": [
    {
     "data": {
      "text/plain": [
       "20392    0\n",
       "30521    1\n",
       "17683    0\n",
       "22017    1\n",
       "25671    1\n",
       "18700    1\n",
       "16839    0\n",
       "9898     1\n",
       "22673    0\n",
       "13941    1\n",
       "8418     1\n",
       "6709     0\n",
       "8868     1\n",
       "2065     1\n",
       "20013    0\n",
       "30917    1\n",
       "16172    1\n",
       "20002    0\n",
       "1812     0\n",
       "31252    0\n",
       "5734     1\n",
       "3444     1\n",
       "20024    1\n",
       "10607    0\n",
       "22331    0\n",
       "30522    1\n",
       "2410     0\n",
       "3102     0\n",
       "10281    0\n",
       "4172     1\n",
       "        ..\n",
       "1021     0\n",
       "6491     1\n",
       "24381    0\n",
       "2318     0\n",
       "6094     1\n",
       "4431     0\n",
       "14413    0\n",
       "26523    1\n",
       "6246     1\n",
       "4036     1\n",
       "17774    1\n",
       "21125    1\n",
       "3784     1\n",
       "12492    1\n",
       "28478    0\n",
       "10073    0\n",
       "23684    0\n",
       "4125     0\n",
       "722      0\n",
       "6606     1\n",
       "25684    0\n",
       "3718     0\n",
       "24048    1\n",
       "16080    0\n",
       "24132    0\n",
       "6030     0\n",
       "6905     0\n",
       "1743     1\n",
       "19235    0\n",
       "26496    1\n",
       "Name: label, dtype: int64"
      ]
     },
     "execution_count": 22,
     "metadata": {},
     "output_type": "execute_result"
    }
   ],
   "source": [
    "Y_train"
   ]
  },
  {
   "cell_type": "code",
   "execution_count": null,
   "metadata": {
    "collapsed": true
   },
   "outputs": [],
   "source": []
  },
  {
   "cell_type": "markdown",
   "metadata": {},
   "source": [
    "# 預先訓練好的詞向量在這裡讀"
   ]
  },
  {
   "cell_type": "code",
   "execution_count": 23,
   "metadata": {
    "collapsed": true
   },
   "outputs": [],
   "source": [
    "from pyfasttext import FastText"
   ]
  },
  {
   "cell_type": "code",
   "execution_count": 24,
   "metadata": {
    "collapsed": false
   },
   "outputs": [],
   "source": [
    "fasttext_model = FastText('./model/yelp_review_polarity.bin')"
   ]
  },
  {
   "cell_type": "code",
   "execution_count": 25,
   "metadata": {
    "collapsed": false
   },
   "outputs": [],
   "source": [
    "words = []\n",
    "for iter in range(num_words):\n",
    "    words += [key for key,value in tok.word_index.items() if value==iter+1]"
   ]
  },
  {
   "cell_type": "code",
   "execution_count": 26,
   "metadata": {
    "collapsed": false,
    "scrolled": true
   },
   "outputs": [
    {
     "data": {
      "text/plain": [
       "13117"
      ]
     },
     "execution_count": 26,
     "metadata": {},
     "output_type": "execute_result"
    }
   ],
   "source": [
    "words[:10]\n",
    "\n",
    "len(words)"
   ]
  },
  {
   "cell_type": "code",
   "execution_count": null,
   "metadata": {
    "collapsed": true
   },
   "outputs": [],
   "source": []
  },
  {
   "cell_type": "code",
   "execution_count": 27,
   "metadata": {
    "collapsed": true
   },
   "outputs": [],
   "source": [
    "weights = np.zeros((num_words,10))\n",
    "count=0\n",
    "for idx, w in enumerate(words):\n",
    "    try:\n",
    "        weights[idx,:] = fasttext_model.get_numpy_vector(w)\n",
    "    except KeyError as e:\n",
    "        #pass\n",
    "        count=count+1"
   ]
  },
  {
   "cell_type": "code",
   "execution_count": 28,
   "metadata": {
    "collapsed": false
   },
   "outputs": [
    {
     "data": {
      "text/plain": [
       "0"
      ]
     },
     "execution_count": 28,
     "metadata": {},
     "output_type": "execute_result"
    }
   ],
   "source": [
    "count"
   ]
  },
  {
   "cell_type": "code",
   "execution_count": null,
   "metadata": {
    "collapsed": true
   },
   "outputs": [],
   "source": []
  },
  {
   "cell_type": "code",
   "execution_count": 29,
   "metadata": {
    "collapsed": false
   },
   "outputs": [
    {
     "data": {
      "text/plain": [
       "(20000, 10)"
      ]
     },
     "execution_count": 29,
     "metadata": {},
     "output_type": "execute_result"
    }
   ],
   "source": [
    "weights.shape"
   ]
  },
  {
   "cell_type": "code",
   "execution_count": 30,
   "metadata": {
    "collapsed": false
   },
   "outputs": [
    {
     "data": {
      "text/plain": [
       "array([ 0.57722408, -0.05731577,  0.03026473,  0.03827676, -0.01009059,\n",
       "       -0.06347153,  0.01395509, -0.3229402 , -0.0220757 , -0.08200444])"
      ]
     },
     "execution_count": 30,
     "metadata": {},
     "output_type": "execute_result"
    }
   ],
   "source": [
    "weights[0]"
   ]
  },
  {
   "cell_type": "code",
   "execution_count": 31,
   "metadata": {
    "collapsed": false
   },
   "outputs": [
    {
     "data": {
      "text/plain": [
       "(20000, 10)"
      ]
     },
     "execution_count": 31,
     "metadata": {},
     "output_type": "execute_result"
    }
   ],
   "source": [
    "weights.shape"
   ]
  },
  {
   "cell_type": "code",
   "execution_count": null,
   "metadata": {
    "collapsed": true
   },
   "outputs": [],
   "source": []
  },
  {
   "cell_type": "markdown",
   "metadata": {},
   "source": [
    "# 自己繪圖展示train, validation, test準確率"
   ]
  },
  {
   "cell_type": "code",
   "execution_count": 32,
   "metadata": {
    "collapsed": true
   },
   "outputs": [],
   "source": [
    "%matplotlib inline\n",
    "from keras.callbacks import Callback\n",
    "class LossHistory(Callback):\n",
    "    def on_train_begin(self, logs={}):\n",
    "        self.losses = []\n",
    "    def on_epoch_end(self,epoch, logs={}):\n",
    "        x, y = X_test, Y_test\n",
    "        lss, acc = self.model.evaluate(x, y, verbose=0)\n",
    "        #self.losses.append([logs.get('loss'),logs.get('acc'),logs.get('val_loss'),logs.get('val_acc'),lss, acc])\n",
    "        self.losses.append({'train_loss':logs.get('loss'),'train_metrics':logs.get('acc'),\n",
    "                            'val_loss':logs.get('val_loss'),'val_metrics':logs.get('val_acc'),\n",
    "                            'test_loss':lss,'test_metrics':acc,\n",
    "                           })\n",
    "        #trlss = logs.get('loss')\n",
    "        #tracc = logs.get('acc')\n",
    "        #valss = logs.get('val_loss')\n",
    "        #vaacc = logs.get('val_acc')\n",
    "        #print('\\nepochs:{}'.format(epoch))\n",
    "        #print('\\nTrain loss: {}, acc: {}'.format(trlss, tracc))\n",
    "        #print('\\nValidation loss: {}, acc: {}'.format(valss, vaacc)) \n",
    "        #print('\\nTesting loss: {}, acc: {}'.format(lss, acc))"
   ]
  },
  {
   "cell_type": "code",
   "execution_count": null,
   "metadata": {
    "collapsed": true
   },
   "outputs": [],
   "source": []
  },
  {
   "cell_type": "markdown",
   "metadata": {},
   "source": [
    "# LSTM"
   ]
  },
  {
   "cell_type": "code",
   "execution_count": 33,
   "metadata": {
    "collapsed": false
   },
   "outputs": [
    {
     "name": "stdout",
     "output_type": "stream",
     "text": [
      "_________________________________________________________________\n",
      "Layer (type)                 Output Shape              Param #   \n",
      "=================================================================\n",
      "embedding_1 (Embedding)      (None, 200, 10)           200000    \n",
      "_________________________________________________________________\n",
      "dropout_1 (Dropout)          (None, 200, 10)           0         \n",
      "_________________________________________________________________\n",
      "lstm_1 (LSTM)                (None, 16)                1728      \n",
      "_________________________________________________________________\n",
      "dense_1 (Dense)              (None, 128)               2176      \n",
      "_________________________________________________________________\n",
      "dropout_2 (Dropout)          (None, 128)               0         \n",
      "_________________________________________________________________\n",
      "activation_1 (Activation)    (None, 128)               0         \n",
      "_________________________________________________________________\n",
      "dense_2 (Dense)              (None, 1)                 129       \n",
      "_________________________________________________________________\n",
      "activation_2 (Activation)    (None, 1)                 0         \n",
      "=================================================================\n",
      "Total params: 204,033\n",
      "Trainable params: 204,033\n",
      "Non-trainable params: 0\n",
      "_________________________________________________________________\n"
     ]
    }
   ],
   "source": [
    "model = Sequential()\n",
    "model.add(Embedding(num_words, 10, input_length= 200))\n",
    "model.add(Dropout(0.5))\n",
    "\n",
    "model.add(LSTM(16,activation='relu'))\n",
    "\n",
    "model.add(Dense(128))\n",
    "model.add(Dropout(0.5))\n",
    "model.add(Activation('relu'))\n",
    "\n",
    "#model.add(GlobalAveragePooling1D())\n",
    "#model.add(Dense(1, activation='softmax'))\n",
    "\n",
    "model.add(Dense(1))\n",
    "model.add(Activation('sigmoid'))\n",
    "\n",
    "#詞嵌入 採用預訓練的 向量\n",
    "model.layers[0].set_weights([weights])\n",
    "model.layers[0].trainable = True\n",
    "\n",
    "#optim = Adam(lr=0.001, beta_1=0.9, beta_2=0.999, epsilon=1e-08, decay=0.0)\n",
    "\n",
    "model.compile(loss='binary_crossentropy', optimizer = 'Adam' , metrics=['accuracy'])\n",
    "model.summary()"
   ]
  },
  {
   "cell_type": "code",
   "execution_count": null,
   "metadata": {
    "collapsed": true
   },
   "outputs": [],
   "source": []
  },
  {
   "cell_type": "code",
   "execution_count": 34,
   "metadata": {
    "collapsed": false
   },
   "outputs": [
    {
     "name": "stdout",
     "output_type": "stream",
     "text": [
      "Train on 2162 samples, validate on 241 samples\n",
      "Epoch 1/10\n",
      "2162/2162 [==============================] - 18s 8ms/step - loss: 0.6931 - acc: 0.5204 - val_loss: 0.6913 - val_acc: 0.5228\n",
      "Epoch 2/10\n",
      "2162/2162 [==============================] - 16s 7ms/step - loss: 0.6909 - acc: 0.5268 - val_loss: 0.6887 - val_acc: 0.5145\n",
      "Epoch 3/10\n",
      "2162/2162 [==============================] - 16s 7ms/step - loss: 1.0300 - acc: 0.5722 - val_loss: 8.3350 - val_acc: 0.4772\n",
      "Epoch 4/10\n",
      "2162/2162 [==============================] - 16s 7ms/step - loss: nan - acc: 0.1018 - val_loss: nan - val_acc: 0.0000e+00\n",
      "Epoch 5/10\n",
      "2162/2162 [==============================] - 16s 8ms/step - loss: nan - acc: 0.0000e+00 - val_loss: nan - val_acc: 0.0000e+00\n",
      "Epoch 6/10\n",
      "2162/2162 [==============================] - 14s 6ms/step - loss: nan - acc: 0.0000e+00 - val_loss: nan - val_acc: 0.0000e+00\n",
      "Epoch 7/10\n",
      "2162/2162 [==============================] - 13s 6ms/step - loss: nan - acc: 0.0000e+00 - val_loss: nan - val_acc: 0.0000e+00\n",
      "Epoch 8/10\n",
      "2162/2162 [==============================] - 14s 6ms/step - loss: nan - acc: 0.0000e+00 - val_loss: nan - val_acc: 0.0000e+00\n",
      "Epoch 9/10\n",
      "2162/2162 [==============================] - 14s 6ms/step - loss: nan - acc: 0.0000e+00 - val_loss: nan - val_acc: 0.0000e+00\n",
      "Epoch 10/10\n",
      "2162/2162 [==============================] - 13s 6ms/step - loss: nan - acc: 0.0000e+00 - val_loss: nan - val_acc: 0.0000e+00\n",
      "CPU times: user 3min 24s, sys: 3.34 s, total: 3min 27s\n",
      "Wall time: 5min 5s\n"
     ]
    }
   ],
   "source": [
    "%%time\n",
    "history = LossHistory()\n",
    "hist=model.fit(X_train, Y_train, batch_size= 32, epochs=10, validation_split=0.1, callbacks=[history])"
   ]
  },
  {
   "cell_type": "code",
   "execution_count": null,
   "metadata": {
    "collapsed": true
   },
   "outputs": [],
   "source": []
  },
  {
   "cell_type": "code",
   "execution_count": 35,
   "metadata": {
    "collapsed": true
   },
   "outputs": [],
   "source": [
    "hist_info = pd.DataFrame(history.losses)"
   ]
  },
  {
   "cell_type": "code",
   "execution_count": 36,
   "metadata": {
    "collapsed": false
   },
   "outputs": [
    {
     "data": {
      "text/html": [
       "<div>\n",
       "<table border=\"1\" class=\"dataframe\">\n",
       "  <thead>\n",
       "    <tr style=\"text-align: right;\">\n",
       "      <th></th>\n",
       "      <th>test_loss</th>\n",
       "      <th>test_metrics</th>\n",
       "      <th>train_loss</th>\n",
       "      <th>train_metrics</th>\n",
       "      <th>val_loss</th>\n",
       "      <th>val_metrics</th>\n",
       "    </tr>\n",
       "  </thead>\n",
       "  <tbody>\n",
       "    <tr>\n",
       "      <th>0</th>\n",
       "      <td>0.691505</td>\n",
       "      <td>0.520527</td>\n",
       "      <td>0.693109</td>\n",
       "      <td>0.520352</td>\n",
       "      <td>0.691302</td>\n",
       "      <td>0.522822</td>\n",
       "    </tr>\n",
       "    <tr>\n",
       "      <th>1</th>\n",
       "      <td>0.689210</td>\n",
       "      <td>0.530328</td>\n",
       "      <td>0.690931</td>\n",
       "      <td>0.526827</td>\n",
       "      <td>0.688672</td>\n",
       "      <td>0.514523</td>\n",
       "    </tr>\n",
       "    <tr>\n",
       "      <th>2</th>\n",
       "      <td>8.298443</td>\n",
       "      <td>0.479473</td>\n",
       "      <td>1.030039</td>\n",
       "      <td>0.572155</td>\n",
       "      <td>8.335023</td>\n",
       "      <td>0.477178</td>\n",
       "    </tr>\n",
       "    <tr>\n",
       "      <th>3</th>\n",
       "      <td>NaN</td>\n",
       "      <td>0.000000</td>\n",
       "      <td>NaN</td>\n",
       "      <td>0.101758</td>\n",
       "      <td>NaN</td>\n",
       "      <td>0.000000</td>\n",
       "    </tr>\n",
       "    <tr>\n",
       "      <th>4</th>\n",
       "      <td>NaN</td>\n",
       "      <td>0.000000</td>\n",
       "      <td>NaN</td>\n",
       "      <td>0.000000</td>\n",
       "      <td>NaN</td>\n",
       "      <td>0.000000</td>\n",
       "    </tr>\n",
       "    <tr>\n",
       "      <th>5</th>\n",
       "      <td>NaN</td>\n",
       "      <td>0.000000</td>\n",
       "      <td>NaN</td>\n",
       "      <td>0.000000</td>\n",
       "      <td>NaN</td>\n",
       "      <td>0.000000</td>\n",
       "    </tr>\n",
       "    <tr>\n",
       "      <th>6</th>\n",
       "      <td>NaN</td>\n",
       "      <td>0.000000</td>\n",
       "      <td>NaN</td>\n",
       "      <td>0.000000</td>\n",
       "      <td>NaN</td>\n",
       "      <td>0.000000</td>\n",
       "    </tr>\n",
       "    <tr>\n",
       "      <th>7</th>\n",
       "      <td>NaN</td>\n",
       "      <td>0.000000</td>\n",
       "      <td>NaN</td>\n",
       "      <td>0.000000</td>\n",
       "      <td>NaN</td>\n",
       "      <td>0.000000</td>\n",
       "    </tr>\n",
       "    <tr>\n",
       "      <th>8</th>\n",
       "      <td>NaN</td>\n",
       "      <td>0.000000</td>\n",
       "      <td>NaN</td>\n",
       "      <td>0.000000</td>\n",
       "      <td>NaN</td>\n",
       "      <td>0.000000</td>\n",
       "    </tr>\n",
       "    <tr>\n",
       "      <th>9</th>\n",
       "      <td>NaN</td>\n",
       "      <td>0.000000</td>\n",
       "      <td>NaN</td>\n",
       "      <td>0.000000</td>\n",
       "      <td>NaN</td>\n",
       "      <td>0.000000</td>\n",
       "    </tr>\n",
       "  </tbody>\n",
       "</table>\n",
       "</div>"
      ],
      "text/plain": [
       "   test_loss  test_metrics  train_loss  train_metrics  val_loss  val_metrics\n",
       "0   0.691505      0.520527    0.693109       0.520352  0.691302     0.522822\n",
       "1   0.689210      0.530328    0.690931       0.526827  0.688672     0.514523\n",
       "2   8.298443      0.479473    1.030039       0.572155  8.335023     0.477178\n",
       "3        NaN      0.000000         NaN       0.101758       NaN     0.000000\n",
       "4        NaN      0.000000         NaN       0.000000       NaN     0.000000\n",
       "5        NaN      0.000000         NaN       0.000000       NaN     0.000000\n",
       "6        NaN      0.000000         NaN       0.000000       NaN     0.000000\n",
       "7        NaN      0.000000         NaN       0.000000       NaN     0.000000\n",
       "8        NaN      0.000000         NaN       0.000000       NaN     0.000000\n",
       "9        NaN      0.000000         NaN       0.000000       NaN     0.000000"
      ]
     },
     "execution_count": 36,
     "metadata": {},
     "output_type": "execute_result"
    }
   ],
   "source": [
    "hist_info"
   ]
  },
  {
   "cell_type": "code",
   "execution_count": 37,
   "metadata": {
    "collapsed": false
   },
   "outputs": [
    {
     "data": {
      "text/plain": [
       "<matplotlib.axes._subplots.AxesSubplot at 0x7fef1049ae48>"
      ]
     },
     "execution_count": 37,
     "metadata": {},
     "output_type": "execute_result"
    },
    {
     "data": {
      "image/png": "[encoded data removed]",
      "text/plain": [
       "<matplotlib.figure.Figure at 0x7fef1049b198>"
      ]
     },
     "metadata": {},
     "output_type": "display_data"
    }
   ],
   "source": [
    "hist_info[['train_loss','val_loss', 'test_loss']].plot()"
   ]
  },
  {
   "cell_type": "code",
   "execution_count": 38,
   "metadata": {
    "collapsed": false,
    "scrolled": false
   },
   "outputs": [
    {
     "data": {
      "text/plain": [
       "<matplotlib.axes._subplots.AxesSubplot at 0x7fef0b7e3da0>"
      ]
     },
     "execution_count": 38,
     "metadata": {},
     "output_type": "execute_result"
    },
    {
     "data": {
      "image/png": "[encoded data removed]",
      "text/plain": [
       "<matplotlib.figure.Figure at 0x7fef0b7f3630>"
      ]
     },
     "metadata": {},
     "output_type": "display_data"
    }
   ],
   "source": [
    "hist_info[['train_metrics', 'val_metrics','test_metrics',]].plot()"
   ]
  },
  {
   "cell_type": "code",
   "execution_count": null,
   "metadata": {
    "collapsed": true
   },
   "outputs": [],
   "source": []
  },
  {
   "cell_type": "code",
   "execution_count": null,
   "metadata": {
    "collapsed": true
   },
   "outputs": [],
   "source": []
  },
  {
   "cell_type": "code",
   "execution_count": null,
   "metadata": {
    "collapsed": true
   },
   "outputs": [],
   "source": []
  },
  {
   "cell_type": "markdown",
   "metadata": {},
   "source": [
    "# CNN"
   ]
  },
  {
   "cell_type": "code",
   "execution_count": 39,
   "metadata": {
    "collapsed": true
   },
   "outputs": [],
   "source": [
    "from keras.models import Sequential\n",
    "from keras.layers import Dense\n",
    "from keras.layers import Flatten\n",
    "from keras.layers.convolutional import Convolution1D\n",
    "from keras.layers.convolutional import MaxPooling1D\n",
    "from keras.layers.embeddings import Embedding\n",
    "from keras.layers.core import Dense, Dropout, Activation\n",
    "from keras import metrics\n",
    "#from keras.preprocessing import sequence"
   ]
  },
  {
   "cell_type": "code",
   "execution_count": 40,
   "metadata": {
    "_cell_guid": "b8f524ba-611f-67b9-5973-e1d3d7b3ee08",
    "collapsed": false
   },
   "outputs": [
    {
     "name": "stdout",
     "output_type": "stream",
     "text": [
      "_________________________________________________________________\n",
      "Layer (type)                 Output Shape              Param #   \n",
      "=================================================================\n",
      "embedding_2 (Embedding)      (None, 200, 10)           200000    \n",
      "_________________________________________________________________\n",
      "conv1d_1 (Conv1D)            (None, 198, 250)          7750      \n",
      "_________________________________________________________________\n",
      "max_pooling1d_1 (MaxPooling1 (None, 99, 250)           0         \n",
      "_________________________________________________________________\n",
      "flatten_1 (Flatten)          (None, 24750)             0         \n",
      "_________________________________________________________________\n",
      "dense_3 (Dense)              (None, 250)               6187750   \n",
      "_________________________________________________________________\n",
      "dropout_3 (Dropout)          (None, 250)               0         \n",
      "_________________________________________________________________\n",
      "activation_3 (Activation)    (None, 250)               0         \n",
      "_________________________________________________________________\n",
      "dense_4 (Dense)              (None, 1)                 251       \n",
      "_________________________________________________________________\n",
      "activation_4 (Activation)    (None, 1)                 0         \n",
      "=================================================================\n",
      "Total params: 6,395,751\n",
      "Trainable params: 6,395,751\n",
      "Non-trainable params: 0\n",
      "_________________________________________________________________\n"
     ]
    }
   ],
   "source": [
    "#nb_classes = 2\n",
    "\n",
    "model = Sequential()\n",
    "model.add(Embedding(num_words, 10, input_length= 200))\n",
    "model.add(Convolution1D(activation=\"relu\", filters=250, kernel_size=3, strides=1, padding=\"valid\"))\n",
    "model.add(MaxPooling1D(pool_size = 2))\n",
    "model.add(Flatten())\n",
    "model.add(Dense(250)) \n",
    "model.add(Dropout(0.2)) \n",
    "model.add(Activation('relu'))\n",
    "model.add(Dense(1))\n",
    "model.add(Activation('sigmoid'))\n",
    "\n",
    "#詞嵌入 採用預訓練的 向量\n",
    "model.layers[0].set_weights([weights])\n",
    "model.layers[0].trainable = True\n",
    "\n",
    "#optim = Adam(lr=0.001, beta_1=0.9, beta_2=0.999, epsilon=1e-08, decay=0.0)\n",
    "\n",
    "model.compile(loss='binary_crossentropy', optimizer = 'Adam' , metrics=['accuracy'])\n",
    "model.summary()"
   ]
  },
  {
   "cell_type": "code",
   "execution_count": null,
   "metadata": {
    "collapsed": true
   },
   "outputs": [],
   "source": []
  },
  {
   "cell_type": "code",
   "execution_count": 41,
   "metadata": {
    "collapsed": false
   },
   "outputs": [
    {
     "name": "stdout",
     "output_type": "stream",
     "text": [
      "Train on 2162 samples, validate on 241 samples\n",
      "Epoch 1/10\n",
      "2162/2162 [==============================] - 11s 5ms/step - loss: 0.7023 - acc: 0.5365 - val_loss: 0.6901 - val_acc: 0.5311\n",
      "Epoch 2/10\n",
      "2162/2162 [==============================] - 11s 5ms/step - loss: 0.6346 - acc: 0.6378 - val_loss: 0.6098 - val_acc: 0.6888\n",
      "Epoch 3/10\n",
      "2162/2162 [==============================] - 12s 6ms/step - loss: 0.4436 - acc: 0.7974 - val_loss: 0.5456 - val_acc: 0.7386\n",
      "Epoch 4/10\n",
      "2162/2162 [==============================] - 11s 5ms/step - loss: 0.2643 - acc: 0.8978 - val_loss: 0.5228 - val_acc: 0.7593\n",
      "Epoch 5/10\n",
      "2162/2162 [==============================] - 12s 5ms/step - loss: 0.1510 - acc: 0.9436 - val_loss: 0.6449 - val_acc: 0.7718\n",
      "Epoch 6/10\n",
      "2162/2162 [==============================] - 12s 6ms/step - loss: 0.0946 - acc: 0.9676 - val_loss: 0.7127 - val_acc: 0.7552\n",
      "Epoch 7/10\n",
      "2162/2162 [==============================] - 16s 8ms/step - loss: 0.0502 - acc: 0.9852 - val_loss: 0.8182 - val_acc: 0.7552\n",
      "Epoch 8/10\n",
      "2162/2162 [==============================] - 18s 8ms/step - loss: 0.0324 - acc: 0.9889 - val_loss: 0.9644 - val_acc: 0.7635\n",
      "Epoch 9/10\n",
      "2162/2162 [==============================] - 20s 9ms/step - loss: 0.0168 - acc: 0.9968 - val_loss: 1.0223 - val_acc: 0.7676\n",
      "Epoch 10/10\n",
      "2162/2162 [==============================] - 22s 10ms/step - loss: 0.0115 - acc: 0.9977 - val_loss: 1.0542 - val_acc: 0.7552\n",
      "CPU times: user 3min 17s, sys: 24.6 s, total: 3min 42s\n",
      "Wall time: 5min 22s\n"
     ]
    }
   ],
   "source": [
    "%%time\n",
    "history = LossHistory()\n",
    "hist=model.fit(X_train, Y_train, batch_size= 32, epochs=10, validation_split=0.1, callbacks=[history])"
   ]
  },
  {
   "cell_type": "code",
   "execution_count": null,
   "metadata": {
    "collapsed": true
   },
   "outputs": [],
   "source": []
  },
  {
   "cell_type": "code",
   "execution_count": 42,
   "metadata": {
    "collapsed": true
   },
   "outputs": [],
   "source": [
    "hist_info = pd.DataFrame(history.losses)"
   ]
  },
  {
   "cell_type": "code",
   "execution_count": 43,
   "metadata": {
    "collapsed": false
   },
   "outputs": [
    {
     "data": {
      "text/html": [
       "<div>\n",
       "<table border=\"1\" class=\"dataframe\">\n",
       "  <thead>\n",
       "    <tr style=\"text-align: right;\">\n",
       "      <th></th>\n",
       "      <th>test_loss</th>\n",
       "      <th>test_metrics</th>\n",
       "      <th>train_loss</th>\n",
       "      <th>train_metrics</th>\n",
       "      <th>val_loss</th>\n",
       "      <th>val_metrics</th>\n",
       "    </tr>\n",
       "  </thead>\n",
       "  <tbody>\n",
       "    <tr>\n",
       "      <th>0</th>\n",
       "      <td>0.685688</td>\n",
       "      <td>0.562090</td>\n",
       "      <td>0.702312</td>\n",
       "      <td>0.536540</td>\n",
       "      <td>0.690094</td>\n",
       "      <td>0.531120</td>\n",
       "    </tr>\n",
       "    <tr>\n",
       "      <th>1</th>\n",
       "      <td>0.621153</td>\n",
       "      <td>0.663107</td>\n",
       "      <td>0.634605</td>\n",
       "      <td>0.637835</td>\n",
       "      <td>0.609845</td>\n",
       "      <td>0.688797</td>\n",
       "    </tr>\n",
       "    <tr>\n",
       "      <th>2</th>\n",
       "      <td>0.558362</td>\n",
       "      <td>0.740777</td>\n",
       "      <td>0.443557</td>\n",
       "      <td>0.797410</td>\n",
       "      <td>0.545582</td>\n",
       "      <td>0.738589</td>\n",
       "    </tr>\n",
       "    <tr>\n",
       "      <th>3</th>\n",
       "      <td>0.568530</td>\n",
       "      <td>0.754323</td>\n",
       "      <td>0.264286</td>\n",
       "      <td>0.897780</td>\n",
       "      <td>0.522785</td>\n",
       "      <td>0.759336</td>\n",
       "    </tr>\n",
       "    <tr>\n",
       "      <th>4</th>\n",
       "      <td>0.642708</td>\n",
       "      <td>0.761026</td>\n",
       "      <td>0.150984</td>\n",
       "      <td>0.943571</td>\n",
       "      <td>0.644942</td>\n",
       "      <td>0.771784</td>\n",
       "    </tr>\n",
       "    <tr>\n",
       "      <th>5</th>\n",
       "      <td>0.741674</td>\n",
       "      <td>0.757235</td>\n",
       "      <td>0.094570</td>\n",
       "      <td>0.967623</td>\n",
       "      <td>0.712732</td>\n",
       "      <td>0.755187</td>\n",
       "    </tr>\n",
       "    <tr>\n",
       "      <th>6</th>\n",
       "      <td>0.834450</td>\n",
       "      <td>0.761258</td>\n",
       "      <td>0.050174</td>\n",
       "      <td>0.985199</td>\n",
       "      <td>0.818240</td>\n",
       "      <td>0.755187</td>\n",
       "    </tr>\n",
       "    <tr>\n",
       "      <th>7</th>\n",
       "      <td>0.937860</td>\n",
       "      <td>0.763477</td>\n",
       "      <td>0.032439</td>\n",
       "      <td>0.988899</td>\n",
       "      <td>0.964418</td>\n",
       "      <td>0.763485</td>\n",
       "    </tr>\n",
       "    <tr>\n",
       "      <th>8</th>\n",
       "      <td>1.017632</td>\n",
       "      <td>0.761442</td>\n",
       "      <td>0.016778</td>\n",
       "      <td>0.996762</td>\n",
       "      <td>1.022294</td>\n",
       "      <td>0.767635</td>\n",
       "    </tr>\n",
       "    <tr>\n",
       "      <th>9</th>\n",
       "      <td>1.085566</td>\n",
       "      <td>0.758622</td>\n",
       "      <td>0.011508</td>\n",
       "      <td>0.997687</td>\n",
       "      <td>1.054155</td>\n",
       "      <td>0.755187</td>\n",
       "    </tr>\n",
       "  </tbody>\n",
       "</table>\n",
       "</div>"
      ],
      "text/plain": [
       "   test_loss  test_metrics  train_loss  train_metrics  val_loss  val_metrics\n",
       "0   0.685688      0.562090    0.702312       0.536540  0.690094     0.531120\n",
       "1   0.621153      0.663107    0.634605       0.637835  0.609845     0.688797\n",
       "2   0.558362      0.740777    0.443557       0.797410  0.545582     0.738589\n",
       "3   0.568530      0.754323    0.264286       0.897780  0.522785     0.759336\n",
       "4   0.642708      0.761026    0.150984       0.943571  0.644942     0.771784\n",
       "5   0.741674      0.757235    0.094570       0.967623  0.712732     0.755187\n",
       "6   0.834450      0.761258    0.050174       0.985199  0.818240     0.755187\n",
       "7   0.937860      0.763477    0.032439       0.988899  0.964418     0.763485\n",
       "8   1.017632      0.761442    0.016778       0.996762  1.022294     0.767635\n",
       "9   1.085566      0.758622    0.011508       0.997687  1.054155     0.755187"
      ]
     },
     "execution_count": 43,
     "metadata": {},
     "output_type": "execute_result"
    }
   ],
   "source": [
    "hist_info"
   ]
  },
  {
   "cell_type": "code",
   "execution_count": 44,
   "metadata": {
    "collapsed": false
   },
   "outputs": [
    {
     "data": {
      "text/plain": [
       "<matplotlib.axes._subplots.AxesSubplot at 0x7fef1055e9e8>"
      ]
     },
     "execution_count": 44,
     "metadata": {},
     "output_type": "execute_result"
    },
    {
     "data": {
      "image/png": "[encoded data removed]",
      "text/plain": [
       "<matplotlib.figure.Figure at 0x7fef1055e6a0>"
      ]
     },
     "metadata": {},
     "output_type": "display_data"
    }
   ],
   "source": [
    "hist_info[['train_loss','val_loss', 'test_loss']].plot()"
   ]
  },
  {
   "cell_type": "code",
   "execution_count": 45,
   "metadata": {
    "collapsed": false,
    "scrolled": true
   },
   "outputs": [
    {
     "data": {
      "text/plain": [
       "<matplotlib.axes._subplots.AxesSubplot at 0x7fef079a9208>"
      ]
     },
     "execution_count": 45,
     "metadata": {},
     "output_type": "execute_result"
    },
    {
     "data": {
      "image/png": "[encoded data removed]",
      "text/plain": [
       "<matplotlib.figure.Figure at 0x7fef079accc0>"
      ]
     },
     "metadata": {},
     "output_type": "display_data"
    }
   ],
   "source": [
    "hist_info[['train_metrics', 'val_metrics','test_metrics',]].plot()"
   ]
  },
  {
   "cell_type": "code",
   "execution_count": null,
   "metadata": {
    "collapsed": true
   },
   "outputs": [],
   "source": []
  },
  {
   "cell_type": "code",
   "execution_count": null,
   "metadata": {
    "collapsed": true
   },
   "outputs": [],
   "source": []
  }
 ],
 "metadata": {
  "kernelspec": {
   "display_name": "Python 3",
   "language": "python",
   "name": "python3"
  },
  "language_info": {
   "codemirror_mode": {
    "name": "ipython",
    "version": 3
   },
   "file_extension": ".py",
   "mimetype": "text/x-python",
   "name": "python",
   "nbconvert_exporter": "python",
   "pygments_lexer": "ipython3",
   "version": "3.5.2"
  }
 },
 "nbformat": 4,
 "nbformat_minor": 2
}
