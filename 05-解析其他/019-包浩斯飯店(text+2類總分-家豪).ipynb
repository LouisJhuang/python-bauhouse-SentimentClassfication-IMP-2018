{
 "cells": [
  {
   "cell_type": "code",
   "execution_count": 2,
   "metadata": {
    "collapsed": false
   },
   "outputs": [
    {
     "name": "stderr",
     "output_type": "stream",
     "text": [
      "Using TensorFlow backend.\n"
     ]
    }
   ],
   "source": [
    "import numpy as np \n",
    "import pandas as pd \n",
    "from sklearn.feature_extraction.text import CountVectorizer\n",
    "from keras.preprocessing.text import Tokenizer\n",
    "from keras.preprocessing.sequence import pad_sequences\n",
    "from keras.models import Sequential\n",
    "from keras.layers import Dense, Embedding, LSTM\n",
    "from sklearn.model_selection import train_test_split\n",
    "from keras.utils.np_utils import to_categorical\n",
    "import re"
   ]
  },
  {
   "cell_type": "code",
   "execution_count": 3,
   "metadata": {
    "collapsed": true
   },
   "outputs": [],
   "source": [
    "data=pd.read_csv('包浩斯資料集(test).csv',engine='python')\n",
    "#data = data[['text','score']]"
   ]
  },
  {
   "cell_type": "code",
   "execution_count": 4,
   "metadata": {
    "collapsed": false
   },
   "outputs": [
    {
     "data": {
      "text/html": [
       "<div>\n",
       "<style>\n",
       "    .dataframe thead tr:only-child th {\n",
       "        text-align: right;\n",
       "    }\n",
       "\n",
       "    .dataframe thead th {\n",
       "        text-align: left;\n",
       "    }\n",
       "\n",
       "    .dataframe tbody tr th {\n",
       "        vertical-align: top;\n",
       "    }\n",
       "</style>\n",
       "<table border=\"1\" class=\"dataframe\">\n",
       "  <thead>\n",
       "    <tr style=\"text-align: right;\">\n",
       "      <th></th>\n",
       "      <th>text</th>\n",
       "      <th>score</th>\n",
       "      <th>overall</th>\n",
       "    </tr>\n",
       "  </thead>\n",
       "  <tbody>\n",
       "    <tr>\n",
       "      <th>0</th>\n",
       "      <td>This was my second stay at the Hotel Pulitzer....</td>\n",
       "      <td>2</td>\n",
       "      <td>1</td>\n",
       "    </tr>\n",
       "    <tr>\n",
       "      <th>1</th>\n",
       "      <td>this hotel is truely the best in amsterdam and...</td>\n",
       "      <td>5</td>\n",
       "      <td>3</td>\n",
       "    </tr>\n",
       "    <tr>\n",
       "      <th>2</th>\n",
       "      <td>Just spent 3 nights at this hotel 5th March 04...</td>\n",
       "      <td>4</td>\n",
       "      <td>3</td>\n",
       "    </tr>\n",
       "    <tr>\n",
       "      <th>3</th>\n",
       "      <td>I had communicated 6 months in advance, reques...</td>\n",
       "      <td>2</td>\n",
       "      <td>1</td>\n",
       "    </tr>\n",
       "    <tr>\n",
       "      <th>4</th>\n",
       "      <td>We stayed in this hotel 3 nights with my wife ...</td>\n",
       "      <td>1</td>\n",
       "      <td>1</td>\n",
       "    </tr>\n",
       "    <tr>\n",
       "      <th>5</th>\n",
       "      <td>Got a great rate for this hotel on hotwire ($1...</td>\n",
       "      <td>4</td>\n",
       "      <td>3</td>\n",
       "    </tr>\n",
       "    <tr>\n",
       "      <th>6</th>\n",
       "      <td>in short, this is an OK 3 or 4 star hotel. but...</td>\n",
       "      <td>2</td>\n",
       "      <td>1</td>\n",
       "    </tr>\n",
       "    <tr>\n",
       "      <th>7</th>\n",
       "      <td>a five star rat in my room ! Don't get fool by...</td>\n",
       "      <td>1</td>\n",
       "      <td>1</td>\n",
       "    </tr>\n",
       "    <tr>\n",
       "      <th>8</th>\n",
       "      <td>The Hotel's location is brilliant, and within ...</td>\n",
       "      <td>2</td>\n",
       "      <td>1</td>\n",
       "    </tr>\n",
       "    <tr>\n",
       "      <th>9</th>\n",
       "      <td>I stayed at the Hotel Pulitzer in the beginnin...</td>\n",
       "      <td>5</td>\n",
       "      <td>3</td>\n",
       "    </tr>\n",
       "    <tr>\n",
       "      <th>10</th>\n",
       "      <td>This hotel was just a great disappointment.The...</td>\n",
       "      <td>2</td>\n",
       "      <td>1</td>\n",
       "    </tr>\n",
       "    <tr>\n",
       "      <th>11</th>\n",
       "      <td>Having booked a deluxe room at the Pulitzer, w...</td>\n",
       "      <td>1</td>\n",
       "      <td>1</td>\n",
       "    </tr>\n",
       "    <tr>\n",
       "      <th>12</th>\n",
       "      <td>The hotel itself lies along a grand canal in a...</td>\n",
       "      <td>5</td>\n",
       "      <td>3</td>\n",
       "    </tr>\n",
       "    <tr>\n",
       "      <th>13</th>\n",
       "      <td>I have stayed here twice recently and have to ...</td>\n",
       "      <td>1</td>\n",
       "      <td>1</td>\n",
       "    </tr>\n",
       "    <tr>\n",
       "      <th>14</th>\n",
       "      <td>Stayed here for 3 nights in May 08, in an exec...</td>\n",
       "      <td>2</td>\n",
       "      <td>1</td>\n",
       "    </tr>\n",
       "    <tr>\n",
       "      <th>15</th>\n",
       "      <td>We were planning to stay at this hotel but our...</td>\n",
       "      <td>1</td>\n",
       "      <td>1</td>\n",
       "    </tr>\n",
       "    <tr>\n",
       "      <th>16</th>\n",
       "      <td>I stayed at the hotel during my first trip to ...</td>\n",
       "      <td>5</td>\n",
       "      <td>3</td>\n",
       "    </tr>\n",
       "    <tr>\n",
       "      <th>17</th>\n",
       "      <td>So on first impression, all looked ok. Room wa...</td>\n",
       "      <td>1</td>\n",
       "      <td>1</td>\n",
       "    </tr>\n",
       "    <tr>\n",
       "      <th>18</th>\n",
       "      <td>We had made a very early fully refundable rese...</td>\n",
       "      <td>1</td>\n",
       "      <td>1</td>\n",
       "    </tr>\n",
       "    <tr>\n",
       "      <th>19</th>\n",
       "      <td>I am shocked by the other reviews. I travel fo...</td>\n",
       "      <td>1</td>\n",
       "      <td>1</td>\n",
       "    </tr>\n",
       "    <tr>\n",
       "      <th>20</th>\n",
       "      <td>Hugely disappointed. Reserved this hotel b/c i...</td>\n",
       "      <td>2</td>\n",
       "      <td>1</td>\n",
       "    </tr>\n",
       "    <tr>\n",
       "      <th>21</th>\n",
       "      <td>After much research, I finally decided on this...</td>\n",
       "      <td>2</td>\n",
       "      <td>1</td>\n",
       "    </tr>\n",
       "    <tr>\n",
       "      <th>22</th>\n",
       "      <td>My family and I had a nice and trouble free 4 ...</td>\n",
       "      <td>4</td>\n",
       "      <td>3</td>\n",
       "    </tr>\n",
       "    <tr>\n",
       "      <th>23</th>\n",
       "      <td>I definitely agree with other reviewers who wr...</td>\n",
       "      <td>2</td>\n",
       "      <td>1</td>\n",
       "    </tr>\n",
       "    <tr>\n",
       "      <th>24</th>\n",
       "      <td>We stayed at the Pulitzer some time ago (Augus...</td>\n",
       "      <td>4</td>\n",
       "      <td>3</td>\n",
       "    </tr>\n",
       "    <tr>\n",
       "      <th>25</th>\n",
       "      <td>Non-existent service, poor food, rude attitude...</td>\n",
       "      <td>2</td>\n",
       "      <td>1</td>\n",
       "    </tr>\n",
       "    <tr>\n",
       "      <th>26</th>\n",
       "      <td>You will have read from other irrate clients t...</td>\n",
       "      <td>2</td>\n",
       "      <td>1</td>\n",
       "    </tr>\n",
       "    <tr>\n",
       "      <th>27</th>\n",
       "      <td>I just read some of the bad reviews for the Pu...</td>\n",
       "      <td>1</td>\n",
       "      <td>1</td>\n",
       "    </tr>\n",
       "    <tr>\n",
       "      <th>28</th>\n",
       "      <td>My husband and I thought this hotel was \"centr...</td>\n",
       "      <td>4</td>\n",
       "      <td>3</td>\n",
       "    </tr>\n",
       "    <tr>\n",
       "      <th>29</th>\n",
       "      <td>We were traveling with a group of 5 couples an...</td>\n",
       "      <td>5</td>\n",
       "      <td>3</td>\n",
       "    </tr>\n",
       "    <tr>\n",
       "      <th>...</th>\n",
       "      <td>...</td>\n",
       "      <td>...</td>\n",
       "      <td>...</td>\n",
       "    </tr>\n",
       "    <tr>\n",
       "      <th>1649</th>\n",
       "      <td>I happened to stay at this boutique hotel in s...</td>\n",
       "      <td>4</td>\n",
       "      <td>3</td>\n",
       "    </tr>\n",
       "    <tr>\n",
       "      <th>1650</th>\n",
       "      <td>The Altamont is a fantastic boutique hotel, in...</td>\n",
       "      <td>5</td>\n",
       "      <td>3</td>\n",
       "    </tr>\n",
       "    <tr>\n",
       "      <th>1651</th>\n",
       "      <td>I satyed at the Altamont for seven nights. I t...</td>\n",
       "      <td>2</td>\n",
       "      <td>1</td>\n",
       "    </tr>\n",
       "    <tr>\n",
       "      <th>1652</th>\n",
       "      <td>I stayed here during the end of September/star...</td>\n",
       "      <td>2</td>\n",
       "      <td>1</td>\n",
       "    </tr>\n",
       "    <tr>\n",
       "      <th>1653</th>\n",
       "      <td>\"Luxury\"? Five stars? Have we stayed at the sa...</td>\n",
       "      <td>1</td>\n",
       "      <td>1</td>\n",
       "    </tr>\n",
       "    <tr>\n",
       "      <th>1654</th>\n",
       "      <td>The hotel is very charming but the service is ...</td>\n",
       "      <td>2</td>\n",
       "      <td>1</td>\n",
       "    </tr>\n",
       "    <tr>\n",
       "      <th>1655</th>\n",
       "      <td>Stayed for 2 nights in corner suite. Arrived a...</td>\n",
       "      <td>1</td>\n",
       "      <td>1</td>\n",
       "    </tr>\n",
       "    <tr>\n",
       "      <th>1656</th>\n",
       "      <td>Stayed 6 nights at the Amora from 27 November ...</td>\n",
       "      <td>4</td>\n",
       "      <td>3</td>\n",
       "    </tr>\n",
       "    <tr>\n",
       "      <th>1657</th>\n",
       "      <td>Nice rooms, comfortable beds, and very friendl...</td>\n",
       "      <td>5</td>\n",
       "      <td>3</td>\n",
       "    </tr>\n",
       "    <tr>\n",
       "      <th>1658</th>\n",
       "      <td>I booked our stay via Expedia from the Uk base...</td>\n",
       "      <td>5</td>\n",
       "      <td>3</td>\n",
       "    </tr>\n",
       "    <tr>\n",
       "      <th>1659</th>\n",
       "      <td>The facilities, if they were OPEN, would have ...</td>\n",
       "      <td>1</td>\n",
       "      <td>1</td>\n",
       "    </tr>\n",
       "    <tr>\n",
       "      <th>1660</th>\n",
       "      <td>stayed 31/12/06 until 3/1/07.never again will ...</td>\n",
       "      <td>1</td>\n",
       "      <td>1</td>\n",
       "    </tr>\n",
       "    <tr>\n",
       "      <th>1661</th>\n",
       "      <td>The house keeping was very bad.The staff in th...</td>\n",
       "      <td>1</td>\n",
       "      <td>1</td>\n",
       "    </tr>\n",
       "    <tr>\n",
       "      <th>1662</th>\n",
       "      <td>My husband and I stayed at the Amora Jamison f...</td>\n",
       "      <td>1</td>\n",
       "      <td>1</td>\n",
       "    </tr>\n",
       "    <tr>\n",
       "      <th>1663</th>\n",
       "      <td>Booked this hotel from the internet and everyt...</td>\n",
       "      <td>1</td>\n",
       "      <td>1</td>\n",
       "    </tr>\n",
       "    <tr>\n",
       "      <th>1664</th>\n",
       "      <td>Poor check-in, unfriendly staff, didn't clean ...</td>\n",
       "      <td>1</td>\n",
       "      <td>1</td>\n",
       "    </tr>\n",
       "    <tr>\n",
       "      <th>1665</th>\n",
       "      <td>I think we first stayed at this hotel in Decem...</td>\n",
       "      <td>4</td>\n",
       "      <td>3</td>\n",
       "    </tr>\n",
       "    <tr>\n",
       "      <th>1666</th>\n",
       "      <td>About a month ago I booked two Jamison Club ro...</td>\n",
       "      <td>2</td>\n",
       "      <td>1</td>\n",
       "    </tr>\n",
       "    <tr>\n",
       "      <th>1667</th>\n",
       "      <td>We arrived in Sydney on short notice and being...</td>\n",
       "      <td>2</td>\n",
       "      <td>1</td>\n",
       "    </tr>\n",
       "    <tr>\n",
       "      <th>1668</th>\n",
       "      <td>It is an anomaly that this hotel is rated so h...</td>\n",
       "      <td>2</td>\n",
       "      <td>1</td>\n",
       "    </tr>\n",
       "    <tr>\n",
       "      <th>1669</th>\n",
       "      <td>uk trip advisor member. We spent 5 nights here...</td>\n",
       "      <td>2</td>\n",
       "      <td>1</td>\n",
       "    </tr>\n",
       "    <tr>\n",
       "      <th>1670</th>\n",
       "      <td>I spent 1 night at the Amora when on Business....</td>\n",
       "      <td>4</td>\n",
       "      <td>3</td>\n",
       "    </tr>\n",
       "    <tr>\n",
       "      <th>1671</th>\n",
       "      <td>This hotel was VERY dissapointing. Firstly we ...</td>\n",
       "      <td>2</td>\n",
       "      <td>1</td>\n",
       "    </tr>\n",
       "    <tr>\n",
       "      <th>1672</th>\n",
       "      <td>Our room was big and has a great bathroom - ab...</td>\n",
       "      <td>5</td>\n",
       "      <td>3</td>\n",
       "    </tr>\n",
       "    <tr>\n",
       "      <th>1673</th>\n",
       "      <td>I had a mixed experience at the Amora recently...</td>\n",
       "      <td>2</td>\n",
       "      <td>1</td>\n",
       "    </tr>\n",
       "    <tr>\n",
       "      <th>1674</th>\n",
       "      <td>We arrived to find their carpark full and no v...</td>\n",
       "      <td>2</td>\n",
       "      <td>1</td>\n",
       "    </tr>\n",
       "    <tr>\n",
       "      <th>1675</th>\n",
       "      <td>The hotel is ranked 5 stars by many vendors, b...</td>\n",
       "      <td>4</td>\n",
       "      <td>3</td>\n",
       "    </tr>\n",
       "    <tr>\n",
       "      <th>1676</th>\n",
       "      <td>Enjoyed it very much. It is now the Amora but ...</td>\n",
       "      <td>4</td>\n",
       "      <td>3</td>\n",
       "    </tr>\n",
       "    <tr>\n",
       "      <th>1677</th>\n",
       "      <td>I booked this hotel sometime in the summer of ...</td>\n",
       "      <td>4</td>\n",
       "      <td>3</td>\n",
       "    </tr>\n",
       "    <tr>\n",
       "      <th>1678</th>\n",
       "      <td>This place has not improved with time! When we...</td>\n",
       "      <td>1</td>\n",
       "      <td>1</td>\n",
       "    </tr>\n",
       "  </tbody>\n",
       "</table>\n",
       "<p>1679 rows × 3 columns</p>\n",
       "</div>"
      ],
      "text/plain": [
       "                                                   text  score  overall\n",
       "0     This was my second stay at the Hotel Pulitzer....      2        1\n",
       "1     this hotel is truely the best in amsterdam and...      5        3\n",
       "2     Just spent 3 nights at this hotel 5th March 04...      4        3\n",
       "3     I had communicated 6 months in advance, reques...      2        1\n",
       "4     We stayed in this hotel 3 nights with my wife ...      1        1\n",
       "5     Got a great rate for this hotel on hotwire ($1...      4        3\n",
       "6     in short, this is an OK 3 or 4 star hotel. but...      2        1\n",
       "7     a five star rat in my room ! Don't get fool by...      1        1\n",
       "8     The Hotel's location is brilliant, and within ...      2        1\n",
       "9     I stayed at the Hotel Pulitzer in the beginnin...      5        3\n",
       "10    This hotel was just a great disappointment.The...      2        1\n",
       "11    Having booked a deluxe room at the Pulitzer, w...      1        1\n",
       "12    The hotel itself lies along a grand canal in a...      5        3\n",
       "13    I have stayed here twice recently and have to ...      1        1\n",
       "14    Stayed here for 3 nights in May 08, in an exec...      2        1\n",
       "15    We were planning to stay at this hotel but our...      1        1\n",
       "16    I stayed at the hotel during my first trip to ...      5        3\n",
       "17    So on first impression, all looked ok. Room wa...      1        1\n",
       "18    We had made a very early fully refundable rese...      1        1\n",
       "19    I am shocked by the other reviews. I travel fo...      1        1\n",
       "20    Hugely disappointed. Reserved this hotel b/c i...      2        1\n",
       "21    After much research, I finally decided on this...      2        1\n",
       "22    My family and I had a nice and trouble free 4 ...      4        3\n",
       "23    I definitely agree with other reviewers who wr...      2        1\n",
       "24    We stayed at the Pulitzer some time ago (Augus...      4        3\n",
       "25    Non-existent service, poor food, rude attitude...      2        1\n",
       "26    You will have read from other irrate clients t...      2        1\n",
       "27    I just read some of the bad reviews for the Pu...      1        1\n",
       "28    My husband and I thought this hotel was \"centr...      4        3\n",
       "29    We were traveling with a group of 5 couples an...      5        3\n",
       "...                                                 ...    ...      ...\n",
       "1649  I happened to stay at this boutique hotel in s...      4        3\n",
       "1650  The Altamont is a fantastic boutique hotel, in...      5        3\n",
       "1651  I satyed at the Altamont for seven nights. I t...      2        1\n",
       "1652  I stayed here during the end of September/star...      2        1\n",
       "1653  \"Luxury\"? Five stars? Have we stayed at the sa...      1        1\n",
       "1654  The hotel is very charming but the service is ...      2        1\n",
       "1655  Stayed for 2 nights in corner suite. Arrived a...      1        1\n",
       "1656  Stayed 6 nights at the Amora from 27 November ...      4        3\n",
       "1657  Nice rooms, comfortable beds, and very friendl...      5        3\n",
       "1658  I booked our stay via Expedia from the Uk base...      5        3\n",
       "1659  The facilities, if they were OPEN, would have ...      1        1\n",
       "1660  stayed 31/12/06 until 3/1/07.never again will ...      1        1\n",
       "1661  The house keeping was very bad.The staff in th...      1        1\n",
       "1662  My husband and I stayed at the Amora Jamison f...      1        1\n",
       "1663  Booked this hotel from the internet and everyt...      1        1\n",
       "1664  Poor check-in, unfriendly staff, didn't clean ...      1        1\n",
       "1665  I think we first stayed at this hotel in Decem...      4        3\n",
       "1666  About a month ago I booked two Jamison Club ro...      2        1\n",
       "1667  We arrived in Sydney on short notice and being...      2        1\n",
       "1668  It is an anomaly that this hotel is rated so h...      2        1\n",
       "1669  uk trip advisor member. We spent 5 nights here...      2        1\n",
       "1670  I spent 1 night at the Amora when on Business....      4        3\n",
       "1671  This hotel was VERY dissapointing. Firstly we ...      2        1\n",
       "1672  Our room was big and has a great bathroom - ab...      5        3\n",
       "1673  I had a mixed experience at the Amora recently...      2        1\n",
       "1674  We arrived to find their carpark full and no v...      2        1\n",
       "1675  The hotel is ranked 5 stars by many vendors, b...      4        3\n",
       "1676  Enjoyed it very much. It is now the Amora but ...      4        3\n",
       "1677  I booked this hotel sometime in the summer of ...      4        3\n",
       "1678  This place has not improved with time! When we...      1        1\n",
       "\n",
       "[1679 rows x 3 columns]"
      ]
     },
     "execution_count": 4,
     "metadata": {},
     "output_type": "execute_result"
    }
   ],
   "source": [
    "data"
   ]
  },
  {
   "cell_type": "code",
   "execution_count": 5,
   "metadata": {
    "collapsed": true
   },
   "outputs": [],
   "source": [
    "data['text'] = data['text'].apply(lambda x: x.lower())\n",
    "data['text'] = data['text'].apply((lambda x: re.sub('[^a-zA-z0-9\\s]','',x)))"
   ]
  },
  {
   "cell_type": "code",
   "execution_count": 6,
   "metadata": {
    "collapsed": false
   },
   "outputs": [
    {
     "data": {
      "text/plain": [
       "0       this was my second stay at the hotel pulitzer ...\n",
       "1       this hotel is truely the best in amsterdam and...\n",
       "2       just spent 3 nights at this hotel 5th march 04...\n",
       "3       i had communicated 6 months in advance request...\n",
       "4       we stayed in this hotel 3 nights with my wife ...\n",
       "5       got a great rate for this hotel on hotwire 195...\n",
       "6       in short this is an ok 3 or 4 star hotel but f...\n",
       "7       a five star rat in my room  dont get fool by b...\n",
       "8       the hotels location is brilliant and within wa...\n",
       "9       i stayed at the hotel pulitzer in the beginnin...\n",
       "10      this hotel was just a great disappointmentthe ...\n",
       "11      having booked a deluxe room at the pulitzer we...\n",
       "12      the hotel itself lies along a grand canal in a...\n",
       "13      i have stayed here twice recently and have to ...\n",
       "14      stayed here for 3 nights in may 08 in an execu...\n",
       "15      we were planning to stay at this hotel but our...\n",
       "16      i stayed at the hotel during my first trip to ...\n",
       "17      so on first impression all looked ok room wasn...\n",
       "18      we had made a very early fully refundable rese...\n",
       "19      i am shocked by the other reviews i travel for...\n",
       "20      hugely disappointed reserved this hotel bc it ...\n",
       "21      after much research i finally decided on this ...\n",
       "22      my family and i had a nice and trouble free 4 ...\n",
       "23      i definitely agree with other reviewers who wr...\n",
       "24      we stayed at the pulitzer some time ago august...\n",
       "25      nonexistent service poor food rude attitude ov...\n",
       "26      you will have read from other irrate clients t...\n",
       "27      i just read some of the bad reviews for the pu...\n",
       "28      my husband and i thought this hotel was centra...\n",
       "29      we were traveling with a group of 5 couples an...\n",
       "                              ...                        \n",
       "1649    i happened to stay at this boutique hotel in s...\n",
       "1650    the altamont is a fantastic boutique hotel in ...\n",
       "1651    i satyed at the altamont for seven nights i th...\n",
       "1652    i stayed here during the end of septemberstart...\n",
       "1653    luxury five stars have we stayed at the same p...\n",
       "1654    the hotel is very charming but the service is ...\n",
       "1655    stayed for 2 nights in corner suite arrived at...\n",
       "1656    stayed 6 nights at the amora from 27 november ...\n",
       "1657    nice rooms comfortable beds and very friendly ...\n",
       "1658    i booked our stay via expedia from the uk base...\n",
       "1659    the facilities if they were open would have be...\n",
       "1660    stayed 311206 until 3107never again will we go...\n",
       "1661    the house keeping was very badthe staff in thi...\n",
       "1662    my husband and i stayed at the amora jamison f...\n",
       "1663    booked this hotel from the internet and everyt...\n",
       "1664    poor checkin unfriendly staff didnt clean room...\n",
       "1665    i think we first stayed at this hotel in decem...\n",
       "1666    about a month ago i booked two jamison club ro...\n",
       "1667    we arrived in sydney on short notice and being...\n",
       "1668    it is an anomaly that this hotel is rated so h...\n",
       "1669    uk trip advisor member we spent 5 nights here ...\n",
       "1670    i spent 1 night at the amora when on business ...\n",
       "1671    this hotel was very dissapointing firstly we w...\n",
       "1672    our room was big and has a great bathroom  abs...\n",
       "1673    i had a mixed experience at the amora recently...\n",
       "1674    we arrived to find their carpark full and no v...\n",
       "1675    the hotel is ranked 5 stars by many vendors bu...\n",
       "1676    enjoyed it very much it is now the amora but b...\n",
       "1677    i booked this hotel sometime in the summer of ...\n",
       "1678    this place has not improved with time when we ...\n",
       "Name: text, Length: 1679, dtype: object"
      ]
     },
     "execution_count": 6,
     "metadata": {},
     "output_type": "execute_result"
    }
   ],
   "source": [
    "data['text']"
   ]
  },
  {
   "cell_type": "code",
   "execution_count": 7,
   "metadata": {
    "collapsed": true
   },
   "outputs": [],
   "source": [
    "max_fatures = 20000\n",
    "tokenizer = Tokenizer(num_words=max_fatures, split=' ')\n",
    "tokenizer.fit_on_texts(data['text'].values)"
   ]
  },
  {
   "cell_type": "code",
   "execution_count": 8,
   "metadata": {
    "collapsed": true
   },
   "outputs": [],
   "source": [
    "X = tokenizer.texts_to_sequences(data['text'].values)"
   ]
  },
  {
   "cell_type": "code",
   "execution_count": 9,
   "metadata": {
    "collapsed": false
   },
   "outputs": [
    {
     "data": {
      "text/plain": [
       "[51,\n",
       " 12,\n",
       " 7654,\n",
       " 10,\n",
       " 405,\n",
       " 5,\n",
       " 730,\n",
       " 3332,\n",
       " 23,\n",
       " 1028,\n",
       " 40,\n",
       " 248,\n",
       " 76,\n",
       " 3,\n",
       " 7655,\n",
       " 543,\n",
       " 7656,\n",
       " 8,\n",
       " 83,\n",
       " 507,\n",
       " 646,\n",
       " 39,\n",
       " 20,\n",
       " 37,\n",
       " 15,\n",
       " 114,\n",
       " 6,\n",
       " 1751,\n",
       " 802,\n",
       " 4,\n",
       " 448,\n",
       " 48,\n",
       " 133,\n",
       " 4405,\n",
       " 147,\n",
       " 58,\n",
       " 169,\n",
       " 597,\n",
       " 59,\n",
       " 3789,\n",
       " 8,\n",
       " 5433,\n",
       " 1887,\n",
       " 167,\n",
       " 6,\n",
       " 27,\n",
       " 534,\n",
       " 7657,\n",
       " 171,\n",
       " 1997,\n",
       " 4,\n",
       " 187,\n",
       " 1,\n",
       " 349,\n",
       " 9,\n",
       " 54,\n",
       " 52,\n",
       " 42,\n",
       " 55,\n",
       " 2,\n",
       " 205,\n",
       " 51,\n",
       " 5,\n",
       " 48,\n",
       " 479,\n",
       " 38,\n",
       " 78,\n",
       " 77]"
      ]
     },
     "execution_count": 9,
     "metadata": {},
     "output_type": "execute_result"
    }
   ],
   "source": [
    "X[100]"
   ]
  },
  {
   "cell_type": "code",
   "execution_count": 10,
   "metadata": {
    "collapsed": true
   },
   "outputs": [],
   "source": [
    "X = pad_sequences(X,500)"
   ]
  },
  {
   "cell_type": "code",
   "execution_count": 11,
   "metadata": {
    "collapsed": false
   },
   "outputs": [
    {
     "data": {
      "text/plain": [
       "array([[   0,    0,    0, ...,  338,    1,  152],\n",
       "       [   0,    0,    0, ...,    4,  299, 2326],\n",
       "       [   0,    0,    0, ...,    1,  277,   94],\n",
       "       ..., \n",
       "       [   0,    0,    0, ...,  745,   32,   46],\n",
       "       [   0,    0,    0, ...,  267,  168, 2992],\n",
       "       [   0,    0,    0, ...,    4,  682,  443]])"
      ]
     },
     "execution_count": 11,
     "metadata": {},
     "output_type": "execute_result"
    }
   ],
   "source": [
    "X"
   ]
  },
  {
   "cell_type": "code",
   "execution_count": null,
   "metadata": {
    "collapsed": true
   },
   "outputs": [],
   "source": []
  },
  {
   "cell_type": "code",
   "execution_count": 16,
   "metadata": {
    "collapsed": true
   },
   "outputs": [],
   "source": [
    "Y = pd.get_dummies(data['overall']).values"
   ]
  },
  {
   "cell_type": "code",
   "execution_count": 17,
   "metadata": {
    "collapsed": false
   },
   "outputs": [
    {
     "data": {
      "text/plain": [
       "array([[1, 0],\n",
       "       [0, 1],\n",
       "       [0, 1],\n",
       "       ..., \n",
       "       [0, 1],\n",
       "       [0, 1],\n",
       "       [1, 0]], dtype=uint8)"
      ]
     },
     "execution_count": 17,
     "metadata": {},
     "output_type": "execute_result"
    }
   ],
   "source": [
    "Y"
   ]
  },
  {
   "cell_type": "code",
   "execution_count": 18,
   "metadata": {
    "collapsed": false
   },
   "outputs": [
    {
     "name": "stdout",
     "output_type": "stream",
     "text": [
      "(1124, 500) (1124, 2)\n",
      "(555, 500) (555, 2)\n"
     ]
    }
   ],
   "source": [
    "X_train, X_test, Y_train, Y_test = train_test_split(X,Y, test_size = 0.33, random_state = 42)\n",
    "print(X_train.shape,Y_train.shape)\n",
    "print(X_test.shape,Y_test.shape)"
   ]
  },
  {
   "cell_type": "code",
   "execution_count": null,
   "metadata": {
    "collapsed": true
   },
   "outputs": [],
   "source": []
  },
  {
   "cell_type": "markdown",
   "metadata": {},
   "source": [
    "# LSTM"
   ]
  },
  {
   "cell_type": "code",
   "execution_count": 19,
   "metadata": {
    "collapsed": true
   },
   "outputs": [],
   "source": [
    "import numpy\n",
    "from keras.datasets import imdb\n",
    "from keras.models import Sequential\n",
    "from keras.layers import Dense\n",
    "from keras.layers import LSTM\n",
    "from keras.layers import Dropout\n",
    "from keras.layers.embeddings import Embedding\n",
    "from keras.preprocessing import sequence\n",
    "from keras import metrics"
   ]
  },
  {
   "cell_type": "code",
   "execution_count": 20,
   "metadata": {
    "collapsed": false
   },
   "outputs": [
    {
     "name": "stderr",
     "output_type": "stream",
     "text": [
      "C:\\Users\\JEFF\\Anaconda3\\lib\\site-packages\\ipykernel_launcher.py:10: UserWarning: The `dropout` argument is no longer support in `Embedding`. You can apply a `keras.layers.SpatialDropout1D` layer right after the `Embedding` layer to get the same behavior.\n",
      "  # Remove the CWD from sys.path while we load stuff.\n"
     ]
    },
    {
     "name": "stdout",
     "output_type": "stream",
     "text": [
      "_________________________________________________________________\n",
      "Layer (type)                 Output Shape              Param #   \n",
      "=================================================================\n",
      "embedding_1 (Embedding)      (None, 500, 128)          2560000   \n",
      "_________________________________________________________________\n",
      "lstm_1 (LSTM)                (None, 100)               91600     \n",
      "_________________________________________________________________\n",
      "dense_1 (Dense)              (None, 2)                 202       \n",
      "=================================================================\n",
      "Total params: 2,651,802\n",
      "Trainable params: 2,651,802\n",
      "Non-trainable params: 0\n",
      "_________________________________________________________________\n",
      "None\n",
      "Epoch 1/10\n",
      "1124/1124 [==============================] - 20s - loss: 0.6862 - categorical_accuracy: 0.5890    \n",
      "Epoch 2/10\n",
      "1124/1124 [==============================] - 19s - loss: 0.4892 - categorical_accuracy: 0.7856    \n",
      "Epoch 3/10\n",
      "1124/1124 [==============================] - 18s - loss: 0.3573 - categorical_accuracy: 0.9021    \n",
      "Epoch 4/10\n",
      "1124/1124 [==============================] - 19s - loss: 0.1514 - categorical_accuracy: 0.9431    \n",
      "Epoch 5/10\n",
      "1124/1124 [==============================] - 19s - loss: 0.0733 - categorical_accuracy: 0.9893    \n",
      "Epoch 6/10\n",
      "1124/1124 [==============================] - 19s - loss: 0.0313 - categorical_accuracy: 0.9947    \n",
      "Epoch 7/10\n",
      "1124/1124 [==============================] - 19s - loss: 0.0109 - categorical_accuracy: 0.9982    \n",
      "Epoch 8/10\n",
      "1124/1124 [==============================] - 19s - loss: 0.0061 - categorical_accuracy: 0.9991    \n",
      "Epoch 9/10\n",
      "1124/1124 [==============================] - 20s - loss: 0.0043 - categorical_accuracy: 0.9991    \n",
      "Epoch 10/10\n",
      "1124/1124 [==============================] - 19s - loss: 0.0071 - categorical_accuracy: 0.9982    \n",
      "Accuracy: 78.20%\n"
     ]
    }
   ],
   "source": [
    "# fix random seed for reproducibility\n",
    "numpy.random.seed(7)\n",
    "# load the dataset but only keep the top n words, zero the rest\n",
    "top_words = 20000\n",
    "\n",
    "\n",
    "# create the model\n",
    "embedding_vecor_length = 128\n",
    "model = Sequential()\n",
    "model.add(Embedding(top_words, embedding_vecor_length, input_length=X.shape[1], dropout=0.2))\n",
    "model.add(LSTM(100))\n",
    "model.add(Dense(2, activation='softmax'))\n",
    "model.compile(loss='categorical_crossentropy', optimizer='adam', metrics=[metrics.categorical_accuracy])\n",
    "print(model.summary())\n",
    "model.fit(X_train, Y_train, epochs=10, batch_size=64)\n",
    "# Final evaluation of the model\n",
    "scores = model.evaluate(X_test, Y_test, verbose=0)\n",
    "print(\"Accuracy: %.2f%%\" % (scores[1]*100))"
   ]
  },
  {
   "cell_type": "code",
   "execution_count": null,
   "metadata": {
    "collapsed": true
   },
   "outputs": [],
   "source": []
  },
  {
   "cell_type": "code",
   "execution_count": 21,
   "metadata": {
    "collapsed": true
   },
   "outputs": [],
   "source": [
    "# sklearn"
   ]
  },
  {
   "cell_type": "code",
   "execution_count": 22,
   "metadata": {
    "collapsed": true
   },
   "outputs": [],
   "source": [
    "from sklearn.metrics import matthews_corrcoef\n",
    "from sklearn.metrics import hamming_loss\n",
    "from sklearn.metrics import f1_score\n",
    "from sklearn.metrics import precision_score"
   ]
  },
  {
   "cell_type": "code",
   "execution_count": 38,
   "metadata": {
    "collapsed": false
   },
   "outputs": [
    {
     "name": "stdout",
     "output_type": "stream",
     "text": [
      "555/555 [==============================] - 3s     \n"
     ]
    },
    {
     "data": {
      "text/plain": [
       "array([[  1.86323689e-03,   9.98136759e-01],\n",
       "       [  6.24107659e-01,   3.75892341e-01],\n",
       "       [  9.94319260e-01,   5.68081439e-03],\n",
       "       ..., \n",
       "       [  9.99938846e-01,   6.12020231e-05],\n",
       "       [  9.92574096e-01,   7.42586609e-03],\n",
       "       [  9.99726117e-01,   2.73873331e-04]], dtype=float32)"
      ]
     },
     "execution_count": 38,
     "metadata": {},
     "output_type": "execute_result"
    }
   ],
   "source": [
    "out = model.predict_proba(X_test)\n",
    "out = np.array(out)\n",
    "out"
   ]
  },
  {
   "cell_type": "code",
   "execution_count": 39,
   "metadata": {
    "collapsed": true
   },
   "outputs": [],
   "source": [
    "threshold = np.arange(0.1,0.9,0.1)\n",
    "\n",
    "acc = []\n",
    "accuracies = []\n",
    "best_threshold = np.zeros(out.shape[1])\n",
    "for i in range(out.shape[1]):\n",
    "    y_prob = np.array(out[:,i])\n",
    "    for j in threshold:\n",
    "        y_pred = [1 if prob>=j else 0 for prob in y_prob]\n",
    "        acc.append( matthews_corrcoef(Y_test[:,i],y_pred))\n",
    "    acc   = np.array(acc)\n",
    "    index = np.where(acc==acc.max()) \n",
    "    accuracies.append(acc.max()) \n",
    "    best_threshold[i] = threshold[index[0][0]]\n",
    "    acc = []"
   ]
  },
  {
   "cell_type": "code",
   "execution_count": 40,
   "metadata": {
    "collapsed": false
   },
   "outputs": [
    {
     "data": {
      "text/plain": [
       "array([ 0.7,  0.1])"
      ]
     },
     "execution_count": 40,
     "metadata": {},
     "output_type": "execute_result"
    }
   ],
   "source": [
    "best_threshold"
   ]
  },
  {
   "cell_type": "code",
   "execution_count": 41,
   "metadata": {
    "collapsed": false
   },
   "outputs": [
    {
     "data": {
      "text/plain": [
       "array([[0, 1],\n",
       "       [0, 1],\n",
       "       [1, 0],\n",
       "       ..., \n",
       "       [1, 0],\n",
       "       [1, 0],\n",
       "       [1, 0]])"
      ]
     },
     "execution_count": 41,
     "metadata": {},
     "output_type": "execute_result"
    }
   ],
   "source": [
    "y_pred = np.array([[1 if out[i,j]>=best_threshold[j] else 0 for j in range(Y_test.shape[1])] for i in range(len(Y_test))])\n",
    "y_pred"
   ]
  },
  {
   "cell_type": "code",
   "execution_count": 27,
   "metadata": {
    "collapsed": false
   },
   "outputs": [
    {
     "name": "stdout",
     "output_type": "stream",
     "text": [
      "             precision    recall  f1-score   support\n",
      "\n",
      "          0       0.87      0.75      0.81       290\n",
      "          1       0.76      0.88      0.82       265\n",
      "\n",
      "avg / total       0.82      0.81      0.81       555\n",
      "\n"
     ]
    }
   ],
   "source": [
    "from sklearn.metrics import classification_report\n",
    "\n",
    "print(classification_report(Y_test, y_pred))"
   ]
  },
  {
   "cell_type": "code",
   "execution_count": null,
   "metadata": {
    "collapsed": true
   },
   "outputs": [],
   "source": []
  },
  {
   "cell_type": "markdown",
   "metadata": {},
   "source": [
    "# CNN"
   ]
  },
  {
   "cell_type": "code",
   "execution_count": 28,
   "metadata": {
    "collapsed": true
   },
   "outputs": [],
   "source": [
    "from keras.models import Sequential\n",
    "from keras.layers import Dense\n",
    "from keras.layers import Flatten\n",
    "from keras.layers.convolutional import Convolution1D\n",
    "from keras.layers.convolutional import MaxPooling1D\n",
    "from keras.layers.embeddings import Embedding\n",
    "from keras.layers.core import Dense, Dropout, Activation\n",
    "from keras import metrics\n",
    "#from keras.preprocessing import sequence"
   ]
  },
  {
   "cell_type": "code",
   "execution_count": 29,
   "metadata": {
    "collapsed": false
   },
   "outputs": [
    {
     "name": "stdout",
     "output_type": "stream",
     "text": [
      "_________________________________________________________________\n",
      "Layer (type)                 Output Shape              Param #   \n",
      "=================================================================\n",
      "embedding_2 (Embedding)      (None, 500, 128)          2560000   \n",
      "_________________________________________________________________\n",
      "conv1d_1 (Conv1D)            (None, 498, 250)          96250     \n",
      "_________________________________________________________________\n",
      "max_pooling1d_1 (MaxPooling1 (None, 249, 250)          0         \n",
      "_________________________________________________________________\n",
      "flatten_1 (Flatten)          (None, 62250)             0         \n",
      "_________________________________________________________________\n",
      "dense_2 (Dense)              (None, 250)               15562750  \n",
      "_________________________________________________________________\n",
      "dropout_1 (Dropout)          (None, 250)               0         \n",
      "_________________________________________________________________\n",
      "activation_1 (Activation)    (None, 250)               0         \n",
      "_________________________________________________________________\n",
      "dense_3 (Dense)              (None, 2)                 502       \n",
      "_________________________________________________________________\n",
      "activation_2 (Activation)    (None, 2)                 0         \n",
      "=================================================================\n",
      "Total params: 18,219,502\n",
      "Trainable params: 18,219,502\n",
      "Non-trainable params: 0\n",
      "_________________________________________________________________\n"
     ]
    }
   ],
   "source": [
    "model = Sequential()\n",
    "model.add(Embedding(20000,input_length=X.shape[1], output_dim = 128))\n",
    "\n",
    "model.add(Convolution1D(activation=\"relu\", filters=250, kernel_size=3, strides=1, padding=\"valid\"))\n",
    "model.add(MaxPooling1D(pool_size = 2))\n",
    "model.add(Flatten())\n",
    "model.add(Dense(250)) \n",
    "model.add(Dropout(0.2)) \n",
    "model.add(Activation('relu'))\n",
    "model.add(Dense(2))\n",
    "model.add(Activation('softmax'))\n",
    "\n",
    "model.compile(loss='categorical_crossentropy',optimizer='adam', metrics= [ metrics.categorical_accuracy  ])\n",
    "model.summary()"
   ]
  },
  {
   "cell_type": "code",
   "execution_count": 30,
   "metadata": {
    "collapsed": false
   },
   "outputs": [
    {
     "name": "stdout",
     "output_type": "stream",
     "text": [
      "Train on 1011 samples, validate on 113 samples\n",
      "Epoch 1/10\n",
      "1011/1011 [==============================] - 18s - loss: 0.7091 - categorical_accuracy: 0.5648 - val_loss: 0.6152 - val_categorical_accuracy: 0.6549\n",
      "Epoch 2/10\n",
      "1011/1011 [==============================] - 16s - loss: 0.3393 - categorical_accuracy: 0.8546 - val_loss: 0.3331 - val_categorical_accuracy: 0.8496\n",
      "Epoch 3/10\n",
      "1011/1011 [==============================] - 14s - loss: 0.0675 - categorical_accuracy: 0.9782 - val_loss: 0.4415 - val_categorical_accuracy: 0.8673\n",
      "Epoch 4/10\n",
      "1011/1011 [==============================] - 17s - loss: 0.0145 - categorical_accuracy: 0.9990 - val_loss: 0.3888 - val_categorical_accuracy: 0.8761\n",
      "Epoch 5/10\n",
      "1011/1011 [==============================] - 16s - loss: 0.0025 - categorical_accuracy: 1.0000 - val_loss: 0.3586 - val_categorical_accuracy: 0.8850\n",
      "Epoch 6/10\n",
      "1011/1011 [==============================] - 16s - loss: 0.0012 - categorical_accuracy: 1.0000 - val_loss: 0.3684 - val_categorical_accuracy: 0.8761\n",
      "Epoch 7/10\n",
      "1011/1011 [==============================] - 16s - loss: 7.1032e-04 - categorical_accuracy: 1.0000 - val_loss: 0.3820 - val_categorical_accuracy: 0.8673\n",
      "Epoch 8/10\n",
      "1011/1011 [==============================] - 16s - loss: 4.4887e-04 - categorical_accuracy: 1.0000 - val_loss: 0.3890 - val_categorical_accuracy: 0.8673\n",
      "Epoch 9/10\n",
      "1011/1011 [==============================] - 16s - loss: 3.3680e-04 - categorical_accuracy: 1.0000 - val_loss: 0.3963 - val_categorical_accuracy: 0.8673\n",
      "Epoch 10/10\n",
      "1011/1011 [==============================] - 16s - loss: 3.1472e-04 - categorical_accuracy: 1.0000 - val_loss: 0.4080 - val_categorical_accuracy: 0.8673\n"
     ]
    }
   ],
   "source": [
    "hist=model.fit(X_train, Y_train, batch_size= 32, epochs=10, validation_split=0.1)"
   ]
  },
  {
   "cell_type": "code",
   "execution_count": 24,
   "metadata": {
    "collapsed": false
   },
   "outputs": [
    {
     "name": "stdout",
     "output_type": "stream",
     "text": [
      "Epoch 1/10\n",
      "1124/1124 [==============================] - 16s - loss: 0.0583 - categorical_accuracy: 0.9840    \n",
      "Epoch 2/10\n",
      "1124/1124 [==============================] - 15s - loss: 0.0096 - categorical_accuracy: 0.9991    \n",
      "Epoch 3/10\n",
      "1124/1124 [==============================] - 15s - loss: 7.8790e-04 - categorical_accuracy: 1.0000    \n",
      "Epoch 4/10\n",
      "1124/1124 [==============================] - 15s - loss: 2.3712e-04 - categorical_accuracy: 1.0000    \n",
      "Epoch 5/10\n",
      "1124/1124 [==============================] - 15s - loss: 1.6184e-04 - categorical_accuracy: 1.0000    \n",
      "Epoch 6/10\n",
      "1124/1124 [==============================] - 15s - loss: 1.0161e-04 - categorical_accuracy: 1.0000    \n",
      "Epoch 7/10\n",
      "1124/1124 [==============================] - 15s - loss: 7.0791e-05 - categorical_accuracy: 1.0000    \n",
      "Epoch 8/10\n",
      "1124/1124 [==============================] - 15s - loss: 7.4234e-05 - categorical_accuracy: 1.0000    \n",
      "Epoch 9/10\n",
      "1124/1124 [==============================] - 15s - loss: 6.1175e-05 - categorical_accuracy: 1.0000    \n",
      "Epoch 10/10\n",
      "1124/1124 [==============================] - 15s - loss: 6.4807e-05 - categorical_accuracy: 1.0000    \n"
     ]
    }
   ],
   "source": [
    "hist=model.fit(X_train, Y_train, epochs=10, batch_size=32)"
   ]
  },
  {
   "cell_type": "code",
   "execution_count": 31,
   "metadata": {
    "collapsed": false
   },
   "outputs": [
    {
     "name": "stdout",
     "output_type": "stream",
     "text": [
      "555/555 [==============================] - 1s     \n",
      "Test score: 0.438291463229\n",
      "Test accuracy: 0.882882881487\n"
     ]
    }
   ],
   "source": [
    "score, acc = model.evaluate(X_test, Y_test, batch_size= 64)\n",
    "print('Test score:', score)\n",
    "print('Test accuracy:', acc)"
   ]
  },
  {
   "cell_type": "code",
   "execution_count": null,
   "metadata": {
    "collapsed": true
   },
   "outputs": [],
   "source": []
  },
  {
   "cell_type": "code",
   "execution_count": 36,
   "metadata": {
    "collapsed": false
   },
   "outputs": [
    {
     "name": "stdout",
     "output_type": "stream",
     "text": [
      "             precision    recall  f1-score   support\n",
      "\n",
      "          0       0.89      0.90      0.90       290\n",
      "          1       0.89      0.88      0.88       265\n",
      "\n",
      "avg / total       0.89      0.89      0.89       555\n",
      "\n"
     ]
    }
   ],
   "source": [
    "from sklearn.metrics import classification_report\n",
    "\n",
    "print(classification_report(Y_test, y_pred))"
   ]
  },
  {
   "cell_type": "code",
   "execution_count": null,
   "metadata": {
    "collapsed": true
   },
   "outputs": [],
   "source": []
  },
  {
   "cell_type": "code",
   "execution_count": null,
   "metadata": {
    "collapsed": true
   },
   "outputs": [],
   "source": []
  },
  {
   "cell_type": "markdown",
   "metadata": {},
   "source": [
    "# CNN+LSTM"
   ]
  },
  {
   "cell_type": "code",
   "execution_count": 37,
   "metadata": {
    "collapsed": false
   },
   "outputs": [
    {
     "name": "stderr",
     "output_type": "stream",
     "text": [
      "C:\\Users\\JEFF\\Anaconda3\\lib\\site-packages\\ipykernel_launcher.py:21: UserWarning: Update your `MaxPooling1D` call to the Keras 2 API: `MaxPooling1D(pool_size=2)`\n"
     ]
    },
    {
     "name": "stdout",
     "output_type": "stream",
     "text": [
      "_________________________________________________________________\n",
      "Layer (type)                 Output Shape              Param #   \n",
      "=================================================================\n",
      "embedding_3 (Embedding)      (None, 500, 256)          5120000   \n",
      "_________________________________________________________________\n",
      "conv1d_2 (Conv1D)            (None, 498, 250)          192250    \n",
      "_________________________________________________________________\n",
      "max_pooling1d_2 (MaxPooling1 (None, 249, 250)          0         \n",
      "_________________________________________________________________\n",
      "lstm_2 (LSTM)                (None, 100)               140400    \n",
      "_________________________________________________________________\n",
      "dense_4 (Dense)              (None, 2)                 202       \n",
      "=================================================================\n",
      "Total params: 5,452,852\n",
      "Trainable params: 5,452,852\n",
      "Non-trainable params: 0\n",
      "_________________________________________________________________\n",
      "None\n",
      "Epoch 1/10\n",
      "1124/1124 [==============================] - 24s - loss: 0.6825 - categorical_accuracy: 0.5552    \n",
      "Epoch 2/10\n",
      "1124/1124 [==============================] - 23s - loss: 0.4230 - categorical_accuracy: 0.8443    \n",
      "Epoch 3/10\n",
      "1124/1124 [==============================] - 22s - loss: 0.1416 - categorical_accuracy: 0.9484    \n",
      "Epoch 4/10\n",
      "1124/1124 [==============================] - 21s - loss: 0.0197 - categorical_accuracy: 0.9938    \n",
      "Epoch 5/10\n",
      "1124/1124 [==============================] - 20s - loss: 0.0152 - categorical_accuracy: 0.9956    \n",
      "Epoch 6/10\n",
      "1124/1124 [==============================] - 21s - loss: 0.0034 - categorical_accuracy: 0.9991    \n",
      "Epoch 7/10\n",
      "1124/1124 [==============================] - 21s - loss: 0.0011 - categorical_accuracy: 1.0000    \n",
      "Epoch 8/10\n",
      "1124/1124 [==============================] - 22s - loss: 3.2848e-04 - categorical_accuracy: 1.0000    \n",
      "Epoch 9/10\n",
      "1124/1124 [==============================] - 22s - loss: 2.3596e-04 - categorical_accuracy: 1.0000    \n",
      "Epoch 10/10\n",
      "1124/1124 [==============================] - 22s - loss: 1.9072e-04 - categorical_accuracy: 1.0000    \n",
      "Accuracy: 86.49%\n"
     ]
    }
   ],
   "source": [
    "# LSTM and CNN for sequence classification in the IMDB dataset\n",
    "import numpy\n",
    "from keras.datasets import imdb\n",
    "from keras.models import Sequential\n",
    "from keras.layers import Dense\n",
    "from keras.layers import LSTM\n",
    "from keras.layers.convolutional import Convolution1D\n",
    "from keras.layers.convolutional import MaxPooling1D\n",
    "from keras.layers.embeddings import Embedding\n",
    "from keras.preprocessing import sequence\n",
    "# fix random seed for reproducibility\n",
    "numpy.random.seed(7)\n",
    "# load the dataset but only keep the top n words, zero the rest\n",
    "top_words = 20000\n",
    "\n",
    "# create the model\n",
    "model = Sequential()\n",
    "model.add(Embedding(top_words, 256, input_length=X.shape[1]))\n",
    "#model.add(Convolution1D(nb_filter=32, filter_length=3, border_mode='same', activation='softmax'))\n",
    "model.add(Convolution1D(activation=\"relu\", filters=250, kernel_size=3, strides=1, padding=\"valid\"))\n",
    "model.add(MaxPooling1D(pool_length=2))\n",
    "model.add(LSTM(100))\n",
    "model.add(Dense(2, activation='softmax'))\n",
    "model.compile(loss='categorical_crossentropy', optimizer='adam', metrics=[metrics.categorical_accuracy])\n",
    "print(model.summary())\n",
    "model.fit(X_train, Y_train, epochs=10, batch_size=64)\n",
    "# Final evaluation of the model\n",
    "scores = model.evaluate(X_test, Y_test, verbose=0)\n",
    "print(\"Accuracy: %.2f%%\" % (scores[1]*100))"
   ]
  },
  {
   "cell_type": "code",
   "execution_count": 42,
   "metadata": {
    "collapsed": false
   },
   "outputs": [
    {
     "name": "stdout",
     "output_type": "stream",
     "text": [
      "             precision    recall  f1-score   support\n",
      "\n",
      "          0       0.87      0.89      0.88       290\n",
      "          1       0.87      0.87      0.87       265\n",
      "\n",
      "avg / total       0.87      0.88      0.87       555\n",
      "\n"
     ]
    }
   ],
   "source": [
    "from sklearn.metrics import classification_report\n",
    "\n",
    "print(classification_report(Y_test, y_pred))"
   ]
  },
  {
   "cell_type": "code",
   "execution_count": null,
   "metadata": {
    "collapsed": true
   },
   "outputs": [],
   "source": []
  }
 ],
 "metadata": {
  "kernelspec": {
   "display_name": "Python 3",
   "language": "python",
   "name": "python3"
  },
  "language_info": {
   "codemirror_mode": {
    "name": "ipython",
    "version": 3
   },
   "file_extension": ".py",
   "mimetype": "text/x-python",
   "name": "python",
   "nbconvert_exporter": "python",
   "pygments_lexer": "ipython3",
   "version": "3.5.2"
  }
 },
 "nbformat": 4,
 "nbformat_minor": 2
}
