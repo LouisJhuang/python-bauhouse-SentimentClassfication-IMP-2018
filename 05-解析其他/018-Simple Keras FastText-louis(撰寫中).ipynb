{
 "cells": [
  {
   "cell_type": "code",
   "execution_count": 1,
   "metadata": {
    "collapsed": false
   },
   "outputs": [
    {
     "name": "stderr",
     "output_type": "stream",
     "text": [
      "Using TensorFlow backend.\n",
      "/opt/conda/lib/python3.5/importlib/_bootstrap.py:222: RuntimeWarning: numpy.dtype size changed, may indicate binary incompatibility. Expected 96, got 88\n",
      "  return f(*args, **kwds)\n",
      "/opt/conda/lib/python3.5/importlib/_bootstrap.py:222: RuntimeWarning: numpy.dtype size changed, may indicate binary incompatibility. Expected 96, got 88\n",
      "  return f(*args, **kwds)\n"
     ]
    }
   ],
   "source": [
    "import numpy as np\n",
    "import pandas as pd\n",
    "\n",
    "%matplotlib inline\n",
    "\n",
    "from collections import defaultdict\n",
    "\n",
    "import keras\n",
    "import keras.backend as K\n",
    "from keras.layers import Dense, GlobalAveragePooling1D, Embedding\n",
    "from keras.callbacks import EarlyStopping\n",
    "from keras.models import Sequential\n",
    "from keras.preprocessing.sequence import pad_sequences\n",
    "from keras.preprocessing.text import Tokenizer\n",
    "from keras.utils import to_categorical\n",
    "\n",
    "from sklearn.model_selection import train_test_split\n",
    "from sklearn.metrics import accuracy_score, classification_report, confusion_matrix\n",
    "\n",
    "np.random.seed(7)\n",
    "# 函數可以保證生成的隨機數具有可預測性"
   ]
  },
  {
   "cell_type": "code",
   "execution_count": null,
   "metadata": {
    "collapsed": true
   },
   "outputs": [],
   "source": []
  },
  {
   "cell_type": "markdown",
   "metadata": {},
   "source": [
    "# 前處理加上head"
   ]
  },
  {
   "cell_type": "code",
   "execution_count": 2,
   "metadata": {
    "collapsed": true
   },
   "outputs": [],
   "source": [
    "col_names=['label','text']"
   ]
  },
  {
   "cell_type": "code",
   "execution_count": 3,
   "metadata": {
    "collapsed": true
   },
   "outputs": [],
   "source": [
    "df = pd.read_csv('./data/hotel_nolabel_clean1.csv',encoding='utf8',names=col_names)"
   ]
  },
  {
   "cell_type": "code",
   "execution_count": 4,
   "metadata": {
    "collapsed": false
   },
   "outputs": [
    {
     "data": {
      "text/html": [
       "<div>\n",
       "<table border=\"1\" class=\"dataframe\">\n",
       "  <thead>\n",
       "    <tr style=\"text-align: right;\">\n",
       "      <th></th>\n",
       "      <th>label</th>\n",
       "      <th>text</th>\n",
       "    </tr>\n",
       "  </thead>\n",
       "  <tbody>\n",
       "    <tr>\n",
       "      <th>0</th>\n",
       "      <td>1</td>\n",
       "      <td>my daughter and i just returned from a four ni...</td>\n",
       "    </tr>\n",
       "    <tr>\n",
       "      <th>1</th>\n",
       "      <td>1</td>\n",
       "      <td>big mistake .</td>\n",
       "    </tr>\n",
       "    <tr>\n",
       "      <th>2</th>\n",
       "      <td>1</td>\n",
       "      <td>our room was tiny</td>\n",
       "    </tr>\n",
       "    <tr>\n",
       "      <th>3</th>\n",
       "      <td>1</td>\n",
       "      <td>and the bath was small too .</td>\n",
       "    </tr>\n",
       "    <tr>\n",
       "      <th>4</th>\n",
       "      <td>1</td>\n",
       "      <td>the public areas were somewhat dingy and showe...</td>\n",
       "    </tr>\n",
       "  </tbody>\n",
       "</table>\n",
       "</div>"
      ],
      "text/plain": [
       "   label                                               text\n",
       "0      1  my daughter and i just returned from a four ni...\n",
       "1      1                                     big mistake . \n",
       "2      1                                 our room was tiny \n",
       "3      1                      and the bath was small too . \n",
       "4      1  the public areas were somewhat dingy and showe..."
      ]
     },
     "execution_count": 4,
     "metadata": {},
     "output_type": "execute_result"
    }
   ],
   "source": [
    "df.head(5)"
   ]
  },
  {
   "cell_type": "code",
   "execution_count": null,
   "metadata": {
    "collapsed": true
   },
   "outputs": [],
   "source": []
  },
  {
   "cell_type": "code",
   "execution_count": null,
   "metadata": {
    "collapsed": true
   },
   "outputs": [],
   "source": []
  },
  {
   "cell_type": "markdown",
   "metadata": {},
   "source": [
    "# 切割資料集 20%測試"
   ]
  },
  {
   "cell_type": "code",
   "execution_count": 5,
   "metadata": {
    "collapsed": false
   },
   "outputs": [
    {
     "name": "stderr",
     "output_type": "stream",
     "text": [
      "/opt/conda/lib/python3.5/site-packages/sklearn/cross_validation.py:41: DeprecationWarning: This module was deprecated in version 0.18 in favor of the model_selection module into which all the refactored classes and functions are moved. Also note that the interface of the new CV iterators are different from that of this module. This module will be removed in 0.20.\n",
      "  \"This module will be removed in 0.20.\", DeprecationWarning)\n"
     ]
    }
   ],
   "source": [
    "from sklearn.model_selection import train_test_split\n",
    "from sklearn.cross_validation import cross_val_score\n",
    "import pandas as pd"
   ]
  },
  {
   "cell_type": "code",
   "execution_count": null,
   "metadata": {
    "collapsed": true
   },
   "outputs": [],
   "source": []
  },
  {
   "cell_type": "code",
   "execution_count": 6,
   "metadata": {
    "collapsed": true
   },
   "outputs": [],
   "source": [
    "train, test = train_test_split(df, test_size = 0.2 )"
   ]
  },
  {
   "cell_type": "code",
   "execution_count": 7,
   "metadata": {
    "collapsed": false
   },
   "outputs": [
    {
     "data": {
      "text/plain": [
       "(24033, 2)"
      ]
     },
     "execution_count": 7,
     "metadata": {},
     "output_type": "execute_result"
    }
   ],
   "source": [
    "#原本資料\n",
    "df.shape"
   ]
  },
  {
   "cell_type": "code",
   "execution_count": 8,
   "metadata": {
    "collapsed": false
   },
   "outputs": [
    {
     "data": {
      "text/plain": [
       "(19226, 2)"
      ]
     },
     "execution_count": 8,
     "metadata": {},
     "output_type": "execute_result"
    }
   ],
   "source": [
    "# 訓練資料集共有\n",
    "train.shape"
   ]
  },
  {
   "cell_type": "code",
   "execution_count": 9,
   "metadata": {
    "collapsed": false
   },
   "outputs": [
    {
     "data": {
      "text/html": [
       "<div>\n",
       "<table border=\"1\" class=\"dataframe\">\n",
       "  <thead>\n",
       "    <tr style=\"text-align: right;\">\n",
       "      <th></th>\n",
       "      <th>label</th>\n",
       "      <th>text</th>\n",
       "    </tr>\n",
       "  </thead>\n",
       "  <tbody>\n",
       "    <tr>\n",
       "      <th>11537</th>\n",
       "      <td>1</td>\n",
       "      <td>i was really looking forward to spend my husba...</td>\n",
       "    </tr>\n",
       "    <tr>\n",
       "      <th>12862</th>\n",
       "      <td>2</td>\n",
       "      <td>we ate at cafe mickey twice lots of characters...</td>\n",
       "    </tr>\n",
       "    <tr>\n",
       "      <th>6861</th>\n",
       "      <td>1</td>\n",
       "      <td>it certainly wasn ' t obvious the ac was turne...</td>\n",
       "    </tr>\n",
       "    <tr>\n",
       "      <th>3040</th>\n",
       "      <td>2</td>\n",
       "      <td>the all empowering breakfast  who needs lunch ...</td>\n",
       "    </tr>\n",
       "    <tr>\n",
       "      <th>22039</th>\n",
       "      <td>2</td>\n",
       "      <td>huge rooms with much better views than the fou...</td>\n",
       "    </tr>\n",
       "  </tbody>\n",
       "</table>\n",
       "</div>"
      ],
      "text/plain": [
       "       label                                               text\n",
       "11537      1  i was really looking forward to spend my husba...\n",
       "12862      2  we ate at cafe mickey twice lots of characters...\n",
       "6861       1  it certainly wasn ' t obvious the ac was turne...\n",
       "3040       2  the all empowering breakfast  who needs lunch ...\n",
       "22039      2  huge rooms with much better views than the fou..."
      ]
     },
     "execution_count": 9,
     "metadata": {},
     "output_type": "execute_result"
    }
   ],
   "source": [
    "train.head(5)"
   ]
  },
  {
   "cell_type": "code",
   "execution_count": 10,
   "metadata": {
    "collapsed": true
   },
   "outputs": [],
   "source": [
    "# 先存成txt  看要轉csv 或 txt都可以\n",
    "train.to_csv('./data/hotel_labelhead_only12_train.txt', index=None)"
   ]
  },
  {
   "cell_type": "code",
   "execution_count": null,
   "metadata": {
    "collapsed": true
   },
   "outputs": [],
   "source": []
  },
  {
   "cell_type": "code",
   "execution_count": 11,
   "metadata": {
    "collapsed": false
   },
   "outputs": [
    {
     "data": {
      "text/plain": [
       "(4807, 2)"
      ]
     },
     "execution_count": 11,
     "metadata": {},
     "output_type": "execute_result"
    }
   ],
   "source": [
    "# 測試資料集共有\n",
    "test.shape"
   ]
  },
  {
   "cell_type": "code",
   "execution_count": 12,
   "metadata": {
    "collapsed": false
   },
   "outputs": [
    {
     "data": {
      "text/html": [
       "<div>\n",
       "<table border=\"1\" class=\"dataframe\">\n",
       "  <thead>\n",
       "    <tr style=\"text-align: right;\">\n",
       "      <th></th>\n",
       "      <th>label</th>\n",
       "      <th>text</th>\n",
       "    </tr>\n",
       "  </thead>\n",
       "  <tbody>\n",
       "    <tr>\n",
       "      <th>11936</th>\n",
       "      <td>2</td>\n",
       "      <td>nice bathroom - not sumptuous but attractive  ...</td>\n",
       "    </tr>\n",
       "    <tr>\n",
       "      <th>22543</th>\n",
       "      <td>1</td>\n",
       "      <td>i think we ordered a buffet breakfast that all...</td>\n",
       "    </tr>\n",
       "    <tr>\n",
       "      <th>12972</th>\n",
       "      <td>2</td>\n",
       "      <td>the park is smaller and more managable than th...</td>\n",
       "    </tr>\n",
       "    <tr>\n",
       "      <th>17891</th>\n",
       "      <td>1</td>\n",
       "      <td>and public transportation system were not runn...</td>\n",
       "    </tr>\n",
       "    <tr>\n",
       "      <th>15528</th>\n",
       "      <td>2</td>\n",
       "      <td>the location is surperb which all the previous...</td>\n",
       "    </tr>\n",
       "  </tbody>\n",
       "</table>\n",
       "</div>"
      ],
      "text/plain": [
       "       label                                               text\n",
       "11936      2  nice bathroom - not sumptuous but attractive  ...\n",
       "22543      1  i think we ordered a buffet breakfast that all...\n",
       "12972      2  the park is smaller and more managable than th...\n",
       "17891      1  and public transportation system were not runn...\n",
       "15528      2  the location is surperb which all the previous..."
      ]
     },
     "execution_count": 12,
     "metadata": {},
     "output_type": "execute_result"
    }
   ],
   "source": [
    "test.head(5)"
   ]
  },
  {
   "cell_type": "code",
   "execution_count": 13,
   "metadata": {
    "collapsed": true
   },
   "outputs": [],
   "source": [
    "# 先存成txt  看要轉csv 或 txt都可以\n",
    "test.to_csv('./data/hotel_labelhead_only12_test.txt', index=None)"
   ]
  },
  {
   "cell_type": "code",
   "execution_count": null,
   "metadata": {
    "collapsed": true
   },
   "outputs": [],
   "source": []
  },
  {
   "cell_type": "markdown",
   "metadata": {},
   "source": [
    "# 載入資料集"
   ]
  },
  {
   "cell_type": "code",
   "execution_count": 2,
   "metadata": {
    "collapsed": false
   },
   "outputs": [],
   "source": [
    "df = pd.read_csv('./data/hotel_label_head1.txt')"
   ]
  },
  {
   "cell_type": "code",
   "execution_count": 3,
   "metadata": {
    "collapsed": false
   },
   "outputs": [
    {
     "data": {
      "text/html": [
       "<div>\n",
       "<table border=\"1\" class=\"dataframe\">\n",
       "  <thead>\n",
       "    <tr style=\"text-align: right;\">\n",
       "      <th></th>\n",
       "      <th>label</th>\n",
       "      <th>text</th>\n",
       "    </tr>\n",
       "  </thead>\n",
       "  <tbody>\n",
       "    <tr>\n",
       "      <th>0</th>\n",
       "      <td>1</td>\n",
       "      <td>my daughter and i just returned from a four ni...</td>\n",
       "    </tr>\n",
       "    <tr>\n",
       "      <th>1</th>\n",
       "      <td>1</td>\n",
       "      <td>big mistake .</td>\n",
       "    </tr>\n",
       "    <tr>\n",
       "      <th>2</th>\n",
       "      <td>1</td>\n",
       "      <td>our room was tiny</td>\n",
       "    </tr>\n",
       "    <tr>\n",
       "      <th>3</th>\n",
       "      <td>1</td>\n",
       "      <td>and the bath was small too .</td>\n",
       "    </tr>\n",
       "    <tr>\n",
       "      <th>4</th>\n",
       "      <td>1</td>\n",
       "      <td>the public areas were somewhat dingy and showe...</td>\n",
       "    </tr>\n",
       "  </tbody>\n",
       "</table>\n",
       "</div>"
      ],
      "text/plain": [
       "   label                                               text\n",
       "0      1  my daughter and i just returned from a four ni...\n",
       "1      1                                     big mistake . \n",
       "2      1                                 our room was tiny \n",
       "3      1                      and the bath was small too . \n",
       "4      1  the public areas were somewhat dingy and showe..."
      ]
     },
     "execution_count": 3,
     "metadata": {},
     "output_type": "execute_result"
    }
   ],
   "source": [
    "df.head(5)"
   ]
  },
  {
   "cell_type": "code",
   "execution_count": 4,
   "metadata": {
    "collapsed": false
   },
   "outputs": [
    {
     "data": {
      "text/plain": [
       "pandas.core.series.Series"
      ]
     },
     "execution_count": 4,
     "metadata": {},
     "output_type": "execute_result"
    }
   ],
   "source": [
    "type(df.label)"
   ]
  },
  {
   "cell_type": "code",
   "execution_count": 5,
   "metadata": {
    "collapsed": false
   },
   "outputs": [
    {
     "data": {
      "text/plain": [
       "24033"
      ]
     },
     "execution_count": 5,
     "metadata": {},
     "output_type": "execute_result"
    }
   ],
   "source": [
    "#label共有 19226個值  都是1跟2\n",
    "len(df.label)"
   ]
  },
  {
   "cell_type": "code",
   "execution_count": 6,
   "metadata": {
    "collapsed": true
   },
   "outputs": [],
   "source": [
    "#存進y裡面  並且轉np.array\n",
    "y = np.array(df.label)"
   ]
  },
  {
   "cell_type": "code",
   "execution_count": 7,
   "metadata": {
    "collapsed": false
   },
   "outputs": [
    {
     "data": {
      "text/plain": [
       "numpy.ndarray"
      ]
     },
     "execution_count": 7,
     "metadata": {},
     "output_type": "execute_result"
    }
   ],
   "source": [
    "type(y)"
   ]
  },
  {
   "cell_type": "code",
   "execution_count": 8,
   "metadata": {
    "collapsed": false
   },
   "outputs": [
    {
     "data": {
      "text/plain": [
       "24033"
      ]
     },
     "execution_count": 8,
     "metadata": {},
     "output_type": "execute_result"
    }
   ],
   "source": [
    "# 確認值沒有變 19226\n",
    "len(y)"
   ]
  },
  {
   "cell_type": "code",
   "execution_count": 9,
   "metadata": {
    "collapsed": false
   },
   "outputs": [
    {
     "data": {
      "text/plain": [
       "1"
      ]
     },
     "execution_count": 9,
     "metadata": {},
     "output_type": "execute_result"
    }
   ],
   "source": [
    "y[19225]"
   ]
  },
  {
   "cell_type": "code",
   "execution_count": 10,
   "metadata": {
    "collapsed": false
   },
   "outputs": [
    {
     "name": "stdout",
     "output_type": "stream",
     "text": [
      "[1 1 1 1 1 1 1 1 1 1]\n"
     ]
    }
   ],
   "source": [
    "# 看一下前10筆\n",
    "print(y[0:10])"
   ]
  },
  {
   "cell_type": "code",
   "execution_count": 11,
   "metadata": {
    "collapsed": false
   },
   "outputs": [],
   "source": [
    "y = to_categorical(y)"
   ]
  },
  {
   "cell_type": "code",
   "execution_count": 12,
   "metadata": {
    "collapsed": false
   },
   "outputs": [
    {
     "data": {
      "text/plain": [
       "numpy.ndarray"
      ]
     },
     "execution_count": 12,
     "metadata": {},
     "output_type": "execute_result"
    }
   ],
   "source": [
    "type(y)"
   ]
  },
  {
   "cell_type": "code",
   "execution_count": 13,
   "metadata": {
    "collapsed": false
   },
   "outputs": [
    {
     "name": "stdout",
     "output_type": "stream",
     "text": [
      "[[0. 1. 0.]\n",
      " [0. 1. 0.]\n",
      " [0. 1. 0.]\n",
      " [0. 1. 0.]\n",
      " [0. 1. 0.]\n",
      " [0. 1. 0.]\n",
      " [0. 1. 0.]\n",
      " [0. 1. 0.]\n",
      " [0. 1. 0.]\n",
      " [0. 1. 0.]]\n"
     ]
    }
   ],
   "source": [
    "#看一下前10筆\n",
    "print(y[0:10])"
   ]
  },
  {
   "cell_type": "code",
   "execution_count": null,
   "metadata": {
    "collapsed": true
   },
   "outputs": [],
   "source": []
  },
  {
   "cell_type": "markdown",
   "metadata": {},
   "source": [
    "# 1. **Few Preprocessings**\n",
    "\n",
    "In traditional NLP tasks, preprocessings play an important role, but...\n",
    "\n",
    "## **Low-frequency words**\n",
    "In my experience, fastText is very fast, but I need to delete rare words to avoid overfitting.\n",
    "\n",
    "**NOTE**:\n",
    "Some keywords are rare words, such like *Cthulhu* in *Cthulhu Mythos* of *Howard Phillips Lovecraft*.\n",
    "But these are useful for this task.\n",
    "\n",
    "## **Removing Stopwords**\n",
    "\n",
    "Nothing.\n",
    "To identify author from a sentence, some stopwords play an important role because one has specific usages of them.\n",
    "\n",
    "## **Stemming and Lowercase**\n",
    "\n",
    "Nothing.\n",
    "This reason is the same for stopwords removing.\n",
    "And I guess some stemming rules provided by libraries is bad for this task because all author is the older author.\n",
    "\n",
    "## **Cutting long sentence**\n",
    "\n",
    "Too long documents are cut.\n",
    "\n",
    "## **Punctuation**\n",
    "\n",
    "Because I guess each author has unique punctuations's usage in the novel, I separate them from words.\n",
    "\n",
    "e.g. `Don't worry` -> `Don ' t worry`\n",
    "\n",
    "## **Is it slow?**\n",
    "\n",
    "Don't worry! FastText is a very fast algorithm if it runs on CPU. "
   ]
  },
  {
   "cell_type": "code",
   "execution_count": 14,
   "metadata": {
    "collapsed": false
   },
   "outputs": [
    {
     "name": "stdout",
     "output_type": "stream",
     "text": [
      "c 1   2   \n",
      "} 1 1 \n",
      "_ 1 0 \n",
      "0 822 485 \n",
      "o 64192 51116 \n",
      "a 61296 56137 \n",
      "b 12971 10559 \n",
      "[ 5 9 \n",
      "+ 36 24 \n",
      "k 6740 5168 \n",
      ") 1018 866 \n",
      "y 15629 13455 \n",
      "n 48747 39564 \n",
      "7 126 92 \n",
      "e 94879 80304 \n",
      "( 994 855 \n",
      "h 40548 31462 \n",
      "5 531 346 \n",
      "4 378 187 \n",
      "w 20019 15915 \n",
      "v 8830 7797 \n",
      "r 45819 39599 \n",
      "6 145 81 \n",
      "\\ 0 2 \n",
      ". 10360 9308 \n",
      "m 17782 13229 \n",
      "* 67 30 \n",
      "z 386 564 \n",
      "3 422 251 \n",
      "g 14452 11804 \n",
      "i 48204 40171 \n",
      "p 13396 10435 \n",
      "t 75700 60246 \n",
      "? 248 57 \n",
      "c 17870 18736 \n",
      "' 2171 1290 \n",
      "8 121 104 \n",
      "u 21613 16774 \n",
      "j 744 792 \n",
      "/ 288 259 \n",
      "= 8 0 \n",
      "2 581 404 \n",
      "s 43787 37641 \n",
      "` 6 4 \n",
      "! 1147 819 \n",
      "] 4 9 \n",
      "x 1742 1566 \n",
      "9 91 88 \n",
      "q 749 1014 \n",
      "% 21 8 \n",
      "f 15841 16175 \n",
      "1 617 446 \n",
      "& 6 7 \n",
      "- 1562 1572 \n",
      "@ 3 5 \n",
      "$ 229 103 \n",
      "l 31987 30652 \n",
      "d 30399 23912 \n",
      "# 40 27 \n",
      "{ 1 1 \n"
     ]
    }
   ],
   "source": [
    "counter = {name : defaultdict(int) for name in set(df.label)}\n",
    "for (text, label) in zip(df.text, df.label):\n",
    "    text = text.replace(' ', '')\n",
    "    for c in text:\n",
    "        counter[label][c] += 1\n",
    "chars = set()\n",
    "for v in counter.values():\n",
    "    chars |= v.keys()\n",
    "names = [label for label in counter.keys()]\n",
    "print('c ', end='')\n",
    "for n in names:\n",
    "    print(n, end='   ')\n",
    "print()\n",
    "for c in chars:    \n",
    "    print(c, end=' ')\n",
    "    for n in names:\n",
    "        print(counter[n][c], end=' ')\n",
    "    print()"
   ]
  },
  {
   "cell_type": "code",
   "execution_count": 15,
   "metadata": {
    "collapsed": false
   },
   "outputs": [
    {
     "data": {
      "text/plain": [
       "{'!',\n",
       " '#',\n",
       " '$',\n",
       " '%',\n",
       " '&',\n",
       " \"'\",\n",
       " '(',\n",
       " ')',\n",
       " '*',\n",
       " '+',\n",
       " '-',\n",
       " '.',\n",
       " '/',\n",
       " '0',\n",
       " '1',\n",
       " '2',\n",
       " '3',\n",
       " '4',\n",
       " '5',\n",
       " '6',\n",
       " '7',\n",
       " '8',\n",
       " '9',\n",
       " '=',\n",
       " '?',\n",
       " '@',\n",
       " '[',\n",
       " '\\\\',\n",
       " ']',\n",
       " '_',\n",
       " '`',\n",
       " 'a',\n",
       " 'b',\n",
       " 'c',\n",
       " 'd',\n",
       " 'e',\n",
       " 'f',\n",
       " 'g',\n",
       " 'h',\n",
       " 'i',\n",
       " 'j',\n",
       " 'k',\n",
       " 'l',\n",
       " 'm',\n",
       " 'n',\n",
       " 'o',\n",
       " 'p',\n",
       " 'q',\n",
       " 'r',\n",
       " 's',\n",
       " 't',\n",
       " 'u',\n",
       " 'v',\n",
       " 'w',\n",
       " 'x',\n",
       " 'y',\n",
       " 'z',\n",
       " '{',\n",
       " '}'}"
      ]
     },
     "execution_count": 15,
     "metadata": {},
     "output_type": "execute_result"
    }
   ],
   "source": [
    "# 所有字元\n",
    "chars"
   ]
  },
  {
   "cell_type": "code",
   "execution_count": 16,
   "metadata": {
    "collapsed": false
   },
   "outputs": [
    {
     "data": {
      "text/plain": [
       "[1, 2]"
      ]
     },
     "execution_count": 16,
     "metadata": {},
     "output_type": "execute_result"
    }
   ],
   "source": [
    "# names裡面存入兩種情緒分類\n",
    "names"
   ]
  },
  {
   "cell_type": "code",
   "execution_count": null,
   "metadata": {
    "collapsed": true
   },
   "outputs": [],
   "source": []
  },
  {
   "cell_type": "code",
   "execution_count": null,
   "metadata": {
    "collapsed": true
   },
   "outputs": [],
   "source": []
  },
  {
   "cell_type": "markdown",
   "metadata": {},
   "source": [
    "# **Preprocessing**\n",
    "\n",
    "My preproceeings are \n",
    "\n",
    "- Separate punctuation from words\n",
    "- Remove lower frequency words ( <= 2)\n",
    "- Cut a longer document which contains `256` words"
   ]
  },
  {
   "cell_type": "code",
   "execution_count": 17,
   "metadata": {
    "collapsed": true
   },
   "outputs": [],
   "source": [
    "# 把載入的text單引號加上前後空白\n",
    "def preprocess(text):\n",
    "    text = text.replace(\"' \", \" ' \")\n",
    "    signs = set(',.:;\"?!')\n",
    "    prods = set(text) & signs\n",
    "    if not prods:\n",
    "        return text\n",
    "\n",
    "    for sign in prods:\n",
    "        text = text.replace(sign, ' {} '.format(sign) )\n",
    "    return text"
   ]
  },
  {
   "cell_type": "code",
   "execution_count": null,
   "metadata": {
    "collapsed": true
   },
   "outputs": [],
   "source": []
  },
  {
   "cell_type": "code",
   "execution_count": 18,
   "metadata": {
    "collapsed": true
   },
   "outputs": [],
   "source": [
    "# 載入df之後 , n_gram_max=2\n",
    "def create_docs(df, n_gram_max=2):\n",
    "    \n",
    "    def add_ngram(q, n_gram_max):\n",
    "\n",
    "            ngrams = []\n",
    "            \n",
    "            for n in range(2, n_gram_max+1):\n",
    "                for w_index in range(len(q)-n+1):\n",
    "                    ngrams.append('--'.join(q[w_index:w_index+n]))\n",
    "            return q + ngrams\n",
    "        \n",
    "    docs = []\n",
    "    for doc in df.text:\n",
    "        doc = preprocess(doc).split()\n",
    "        docs.append(' '.join(add_ngram(doc, n_gram_max)))\n",
    "    \n",
    "    return docs"
   ]
  },
  {
   "cell_type": "code",
   "execution_count": null,
   "metadata": {
    "collapsed": true
   },
   "outputs": [],
   "source": []
  },
  {
   "cell_type": "code",
   "execution_count": 19,
   "metadata": {
    "collapsed": false
   },
   "outputs": [],
   "source": [
    "min_count = 2\n",
    "\n",
    "docs = create_docs(df)\n",
    "tokenizer = Tokenizer(lower=False, filters='')\n",
    "tokenizer.fit_on_texts(docs)\n",
    "num_words = sum([1 for _, v in tokenizer.word_counts.items() if v >= min_count])\n",
    "\n",
    "tokenizer = Tokenizer(num_words=num_words, lower=False, filters='')\n",
    "tokenizer.fit_on_texts(docs)\n",
    "docs = tokenizer.texts_to_sequences(docs)\n",
    "\n",
    "maxlen = 256\n",
    "\n",
    "docs = pad_sequences(sequences=docs, maxlen=maxlen)"
   ]
  },
  {
   "cell_type": "code",
   "execution_count": null,
   "metadata": {
    "collapsed": true
   },
   "outputs": [],
   "source": []
  },
  {
   "cell_type": "code",
   "execution_count": 20,
   "metadata": {
    "collapsed": false
   },
   "outputs": [
    {
     "data": {
      "text/plain": [
       "24033"
      ]
     },
     "execution_count": 20,
     "metadata": {},
     "output_type": "execute_result"
    }
   ],
   "source": [
    "len(docs)"
   ]
  },
  {
   "cell_type": "code",
   "execution_count": 21,
   "metadata": {
    "collapsed": false
   },
   "outputs": [
    {
     "data": {
      "text/plain": [
       "array([    0,     0,     0,     0,     0,     0,     0,     0,     0,\n",
       "           0,     0,     0,     0,     0,     0,     0,     0,     0,\n",
       "           0,     0,     0,     0,     0,     0,     0,     0,     0,\n",
       "           0,     0,     0,     0,     0,     0,     0,     0,     0,\n",
       "           0,     0,     0,     0,     0,     0,     0,     0,     0,\n",
       "           0,     0,     0,     0,     0,     0,     0,     0,     0,\n",
       "           0,     0,     0,     0,     0,     0,     0,     0,     0,\n",
       "           0,     0,     0,     0,     0,     0,     0,     0,     0,\n",
       "           0,     0,     0,     0,     0,     0,     0,     0,     0,\n",
       "           0,     0,     0,     0,     0,     0,     0,     0,     0,\n",
       "           0,     0,     0,     0,     0,     0,     0,     0,     0,\n",
       "           0,     0,     0,     0,     0,     0,     0,     0,     0,\n",
       "           0,     0,     0,     0,     0,     0,     0,     0,     0,\n",
       "           0,     0,     0,     0,     0,     0,     0,     0,     0,\n",
       "           0,     0,     0,     0,     0,     0,     0,     0,     0,\n",
       "           0,     0,     0,     0,     0,     0,     0,     0,     0,\n",
       "           0,     0,     0,     0,     0,     0,     0,     0,     0,\n",
       "           0,     0,     0,     0,     0,     0,     0,     0,     0,\n",
       "           0,     0,     0,     0,     0,     0,     0,     0,     0,\n",
       "           0,     0,     0,     0,     0,     0,     0,     0,     0,\n",
       "           0,     0,     0,     0,     0,     0,     0,     0,     0,\n",
       "           0,     0,     0,     0,     0,     0,     0,     0,     0,\n",
       "           0,     0,     0,     0,     0,     0,     0,     0,     0,\n",
       "           0,     0,     0,     0,     0,     0,     0,     0,     0,\n",
       "           0,     0,     0,    44,  3967,     3,     8,    80,   939,\n",
       "          45,     4,   638,    89,    52,    25,     1,  2454,     3,\n",
       "          19,    21,   367,     2,  7495, 23172,   185,  1646,  3755,\n",
       "        3215,   790,  3382, 13399,  1973,   337,    75,  2956, 16828,\n",
       "         562,   256,  1869,  1293], dtype=int32)"
      ]
     },
     "execution_count": 21,
     "metadata": {},
     "output_type": "execute_result"
    }
   ],
   "source": [
    "#array內變成限制在256 , maxlen = 256\n",
    "docs[0]"
   ]
  },
  {
   "cell_type": "code",
   "execution_count": null,
   "metadata": {
    "collapsed": true
   },
   "outputs": [],
   "source": []
  },
  {
   "cell_type": "markdown",
   "metadata": {},
   "source": [
    "# **2. Model: FastText by Keras**\n",
    "\n",
    "FastText is very fast and strong baseline algorithm for text classification based on Continuous Bag-of-Words model a.k.a Word2vec.\n",
    "\n",
    "FastText contains only three layers:\n",
    "\n",
    "1. Embeddings layer: Input words (and word n-grams) are all words in a sentence/document\n",
    "2. Mean/AveragePooling Layer: Taking average vector of Embedding vectors\n",
    "3. Softmax layer\n",
    "\n",
    "There are some implementations of FastText:\n",
    "\n",
    "- Original library provided by Facebook AI research: https://github.com/facebookresearch/fastText\n",
    "- Keras: https://github.com/fchollet/keras/blob/master/examples/imdb_fasttext.py\n",
    "- Gensim: https://radimrehurek.com/gensim/models/wrappers/fasttext.html\n",
    "\n",
    "Original Paper: https://arxiv.org/abs/1607.01759 : More detail information about fastText classification model"
   ]
  },
  {
   "cell_type": "markdown",
   "metadata": {},
   "source": [
    "# My FastText parameters are:\n",
    "\n",
    "- The dimension of word vector is 20\n",
    "- Optimizer is `Adam`\n",
    "- Inputs are words and word bi-grams\n",
    "  - you can change this parameter by passing the max n-gram size to argument of `create_docs` function.\n"
   ]
  },
  {
   "cell_type": "code",
   "execution_count": 22,
   "metadata": {
    "collapsed": true
   },
   "outputs": [],
   "source": [
    "input_dim = np.max(docs) + 1\n",
    "embedding_dims = 20"
   ]
  },
  {
   "cell_type": "code",
   "execution_count": null,
   "metadata": {
    "collapsed": true
   },
   "outputs": [],
   "source": []
  },
  {
   "cell_type": "markdown",
   "metadata": {},
   "source": [
    "# 自己繪圖展示train, validation, test準確率"
   ]
  },
  {
   "cell_type": "code",
   "execution_count": 23,
   "metadata": {
    "collapsed": false
   },
   "outputs": [],
   "source": [
    "%matplotlib inline\n",
    "from keras.callbacks import Callback\n",
    "class LossHistory(Callback):\n",
    "    def on_train_begin(self, logs={}):\n",
    "        self.losses = []\n",
    "    def on_epoch_end(self,epoch, logs={}):\n",
    "        x, y = x_test, y_test\n",
    "        lss, acc = self.model.evaluate(x, y, verbose=3)\n",
    "        #self.losses.append([logs.get('loss'),logs.get('acc'),logs.get('val_loss'),logs.get('val_acc'),lss, acc])\n",
    "        self.losses.append({'train_loss':logs.get('loss'),'train_metrics':logs.get('acc'),\n",
    "                            'val_loss':logs.get('val_loss'),'val_metrics':logs.get('val_acc'),\n",
    "                            'test_loss':lss,'test_metrics':acc,\n",
    "                           })\n",
    "            "
   ]
  },
  {
   "cell_type": "code",
   "execution_count": null,
   "metadata": {
    "collapsed": true
   },
   "outputs": [],
   "source": []
  },
  {
   "cell_type": "code",
   "execution_count": null,
   "metadata": {
    "collapsed": true
   },
   "outputs": [],
   "source": []
  },
  {
   "cell_type": "code",
   "execution_count": 24,
   "metadata": {
    "collapsed": true
   },
   "outputs": [],
   "source": [
    "def create_model(embedding_dims=20, optimizer='adam'):\n",
    "    model = Sequential()\n",
    "    model.add(Embedding(input_dim=input_dim, output_dim=embedding_dims))\n",
    "    model.add(GlobalAveragePooling1D())\n",
    "    model.add(Dense(3, activation='softmax'))\n",
    "\n",
    "    model.compile(loss='categorical_crossentropy',\n",
    "                  optimizer=optimizer,\n",
    "                  metrics=['accuracy'])\n",
    "    return model"
   ]
  },
  {
   "cell_type": "code",
   "execution_count": null,
   "metadata": {
    "collapsed": true
   },
   "outputs": [],
   "source": []
  },
  {
   "cell_type": "code",
   "execution_count": 25,
   "metadata": {
    "collapsed": false
   },
   "outputs": [
    {
     "name": "stdout",
     "output_type": "stream",
     "text": [
      "Train on 19226 samples, validate on 4807 samples\n",
      "Epoch 1/25\n",
      "19226/19226 [==============================] - 28s 1ms/step - loss: 0.7337 - acc: 0.5546 - val_loss: 0.6743 - val_acc: 0.7262\n",
      "Epoch 2/25\n",
      "19226/19226 [==============================] - 27s 1ms/step - loss: 0.6534 - acc: 0.7015 - val_loss: 0.6284 - val_acc: 0.7298\n",
      "Epoch 3/25\n",
      "19226/19226 [==============================] - 28s 1ms/step - loss: 0.5958 - acc: 0.7728 - val_loss: 0.5676 - val_acc: 0.7949\n",
      "Epoch 4/25\n",
      "19226/19226 [==============================] - 29s 2ms/step - loss: 0.5324 - acc: 0.8110 - val_loss: 0.5150 - val_acc: 0.8051\n",
      "Epoch 5/25\n",
      "19226/19226 [==============================] - 29s 2ms/step - loss: 0.4779 - acc: 0.8304 - val_loss: 0.4786 - val_acc: 0.8194\n",
      "Epoch 6/25\n",
      "19226/19226 [==============================] - 29s 1ms/step - loss: 0.4337 - acc: 0.8489 - val_loss: 0.4485 - val_acc: 0.8290\n",
      "Epoch 7/25\n",
      "19226/19226 [==============================] - 28s 1ms/step - loss: 0.3967 - acc: 0.8641 - val_loss: 0.4289 - val_acc: 0.8161\n",
      "Epoch 8/25\n",
      "19226/19226 [==============================] - 29s 1ms/step - loss: 0.3649 - acc: 0.8755 - val_loss: 0.4056 - val_acc: 0.8392\n",
      "Epoch 9/25\n",
      "19226/19226 [==============================] - 28s 1ms/step - loss: 0.3374 - acc: 0.8879 - val_loss: 0.3917 - val_acc: 0.8436\n",
      "Epoch 10/25\n",
      "19226/19226 [==============================] - 29s 1ms/step - loss: 0.3132 - acc: 0.8978 - val_loss: 0.3801 - val_acc: 0.8500\n",
      "Epoch 11/25\n",
      "19226/19226 [==============================] - 28s 1ms/step - loss: 0.2914 - acc: 0.9037 - val_loss: 0.3718 - val_acc: 0.8531\n",
      "Epoch 12/25\n",
      "19226/19226 [==============================] - 29s 1ms/step - loss: 0.2714 - acc: 0.9129 - val_loss: 0.3637 - val_acc: 0.8560\n",
      "Epoch 13/25\n",
      "19226/19226 [==============================] - 28s 1ms/step - loss: 0.2536 - acc: 0.9194 - val_loss: 0.3646 - val_acc: 0.8535\n",
      "Epoch 14/25\n",
      "19226/19226 [==============================] - 29s 1ms/step - loss: 0.2372 - acc: 0.9251 - val_loss: 0.3569 - val_acc: 0.8575\n",
      "Epoch 15/25\n",
      "19226/19226 [==============================] - 28s 1ms/step - loss: 0.2223 - acc: 0.9306 - val_loss: 0.3482 - val_acc: 0.8629\n",
      "Epoch 16/25\n",
      "19226/19226 [==============================] - 28s 1ms/step - loss: 0.2083 - acc: 0.9349 - val_loss: 0.3465 - val_acc: 0.8633\n",
      "Epoch 17/25\n",
      "19226/19226 [==============================] - 28s 1ms/step - loss: 0.1957 - acc: 0.9401 - val_loss: 0.3417 - val_acc: 0.8662\n",
      "Epoch 18/25\n",
      "19226/19226 [==============================] - 28s 1ms/step - loss: 0.1832 - acc: 0.9442 - val_loss: 0.3424 - val_acc: 0.8621\n",
      "Epoch 19/25\n",
      "19226/19226 [==============================] - 28s 1ms/step - loss: 0.1723 - acc: 0.9476 - val_loss: 0.3526 - val_acc: 0.8467\n",
      "CPU times: user 2min 42s, sys: 1min 32s, total: 4min 14s\n",
      "Wall time: 9min 3s\n"
     ]
    }
   ],
   "source": [
    "%%time\n",
    "epochs = 25\n",
    "\n",
    "x_train, x_test, y_train, y_test = train_test_split(docs, y, test_size=0.2)\n",
    "\n",
    "model = create_model()\n",
    "history = LossHistory()\n",
    "\n",
    "hist = model.fit(x_train, y_train,\n",
    "                 batch_size=16,\n",
    "                 validation_data=(x_test, y_test),\n",
    "                 epochs=epochs,\n",
    "                 #callbacks=[EarlyStopping(patience=2, monitor='val_loss')],\n",
    "                 callbacks=[history , EarlyStopping(patience=2, monitor='val_loss')] )\n",
    "                    "
   ]
  },
  {
   "cell_type": "code",
   "execution_count": null,
   "metadata": {
    "collapsed": true
   },
   "outputs": [],
   "source": []
  },
  {
   "cell_type": "code",
   "execution_count": null,
   "metadata": {
    "collapsed": true
   },
   "outputs": [],
   "source": []
  },
  {
   "cell_type": "code",
   "execution_count": null,
   "metadata": {
    "collapsed": true
   },
   "outputs": [],
   "source": []
  },
  {
   "cell_type": "markdown",
   "metadata": {},
   "source": [
    "# History繪圖 觀看模型訓練的收斂過程"
   ]
  },
  {
   "cell_type": "code",
   "execution_count": 26,
   "metadata": {
    "collapsed": false
   },
   "outputs": [],
   "source": [
    "#hist_info = pd.DataFrame(hist.history)\n",
    "\n",
    "hist_info = pd.DataFrame(history.losses)"
   ]
  },
  {
   "cell_type": "code",
   "execution_count": null,
   "metadata": {
    "collapsed": true
   },
   "outputs": [],
   "source": []
  },
  {
   "cell_type": "markdown",
   "metadata": {},
   "source": [
    "# 表格方式觀看loss , metrics"
   ]
  },
  {
   "cell_type": "code",
   "execution_count": 27,
   "metadata": {
    "collapsed": false
   },
   "outputs": [
    {
     "data": {
      "text/html": [
       "<div>\n",
       "<table border=\"1\" class=\"dataframe\">\n",
       "  <thead>\n",
       "    <tr style=\"text-align: right;\">\n",
       "      <th></th>\n",
       "      <th>test_loss</th>\n",
       "      <th>test_metrics</th>\n",
       "      <th>train_loss</th>\n",
       "      <th>train_metrics</th>\n",
       "      <th>val_loss</th>\n",
       "      <th>val_metrics</th>\n",
       "    </tr>\n",
       "  </thead>\n",
       "  <tbody>\n",
       "    <tr>\n",
       "      <th>0</th>\n",
       "      <td>0.674302</td>\n",
       "      <td>0.726233</td>\n",
       "      <td>0.733748</td>\n",
       "      <td>0.554562</td>\n",
       "      <td>0.674302</td>\n",
       "      <td>0.726233</td>\n",
       "    </tr>\n",
       "    <tr>\n",
       "      <th>1</th>\n",
       "      <td>0.628380</td>\n",
       "      <td>0.729769</td>\n",
       "      <td>0.653414</td>\n",
       "      <td>0.701550</td>\n",
       "      <td>0.628380</td>\n",
       "      <td>0.729769</td>\n",
       "    </tr>\n",
       "    <tr>\n",
       "      <th>2</th>\n",
       "      <td>0.567641</td>\n",
       "      <td>0.794882</td>\n",
       "      <td>0.595829</td>\n",
       "      <td>0.772756</td>\n",
       "      <td>0.567641</td>\n",
       "      <td>0.794882</td>\n",
       "    </tr>\n",
       "    <tr>\n",
       "      <th>3</th>\n",
       "      <td>0.515044</td>\n",
       "      <td>0.805076</td>\n",
       "      <td>0.532403</td>\n",
       "      <td>0.810985</td>\n",
       "      <td>0.515044</td>\n",
       "      <td>0.805076</td>\n",
       "    </tr>\n",
       "    <tr>\n",
       "      <th>4</th>\n",
       "      <td>0.478649</td>\n",
       "      <td>0.819430</td>\n",
       "      <td>0.477933</td>\n",
       "      <td>0.830438</td>\n",
       "      <td>0.478649</td>\n",
       "      <td>0.819430</td>\n",
       "    </tr>\n",
       "    <tr>\n",
       "      <th>5</th>\n",
       "      <td>0.448538</td>\n",
       "      <td>0.828999</td>\n",
       "      <td>0.433713</td>\n",
       "      <td>0.848903</td>\n",
       "      <td>0.448538</td>\n",
       "      <td>0.828999</td>\n",
       "    </tr>\n",
       "    <tr>\n",
       "      <th>6</th>\n",
       "      <td>0.428871</td>\n",
       "      <td>0.816102</td>\n",
       "      <td>0.396725</td>\n",
       "      <td>0.864142</td>\n",
       "      <td>0.428871</td>\n",
       "      <td>0.816102</td>\n",
       "    </tr>\n",
       "    <tr>\n",
       "      <th>7</th>\n",
       "      <td>0.405593</td>\n",
       "      <td>0.839193</td>\n",
       "      <td>0.364928</td>\n",
       "      <td>0.875481</td>\n",
       "      <td>0.405593</td>\n",
       "      <td>0.839193</td>\n",
       "    </tr>\n",
       "    <tr>\n",
       "      <th>8</th>\n",
       "      <td>0.391657</td>\n",
       "      <td>0.843561</td>\n",
       "      <td>0.337384</td>\n",
       "      <td>0.887912</td>\n",
       "      <td>0.391657</td>\n",
       "      <td>0.843561</td>\n",
       "    </tr>\n",
       "    <tr>\n",
       "      <th>9</th>\n",
       "      <td>0.380122</td>\n",
       "      <td>0.850010</td>\n",
       "      <td>0.313170</td>\n",
       "      <td>0.897795</td>\n",
       "      <td>0.380122</td>\n",
       "      <td>0.850010</td>\n",
       "    </tr>\n",
       "    <tr>\n",
       "      <th>10</th>\n",
       "      <td>0.371798</td>\n",
       "      <td>0.853131</td>\n",
       "      <td>0.291393</td>\n",
       "      <td>0.903724</td>\n",
       "      <td>0.371798</td>\n",
       "      <td>0.853131</td>\n",
       "    </tr>\n",
       "    <tr>\n",
       "      <th>11</th>\n",
       "      <td>0.363676</td>\n",
       "      <td>0.856043</td>\n",
       "      <td>0.271419</td>\n",
       "      <td>0.912930</td>\n",
       "      <td>0.363676</td>\n",
       "      <td>0.856043</td>\n",
       "    </tr>\n",
       "    <tr>\n",
       "      <th>12</th>\n",
       "      <td>0.364604</td>\n",
       "      <td>0.853547</td>\n",
       "      <td>0.253565</td>\n",
       "      <td>0.919432</td>\n",
       "      <td>0.364604</td>\n",
       "      <td>0.853547</td>\n",
       "    </tr>\n",
       "    <tr>\n",
       "      <th>13</th>\n",
       "      <td>0.356904</td>\n",
       "      <td>0.857499</td>\n",
       "      <td>0.237193</td>\n",
       "      <td>0.925101</td>\n",
       "      <td>0.356904</td>\n",
       "      <td>0.857499</td>\n",
       "    </tr>\n",
       "    <tr>\n",
       "      <th>14</th>\n",
       "      <td>0.348210</td>\n",
       "      <td>0.862908</td>\n",
       "      <td>0.222344</td>\n",
       "      <td>0.930563</td>\n",
       "      <td>0.348210</td>\n",
       "      <td>0.862908</td>\n",
       "    </tr>\n",
       "    <tr>\n",
       "      <th>15</th>\n",
       "      <td>0.346531</td>\n",
       "      <td>0.863324</td>\n",
       "      <td>0.208350</td>\n",
       "      <td>0.934880</td>\n",
       "      <td>0.346531</td>\n",
       "      <td>0.863324</td>\n",
       "    </tr>\n",
       "    <tr>\n",
       "      <th>16</th>\n",
       "      <td>0.341683</td>\n",
       "      <td>0.866237</td>\n",
       "      <td>0.195703</td>\n",
       "      <td>0.940081</td>\n",
       "      <td>0.341683</td>\n",
       "      <td>0.866237</td>\n",
       "    </tr>\n",
       "    <tr>\n",
       "      <th>17</th>\n",
       "      <td>0.342352</td>\n",
       "      <td>0.862076</td>\n",
       "      <td>0.183159</td>\n",
       "      <td>0.944190</td>\n",
       "      <td>0.342352</td>\n",
       "      <td>0.862076</td>\n",
       "    </tr>\n",
       "    <tr>\n",
       "      <th>18</th>\n",
       "      <td>0.352561</td>\n",
       "      <td>0.846682</td>\n",
       "      <td>0.172251</td>\n",
       "      <td>0.947571</td>\n",
       "      <td>0.352561</td>\n",
       "      <td>0.846682</td>\n",
       "    </tr>\n",
       "  </tbody>\n",
       "</table>\n",
       "</div>"
      ],
      "text/plain": [
       "    test_loss  test_metrics  train_loss  train_metrics  val_loss  val_metrics\n",
       "0    0.674302      0.726233    0.733748       0.554562  0.674302     0.726233\n",
       "1    0.628380      0.729769    0.653414       0.701550  0.628380     0.729769\n",
       "2    0.567641      0.794882    0.595829       0.772756  0.567641     0.794882\n",
       "3    0.515044      0.805076    0.532403       0.810985  0.515044     0.805076\n",
       "4    0.478649      0.819430    0.477933       0.830438  0.478649     0.819430\n",
       "5    0.448538      0.828999    0.433713       0.848903  0.448538     0.828999\n",
       "6    0.428871      0.816102    0.396725       0.864142  0.428871     0.816102\n",
       "7    0.405593      0.839193    0.364928       0.875481  0.405593     0.839193\n",
       "8    0.391657      0.843561    0.337384       0.887912  0.391657     0.843561\n",
       "9    0.380122      0.850010    0.313170       0.897795  0.380122     0.850010\n",
       "10   0.371798      0.853131    0.291393       0.903724  0.371798     0.853131\n",
       "11   0.363676      0.856043    0.271419       0.912930  0.363676     0.856043\n",
       "12   0.364604      0.853547    0.253565       0.919432  0.364604     0.853547\n",
       "13   0.356904      0.857499    0.237193       0.925101  0.356904     0.857499\n",
       "14   0.348210      0.862908    0.222344       0.930563  0.348210     0.862908\n",
       "15   0.346531      0.863324    0.208350       0.934880  0.346531     0.863324\n",
       "16   0.341683      0.866237    0.195703       0.940081  0.341683     0.866237\n",
       "17   0.342352      0.862076    0.183159       0.944190  0.342352     0.862076\n",
       "18   0.352561      0.846682    0.172251       0.947571  0.352561     0.846682"
      ]
     },
     "execution_count": 27,
     "metadata": {},
     "output_type": "execute_result"
    }
   ],
   "source": [
    "hist_info"
   ]
  },
  {
   "cell_type": "code",
   "execution_count": null,
   "metadata": {
    "collapsed": true
   },
   "outputs": [],
   "source": []
  },
  {
   "cell_type": "code",
   "execution_count": null,
   "metadata": {
    "collapsed": true
   },
   "outputs": [],
   "source": []
  },
  {
   "cell_type": "code",
   "execution_count": 28,
   "metadata": {
    "collapsed": false
   },
   "outputs": [
    {
     "data": {
      "text/plain": [
       "<matplotlib.axes._subplots.AxesSubplot at 0x7feda0032b00>"
      ]
     },
     "execution_count": 28,
     "metadata": {},
     "output_type": "execute_result"
    },
    {
     "data": {
      "image/png": "[encoded data removed]",
      "text/plain": [
       "<matplotlib.figure.Figure at 0x7fed9f21b9b0>"
      ]
     },
     "metadata": {},
     "output_type": "display_data"
    }
   ],
   "source": [
    "# 'val_loss' 顯示不出來\n",
    "hist_info[['train_loss','val_loss','test_loss']].plot()"
   ]
  },
  {
   "cell_type": "code",
   "execution_count": 29,
   "metadata": {
    "collapsed": false
   },
   "outputs": [
    {
     "data": {
      "text/plain": [
       "<matplotlib.axes._subplots.AxesSubplot at 0x7fed9ffb8320>"
      ]
     },
     "execution_count": 29,
     "metadata": {},
     "output_type": "execute_result"
    },
    {
     "data": {
      "image/png": "[encoded data removed]",
      "text/plain": [
       "<matplotlib.figure.Figure at 0x7fed9ffc0048>"
      ]
     },
     "metadata": {},
     "output_type": "display_data"
    }
   ],
   "source": [
    "hist_info[['val_loss']].plot()"
   ]
  },
  {
   "cell_type": "code",
   "execution_count": null,
   "metadata": {
    "collapsed": true
   },
   "outputs": [],
   "source": []
  },
  {
   "cell_type": "markdown",
   "metadata": {},
   "source": [
    "# 繪圖觀看準確率"
   ]
  },
  {
   "cell_type": "code",
   "execution_count": 30,
   "metadata": {
    "collapsed": false
   },
   "outputs": [
    {
     "data": {
      "text/plain": [
       "<matplotlib.axes._subplots.AxesSubplot at 0x7fed9fcaa7f0>"
      ]
     },
     "execution_count": 30,
     "metadata": {},
     "output_type": "execute_result"
    },
    {
     "data": {
      "image/png": "[encoded data removed]",
      "text/plain": [
       "<matplotlib.figure.Figure at 0x7fed9fcbe278>"
      ]
     },
     "metadata": {},
     "output_type": "display_data"
    }
   ],
   "source": [
    "#hist_info[['acc','val_acc']].plot()\n",
    "hist_info[['train_metrics', 'val_metrics','test_metrics']].plot()"
   ]
  },
  {
   "cell_type": "code",
   "execution_count": 31,
   "metadata": {
    "collapsed": false
   },
   "outputs": [
    {
     "data": {
      "text/plain": [
       "<matplotlib.axes._subplots.AxesSubplot at 0x7fed9fc5e710>"
      ]
     },
     "execution_count": 31,
     "metadata": {},
     "output_type": "execute_result"
    },
    {
     "data": {
      "image/png": "[encoded data removed]",
      "text/plain": [
       "<matplotlib.figure.Figure at 0x7fed9fc66a90>"
      ]
     },
     "metadata": {},
     "output_type": "display_data"
    }
   ],
   "source": [
    "hist_info[['val_metrics']].plot()"
   ]
  },
  {
   "cell_type": "code",
   "execution_count": null,
   "metadata": {
    "collapsed": true
   },
   "outputs": [],
   "source": []
  },
  {
   "cell_type": "code",
   "execution_count": null,
   "metadata": {
    "collapsed": true
   },
   "outputs": [],
   "source": []
  },
  {
   "cell_type": "code",
   "execution_count": null,
   "metadata": {
    "collapsed": true
   },
   "outputs": [],
   "source": []
  },
  {
   "cell_type": "markdown",
   "metadata": {},
   "source": [
    "# 觀看x_train內容"
   ]
  },
  {
   "cell_type": "code",
   "execution_count": 32,
   "metadata": {
    "collapsed": false
   },
   "outputs": [
    {
     "data": {
      "text/plain": [
       "array([[    0,     0,     0, ...,    75,    27,    90],\n",
       "       [    0,     0,     0, ...,   363,  2591,    46],\n",
       "       [    0,     0,     0, ...,  4995,   514,  7987],\n",
       "       ...,\n",
       "       [    0,     0,     0, ...,  2467,  1374,  1253],\n",
       "       [    0,     0,     0, ...,    36,   561,  1521],\n",
       "       [    0,     0,     0, ..., 32407,   611,   977]], dtype=int32)"
      ]
     },
     "execution_count": 32,
     "metadata": {},
     "output_type": "execute_result"
    }
   ],
   "source": [
    "x_train"
   ]
  },
  {
   "cell_type": "code",
   "execution_count": 33,
   "metadata": {
    "collapsed": false
   },
   "outputs": [
    {
     "data": {
      "text/plain": [
       "array([    0,     0,     0,     0,     0,     0,     0,     0,     0,\n",
       "           0,     0,     0,     0,     0,     0,     0,     0,     0,\n",
       "           0,     0,     0,     0,     0,     0,     0,     0,     0,\n",
       "           0,     0,     0,     0,     0,     0,     0,     0,     0,\n",
       "           0,     0,     0,     0,     0,     0,     0,     0,     0,\n",
       "           0,     0,     0,     0,     0,     0,     0,     0,     0,\n",
       "           0,     0,     0,     0,     0,     0,     0,     0,     0,\n",
       "           0,     0,     0,     0,     0,     0,     0,     0,     0,\n",
       "           0,     0,     0,     0,     0,     0,     0,     0,     0,\n",
       "           0,     0,     0,     0,     0,     0,     0,     0,     0,\n",
       "           0,     0,     0,     0,     0,     0,     0,     0,     0,\n",
       "           0,     0,     0,     0,     0,     0,     0,     0,     0,\n",
       "           0,     0,     0,     0,     0,     0,     0,     0,     0,\n",
       "           0,     0,     0,     0,     0,     0,     0,     0,     0,\n",
       "           0,     0,     0,     0,     0,     0,     0,     0,     0,\n",
       "           0,     0,     0,     0,     0,     0,     0,     0,     0,\n",
       "           0,     0,     0,     0,     0,     0,     0,     0,     0,\n",
       "           0,     0,     0,     0,     0,     0,     0,     0,     0,\n",
       "           0,     0,     0,     0,     0,     0,     0,     0,     0,\n",
       "           0,     0,     0,     0,     0,     0,     0,     0,     0,\n",
       "           0,     0,     0,     0,     0,     0,     0,     0,     0,\n",
       "           0,     0,     0,     0,     0,     0,     0,     0,     0,\n",
       "           0,     0,     0,     0,     0,     0,     0,     0,     0,\n",
       "           0,     0,     0,     0,     0,     0,     0,     0,     0,\n",
       "           0,     0,     0,     0,     8,     6,   105,   407,  2499,\n",
       "           5,  1158,    44, 33415, 33416,     7,     1,  2110,   171,\n",
       "         476,    11,   308,    25,     1,    10,     2,   104,   919,\n",
       "        8683,  3825,  2895,  2282, 33417,    36, 33418,  5164,   650,\n",
       "        1929,    75,    27,    90], dtype=int32)"
      ]
     },
     "execution_count": 33,
     "metadata": {},
     "output_type": "execute_result"
    }
   ],
   "source": [
    "# 256個\n",
    "x_train[0]"
   ]
  },
  {
   "cell_type": "code",
   "execution_count": 34,
   "metadata": {
    "collapsed": false
   },
   "outputs": [
    {
     "data": {
      "text/plain": [
       "array([[    0,     0,     0, ...,  8958,  7924,  2253],\n",
       "       [    0,     0,     0, ..., 20692,  7870, 20312],\n",
       "       [    0,     0,     0, ...,  1015,  8550,   669],\n",
       "       ...,\n",
       "       [    0,     0,     0, ...,    79,   110,   434],\n",
       "       [    0,     0,     0, ...,   137,    88,   660],\n",
       "       [    0,     0,     0, ..., 21416,  5648,  5236]], dtype=int32)"
      ]
     },
     "execution_count": 34,
     "metadata": {},
     "output_type": "execute_result"
    }
   ],
   "source": [
    "x_test"
   ]
  },
  {
   "cell_type": "code",
   "execution_count": null,
   "metadata": {
    "collapsed": true
   },
   "outputs": [],
   "source": []
  },
  {
   "cell_type": "markdown",
   "metadata": {},
   "source": [
    "# 計算準確率"
   ]
  },
  {
   "cell_type": "code",
   "execution_count": 35,
   "metadata": {
    "collapsed": false
   },
   "outputs": [
    {
     "name": "stdout",
     "output_type": "stream",
     "text": [
      "4807/4807 [==============================] - 1s 123us/step\n"
     ]
    }
   ],
   "source": [
    "score ,acc = model.evaluate(x_test, y_test, batch_size= 16)"
   ]
  },
  {
   "cell_type": "code",
   "execution_count": 36,
   "metadata": {
    "collapsed": false
   },
   "outputs": [
    {
     "name": "stdout",
     "output_type": "stream",
     "text": [
      "Test score: 0.35256090852065197\n",
      "Test accuracy: 0.8466819221967964\n"
     ]
    }
   ],
   "source": [
    "print('Test score:', score)\n",
    "print('Test accuracy:', acc)"
   ]
  },
  {
   "cell_type": "code",
   "execution_count": null,
   "metadata": {
    "collapsed": true
   },
   "outputs": [],
   "source": []
  },
  {
   "cell_type": "code",
   "execution_count": null,
   "metadata": {
    "collapsed": true
   },
   "outputs": [],
   "source": []
  },
  {
   "cell_type": "markdown",
   "metadata": {},
   "source": [
    "# 以下的部份 還有錯誤  要找一下原因"
   ]
  },
  {
   "cell_type": "markdown",
   "metadata": {},
   "source": [
    "# 用混淆矩陣計算"
   ]
  },
  {
   "cell_type": "code",
   "execution_count": 34,
   "metadata": {
    "collapsed": true
   },
   "outputs": [],
   "source": [
    "from sklearn.metrics import accuracy_score, classification_report, confusion_matrix"
   ]
  },
  {
   "cell_type": "code",
   "execution_count": 35,
   "metadata": {
    "collapsed": false
   },
   "outputs": [],
   "source": [
    "pred = model.predict_classes(df['label'], verbose=0)"
   ]
  },
  {
   "cell_type": "code",
   "execution_count": 36,
   "metadata": {
    "collapsed": false
   },
   "outputs": [
    {
     "data": {
      "text/plain": [
       "24033"
      ]
     },
     "execution_count": 36,
     "metadata": {},
     "output_type": "execute_result"
    }
   ],
   "source": [
    "# 預測分類筆數\n",
    "len(pred)"
   ]
  },
  {
   "cell_type": "code",
   "execution_count": 37,
   "metadata": {
    "collapsed": false
   },
   "outputs": [
    {
     "data": {
      "text/plain": [
       "array([1, 1, 1, 1, 1, 1, 1, 1, 1, 1])"
      ]
     },
     "execution_count": 37,
     "metadata": {},
     "output_type": "execute_result"
    }
   ],
   "source": [
    "pred[0:10]"
   ]
  },
  {
   "cell_type": "code",
   "execution_count": null,
   "metadata": {
    "collapsed": true
   },
   "outputs": [],
   "source": []
  },
  {
   "cell_type": "code",
   "execution_count": 38,
   "metadata": {
    "collapsed": false
   },
   "outputs": [
    {
     "data": {
      "text/plain": [
       "24033"
      ]
     },
     "execution_count": 38,
     "metadata": {},
     "output_type": "execute_result"
    }
   ],
   "source": [
    "# 真實筆數\n",
    "len(df['label'])"
   ]
  },
  {
   "cell_type": "code",
   "execution_count": null,
   "metadata": {
    "collapsed": true
   },
   "outputs": [],
   "source": []
  },
  {
   "cell_type": "code",
   "execution_count": null,
   "metadata": {
    "collapsed": true
   },
   "outputs": [],
   "source": []
  },
  {
   "cell_type": "code",
   "execution_count": null,
   "metadata": {
    "collapsed": true
   },
   "outputs": [],
   "source": []
  },
  {
   "cell_type": "markdown",
   "metadata": {},
   "source": [
    "## 預測分類  都只有0跟1  如何調整成一樣的  目前似乎都是分類成1"
   ]
  },
  {
   "cell_type": "code",
   "execution_count": 39,
   "metadata": {
    "collapsed": false
   },
   "outputs": [
    {
     "data": {
      "text/plain": [
       "0.5205342653850955"
      ]
     },
     "execution_count": 39,
     "metadata": {},
     "output_type": "execute_result"
    }
   ],
   "source": [
    "# (y_true, y_pred, normalize=True, sample_weight=None)\n",
    "accuracy_score(df['label'] , pred)"
   ]
  },
  {
   "cell_type": "code",
   "execution_count": 74,
   "metadata": {
    "collapsed": false
   },
   "outputs": [
    {
     "data": {
      "text/plain": [
       "array([[12510,     0],\n",
       "       [11523,     0]])"
      ]
     },
     "execution_count": 74,
     "metadata": {},
     "output_type": "execute_result"
    }
   ],
   "source": [
    "# Confusion Matrix 分類結果之混和矩陣\n",
    "# Compute confusion matrix\n",
    "confusion_matrix(df['label'] , pred)"
   ]
  },
  {
   "cell_type": "code",
   "execution_count": 66,
   "metadata": {
    "collapsed": false
   },
   "outputs": [
    {
     "name": "stdout",
     "output_type": "stream",
     "text": [
      "             precision    recall  f1-score   support\n",
      "\n",
      "          1       0.52      1.00      0.68     12510\n",
      "          2       0.00      0.00      0.00     11523\n",
      "\n",
      "avg / total       0.27      0.52      0.36     24033\n",
      "\n"
     ]
    },
    {
     "name": "stderr",
     "output_type": "stream",
     "text": [
      "/opt/conda/lib/python3.5/site-packages/sklearn/metrics/classification.py:1135: UndefinedMetricWarning: Precision and F-score are ill-defined and being set to 0.0 in labels with no predicted samples.\n",
      "  'precision', 'predicted', average, warn_for)\n"
     ]
    }
   ],
   "source": [
    "#Classification Report\n",
    "print(classification_report(df['label'] , pred))"
   ]
  },
  {
   "cell_type": "code",
   "execution_count": null,
   "metadata": {
    "collapsed": true
   },
   "outputs": [],
   "source": []
  },
  {
   "cell_type": "code",
   "execution_count": 91,
   "metadata": {
    "collapsed": false
   },
   "outputs": [
    {
     "data": {
      "text/plain": [
       "array([[3.5104578e-12, 1.0000000e+00, 1.5942740e-09],\n",
       "       [3.5104578e-12, 1.0000000e+00, 1.5942740e-09],\n",
       "       [3.5104578e-12, 1.0000000e+00, 1.5942740e-09],\n",
       "       [3.5104578e-12, 1.0000000e+00, 1.5942740e-09],\n",
       "       [3.5104578e-12, 1.0000000e+00, 1.5942740e-09],\n",
       "       [3.5104578e-12, 1.0000000e+00, 1.5942740e-09],\n",
       "       [3.5104578e-12, 1.0000000e+00, 1.5942740e-09],\n",
       "       [3.5104578e-12, 1.0000000e+00, 1.5942740e-09],\n",
       "       [3.5104578e-12, 1.0000000e+00, 1.5942740e-09],\n",
       "       [3.5104578e-12, 1.0000000e+00, 1.5942740e-09]], dtype=float32)"
      ]
     },
     "execution_count": 91,
     "metadata": {},
     "output_type": "execute_result"
    }
   ],
   "source": [
    "model.predict_proba(df['label'])[0:10]"
   ]
  },
  {
   "cell_type": "code",
   "execution_count": 92,
   "metadata": {
    "collapsed": false
   },
   "outputs": [
    {
     "data": {
      "text/plain": [
       "array([[3.5104578e-12, 1.0000000e+00, 1.5942740e-09],\n",
       "       [3.5104578e-12, 1.0000000e+00, 1.5942740e-09],\n",
       "       [3.5104578e-12, 1.0000000e+00, 1.5942740e-09],\n",
       "       [3.5104578e-12, 1.0000000e+00, 1.5942740e-09],\n",
       "       [3.5104578e-12, 1.0000000e+00, 1.5942740e-09],\n",
       "       [3.5104578e-12, 1.0000000e+00, 1.5942740e-09],\n",
       "       [3.5104578e-12, 1.0000000e+00, 1.5942740e-09],\n",
       "       [3.5104578e-12, 1.0000000e+00, 1.5942740e-09],\n",
       "       [3.5104578e-12, 1.0000000e+00, 1.5942740e-09],\n",
       "       [3.5104578e-12, 1.0000000e+00, 1.5942740e-09]], dtype=float32)"
      ]
     },
     "execution_count": 92,
     "metadata": {},
     "output_type": "execute_result"
    }
   ],
   "source": [
    "model.predict(df['label'])[0:10]"
   ]
  },
  {
   "cell_type": "code",
   "execution_count": null,
   "metadata": {
    "collapsed": true
   },
   "outputs": [],
   "source": []
  },
  {
   "cell_type": "markdown",
   "metadata": {
    "collapsed": true
   },
   "source": [
    "# **2.1 Change Preprocessings**\n",
    "\n",
    "Next, I change some parameters and preprocessings to improve fastText model.\n",
    "## **2.1.1 Do lower case**"
   ]
  },
  {
   "cell_type": "code",
   "execution_count": 40,
   "metadata": {
    "collapsed": true
   },
   "outputs": [],
   "source": [
    "docs = create_docs(df)\n",
    "tokenizer = Tokenizer(lower=True, filters='')\n",
    "tokenizer.fit_on_texts(docs)\n",
    "num_words = sum([1 for _, v in tokenizer.word_counts.items() if v >= min_count])\n",
    "\n",
    "tokenizer = Tokenizer(num_words=num_words, lower=True, filters='')\n",
    "tokenizer.fit_on_texts(docs)\n",
    "docs = tokenizer.texts_to_sequences(docs)\n",
    "\n",
    "maxlen = 256\n",
    "\n",
    "docs = pad_sequences(sequences=docs, maxlen=maxlen)\n",
    "\n",
    "input_dim = np.max(docs) + 1"
   ]
  },
  {
   "cell_type": "code",
   "execution_count": null,
   "metadata": {
    "collapsed": true
   },
   "outputs": [],
   "source": []
  },
  {
   "cell_type": "markdown",
   "metadata": {},
   "source": [
    "# 自己繪圖展示train, validation, test準確率"
   ]
  },
  {
   "cell_type": "code",
   "execution_count": null,
   "metadata": {
    "collapsed": true
   },
   "outputs": [],
   "source": [
    "%matplotlib inline\n",
    "from keras.callbacks import Callback\n",
    "class LossHistory(Callback):\n",
    "    def on_train_begin(self, logs={}):\n",
    "        self.losses = []\n",
    "    def on_epoch_end(self,epoch, logs={}):\n",
    "        x, y = X_test, Y_test\n",
    "        lss, acc = self.model.evaluate(x, y, verbose=0)\n",
    "        #self.losses.append([logs.get('loss'),logs.get('acc'),logs.get('val_loss'),logs.get('val_acc'),lss, acc])\n",
    "        self.losses.append({'train_loss':logs.get('loss'),'train_metrics':logs.get('acc'),\n",
    "                            'val_loss':logs.get('val_loss'),'val_metrics':logs.get('val_acc'),\n",
    "                            'test_loss':lss,'test_metrics':acc,\n",
    "                           })"
   ]
  },
  {
   "cell_type": "code",
   "execution_count": null,
   "metadata": {
    "collapsed": true
   },
   "outputs": [],
   "source": []
  },
  {
   "cell_type": "code",
   "execution_count": 41,
   "metadata": {
    "collapsed": false
   },
   "outputs": [
    {
     "name": "stdout",
     "output_type": "stream",
     "text": [
      "Train on 19226 samples, validate on 4807 samples\n",
      "Epoch 1/25\n",
      "19226/19226 [==============================] - 25s 1ms/step - loss: 0.7286 - acc: 0.5657 - val_loss: 0.6761 - val_acc: 0.6601\n",
      "Epoch 2/25\n",
      "19226/19226 [==============================] - 25s 1ms/step - loss: 0.6556 - acc: 0.6907 - val_loss: 0.6374 - val_acc: 0.7477\n",
      "Epoch 3/25\n",
      "19226/19226 [==============================] - 28s 1ms/step - loss: 0.6026 - acc: 0.7786 - val_loss: 0.5842 - val_acc: 0.7859\n",
      "Epoch 4/25\n",
      "19226/19226 [==============================] - 28s 1ms/step - loss: 0.5414 - acc: 0.8045 - val_loss: 0.5345 - val_acc: 0.7897\n",
      "Epoch 5/25\n",
      "19226/19226 [==============================] - 29s 2ms/step - loss: 0.4869 - acc: 0.8270 - val_loss: 0.4948 - val_acc: 0.8101\n",
      "Epoch 6/25\n",
      "19226/19226 [==============================] - 28s 1ms/step - loss: 0.4428 - acc: 0.8410 - val_loss: 0.4671 - val_acc: 0.8178\n",
      "Epoch 7/25\n",
      "19226/19226 [==============================] - 28s 1ms/step - loss: 0.4060 - acc: 0.8573 - val_loss: 0.4410 - val_acc: 0.8278\n",
      "Epoch 8/25\n",
      "19226/19226 [==============================] - 28s 1ms/step - loss: 0.3742 - acc: 0.8718 - val_loss: 0.4220 - val_acc: 0.8363\n",
      "Epoch 9/25\n",
      "19226/19226 [==============================] - 28s 1ms/step - loss: 0.3475 - acc: 0.8823 - val_loss: 0.4070 - val_acc: 0.8438\n",
      "Epoch 10/25\n",
      "19226/19226 [==============================] - 28s 1ms/step - loss: 0.3229 - acc: 0.8934 - val_loss: 0.3941 - val_acc: 0.8431\n",
      "Epoch 11/25\n",
      "19226/19226 [==============================] - 28s 1ms/step - loss: 0.3012 - acc: 0.9023 - val_loss: 0.3839 - val_acc: 0.8458\n",
      "Epoch 12/25\n",
      "19226/19226 [==============================] - 28s 1ms/step - loss: 0.2817 - acc: 0.9094 - val_loss: 0.3752 - val_acc: 0.8486\n",
      "Epoch 13/25\n",
      "19226/19226 [==============================] - 28s 1ms/step - loss: 0.2639 - acc: 0.9150 - val_loss: 0.3684 - val_acc: 0.8513\n",
      "Epoch 14/25\n",
      "19226/19226 [==============================] - 29s 1ms/step - loss: 0.2478 - acc: 0.9209 - val_loss: 0.3627 - val_acc: 0.8567\n",
      "Epoch 15/25\n",
      "19226/19226 [==============================] - 28s 1ms/step - loss: 0.2327 - acc: 0.9266 - val_loss: 0.3582 - val_acc: 0.8560\n",
      "Epoch 16/25\n",
      "19226/19226 [==============================] - 28s 1ms/step - loss: 0.2186 - acc: 0.9308 - val_loss: 0.3557 - val_acc: 0.8558\n",
      "Epoch 17/25\n",
      "19226/19226 [==============================] - 28s 1ms/step - loss: 0.2057 - acc: 0.9360 - val_loss: 0.3526 - val_acc: 0.8610\n",
      "Epoch 18/25\n",
      "19226/19226 [==============================] - 28s 1ms/step - loss: 0.1934 - acc: 0.9411 - val_loss: 0.3503 - val_acc: 0.8577\n",
      "Epoch 19/25\n",
      "19226/19226 [==============================] - 28s 1ms/step - loss: 0.1822 - acc: 0.9450 - val_loss: 0.3487 - val_acc: 0.8581\n",
      "Epoch 20/25\n",
      "19226/19226 [==============================] - 28s 1ms/step - loss: 0.1716 - acc: 0.9478 - val_loss: 0.3468 - val_acc: 0.8602\n",
      "Epoch 21/25\n",
      "19226/19226 [==============================] - 28s 1ms/step - loss: 0.1620 - acc: 0.9518 - val_loss: 0.3468 - val_acc: 0.8587\n",
      "Epoch 22/25\n",
      "19226/19226 [==============================] - 28s 1ms/step - loss: 0.1523 - acc: 0.9562 - val_loss: 0.3467 - val_acc: 0.8600\n",
      "Epoch 23/25\n",
      "19226/19226 [==============================] - 28s 1ms/step - loss: 0.1437 - acc: 0.9591 - val_loss: 0.3473 - val_acc: 0.8606\n",
      "Epoch 24/25\n",
      "19226/19226 [==============================] - 28s 1ms/step - loss: 0.1363 - acc: 0.9616 - val_loss: 0.3524 - val_acc: 0.8633\n"
     ]
    }
   ],
   "source": [
    "%%time\n",
    "epochs = 25\n",
    "x_train, x_test, y_train, y_test = train_test_split(docs, y, test_size=0.2)\n",
    "\n",
    "history = LossHistory()\n",
    "model = create_model()\n",
    "\n",
    "hist = model.fit(x_train, y_train,\n",
    "                 batch_size=16,\n",
    "                 validation_data=(x_test, y_test),\n",
    "                 epochs=epochs,\n",
    "                 callbacks=[ history , EarlyStopping(patience=2, monitor='val_loss')])"
   ]
  },
  {
   "cell_type": "code",
   "execution_count": null,
   "metadata": {
    "collapsed": true
   },
   "outputs": [],
   "source": []
  },
  {
   "cell_type": "markdown",
   "metadata": {},
   "source": [
    "# 表格方式觀看loss , metrics"
   ]
  },
  {
   "cell_type": "code",
   "execution_count": null,
   "metadata": {
    "collapsed": true
   },
   "outputs": [],
   "source": [
    "hist_info"
   ]
  },
  {
   "cell_type": "code",
   "execution_count": null,
   "metadata": {
    "collapsed": true
   },
   "outputs": [],
   "source": []
  },
  {
   "cell_type": "code",
   "execution_count": null,
   "metadata": {
    "collapsed": true
   },
   "outputs": [],
   "source": []
  },
  {
   "cell_type": "markdown",
   "metadata": {},
   "source": [
    "# History繪圖 觀看模型訓練的收斂過程"
   ]
  },
  {
   "cell_type": "code",
   "execution_count": 42,
   "metadata": {
    "collapsed": true
   },
   "outputs": [],
   "source": [
    "#hist_info2 = pd.DataFrame(hist.history)\n",
    "\n",
    "hist_info = pd.DataFrame(history.losses)"
   ]
  },
  {
   "cell_type": "code",
   "execution_count": 43,
   "metadata": {
    "collapsed": false
   },
   "outputs": [
    {
     "data": {
      "text/plain": [
       "<matplotlib.axes._subplots.AxesSubplot at 0x7fd442b534e0>"
      ]
     },
     "execution_count": 43,
     "metadata": {},
     "output_type": "execute_result"
    },
    {
     "data": {
      "image/png": "[encoded data removed]",
      "text/plain": [
       "<matplotlib.figure.Figure at 0x7fd442ff60b8>"
      ]
     },
     "metadata": {},
     "output_type": "display_data"
    }
   ],
   "source": [
    "hist_info[['train_loss','val_loss', 'test_loss']].plot()"
   ]
  },
  {
   "cell_type": "code",
   "execution_count": null,
   "metadata": {
    "collapsed": true
   },
   "outputs": [],
   "source": []
  },
  {
   "cell_type": "code",
   "execution_count": null,
   "metadata": {
    "collapsed": true
   },
   "outputs": [],
   "source": []
  },
  {
   "cell_type": "markdown",
   "metadata": {},
   "source": [
    "# 繪圖觀看metrics"
   ]
  },
  {
   "cell_type": "code",
   "execution_count": 44,
   "metadata": {
    "collapsed": false
   },
   "outputs": [
    {
     "data": {
      "text/plain": [
       "<matplotlib.axes._subplots.AxesSubplot at 0x7fd442ff6860>"
      ]
     },
     "execution_count": 44,
     "metadata": {},
     "output_type": "execute_result"
    },
    {
     "data": {
      "image/png": "[encoded data removed]",
      "text/plain": [
       "<matplotlib.figure.Figure at 0x7fd442ceff28>"
      ]
     },
     "metadata": {},
     "output_type": "display_data"
    }
   ],
   "source": [
    "hist_info2[['train_metrics', 'val_metrics','test_metrics',]].plot()"
   ]
  },
  {
   "cell_type": "code",
   "execution_count": null,
   "metadata": {
    "collapsed": true
   },
   "outputs": [],
   "source": []
  },
  {
   "cell_type": "code",
   "execution_count": null,
   "metadata": {
    "collapsed": true
   },
   "outputs": [],
   "source": []
  },
  {
   "cell_type": "code",
   "execution_count": null,
   "metadata": {
    "collapsed": true
   },
   "outputs": [],
   "source": []
  }
 ],
 "metadata": {
  "kernelspec": {
   "display_name": "Python 3",
   "language": "python",
   "name": "python3"
  },
  "language_info": {
   "codemirror_mode": {
    "name": "ipython",
    "version": 3
   },
   "file_extension": ".py",
   "mimetype": "text/x-python",
   "name": "python",
   "nbconvert_exporter": "python",
   "pygments_lexer": "ipython3",
   "version": "3.5.2"
  }
 },
 "nbformat": 4,
 "nbformat_minor": 2
}
