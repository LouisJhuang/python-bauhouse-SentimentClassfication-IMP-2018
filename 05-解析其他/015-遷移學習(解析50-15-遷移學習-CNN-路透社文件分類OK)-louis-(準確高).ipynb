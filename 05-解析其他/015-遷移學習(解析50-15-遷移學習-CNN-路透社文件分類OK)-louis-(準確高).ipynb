{
 "cells": [
  {
   "cell_type": "markdown",
   "metadata": {},
   "source": [
    "# 使用遷移學習Transfer Learning Sentiment analysis"
   ]
  },
  {
   "cell_type": "code",
   "execution_count": null,
   "metadata": {
    "collapsed": true
   },
   "outputs": [],
   "source": []
  },
  {
   "cell_type": "markdown",
   "metadata": {},
   "source": [
    "## (trainable=True)\n",
    "## Test accuracy: 0.49\n",
    "\n",
    "## 比 trainable=False 高很多"
   ]
  },
  {
   "cell_type": "code",
   "execution_count": null,
   "metadata": {
    "collapsed": true
   },
   "outputs": [],
   "source": []
  },
  {
   "cell_type": "code",
   "execution_count": 1,
   "metadata": {
    "collapsed": true
   },
   "outputs": [],
   "source": [
    "# 使用:GoogleNews-vectors-negative300.bin\n",
    "# glove.6B.zip\n",
    "# code from:\n",
    "# https://github.com/keras-team/keras/blob/master/examples/pretrained_word_embeddings.py"
   ]
  },
  {
   "cell_type": "code",
   "execution_count": 37,
   "metadata": {
    "collapsed": false
   },
   "outputs": [
    {
     "data": {
      "text/plain": [
       "'This script loads pre-trained word embeddings (GloVe embeddings)\\ninto a frozen Keras Embedding layer, and uses it to\\ntrain a text classification model on the 20 Newsgroup dataset\\n(classification of newsgroup messages into 20 different categories).\\n\\nGloVe embedding data can be found at:\\nhttp://nlp.stanford.edu/data/glove.6B.zip\\n(source page: http://nlp.stanford.edu/projects/glove/)\\n\\n20 Newsgroup data can be found at:\\nhttp://www.cs.cmu.edu/afs/cs.cmu.edu/project/theo-20/www/data/news20.html\\n'"
      ]
     },
     "execution_count": 37,
     "metadata": {},
     "output_type": "execute_result"
    }
   ],
   "source": [
    "'''This script loads pre-trained word embeddings (GloVe embeddings)\n",
    "into a frozen Keras Embedding layer, and uses it to\n",
    "train a text classification model on the 20 Newsgroup dataset\n",
    "(classification of newsgroup messages into 20 different categories).\n",
    "\n",
    "GloVe embedding data can be found at:\n",
    "http://nlp.stanford.edu/data/glove.6B.zip\n",
    "(source page: http://nlp.stanford.edu/projects/glove/)\n",
    "\n",
    "20 Newsgroup data can be found at:\n",
    "http://www.cs.cmu.edu/afs/cs.cmu.edu/project/theo-20/www/data/news20.html\n",
    "'''"
   ]
  },
  {
   "cell_type": "code",
   "execution_count": 1,
   "metadata": {
    "collapsed": true
   },
   "outputs": [],
   "source": [
    "import fasttext\n",
    "from pyfasttext import FastText\n",
    "import time"
   ]
  },
  {
   "cell_type": "code",
   "execution_count": 2,
   "metadata": {
    "collapsed": false
   },
   "outputs": [
    {
     "name": "stderr",
     "output_type": "stream",
     "text": [
      "Using TensorFlow backend.\n"
     ]
    }
   ],
   "source": [
    "from __future__ import print_function\n",
    "\n",
    "import os\n",
    "import sys\n",
    "import numpy as np\n",
    "from keras.preprocessing.text import Tokenizer\n",
    "from keras.preprocessing.sequence import pad_sequences\n",
    "from keras.utils import to_categorical\n",
    "from keras.layers import Dense, Input, GlobalMaxPooling1D\n",
    "from keras.layers import Conv1D, MaxPooling1D, Embedding\n",
    "from keras.models import Model"
   ]
  },
  {
   "cell_type": "code",
   "execution_count": null,
   "metadata": {
    "collapsed": true
   },
   "outputs": [],
   "source": []
  },
  {
   "cell_type": "code",
   "execution_count": 3,
   "metadata": {
    "collapsed": true
   },
   "outputs": [],
   "source": [
    "BASE_DIR = ''\n",
    "GLOVE_DIR = os.path.join(BASE_DIR, './data/')  #向量檔案位置  glove.6B.100d.txt\n",
    "TEXT_DATA_DIR = os.path.join(BASE_DIR, './data/20_newsgroup')   #20_newsgroup整包資料夾檔案位置  \n",
    "MAX_SEQUENCE_LENGTH = 1000\n",
    "MAX_NUM_WORDS = 20000\n",
    "EMBEDDING_DIM = 100\n",
    "VALIDATION_SPLIT = 0.2"
   ]
  },
  {
   "cell_type": "markdown",
   "metadata": {},
   "source": [
    "# 把glove.6B.100d.txt檔裡面的向量 與標題單字  切割開來存進字典"
   ]
  },
  {
   "cell_type": "code",
   "execution_count": 4,
   "metadata": {
    "collapsed": false
   },
   "outputs": [
    {
     "name": "stdout",
     "output_type": "stream",
     "text": [
      "Indexing word vectors.\n",
      "Found 400000 word vectors.\n"
     ]
    }
   ],
   "source": [
    "# first, build index mapping words in the embeddings set\n",
    "# to their embedding vector\n",
    "\n",
    "print('Indexing word vectors.')\n",
    "\n",
    "embeddings_index = {}  #為字典\n",
    "f = open(os.path.join(GLOVE_DIR, 'glove.6B.100d.txt'))  #打開檔案\n",
    "for line in f:\n",
    "    values = line.split()\n",
    "    word = values[0]\n",
    "    coefs = np.asarray(values[1:], dtype='float32')   #[1:] 第二位到最後一位給予...   因為第一位是英文單字\n",
    "    embeddings_index[word] = coefs  #存進去字典\n",
    "f.close()\n",
    "\n",
    "print('Found %s word vectors.' % len(embeddings_index))"
   ]
  },
  {
   "cell_type": "code",
   "execution_count": null,
   "metadata": {
    "collapsed": true
   },
   "outputs": [],
   "source": []
  },
  {
   "cell_type": "code",
   "execution_count": 5,
   "metadata": {
    "collapsed": false
   },
   "outputs": [
    {
     "name": "stdout",
     "output_type": "stream",
     "text": [
      "sandberger\n",
      "0.28365\n",
      "-0.6263\n",
      "-0.44351\n",
      "0.2177\n",
      "-0.087421\n",
      "-0.17062\n",
      "0.29266\n",
      "-0.024899\n",
      "0.26414\n"
     ]
    }
   ],
   "source": [
    "# 一個單字有100維度向量   [0]為單字\n",
    "for x in range(10):\n",
    "    print(values[x])"
   ]
  },
  {
   "cell_type": "code",
   "execution_count": null,
   "metadata": {
    "collapsed": true
   },
   "outputs": [],
   "source": []
  },
  {
   "cell_type": "code",
   "execution_count": 6,
   "metadata": {
    "collapsed": false
   },
   "outputs": [
    {
     "data": {
      "text/plain": [
       "(0.28365, -0.6263)"
      ]
     },
     "execution_count": 6,
     "metadata": {},
     "output_type": "execute_result"
    }
   ],
   "source": [
    "# 去除掉第一位的英文單字\n",
    "coefs[0] ,coefs[1]"
   ]
  },
  {
   "cell_type": "code",
   "execution_count": 7,
   "metadata": {
    "collapsed": false
   },
   "outputs": [
    {
     "data": {
      "text/plain": [
       "('sandberge', 10)"
      ]
     },
     "execution_count": 7,
     "metadata": {},
     "output_type": "execute_result"
    }
   ],
   "source": [
    "# 觀看單字長度\n",
    "word[0:-1] , len(word)"
   ]
  },
  {
   "cell_type": "code",
   "execution_count": 8,
   "metadata": {
    "collapsed": false
   },
   "outputs": [
    {
     "data": {
      "text/plain": [
       "('hoelter', array([-0.084826 , -0.21959  , -0.68825  , -0.15856  ,  0.0037678,\n",
       "        -0.25393  , -0.014122 , -0.25515  ,  0.15734  , -0.28621  ,\n",
       "        -0.10495  ,  0.3319   , -0.26232  , -0.27706  ,  0.017544 ,\n",
       "         0.21251  , -0.13695  ,  0.21676  ,  0.13667  , -0.10023  ,\n",
       "        -0.48343  ,  0.098403 , -0.23836  , -0.29935  , -0.49155  ,\n",
       "         0.0035513,  0.07616  ,  0.11695  , -0.1576   ,  0.36189  ,\n",
       "         0.017703 , -0.22847  ,  0.12772  , -0.33151  , -0.16558  ,\n",
       "         0.049934 , -0.010591 , -0.1085   , -0.024022 ,  0.032036 ,\n",
       "         0.24984  ,  0.20566  ,  0.18528  ,  0.11274  , -0.28665  ,\n",
       "         0.082614 , -0.031535 ,  0.10971  ,  0.052535 ,  0.23758  ,\n",
       "         0.16821  , -0.44542  , -0.11942  , -0.73416  ,  0.31036  ,\n",
       "         0.60805  , -0.12909  ,  0.03542  , -0.68638  ,  0.20252  ,\n",
       "         0.17505  , -0.23696  ,  0.36493  , -0.23961  , -0.41811  ,\n",
       "        -0.023996 , -0.068086 ,  0.18158  , -0.17651  ,  0.047313 ,\n",
       "         0.2711   ,  0.24319  ,  0.057542 ,  0.15621  , -0.060427 ,\n",
       "         0.095366 ,  0.091288 , -0.11364  ,  0.3781   ,  0.049345 ,\n",
       "        -0.23277  , -0.22232  , -0.063249 , -0.40155  ,  0.73625  ,\n",
       "         0.11903  ,  0.10046  , -0.042967 , -0.36144  ,  0.22384  ,\n",
       "         0.20931  , -0.075568 ,  0.56046  , -0.079132 ,  0.40507  ,\n",
       "         0.23906  ,  0.10623  ,  0.046207 , -0.66893  ,  0.22893  ],\n",
       "       dtype=float32))"
      ]
     },
     "execution_count": 8,
     "metadata": {},
     "output_type": "execute_result"
    }
   ],
   "source": [
    "# 觀看字典中 單字向量   第一個\n",
    "list(embeddings_index.items())[2]"
   ]
  },
  {
   "cell_type": "code",
   "execution_count": null,
   "metadata": {
    "collapsed": true
   },
   "outputs": [],
   "source": []
  },
  {
   "cell_type": "markdown",
   "metadata": {
    "collapsed": true
   },
   "source": [
    "# 把資料夾裡面檔案的文章 前處理存進texts"
   ]
  },
  {
   "cell_type": "code",
   "execution_count": 9,
   "metadata": {
    "collapsed": false
   },
   "outputs": [
    {
     "name": "stdout",
     "output_type": "stream",
     "text": [
      "Processing text dataset\n",
      "Found 19997 texts.\n"
     ]
    }
   ],
   "source": [
    "# second, prepare text samples and their labels\n",
    "print('Processing text dataset')\n",
    "\n",
    "texts = []  # list of text samples\n",
    "labels_index = {}  # dictionary mapping label name to numeric id\n",
    "labels = []  # list of label ids\n",
    "for name in sorted(os.listdir(TEXT_DATA_DIR)):  \n",
    "    # listdir() = 回傳目錄底下的所有檔案名稱列表(list) (抓資料夾裡的所有檔案名稱)\n",
    "    # TEXT_DATA_DIR =檔案位置 data中的資料夾包名稱  , 存進name裡面   sorted = 排序\n",
    "    # sorted()可用來排序任何的iterable(string, dictionary, tuple...)  會產生新的list 不變動原本的\n",
    "    \n",
    "    path = os.path.join(TEXT_DATA_DIR, name)   # TEXT_DATA_DIR = './data/20_newsgroup'  , name = 各個資料夾名稱\n",
    "    if os.path.isdir(path):  # os.path.isdir 判斷是否為... 路徑  , path = 各個資料夾路徑\n",
    "        label_id = len(labels_index)   \n",
    "        # labels_index這時內容空白為:{}字典  len(labels_index) = 0 , 存進去label_id\n",
    "        labels_index[name] = label_id  \n",
    "        # name資料夾名稱存進去 labels_index 變成每一個資料夾名稱 字典裡 有+標記0,1,2,3 依序排序\n",
    "        \n",
    "        for fname in sorted(os.listdir(path)): \n",
    "        #path = 裡面每一個子資料夾路徑 存進去fname  這邊有先排序\n",
    "\n",
    "            if fname.isdigit():\n",
    "            # isdigit():檢查字串是否由數字組成  因為在資料集裡面檔案都是由數字組成名稱\n",
    "                \n",
    "                fpath = os.path.join(path, fname)\n",
    "                # fpath = 資料夾路徑 + 檔案名稱 \n",
    "                \n",
    "                if sys.version_info < (3,):\n",
    "                # sys.version_info: 判斷目前python 版本 \n",
    "                # , 似乎是用來取整數\n",
    "                    f = open(fpath)\n",
    "                \n",
    "                else:\n",
    "                    f = open(fpath, encoding='latin-1') \n",
    "                    # # fpath = 資料夾路徑 + 檔案名稱 \n",
    "                    # Latin-1 表示一個很小的拉丁語言符號集，與ASCII基本上一致 其實不能用來表示龐大的東方語言字符集\n",
    "                    \n",
    "                t = f.read()\n",
    "                # t = 每一個資料裡面的內容\n",
    "                i = t.find('\\n\\n')  # skip header\n",
    "                # i 剩下一堆數字\n",
    "                if 0 < i:\n",
    "                    t = t[i:]\n",
    "                    # i: = 除了i那個元素 後面都要存進去  = 去除掉資料裡面 Lines:xxx 以上的東西(包含Line)\n",
    "                texts.append(t)\n",
    "                # texts[0] =  49960 第一筆資料 (去除掉資料裡面 Lines:xxx 以上的東西(包含Line)\n",
    "                f.close()\n",
    "                labels.append(label_id)\n",
    "                # label_id = 0~19  每個數字有1000筆 存進去 labels[]\n",
    "\n",
    "print('Found %s texts.' % len(texts))"
   ]
  },
  {
   "cell_type": "code",
   "execution_count": null,
   "metadata": {
    "collapsed": true
   },
   "outputs": [],
   "source": []
  },
  {
   "cell_type": "code",
   "execution_count": 10,
   "metadata": {
    "collapsed": false
   },
   "outputs": [
    {
     "data": {
      "text/plain": [
       "sys.version_info(major=3, minor=5, micro=2, releaselevel='final', serial=0)"
      ]
     },
     "execution_count": 10,
     "metadata": {},
     "output_type": "execute_result"
    }
   ],
   "source": [
    "# 用來觀看平台python版本\n",
    "sys.version_info"
   ]
  },
  {
   "cell_type": "code",
   "execution_count": null,
   "metadata": {
    "collapsed": true
   },
   "outputs": [],
   "source": []
  },
  {
   "cell_type": "code",
   "execution_count": 11,
   "metadata": {
    "collapsed": false
   },
   "outputs": [
    {
     "name": "stdout",
     "output_type": "stream",
     "text": [
      "alt.atheism\n",
      "comp.graphics\n",
      "comp.os.ms-windows.misc\n",
      "comp.sys.ibm.pc.hardware\n",
      "comp.sys.mac.hardware\n",
      "comp.windows.x\n",
      "misc.forsale\n",
      "rec.autos\n",
      "rec.motorcycles\n",
      "rec.sport.baseball\n",
      "rec.sport.hockey\n",
      "sci.crypt\n",
      "sci.electronics\n",
      "sci.med\n",
      "sci.space\n",
      "soc.religion.christian\n",
      "talk.politics.guns\n",
      "talk.politics.mideast\n",
      "talk.politics.misc\n",
      "talk.religion.misc\n"
     ]
    }
   ],
   "source": [
    "# 觀看資料夾內容\n",
    "for name in sorted(os.listdir(TEXT_DATA_DIR)):\n",
    "    print(name)"
   ]
  },
  {
   "cell_type": "code",
   "execution_count": 12,
   "metadata": {
    "collapsed": false
   },
   "outputs": [
    {
     "name": "stdout",
     "output_type": "stream",
     "text": [
      "./data/20_newsgroup/alt.atheism\n",
      "./data/20_newsgroup/comp.graphics\n",
      "./data/20_newsgroup/comp.os.ms-windows.misc\n",
      "./data/20_newsgroup/comp.sys.ibm.pc.hardware\n",
      "./data/20_newsgroup/comp.sys.mac.hardware\n",
      "./data/20_newsgroup/comp.windows.x\n",
      "./data/20_newsgroup/misc.forsale\n",
      "./data/20_newsgroup/rec.autos\n",
      "./data/20_newsgroup/rec.motorcycles\n",
      "./data/20_newsgroup/rec.sport.baseball\n",
      "./data/20_newsgroup/rec.sport.hockey\n",
      "./data/20_newsgroup/sci.crypt\n",
      "./data/20_newsgroup/sci.electronics\n",
      "./data/20_newsgroup/sci.med\n",
      "./data/20_newsgroup/sci.space\n",
      "./data/20_newsgroup/soc.religion.christian\n",
      "./data/20_newsgroup/talk.politics.guns\n",
      "./data/20_newsgroup/talk.politics.mideast\n",
      "./data/20_newsgroup/talk.politics.misc\n",
      "./data/20_newsgroup/talk.religion.misc\n"
     ]
    }
   ],
   "source": [
    "# 底下的各個子資料夾\n",
    "for name in sorted(os.listdir(TEXT_DATA_DIR)):\n",
    "    path = os.path.join(TEXT_DATA_DIR, name)\n",
    "    print(path)"
   ]
  },
  {
   "cell_type": "code",
   "execution_count": 13,
   "metadata": {
    "collapsed": false
   },
   "outputs": [
    {
     "data": {
      "text/plain": [
       "('talk.religion.misc', './data/20_newsgroup/talk.religion.misc')"
      ]
     },
     "execution_count": 13,
     "metadata": {},
     "output_type": "execute_result"
    }
   ],
   "source": [
    "# 路徑內容\n",
    "name , path"
   ]
  },
  {
   "cell_type": "code",
   "execution_count": null,
   "metadata": {
    "collapsed": false
   },
   "outputs": [],
   "source": []
  },
  {
   "cell_type": "code",
   "execution_count": 14,
   "metadata": {
    "collapsed": false
   },
   "outputs": [
    {
     "name": "stdout",
     "output_type": "stream",
     "text": [
      "[('misc.forsale', 20), ('comp.windows.x', 20), ('sci.crypt', 20), ('talk.politics.guns', 20), ('talk.religion.misc', 20)]\n"
     ]
    }
   ],
   "source": [
    "# 觀看一下 labels_index.items 內容\n",
    "\n",
    "for name in sorted(os.listdir(TEXT_DATA_DIR)):  \n",
    "    path = os.path.join(TEXT_DATA_DIR, name)\n",
    "    if os.path.isdir(path): \n",
    "        label_id = len(labels_index)\n",
    "        labels_index[name] = label_id\n",
    "print(list(labels_index.items())[0:5])    "
   ]
  },
  {
   "cell_type": "code",
   "execution_count": null,
   "metadata": {
    "collapsed": false
   },
   "outputs": [],
   "source": []
  },
  {
   "cell_type": "markdown",
   "metadata": {},
   "source": [
    "# 將texts的文章轉為2值化序列  整理好格式之後切割資料集"
   ]
  },
  {
   "cell_type": "code",
   "execution_count": 15,
   "metadata": {
    "collapsed": false
   },
   "outputs": [
    {
     "name": "stdout",
     "output_type": "stream",
     "text": [
      "Found 174074 unique tokens.\n",
      "Shape of data tensor: (19997, 1000)\n",
      "Shape of label tensor: (19997, 20)\n"
     ]
    }
   ],
   "source": [
    "# finally, vectorize the text samples into a 2D integer tensor\n",
    "'''\n",
    "MAX_SEQUENCE_LENGTH = 1000\n",
    "MAX_NUM_WORDS = 20000\n",
    "EMBEDDING_DIM = 100\n",
    "VALIDATION_SPLIT = 0.2\n",
    "'''\n",
    "\n",
    "tokenizer = Tokenizer(num_words=MAX_NUM_WORDS) \n",
    "# MAX_NUM_WORDS = 20000\n",
    "tokenizer.fit_on_texts(texts) \n",
    "# texts[0] =  49960 第一筆資料 (去除掉資料裡面 Lines:xxx 以上的東西(包含Line)\n",
    "# texts： 要用來訓練的文件內容 , 存進tokenizer\n",
    "\n",
    "sequences = tokenizer.texts_to_sequences(texts)\n",
    "# texts：待轉為序列的文件內容\n",
    "# return值：序列的列表，列表中每個序列對應於一段輸入文件\n",
    "# sequences 為[] 每一個陣列內容有序列\n",
    "\n",
    "word_index = tokenizer.word_index\n",
    "# word_index: 字典，將單字（字串）映射為它們的排名或者索引。僅在調用fit_on_texts之後設定\n",
    "\n",
    "print('Found %s unique tokens.' % len(word_index))\n",
    "\n",
    "\n",
    "data = pad_sequences(sequences, maxlen=MAX_SEQUENCE_LENGTH)\n",
    "# 這邊還沒有補0 每一個內容為1000個值\n",
    "\n",
    "labels = to_categorical(np.asarray(labels))\n",
    "# np.asarray  = 轉換為矩陣\n",
    "# to_categorical: 將類別向量 映射為二值類別矩陣\n",
    "# labels[] = label_id = 0~19  每個數字有1000筆 存進去 \n",
    "\n",
    "\n",
    "print('Shape of data tensor:', data.shape)\n",
    "print('Shape of label tensor:', labels.shape)\n",
    "\n",
    "# split the data into a training set and a validation set\n",
    "indices = np.arange(data.shape[0])\n",
    "# np.arange(3) = array([0, 1, 2])\n",
    "# data.shape[0] = 19997\n",
    "\n",
    "np.random.shuffle(indices)\n",
    "# np.random.shuffle = 打亂順序 , 0~19996 順序打亂\n",
    "\n",
    "data = data[indices]\n",
    "# 把 data內容補0 每一個內容為1000個值\n",
    "\n",
    "labels = labels[indices]\n",
    "# 變成2維陣列 20個數值\n",
    "\n",
    "num_validation_samples = int(VALIDATION_SPLIT * data.shape[0])\n",
    "# VALIDATION_SPLIT = 0.2 , data.shape[0] = 19997\n",
    "# 取全部樣本20% , 分割資料集 training 跟 test\n",
    "\n",
    "\n",
    "x_train = data[:-num_validation_samples]\n",
    "# [:-3] = 最後一個陣列元素算0開始 , 從0到從後面數來第4個元素\n",
    "# 也就是說 除了最後20% 前面全部拿來訓練\n",
    "# data裡面有補0數值\n",
    "\n",
    "y_train = labels[:-num_validation_samples]\n",
    "# labels = 19997\n",
    "# labels 裡面是20個數值\n",
    "\n",
    "\n",
    "x_val = data[-num_validation_samples:]\n",
    "# 後面20%\n",
    "y_val = labels[-num_validation_samples:]\n",
    "# 後面20%"
   ]
  },
  {
   "cell_type": "code",
   "execution_count": null,
   "metadata": {
    "collapsed": true
   },
   "outputs": [],
   "source": []
  },
  {
   "cell_type": "markdown",
   "metadata": {},
   "source": [
    "## pad_sequences 參數"
   ]
  },
  {
   "cell_type": "code",
   "execution_count": null,
   "metadata": {
    "collapsed": true
   },
   "outputs": [],
   "source": [
    "# 將長為nb_samples的序列轉化為形如 (nb_samples,nb_timesteps)2D numpy array\n",
    "# 如果提供了參數 maxlen , nb_timesteps= maxlen\n",
    "# 否則其值為最長序列的長度,其他短於長度的該序都會在後面填充0以達到該長度\n",
    "# 長於 nb_timesteps 的序列都會被截斷 , 以使其批配目標長度\n",
    "# padding 和截斷的發生的位置分別取決於 padding 和 truncating\n",
    "\n",
    "# maxlen：None或整数，為序列的最大長度。 \n",
    "# 其他短於長度的該序都會在後面填充0以達到該長度\n",
    "# 長於 maxlen 的序列都會被截斷 , 以使其批配目標長度\n",
    "\n",
    "# dtype：返回的numpy array的數據類型\n",
    "# padding：‘pre’或‘post’，確定當需要補0時，在序列的起始還是結尾補\n",
    "# truncating：‘pre’或‘post’，確定當需要截斷序列時，從起始還是結尾截斷\n",
    "# value：浮點數 , 此值將在填充時代替默認的填充值0\n",
    "\n",
    "# return:如(nb_samples,nb_timesteps)的2D張量\n"
   ]
  },
  {
   "cell_type": "code",
   "execution_count": null,
   "metadata": {
    "collapsed": true
   },
   "outputs": [],
   "source": []
  },
  {
   "cell_type": "code",
   "execution_count": 16,
   "metadata": {
    "collapsed": false
   },
   "outputs": [
    {
     "data": {
      "text/plain": [
       "20000"
      ]
     },
     "execution_count": 16,
     "metadata": {},
     "output_type": "execute_result"
    }
   ],
   "source": [
    "# 這邊會20000 筆資料是因為前面 ,MAX_NUM_WORDS = 20000\n",
    "tokenizer.num_words"
   ]
  },
  {
   "cell_type": "code",
   "execution_count": 17,
   "metadata": {
    "collapsed": false
   },
   "outputs": [
    {
     "data": {
      "text/plain": [
       "1528"
      ]
     },
     "execution_count": 17,
     "metadata": {},
     "output_type": "execute_result"
    }
   ],
   "source": [
    "# 第一個陣列內容\n",
    "len(sequences[0])"
   ]
  },
  {
   "cell_type": "code",
   "execution_count": 18,
   "metadata": {
    "collapsed": false
   },
   "outputs": [
    {
     "data": {
      "text/plain": [
       "'\\n[1237,\\n 273,\\n 1213,\\n 1439,\\n 1071,\\n 1213,\\n 1237,\\n 273,\\n 1439,\\n 192,\\n 2515\\n ...]\\n'"
      ]
     },
     "execution_count": 18,
     "metadata": {},
     "output_type": "execute_result"
    }
   ],
   "source": [
    "# 文件的序列內容\n",
    "# sequences[0]\n",
    "\n",
    "# 列印結果如下 共1528筆\n",
    "'''\n",
    "[1237,\n",
    " 273,\n",
    " 1213,\n",
    " 1439,\n",
    " 1071,\n",
    " 1213,\n",
    " 1237,\n",
    " 273,\n",
    " 1439,\n",
    " 192,\n",
    " 2515\n",
    " ...]\n",
    "'''"
   ]
  },
  {
   "cell_type": "code",
   "execution_count": 19,
   "metadata": {
    "collapsed": false
   },
   "outputs": [
    {
     "data": {
      "text/plain": [
       "[('invincible', 32947), (\"u''h\", 128182), ('malzbender', 151112)]"
      ]
     },
     "execution_count": 19,
     "metadata": {},
     "output_type": "execute_result"
    }
   ],
   "source": [
    "# 前3筆字典內容\n",
    "list(word_index.items())[0:3]"
   ]
  },
  {
   "cell_type": "code",
   "execution_count": 20,
   "metadata": {
    "collapsed": false
   },
   "outputs": [
    {
     "data": {
      "text/plain": [
       "174074"
      ]
     },
     "execution_count": 20,
     "metadata": {},
     "output_type": "execute_result"
    }
   ],
   "source": [
    "len(word_index)"
   ]
  },
  {
   "cell_type": "code",
   "execution_count": null,
   "metadata": {
    "collapsed": true
   },
   "outputs": [],
   "source": []
  },
  {
   "cell_type": "code",
   "execution_count": 21,
   "metadata": {
    "collapsed": false
   },
   "outputs": [
    {
     "data": {
      "text/plain": [
       "1000"
      ]
     },
     "execution_count": 21,
     "metadata": {},
     "output_type": "execute_result"
    }
   ],
   "source": [
    "len(data[0])"
   ]
  },
  {
   "cell_type": "code",
   "execution_count": 22,
   "metadata": {
    "collapsed": false
   },
   "outputs": [
    {
     "data": {
      "text/plain": [
       "array([    0,     0,     0,     0,     0,     0,     0,     0,     0,\n",
       "           0,     0,     0,     0,     0,     0,     0,     0,     0,\n",
       "           0,     0,     0,     0,     0,     0,     0,     0,     0,\n",
       "           0,     0,     0,     0,     0,     0,     0,     0,     0,\n",
       "           0,     0,     0,     0,     0,     0,     0,     0,     0,\n",
       "           0,     0,     0,     0,     0,     0,     0,     0,     0,\n",
       "           0,     0,     0,     0,     0,     0,     0,     0,     0,\n",
       "           0,     0,     0,     0,     0,     0,     0,     0,     0,\n",
       "           0,     0,     0,     0,     0,     0,     0,     0,     0,\n",
       "           0,     0,     0,     0,     0,     0,     0,     0,     0,\n",
       "           0,     0,     0,     0,     0,     0,     0,     0,     0,\n",
       "           0,     0,     0,     0,     0,     0,     0,     0,     0,\n",
       "           0,     0,     0,     0,     0,     0,     0,     0,     0,\n",
       "           0,     0,     0,     0,     0,     0,     0,     0,     0,\n",
       "           0,     0,     0,     0,     0,     0,     0,     0,     0,\n",
       "           0,     0,     0,     0,     0,     0,     0,     0,     0,\n",
       "           0,     0,     0,     0,     0,     0,     0,     0,     0,\n",
       "           0,     0,     0,     0,     0,     0,     0,     0,     0,\n",
       "           0,     0,     0,     0,     0,     0,     0,     0,     0,\n",
       "           0,     0,     0,     0,     0,     0,     0,     0,     0,\n",
       "           0,     0,     0,     0,     0,     0,     0,     0,     0,\n",
       "           0,     0,     0,     0,     0,     0,     0,     0,     0,\n",
       "           0,     0,     0,     0,     0,     0,     0,     0,     0,\n",
       "           0,     0,     0,     0,     0,     0,     0,     0,     0,\n",
       "           0,     0,     0,     0,     0,     0,     0,     0,     0,\n",
       "           0,     0,     0,     0,     0,     0,     0,     0,     0,\n",
       "           0,     0,     0,     0,     0,     0,     0,     0,     0,\n",
       "           0,     0,     0,     0,     0,     0,     0,     0,     0,\n",
       "           0,     0,     0,     0,     0,     0,     0,     0,     0,\n",
       "           0,     0,     0,     0,     0,     0,     0,     0,     0,\n",
       "           0,     0,     0,     0,     0,     0,     0,     0,     0,\n",
       "           0,     0,     0,     0,     0,     0,     0,     0,     0,\n",
       "           0,     0,     0,     0,     0,     0,     0,     0,     0,\n",
       "           0,     0,     0,     0,     0,     0,     0,     0,     0,\n",
       "           0,     0,     0,     0,     0,     0,     0,     0,     0,\n",
       "           0,     0,     0,     0,     0,     0,     0,     0,     0,\n",
       "           0,     0,     0,     0,     0,     0,     0,     0,     0,\n",
       "           0,     0,     0,     0,     0,     0,     0,     0,     0,\n",
       "           0,     0,     0,     0,     0,     0,     0,     0,     0,\n",
       "           0,     0,     0,     0,     0,     0,     0,     0,     0,\n",
       "           0,     0,     0,     0,     0,     0,     0,     0,     0,\n",
       "           0,     0,     0,     0,     0,     0,     0,     0,     0,\n",
       "           0,     0,     0,     0,     0,     0,     0,     0,     0,\n",
       "           0,     0,     0,     0,     0,     0,     0,     0,     0,\n",
       "           0,     0,     0,     0,     0,     0,     0,     0,     0,\n",
       "           0,     0,     0,     0,     0,     0,     0,     0,     0,\n",
       "           0,     0,     0,     0,     0,     0,     0,     0,     0,\n",
       "           0,     0,     0,     0,     0,     0,     0,     0,     0,\n",
       "           0,     0,     0,     0,     0,     0,     0,     0,     0,\n",
       "           0,     0,     0,     0,     0,     0,     0,     0,     0,\n",
       "           0,     0,     0,     0,     0,     0,     0,     0,     0,\n",
       "           0,     0,     0,     0,     0,     0,     0,     0,     0,\n",
       "           0,     0,     0,     0,     0,     0,     0,     0,     0,\n",
       "           0,     0,     0,     0,     0,     0,     0,     0,     0,\n",
       "           0,     0,     0,     0,     0,     0,     0,     0,     0,\n",
       "           0,     0,     0,     0,     0,     0,     0,     0,     0,\n",
       "           0,     0,     0,     0,     0,     0,     0,     0,     0,\n",
       "           0,     0,     0,     0,     0,     0,     0,     0,     0,\n",
       "           0,     0,     0,     0,     0,     0,     0,     0,     0,\n",
       "           0,     0,     0,     0,     0,     0,     0,     0,     0,\n",
       "           0,     0,     0,     0,     0,     0,     0,     0,     0,\n",
       "           0,     0,     0,     0,     0,     0,     0,     0,     0,\n",
       "           0,     0,     0,     0,     0,     0,     0,     0,     0,\n",
       "           0,     0,     0,     0,     0,     0,     0,     0,     0,\n",
       "           0,     0,     0,     0,     0,     0,     0,     0,     0,\n",
       "           0,     0,     0,     0,     0,     0,     0,     6,    54,\n",
       "        7334,  1747,   403,    49, 17554,  1747,   403,    49,   277,\n",
       "        6633,    43,     6,    54,  1983,    49,  1569,  1983,    49,\n",
       "        2315,  1569,    43,     7,  2127,  1062,   905,    24,    67,\n",
       "        1062,  2051,  1315,     6,     4,  5423,     2,     4,   591,\n",
       "        7433,     6,     4,   514,    13,    18,     2,   371,  1136,\n",
       "           4,   227,    23,     1,  1062,   275,  4546,     3,  1315,\n",
       "          21,  1334,   374,  4636,   211,    18,     4,  7163,     3,\n",
       "         511,     2,    11,     6,    54,  7334,  1747,   403,    49,\n",
       "       17554,  1747,   403,    49,   277,  6633,    43,  1417,  2315,\n",
       "          48,     7,   116,     9,    13,    18,   325,   215,   108,\n",
       "           2, 13676,   268,    57,    80,   125,  1062,    18,  1651,\n",
       "        1315,     6,     4,  5423,     2,     4,   591,  7433,     6,\n",
       "           4,   514,   405,  2056,     9,  1124,   335,  6175,   283,\n",
       "          12,    14,   578,     6,    58,  1035,    22,   209,     6,\n",
       "          54,  1983,    49,  1569,  1983,    49,  2315,  1569,    43,\n",
       "          50,    24,   175,   335,     1,  2559,  3272,    30,  1062,\n",
       "           6,   170,  1803,    11,     8,     2,    57,    24,    17,\n",
       "           2,    13,    28,   175,    83,   655,   170,  1803,    12,\n",
       "           4,   196,   113,     5,     7,    65,  1465,  1571,   135,\n",
       "           4,  2559,    13,    65,   205,    33,  2020,   117,  2686,\n",
       "          98,    17,  2300,    11,    25,   457, 18277,     5,     8,\n",
       "         230,     3,   121,    33,  9030,   281,    17,  2597,    20,\n",
       "           1,  1062,     8,  4275,    37,     4, 18789,     3,  7893,\n",
       "         420,  1699,     6,   170,  1803,    88,    17,   122,    57,\n",
       "          84,     9,     1,   578,     8,  3079,  1294,    67,   139,\n",
       "           7,   130,     9,    11,    25,  2315,     7,  1085,     7,\n",
       "        1183,    35,   206,    13, 15676,    53,  1513,  7465,     5,\n",
       "          13,   179,   553,  6425,     3, 10015,   420,     5, 10222,\n",
       "           1,   970,     3,     4, 19018,  5462,   452,    44,     4,\n",
       "        5043,  1919,    66,   980,     6,    14,   556,    58,   436,\n",
       "         212,     3,    77,    19,   521,  3669,     2,   867,   420,\n",
       "           9,    13,     5,     7,   181, 14457,    21,   232,    21,\n",
       "           1,   436,   212,     8,  2076,     4,   436,   212,     5,\n",
       "          21,   232,    21,   657,    17,    33,  3826,  1663,   592,\n",
       "          98,    17,  3943,    44,    11,    67,    27,   867,   288,\n",
       "         318,   826,    13,   104,  2014,    30,     1,   120,    67,\n",
       "          13,  4507,  2888,   399,     9,  3054, 17010,     5,   543,\n",
       "       13388,  1908,    19,  2888,   161,    23,   175,   188,   356,\n",
       "           3,    53,  2888,   405,   559,     1,   432,    13,     4,\n",
       "         313,    60,     8,   917,  2786,     2,  1834, 10991,  2255,\n",
       "           5,   733,     3,  5818,  8874,     5,  2244,    77,   277,\n",
       "        6633,    13,   292,     7,    65,   231,     2,     1,  3432,\n",
       "           9,    53,  4723,   226,  1338,  2315,   103,  1569,   990,\n",
       "        4180,  1983,  1569,    33,   420,    36,   680,  2969,   217,\n",
       "          66,     2,    16,    30,  4078,  4257,    22,    17,    31,\n",
       "          36], dtype=int32)"
      ]
     },
     "execution_count": 22,
     "metadata": {},
     "output_type": "execute_result"
    }
   ],
   "source": [
    "# 觀看內容 從起始補0 滿足格式\n",
    "data[0]"
   ]
  },
  {
   "cell_type": "code",
   "execution_count": 23,
   "metadata": {
    "collapsed": false
   },
   "outputs": [
    {
     "data": {
      "text/plain": [
       "array([0., 0., 0., 0., 0., 0., 0., 0., 0., 0., 0., 0., 0., 0., 0., 0., 0.,\n",
       "       0., 1., 0.], dtype=float32)"
      ]
     },
     "execution_count": 23,
     "metadata": {},
     "output_type": "execute_result"
    }
   ],
   "source": [
    "# 共20個數值\n",
    "labels[0] "
   ]
  },
  {
   "cell_type": "code",
   "execution_count": 24,
   "metadata": {
    "collapsed": false
   },
   "outputs": [
    {
     "data": {
      "text/plain": [
       "19997"
      ]
     },
     "execution_count": 24,
     "metadata": {},
     "output_type": "execute_result"
    }
   ],
   "source": [
    "# 觀看幾筆\n",
    "len(labels)"
   ]
  },
  {
   "cell_type": "code",
   "execution_count": 25,
   "metadata": {
    "collapsed": false
   },
   "outputs": [
    {
     "data": {
      "text/plain": [
       "19997"
      ]
     },
     "execution_count": 25,
     "metadata": {},
     "output_type": "execute_result"
    }
   ],
   "source": [
    "len(indices)"
   ]
  },
  {
   "cell_type": "code",
   "execution_count": 26,
   "metadata": {
    "collapsed": false
   },
   "outputs": [
    {
     "data": {
      "text/plain": [
       "array([18194, 18907,  4557, 18306,  3307,  2222,  5093, 18551, 15429,\n",
       "        1046])"
      ]
     },
     "execution_count": 26,
     "metadata": {},
     "output_type": "execute_result"
    }
   ],
   "source": [
    "# 內容共19997筆\n",
    "indices[0:10]"
   ]
  },
  {
   "cell_type": "code",
   "execution_count": null,
   "metadata": {
    "collapsed": false
   },
   "outputs": [],
   "source": []
  },
  {
   "cell_type": "code",
   "execution_count": 27,
   "metadata": {
    "collapsed": false
   },
   "outputs": [
    {
     "data": {
      "text/plain": [
       "array([0., 0., 0., 0., 0., 0., 0., 0., 0., 0., 0., 0., 0., 0., 0., 0., 0.,\n",
       "       0., 1., 0.], dtype=float32)"
      ]
     },
     "execution_count": 27,
     "metadata": {},
     "output_type": "execute_result"
    }
   ],
   "source": [
    "# 經過 labels = labels[indices] 變成2維陣列\n",
    "labels[0]"
   ]
  },
  {
   "cell_type": "code",
   "execution_count": null,
   "metadata": {
    "collapsed": true
   },
   "outputs": [],
   "source": []
  },
  {
   "cell_type": "markdown",
   "metadata": {},
   "source": [
    "# 預先訓練好的詞向量在這裡讀(前面整理過的glove.6B.100d.txt 字典)"
   ]
  },
  {
   "cell_type": "code",
   "execution_count": 28,
   "metadata": {
    "collapsed": false
   },
   "outputs": [
    {
     "name": "stdout",
     "output_type": "stream",
     "text": [
      "Preparing embedding matrix.\n"
     ]
    }
   ],
   "source": [
    "print('Preparing embedding matrix.')\n",
    "\n",
    "# prepare embedding matrix\n",
    "num_words = min(MAX_NUM_WORDS, len(word_index))\n",
    "# MAX_NUM_WORDS = 20000 \n",
    "# len(word_index) =174074\n",
    "# 取 MAX_NUM_WORDS 跟 len(word_index) 小的\n",
    "\n",
    "embedding_matrix = np.zeros((num_words, EMBEDDING_DIM))\n",
    "# return 一組用0填充的數組\n",
    "# 用來初始化用\n",
    "# num_words = 20000\n",
    "# EMBEDDING_DIM = 100\n",
    "\n",
    "for word, i in word_index.items():\n",
    "    # len(word_index) =174074\n",
    "    # word 裡面有儲存字典的單字\n",
    "    # word_index.items = 字典 可以查詢單字序列\n",
    "    # word_index.items = [('5rk5n', 99863), ('quu3', 136237), ('doupt', 167589)] 內容\n",
    "    \n",
    "    if i >= MAX_NUM_WORDS:\n",
    "    # MAX_NUM_WORDS = 20000 \n",
    "        continue\n",
    "    embedding_vector = embeddings_index.get(word)\n",
    "    # embeddings_index.get = 抓某個單字的向量 , 都存進去 embedding_vector\n",
    "    \n",
    "    if embedding_vector is not None:\n",
    "    # not None == not False == not '' == not 0 == not [] == not {} == not () 不等於空值\n",
    "        # words not found in embedding index will be all-zeros.\n",
    "        embedding_matrix[i] = embedding_vector\n",
    "        # embedding_vector 裡面的單字向量 存進embedding_matrix[i]\n",
    "        "
   ]
  },
  {
   "cell_type": "code",
   "execution_count": null,
   "metadata": {
    "collapsed": true
   },
   "outputs": [],
   "source": []
  },
  {
   "cell_type": "code",
   "execution_count": 29,
   "metadata": {
    "collapsed": false
   },
   "outputs": [
    {
     "data": {
      "text/plain": [
       "20000"
      ]
     },
     "execution_count": 29,
     "metadata": {},
     "output_type": "execute_result"
    }
   ],
   "source": [
    "num_words"
   ]
  },
  {
   "cell_type": "code",
   "execution_count": 30,
   "metadata": {
    "collapsed": false
   },
   "outputs": [
    {
     "data": {
      "text/plain": [
       "100"
      ]
     },
     "execution_count": 30,
     "metadata": {},
     "output_type": "execute_result"
    }
   ],
   "source": [
    "len(embedding_matrix[0])"
   ]
  },
  {
   "cell_type": "code",
   "execution_count": 31,
   "metadata": {
    "collapsed": false
   },
   "outputs": [
    {
     "data": {
      "text/plain": [
       "array([0., 0., 0., 0., 0., 0., 0., 0., 0., 0., 0., 0., 0., 0., 0., 0., 0.,\n",
       "       0., 0., 0., 0., 0., 0., 0., 0., 0., 0., 0., 0., 0., 0., 0., 0., 0.,\n",
       "       0., 0., 0., 0., 0., 0., 0., 0., 0., 0., 0., 0., 0., 0., 0., 0., 0.,\n",
       "       0., 0., 0., 0., 0., 0., 0., 0., 0., 0., 0., 0., 0., 0., 0., 0., 0.,\n",
       "       0., 0., 0., 0., 0., 0., 0., 0., 0., 0., 0., 0., 0., 0., 0., 0., 0.,\n",
       "       0., 0., 0., 0., 0., 0., 0., 0., 0., 0., 0., 0., 0., 0., 0.])"
      ]
     },
     "execution_count": 31,
     "metadata": {},
     "output_type": "execute_result"
    }
   ],
   "source": [
    "embedding_matrix[0]"
   ]
  },
  {
   "cell_type": "code",
   "execution_count": 32,
   "metadata": {
    "collapsed": false
   },
   "outputs": [
    {
     "data": {
      "text/plain": [
       "array([-0.038194  , -0.24487001,  0.72812003, -0.39961001,  0.083172  ,\n",
       "        0.043953  , -0.39140999,  0.3344    , -0.57545   ,  0.087459  ,\n",
       "        0.28786999, -0.06731   ,  0.30906001, -0.26383999, -0.13231   ,\n",
       "       -0.20757   ,  0.33395001, -0.33848   , -0.31742999, -0.48335999,\n",
       "        0.1464    , -0.37303999,  0.34577   ,  0.052041  ,  0.44946   ,\n",
       "       -0.46970999,  0.02628   , -0.54154998, -0.15518001, -0.14106999,\n",
       "       -0.039722  ,  0.28277001,  0.14393   ,  0.23464   , -0.31020999,\n",
       "        0.086173  ,  0.20397   ,  0.52623999,  0.17163999, -0.082378  ,\n",
       "       -0.71787   , -0.41531   ,  0.20334999, -0.12763   ,  0.41367   ,\n",
       "        0.55186999,  0.57907999, -0.33476999, -0.36559001, -0.54856998,\n",
       "       -0.062892  ,  0.26583999,  0.30204999,  0.99774998, -0.80480999,\n",
       "       -3.0243001 ,  0.01254   , -0.36941999,  2.21670008,  0.72201002,\n",
       "       -0.24978   ,  0.92136002,  0.034514  ,  0.46744999,  1.10790002,\n",
       "       -0.19358   , -0.074575  ,  0.23353   , -0.052062  , -0.22044   ,\n",
       "        0.057162  , -0.15806   , -0.30798   , -0.41624999,  0.37972   ,\n",
       "        0.15006   , -0.53211999, -0.20550001, -1.25259995,  0.071624  ,\n",
       "        0.70564997,  0.49744001, -0.42063001,  0.26148   , -1.53799999,\n",
       "       -0.30223   , -0.073438  , -0.28312001,  0.37103999, -0.25217   ,\n",
       "        0.016215  , -0.017099  , -0.38984001,  0.87423998, -0.72569001,\n",
       "       -0.51058   , -0.52028   , -0.1459    ,  0.82779998,  0.27061999])"
      ]
     },
     "execution_count": 32,
     "metadata": {},
     "output_type": "execute_result"
    }
   ],
   "source": [
    "embedding_matrix[1]"
   ]
  },
  {
   "cell_type": "code",
   "execution_count": null,
   "metadata": {
    "collapsed": true
   },
   "outputs": [],
   "source": []
  },
  {
   "cell_type": "code",
   "execution_count": 33,
   "metadata": {
    "collapsed": false
   },
   "outputs": [
    {
     "data": {
      "text/plain": [
       "array([-0.038194, -0.24487 ,  0.72812 , -0.39961 ,  0.083172,  0.043953,\n",
       "       -0.39141 ,  0.3344  , -0.57545 ,  0.087459,  0.28787 , -0.06731 ,\n",
       "        0.30906 , -0.26384 , -0.13231 , -0.20757 ,  0.33395 , -0.33848 ,\n",
       "       -0.31743 , -0.48336 ,  0.1464  , -0.37304 ,  0.34577 ,  0.052041,\n",
       "        0.44946 , -0.46971 ,  0.02628 , -0.54155 , -0.15518 , -0.14107 ,\n",
       "       -0.039722,  0.28277 ,  0.14393 ,  0.23464 , -0.31021 ,  0.086173,\n",
       "        0.20397 ,  0.52624 ,  0.17164 , -0.082378, -0.71787 , -0.41531 ,\n",
       "        0.20335 , -0.12763 ,  0.41367 ,  0.55187 ,  0.57908 , -0.33477 ,\n",
       "       -0.36559 , -0.54857 , -0.062892,  0.26584 ,  0.30205 ,  0.99775 ,\n",
       "       -0.80481 , -3.0243  ,  0.01254 , -0.36942 ,  2.2167  ,  0.72201 ,\n",
       "       -0.24978 ,  0.92136 ,  0.034514,  0.46745 ,  1.1079  , -0.19358 ,\n",
       "       -0.074575,  0.23353 , -0.052062, -0.22044 ,  0.057162, -0.15806 ,\n",
       "       -0.30798 , -0.41625 ,  0.37972 ,  0.15006 , -0.53212 , -0.2055  ,\n",
       "       -1.2526  ,  0.071624,  0.70565 ,  0.49744 , -0.42063 ,  0.26148 ,\n",
       "       -1.538   , -0.30223 , -0.073438, -0.28312 ,  0.37104 , -0.25217 ,\n",
       "        0.016215, -0.017099, -0.38984 ,  0.87424 , -0.72569 , -0.51058 ,\n",
       "       -0.52028 , -0.1459  ,  0.8278  ,  0.27062 ], dtype=float32)"
      ]
     },
     "execution_count": 33,
     "metadata": {},
     "output_type": "execute_result"
    }
   ],
   "source": [
    "embeddings_index.get('the')"
   ]
  },
  {
   "cell_type": "code",
   "execution_count": 34,
   "metadata": {
    "collapsed": false
   },
   "outputs": [
    {
     "data": {
      "text/plain": [
       "(20000, 100)"
      ]
     },
     "execution_count": 34,
     "metadata": {},
     "output_type": "execute_result"
    }
   ],
   "source": [
    "# 矩陣大小\n",
    "embedding_matrix.shape"
   ]
  },
  {
   "cell_type": "code",
   "execution_count": 35,
   "metadata": {
    "collapsed": false
   },
   "outputs": [
    {
     "data": {
      "text/plain": [
       "array([ 2.57459998e-01, -4.41240013e-01,  8.28769982e-01,  9.33689997e-02,\n",
       "       -5.14159977e-01, -7.45450020e-01,  8.68600011e-01, -4.46969986e-01,\n",
       "        8.08830023e-01, -3.11150014e-01,  5.45189977e-01,  4.24360007e-01,\n",
       "       -8.99980031e-03,  2.95760006e-01,  2.87349999e-01, -2.65609995e-02,\n",
       "        2.01289997e-01, -2.54180014e-01,  2.99490001e-02,  4.67679985e-02,\n",
       "        2.29809999e-01,  2.14110002e-01, -1.33609995e-01,  2.25020006e-01,\n",
       "        1.66389998e-02,  8.14490020e-01,  3.16689998e-01, -1.18500002e-01,\n",
       "        4.48980004e-01, -4.35649991e-01,  2.80209988e-01, -5.80240011e-01,\n",
       "        6.99059963e-02,  4.92170006e-01, -3.09399992e-01,  1.11950003e-01,\n",
       "        9.14430022e-01,  5.88450015e-01, -2.63900012e-01, -1.26719999e+00,\n",
       "        3.54950011e-01,  1.30540001e+00,  3.84090006e-01,  1.03120005e+00,\n",
       "       -2.48889998e-01, -7.94210017e-01,  1.06119998e-01, -3.39399993e-01,\n",
       "       -3.03770006e-01,  8.93829986e-02, -2.63289988e-01,  2.00729996e-01,\n",
       "       -1.62799999e-01, -2.54619997e-02, -3.02269995e-01,  1.02720000e-02,\n",
       "        9.10920024e-01,  2.45979995e-01, -4.27670002e-01, -1.77590009e-02,\n",
       "       -4.98719990e-01,  6.35910034e-02, -5.88859975e-01,  1.84110001e-01,\n",
       "        2.01920003e-01, -2.87470013e-01,  6.68470025e-01, -3.75129998e-01,\n",
       "       -7.64300004e-02, -6.22489989e-01,  6.42679989e-01,  5.07850014e-02,\n",
       "       -1.27100006e-01,  6.47719979e-01, -9.50010002e-01,  2.86359996e-01,\n",
       "        6.31009996e-01, -1.18089996e-01,  3.31210010e-02,  2.07200006e-01,\n",
       "       -2.25569993e-01,  3.81529987e-01, -1.21739998e-01,  8.58479977e-01,\n",
       "        2.42609993e-01,  1.82480007e-01,  7.01439977e-01, -5.17480016e-01,\n",
       "       -4.87309992e-01,  3.62919986e-01,  1.55249998e-01,  4.28130001e-01,\n",
       "       -2.07010001e-01, -1.48389998e-04,  3.92720014e-01, -7.04959989e-01,\n",
       "        9.35719982e-02,  2.95980006e-01, -4.83770013e-01,  3.41410011e-01])"
      ]
     },
     "execution_count": 35,
     "metadata": {},
     "output_type": "execute_result"
    }
   ],
   "source": [
    "# 20000 筆 100維度\n",
    "embedding_matrix[19999]"
   ]
  },
  {
   "cell_type": "code",
   "execution_count": null,
   "metadata": {
    "collapsed": true
   },
   "outputs": [],
   "source": []
  },
  {
   "cell_type": "markdown",
   "metadata": {},
   "source": [
    "# CNN 卷積層\n",
    "## (weights加進前面glove.6B.100d.txt 整理的embedding_matrix)\n",
    "## 載入預訓練模型和訓練模型"
   ]
  },
  {
   "cell_type": "code",
   "execution_count": 36,
   "metadata": {
    "collapsed": false
   },
   "outputs": [
    {
     "name": "stdout",
     "output_type": "stream",
     "text": [
      "Training model.\n",
      "_________________________________________________________________\n",
      "Layer (type)                 Output Shape              Param #   \n",
      "=================================================================\n",
      "input_1 (InputLayer)         (None, 1000)              0         \n",
      "_________________________________________________________________\n",
      "embedding_1 (Embedding)      (None, 1000, 100)         2000000   \n",
      "_________________________________________________________________\n",
      "conv1d_1 (Conv1D)            (None, 996, 128)          64128     \n",
      "_________________________________________________________________\n",
      "max_pooling1d_1 (MaxPooling1 (None, 199, 128)          0         \n",
      "_________________________________________________________________\n",
      "conv1d_2 (Conv1D)            (None, 195, 128)          82048     \n",
      "_________________________________________________________________\n",
      "max_pooling1d_2 (MaxPooling1 (None, 39, 128)           0         \n",
      "_________________________________________________________________\n",
      "conv1d_3 (Conv1D)            (None, 35, 128)           82048     \n",
      "_________________________________________________________________\n",
      "global_max_pooling1d_1 (Glob (None, 128)               0         \n",
      "_________________________________________________________________\n",
      "dense_1 (Dense)              (None, 128)               16512     \n",
      "_________________________________________________________________\n",
      "dense_2 (Dense)              (None, 20)                2580      \n",
      "=================================================================\n",
      "Total params: 2,247,316\n",
      "Trainable params: 2,247,316\n",
      "Non-trainable params: 0\n",
      "_________________________________________________________________\n"
     ]
    }
   ],
   "source": [
    "# load pre-trained word embeddings into an Embedding layer\n",
    "# note that we set trainable = False so as to keep the embeddings fixed\n",
    "# 開始載入預訓練模型\n",
    "embedding_layer = Embedding(num_words,\n",
    "                            EMBEDDING_DIM,\n",
    "                            weights=[embedding_matrix],\n",
    "                            input_length=MAX_SEQUENCE_LENGTH,\n",
    "                            trainable=True)\n",
    "# num_words = 20000 不超過20000 字典長度\n",
    "# EMBEDDING_DIM = 100 = Output_dim\n",
    "# MAX_SEQUENCE_LENGTH = 1000 不超過1000字典長度\n",
    "# trainable = False 表示不重新計算\n",
    "\n",
    "# 開始訓練模型\n",
    "print('Training model.')\n",
    "\n",
    "# train a 1D convnet with global maxpooling\n",
    "sequence_input = Input(shape=(MAX_SEQUENCE_LENGTH,), dtype='int32')\n",
    "# MAX_SEQUENCE_LENGTH = 1000 , shape = 1000 , 不超過1000字典長度\n",
    "# sequence_input = ([Dimension(None), Dimension(1000)])\n",
    "\n",
    "# MAX_NUM_WORDS = 20000\n",
    "# EMBEDDING_DIM = 100\n",
    "# VALIDATION_SPLIT = 0.2\n",
    "\n",
    "embedded_sequences = embedding_layer(sequence_input)\n",
    "# ([Dimension(None), Dimension(1000), Dimension(100)])\n",
    "\n",
    "\n",
    "x = Conv1D(128, 5, activation='relu')(embedded_sequences)\n",
    "# (filters , kernel_size)\n",
    "# filters = 卷積核數目(輸出的維度) \n",
    "# kernel_size = 卷積核的大小 \n",
    "\n",
    "x = MaxPooling1D(5)(x)\n",
    "# (pool_size=2, strides=None, padding='valid')\n",
    "# pool_size = 池化窗口大小 \n",
    "\n",
    "x = Conv1D(128, 5, activation='relu')(x)\n",
    "\n",
    "x = MaxPooling1D(5)(x)\n",
    "\n",
    "x = Conv1D(128, 5, activation='relu')(x)\n",
    "\n",
    "x = GlobalMaxPooling1D()(x)\n",
    "# 對於時間信號的全局最大池化\n",
    "\n",
    "x = Dense(128, activation='relu')(x)\n",
    "\n",
    "preds = Dense(len(labels_index), activation='softmax')(x)\n",
    "\n",
    "model = Model(sequence_input, preds)\n",
    "\n",
    "model.compile(loss='categorical_crossentropy',\n",
    "              optimizer='rmsprop',\n",
    "              metrics=['acc'])\n",
    "\n",
    "# loss='categorical_crossentropy'\n",
    "# 亦稱作多類的對數損失, 注意使用該目標函數時，需要將標籤轉化為形如(nb_samples, nb_classes)的二值序列\n",
    "# optimizer = 優化器 , \n",
    "# optimizer='rmsprop' = 該優化器通常是面對遞歸神經網路時的一個良好選擇\n",
    "\n",
    "\n",
    "model.summary()"
   ]
  },
  {
   "cell_type": "code",
   "execution_count": 37,
   "metadata": {
    "collapsed": false
   },
   "outputs": [
    {
     "name": "stdout",
     "output_type": "stream",
     "text": [
      "Train on 15998 samples, validate on 3999 samples\n",
      "Epoch 1/10\n",
      "15998/15998 [==============================] - 297s 19ms/step - loss: 2.8215 - acc: 0.1155 - val_loss: 2.3807 - val_acc: 0.2093\n",
      "Epoch 2/10\n",
      "15998/15998 [==============================] - 294s 18ms/step - loss: 2.3085 - acc: 0.2298 - val_loss: 2.1767 - val_acc: 0.2521\n",
      "Epoch 3/10\n",
      "15998/15998 [==============================] - 255s 16ms/step - loss: 2.0626 - acc: 0.2912 - val_loss: 1.9069 - val_acc: 0.3336\n",
      "Epoch 4/10\n",
      "15998/15998 [==============================] - 299s 19ms/step - loss: 1.8644 - acc: 0.3463 - val_loss: 1.8188 - val_acc: 0.3708\n",
      "Epoch 5/10\n",
      "15998/15998 [==============================] - 246s 15ms/step - loss: 1.7170 - acc: 0.4051 - val_loss: 1.5555 - val_acc: 0.4454\n",
      "Epoch 6/10\n",
      "15998/15998 [==============================] - 299s 19ms/step - loss: 1.5630 - acc: 0.4477 - val_loss: 1.6895 - val_acc: 0.4156\n",
      "Epoch 7/10\n",
      "15998/15998 [==============================] - 273s 17ms/step - loss: 1.4547 - acc: 0.4887 - val_loss: 1.4371 - val_acc: 0.4899\n",
      "Epoch 8/10\n",
      "15998/15998 [==============================] - 273s 17ms/step - loss: 1.3637 - acc: 0.5214 - val_loss: 2.5680 - val_acc: 0.2958\n",
      "Epoch 9/10\n",
      "15998/15998 [==============================] - 303s 19ms/step - loss: 1.3040 - acc: 0.5471 - val_loss: 1.6826 - val_acc: 0.4339\n",
      "Epoch 10/10\n",
      "15998/15998 [==============================] - 247s 15ms/step - loss: 1.2049 - acc: 0.5779 - val_loss: 1.4885 - val_acc: 0.4946\n",
      "CPU times: user 36min 46s, sys: 2min 7s, total: 38min 54s\n",
      "Wall time: 46min 26s\n"
     ]
    },
    {
     "data": {
      "text/plain": [
       "<keras.callbacks.History at 0x7fba65026a58>"
      ]
     },
     "execution_count": 37,
     "metadata": {},
     "output_type": "execute_result"
    }
   ],
   "source": [
    "%%time\n",
    "model.fit(x_train, y_train,\n",
    "          batch_size=128,\n",
    "          epochs=10,\n",
    "          validation_data=(x_val, y_val) )"
   ]
  },
  {
   "cell_type": "code",
   "execution_count": null,
   "metadata": {
    "collapsed": true
   },
   "outputs": [],
   "source": []
  },
  {
   "cell_type": "code",
   "execution_count": 38,
   "metadata": {
    "collapsed": false
   },
   "outputs": [
    {
     "name": "stdout",
     "output_type": "stream",
     "text": [
      "3999/3999 [==============================] - 29s 7ms/step\n"
     ]
    }
   ],
   "source": [
    "score = model.evaluate(x_val, y_val, verbose=1)"
   ]
  },
  {
   "cell_type": "code",
   "execution_count": 39,
   "metadata": {
    "collapsed": false
   },
   "outputs": [
    {
     "name": "stdout",
     "output_type": "stream",
     "text": [
      "Test score: 1.4884786900355536\n",
      "Test accuracy: 0.49462365598850294\n"
     ]
    }
   ],
   "source": [
    "print('Test score:', score[0])\n",
    "print('Test accuracy:', score[1])"
   ]
  },
  {
   "cell_type": "code",
   "execution_count": null,
   "metadata": {
    "collapsed": true
   },
   "outputs": [],
   "source": []
  },
  {
   "cell_type": "code",
   "execution_count": null,
   "metadata": {
    "collapsed": false
   },
   "outputs": [],
   "source": []
  },
  {
   "cell_type": "code",
   "execution_count": null,
   "metadata": {
    "collapsed": true
   },
   "outputs": [],
   "source": []
  }
 ],
 "metadata": {
  "kernelspec": {
   "display_name": "Python 3",
   "language": "python",
   "name": "python3"
  },
  "language_info": {
   "codemirror_mode": {
    "name": "ipython",
    "version": 3
   },
   "file_extension": ".py",
   "mimetype": "text/x-python",
   "name": "python",
   "nbconvert_exporter": "python",
   "pygments_lexer": "ipython3",
   "version": "3.5.2"
  }
 },
 "nbformat": 4,
 "nbformat_minor": 2
}
