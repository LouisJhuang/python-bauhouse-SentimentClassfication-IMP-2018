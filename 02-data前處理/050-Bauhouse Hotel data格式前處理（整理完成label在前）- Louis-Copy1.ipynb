{
 "cells": [
  {
   "cell_type": "code",
   "execution_count": null,
   "metadata": {
    "collapsed": true
   },
   "outputs": [],
   "source": []
  },
  {
   "cell_type": "markdown",
   "metadata": {},
   "source": [
    "# Hotel data格式前處理\n",
    "\n",
    "透過clean_dataset整理資料\n",
    "\n",
    "label必須編碼為1,2,3,..\n"
   ]
  },
  {
   "cell_type": "code",
   "execution_count": 1,
   "metadata": {
    "collapsed": true
   },
   "outputs": [],
   "source": [
    "import pandas as pd\n",
    "import numpy as np"
   ]
  },
  {
   "cell_type": "code",
   "execution_count": 2,
   "metadata": {},
   "outputs": [],
   "source": [
    "# Negative = 0 , objective = 1 , Positive = 2\n",
    "data=pd.read_csv('./data/hotel_data.csv',encoding='utf8')\n",
    "data = data[['polarity','text']]"
   ]
  },
  {
   "cell_type": "code",
   "execution_count": 3,
   "metadata": {},
   "outputs": [
    {
     "data": {
      "text/html": [
       "<div>\n",
       "<table border=\"1\" class=\"dataframe\">\n",
       "  <thead>\n",
       "    <tr style=\"text-align: right;\">\n",
       "      <th></th>\n",
       "      <th>polarity</th>\n",
       "      <th>text</th>\n",
       "    </tr>\n",
       "  </thead>\n",
       "  <tbody>\n",
       "    <tr>\n",
       "      <th>0</th>\n",
       "      <td>NEGATIVE</td>\n",
       "      <td>My daughter and I just returned from a four ni...</td>\n",
       "    </tr>\n",
       "    <tr>\n",
       "      <th>1</th>\n",
       "      <td>OBJECTIVE</td>\n",
       "      <td>I had searched for a good hotel at a rate of u...</td>\n",
       "    </tr>\n",
       "    <tr>\n",
       "      <th>2</th>\n",
       "      <td>NEGATIVE</td>\n",
       "      <td>Big mistake.</td>\n",
       "    </tr>\n",
       "    <tr>\n",
       "      <th>3</th>\n",
       "      <td>NEGATIVE</td>\n",
       "      <td>Our room was tiny,</td>\n",
       "    </tr>\n",
       "    <tr>\n",
       "      <th>4</th>\n",
       "      <td>NEGATIVE</td>\n",
       "      <td>and the bath was small too.</td>\n",
       "    </tr>\n",
       "    <tr>\n",
       "      <th>5</th>\n",
       "      <td>NEGATIVE</td>\n",
       "      <td>The public areas were somewhat dingy and showe...</td>\n",
       "    </tr>\n",
       "    <tr>\n",
       "      <th>6</th>\n",
       "      <td>NEGATIVE</td>\n",
       "      <td>Even the bath towels were worn and becoming st...</td>\n",
       "    </tr>\n",
       "    <tr>\n",
       "      <th>7</th>\n",
       "      <td>NEGATIVE</td>\n",
       "      <td>Speaking of such, the maid did not replace sha...</td>\n",
       "    </tr>\n",
       "    <tr>\n",
       "      <th>8</th>\n",
       "      <td>NEGATIVE</td>\n",
       "      <td>You had to put a sign on the bed if you wanted...</td>\n",
       "    </tr>\n",
       "    <tr>\n",
       "      <th>9</th>\n",
       "      <td>NEGATIVE</td>\n",
       "      <td>The minibar was one of the kind that you have ...</td>\n",
       "    </tr>\n",
       "  </tbody>\n",
       "</table>\n",
       "</div>"
      ],
      "text/plain": [
       "    polarity                                               text\n",
       "0   NEGATIVE  My daughter and I just returned from a four ni...\n",
       "1  OBJECTIVE  I had searched for a good hotel at a rate of u...\n",
       "2   NEGATIVE                                       Big mistake.\n",
       "3   NEGATIVE                                 Our room was tiny,\n",
       "4   NEGATIVE                        and the bath was small too.\n",
       "5   NEGATIVE  The public areas were somewhat dingy and showe...\n",
       "6   NEGATIVE  Even the bath towels were worn and becoming st...\n",
       "7   NEGATIVE  Speaking of such, the maid did not replace sha...\n",
       "8   NEGATIVE  You had to put a sign on the bed if you wanted...\n",
       "9   NEGATIVE  The minibar was one of the kind that you have ..."
      ]
     },
     "execution_count": 3,
     "metadata": {},
     "output_type": "execute_result"
    }
   ],
   "source": [
    "# 只需要拿polarity做情緒分類0,1,2 \n",
    "data.head(10)"
   ]
  },
  {
   "cell_type": "code",
   "execution_count": 4,
   "metadata": {},
   "outputs": [
    {
     "name": "stdout",
     "output_type": "stream",
     "text": [
      "23046\n",
      "25020\n",
      "15200\n"
     ]
    }
   ],
   "source": [
    "# 觀看各有幾筆\n",
    "print(data[ data['polarity'] == 'POSITIVE'].size)\n",
    "print(data[ data['polarity'] == 'NEGATIVE'].size)\n",
    "print(data[ data['polarity'] == 'OBJECTIVE'].size)"
   ]
  },
  {
   "cell_type": "code",
   "execution_count": 5,
   "metadata": {},
   "outputs": [],
   "source": [
    "# 只留下正面跟負面\n",
    "#data = data[ (data['polarity'] == 'POSITIVE') |(data['polarity'] == 'NEGATIVE')]\n",
    "data = data[ (data['polarity'] == 'POSITIVE') |(data['polarity'] == 'NEGATIVE')]"
   ]
  },
  {
   "cell_type": "code",
   "execution_count": 6,
   "metadata": {},
   "outputs": [
    {
     "name": "stdout",
     "output_type": "stream",
     "text": [
      "23046\n",
      "25020\n",
      "0\n"
     ]
    }
   ],
   "source": [
    "print(data[ data['polarity'] == 'POSITIVE'].size)\n",
    "print(data[ data['polarity'] == 'NEGATIVE'].size)\n",
    "print(data[ data['polarity'] == 'OBJECTIVE'].size)"
   ]
  },
  {
   "cell_type": "code",
   "execution_count": 7,
   "metadata": {},
   "outputs": [
    {
     "data": {
      "text/html": [
       "<div>\n",
       "<table border=\"1\" class=\"dataframe\">\n",
       "  <thead>\n",
       "    <tr style=\"text-align: right;\">\n",
       "      <th></th>\n",
       "      <th>polarity</th>\n",
       "      <th>text</th>\n",
       "    </tr>\n",
       "  </thead>\n",
       "  <tbody>\n",
       "    <tr>\n",
       "      <th>0</th>\n",
       "      <td>NEGATIVE</td>\n",
       "      <td>My daughter and I just returned from a four ni...</td>\n",
       "    </tr>\n",
       "    <tr>\n",
       "      <th>2</th>\n",
       "      <td>NEGATIVE</td>\n",
       "      <td>Big mistake.</td>\n",
       "    </tr>\n",
       "    <tr>\n",
       "      <th>3</th>\n",
       "      <td>NEGATIVE</td>\n",
       "      <td>Our room was tiny,</td>\n",
       "    </tr>\n",
       "    <tr>\n",
       "      <th>4</th>\n",
       "      <td>NEGATIVE</td>\n",
       "      <td>and the bath was small too.</td>\n",
       "    </tr>\n",
       "    <tr>\n",
       "      <th>5</th>\n",
       "      <td>NEGATIVE</td>\n",
       "      <td>The public areas were somewhat dingy and showe...</td>\n",
       "    </tr>\n",
       "  </tbody>\n",
       "</table>\n",
       "</div>"
      ],
      "text/plain": [
       "   polarity                                               text\n",
       "0  NEGATIVE  My daughter and I just returned from a four ni...\n",
       "2  NEGATIVE                                       Big mistake.\n",
       "3  NEGATIVE                                 Our room was tiny,\n",
       "4  NEGATIVE                        and the bath was small too.\n",
       "5  NEGATIVE  The public areas were somewhat dingy and showe..."
      ]
     },
     "execution_count": 7,
     "metadata": {},
     "output_type": "execute_result"
    }
   ],
   "source": [
    "data.head(5)"
   ]
  },
  {
   "cell_type": "code",
   "execution_count": null,
   "metadata": {
    "collapsed": true
   },
   "outputs": [],
   "source": []
  },
  {
   "cell_type": "code",
   "execution_count": 8,
   "metadata": {},
   "outputs": [],
   "source": [
    "# NEGATIVE 取代為1 ,POSITIVE 取代為2 \n",
    "data['polarity'] = data['polarity'].replace({'POSITIVE': 2, 'NEGATIVE': 1})"
   ]
  },
  {
   "cell_type": "code",
   "execution_count": null,
   "metadata": {
    "collapsed": true
   },
   "outputs": [],
   "source": []
  },
  {
   "cell_type": "code",
   "execution_count": 9,
   "metadata": {
    "collapsed": true
   },
   "outputs": [],
   "source": [
    "# text改名為Content\n",
    "data = data.rename(columns={'text':'Content'})"
   ]
  },
  {
   "cell_type": "code",
   "execution_count": 10,
   "metadata": {},
   "outputs": [
    {
     "data": {
      "text/html": [
       "<div>\n",
       "<table border=\"1\" class=\"dataframe\">\n",
       "  <thead>\n",
       "    <tr style=\"text-align: right;\">\n",
       "      <th></th>\n",
       "      <th>polarity</th>\n",
       "      <th>Content</th>\n",
       "    </tr>\n",
       "  </thead>\n",
       "  <tbody>\n",
       "    <tr>\n",
       "      <th>0</th>\n",
       "      <td>1</td>\n",
       "      <td>My daughter and I just returned from a four ni...</td>\n",
       "    </tr>\n",
       "    <tr>\n",
       "      <th>2</th>\n",
       "      <td>1</td>\n",
       "      <td>Big mistake.</td>\n",
       "    </tr>\n",
       "    <tr>\n",
       "      <th>3</th>\n",
       "      <td>1</td>\n",
       "      <td>Our room was tiny,</td>\n",
       "    </tr>\n",
       "    <tr>\n",
       "      <th>4</th>\n",
       "      <td>1</td>\n",
       "      <td>and the bath was small too.</td>\n",
       "    </tr>\n",
       "    <tr>\n",
       "      <th>5</th>\n",
       "      <td>1</td>\n",
       "      <td>The public areas were somewhat dingy and showe...</td>\n",
       "    </tr>\n",
       "  </tbody>\n",
       "</table>\n",
       "</div>"
      ],
      "text/plain": [
       "   polarity                                            Content\n",
       "0         1  My daughter and I just returned from a four ni...\n",
       "2         1                                       Big mistake.\n",
       "3         1                                 Our room was tiny,\n",
       "4         1                        and the bath was small too.\n",
       "5         1  The public areas were somewhat dingy and showe..."
      ]
     },
     "execution_count": 10,
     "metadata": {},
     "output_type": "execute_result"
    }
   ],
   "source": [
    "data.head(5)"
   ]
  },
  {
   "cell_type": "code",
   "execution_count": null,
   "metadata": {
    "collapsed": true
   },
   "outputs": [],
   "source": []
  },
  {
   "cell_type": "code",
   "execution_count": 11,
   "metadata": {},
   "outputs": [
    {
     "data": {
      "text/html": [
       "<div>\n",
       "<table border=\"1\" class=\"dataframe\">\n",
       "  <thead>\n",
       "    <tr style=\"text-align: right;\">\n",
       "      <th></th>\n",
       "      <th>polarity</th>\n",
       "      <th>Content</th>\n",
       "    </tr>\n",
       "  </thead>\n",
       "  <tbody>\n",
       "    <tr>\n",
       "      <th>0</th>\n",
       "      <td>1</td>\n",
       "      <td>My daughter and I just returned from a four ni...</td>\n",
       "    </tr>\n",
       "    <tr>\n",
       "      <th>2</th>\n",
       "      <td>1</td>\n",
       "      <td>Big mistake.</td>\n",
       "    </tr>\n",
       "    <tr>\n",
       "      <th>3</th>\n",
       "      <td>1</td>\n",
       "      <td>Our room was tiny,</td>\n",
       "    </tr>\n",
       "    <tr>\n",
       "      <th>4</th>\n",
       "      <td>1</td>\n",
       "      <td>and the bath was small too.</td>\n",
       "    </tr>\n",
       "    <tr>\n",
       "      <th>5</th>\n",
       "      <td>1</td>\n",
       "      <td>The public areas were somewhat dingy and showe...</td>\n",
       "    </tr>\n",
       "  </tbody>\n",
       "</table>\n",
       "</div>"
      ],
      "text/plain": [
       "   polarity                                            Content\n",
       "0         1  My daughter and I just returned from a four ni...\n",
       "2         1                                       Big mistake.\n",
       "3         1                                 Our room was tiny,\n",
       "4         1                        and the bath was small too.\n",
       "5         1  The public areas were somewhat dingy and showe..."
      ]
     },
     "execution_count": 11,
     "metadata": {},
     "output_type": "execute_result"
    }
   ],
   "source": [
    "data.head(5)"
   ]
  },
  {
   "cell_type": "code",
   "execution_count": 175,
   "metadata": {
    "scrolled": false
   },
   "outputs": [
    {
     "data": {
      "text/html": [
       "<div>\n",
       "<table border=\"1\" class=\"dataframe\">\n",
       "  <thead>\n",
       "    <tr style=\"text-align: right;\">\n",
       "      <th></th>\n",
       "      <th>Content</th>\n",
       "    </tr>\n",
       "  </thead>\n",
       "  <tbody>\n",
       "    <tr>\n",
       "      <th>0</th>\n",
       "      <td>My daughter and I just returned from a four ni...</td>\n",
       "    </tr>\n",
       "    <tr>\n",
       "      <th>2</th>\n",
       "      <td>Big mistake.</td>\n",
       "    </tr>\n",
       "    <tr>\n",
       "      <th>3</th>\n",
       "      <td>Our room was tiny,</td>\n",
       "    </tr>\n",
       "    <tr>\n",
       "      <th>4</th>\n",
       "      <td>and the bath was small too.</td>\n",
       "    </tr>\n",
       "    <tr>\n",
       "      <th>5</th>\n",
       "      <td>The public areas were somewhat dingy and showe...</td>\n",
       "    </tr>\n",
       "    <tr>\n",
       "      <th>6</th>\n",
       "      <td>Even the bath towels were worn and becoming st...</td>\n",
       "    </tr>\n",
       "    <tr>\n",
       "      <th>7</th>\n",
       "      <td>Speaking of such, the maid did not replace sha...</td>\n",
       "    </tr>\n",
       "    <tr>\n",
       "      <th>8</th>\n",
       "      <td>You had to put a sign on the bed if you wanted...</td>\n",
       "    </tr>\n",
       "    <tr>\n",
       "      <th>9</th>\n",
       "      <td>The minibar was one of the kind that you have ...</td>\n",
       "    </tr>\n",
       "  </tbody>\n",
       "</table>\n",
       "</div>"
      ],
      "text/plain": [
       "                                             Content\n",
       "0  My daughter and I just returned from a four ni...\n",
       "2                                       Big mistake.\n",
       "3                                 Our room was tiny,\n",
       "4                        and the bath was small too.\n",
       "5  The public areas were somewhat dingy and showe...\n",
       "6  Even the bath towels were worn and becoming st...\n",
       "7  Speaking of such, the maid did not replace sha...\n",
       "8  You had to put a sign on the bed if you wanted...\n",
       "9  The minibar was one of the kind that you have ..."
      ]
     },
     "execution_count": 175,
     "metadata": {},
     "output_type": "execute_result"
    }
   ],
   "source": [
    "#觀看 0~10筆資料\n",
    "data.loc[0:10,['Content']]"
   ]
  },
  {
   "cell_type": "code",
   "execution_count": null,
   "metadata": {
    "collapsed": true
   },
   "outputs": [],
   "source": []
  },
  {
   "cell_type": "code",
   "execution_count": 12,
   "metadata": {},
   "outputs": [
    {
     "data": {
      "text/html": [
       "<div>\n",
       "<table border=\"1\" class=\"dataframe\">\n",
       "  <thead>\n",
       "    <tr style=\"text-align: right;\">\n",
       "      <th></th>\n",
       "      <th>polarity</th>\n",
       "      <th>Content</th>\n",
       "    </tr>\n",
       "  </thead>\n",
       "  <tbody>\n",
       "    <tr>\n",
       "      <th>0</th>\n",
       "      <td>1</td>\n",
       "      <td>My daughter and I just returned from a four ni...</td>\n",
       "    </tr>\n",
       "    <tr>\n",
       "      <th>2</th>\n",
       "      <td>1</td>\n",
       "      <td>Big mistake.</td>\n",
       "    </tr>\n",
       "    <tr>\n",
       "      <th>3</th>\n",
       "      <td>1</td>\n",
       "      <td>Our room was tiny,</td>\n",
       "    </tr>\n",
       "    <tr>\n",
       "      <th>4</th>\n",
       "      <td>1</td>\n",
       "      <td>and the bath was small too.</td>\n",
       "    </tr>\n",
       "    <tr>\n",
       "      <th>5</th>\n",
       "      <td>1</td>\n",
       "      <td>The public areas were somewhat dingy and showe...</td>\n",
       "    </tr>\n",
       "  </tbody>\n",
       "</table>\n",
       "</div>"
      ],
      "text/plain": [
       "   polarity                                            Content\n",
       "0         1  My daughter and I just returned from a four ni...\n",
       "2         1                                       Big mistake.\n",
       "3         1                                 Our room was tiny,\n",
       "4         1                        and the bath was small too.\n",
       "5         1  The public areas were somewhat dingy and showe..."
      ]
     },
     "execution_count": 12,
     "metadata": {},
     "output_type": "execute_result"
    }
   ],
   "source": [
    "data.head(5)"
   ]
  },
  {
   "cell_type": "code",
   "execution_count": null,
   "metadata": {
    "collapsed": true
   },
   "outputs": [],
   "source": []
  },
  {
   "cell_type": "code",
   "execution_count": 177,
   "metadata": {
    "collapsed": true
   },
   "outputs": [],
   "source": [
    "# # 這邊為原版\n",
    "# # lambda x: ...   給予x參數 做 ...\n",
    "# # lambda = 用完即丟 簡單化執行一個方法\n",
    "# def clean_dataset(dataframe, shuffle=False, encode_ascii=False, clean_strings = False, label_prefix='__label__'):\n",
    "#     # Transform train file\n",
    "#     df = dataframe[['Content']].apply(lambda x: x.str.replace(',',' '))  #將, 取代為空白\n",
    "#     df['polarity'] = label_prefix + dataframe['polarity'].astype(str) + ' '  #將 'polarity'轉換為str\n",
    "#     if clean_strings:\n",
    "#         df[['Content']] = df[['Content']].apply(lambda x: x.str.replace('\"',''))  #將各個符號取代前後加上空白\n",
    "#         df[['Content']] = df[['Content']].apply(lambda x: x.str.replace('\\'',' \\' '))\n",
    "#         df[['Content']] = df[['Content']].apply(lambda x: x.str.replace('.',' . '))\n",
    "#         df[['Content']] = df[['Content']].apply(lambda x: x.str.replace('(',' ( '))\n",
    "#         df[['Content']] = df[['Content']].apply(lambda x: x.str.replace(')',' ) '))\n",
    "#         df[['Content']] = df[['Content']].apply(lambda x: x.str.replace('!',' ! '))\n",
    "#         df[['Content']] = df[['Content']].apply(lambda x: x.str.replace('?',' ? '))\n",
    "#         df[['Content']] = df[['Content']].apply(lambda x: x.str.replace(':',' '))\n",
    "#         df[['Content']] = df[['Content']].apply(lambda x: x.str.replace(';',' '))\n",
    "#         df[['Content']] = df[['Content']].apply(lambda x: x.str.lower())\n",
    "#     if shuffle:\n",
    "#         df.sample(frac=1).reset_index(drop=True) \n",
    "#         #sample(frac=1) = 抽取樣本數,frac=0.8 就是抽取80%\n",
    "#         # reset_index可以還原索引，從新變為預設的整型索引\n",
    "#         # drop為False 則索引列會被還原為普通列，否則會遺失\n",
    "#     if encode_ascii :\n",
    "#         df[['Content']] = df[['Content']].apply(lambda x: x.str.normalize('NFKD').str.encode('ascii','ignore').str.decode('utf-8'))\n",
    "#     #df['name'] = ' ' + df['name'] + ' '\n",
    "#     df['Content'] = ' ' + df['Content'] + ' '\n",
    "#     return df"
   ]
  },
  {
   "cell_type": "code",
   "execution_count": 13,
   "metadata": {
    "collapsed": true
   },
   "outputs": [],
   "source": [
    "# lambda x: ...   給予x參數 做 ...\n",
    "# lambda = 用完即丟 簡單化執行一個方法\n",
    "def clean_dataset(dataframe, shuffle=False, encode_ascii=False, clean_strings = False, label_prefix='__label__'):\n",
    "    # Transform train file\n",
    "    df = dataframe[['Content']].apply(lambda x: x.str.replace(',',' '))  #將, 取代為空白\n",
    "    df['polarity'] = label_prefix + dataframe['polarity'].astype(str) + ' ' #將 'polarity'轉換為str\n",
    "    if clean_strings:\n",
    "        df[['Content']] = df[['Content']].apply(lambda x: x.str.replace('\"',''))  #將各個符號取代前後加上空白\n",
    "        df[['Content']] = df[['Content']].apply(lambda x: x.str.replace('\\'',' \\' '))\n",
    "        df[['Content']] = df[['Content']].apply(lambda x: x.str.replace('.',' . '))\n",
    "        df[['Content']] = df[['Content']].apply(lambda x: x.str.replace('(',' ( '))\n",
    "        df[['Content']] = df[['Content']].apply(lambda x: x.str.replace(')',' ) '))\n",
    "        df[['Content']] = df[['Content']].apply(lambda x: x.str.replace('!',' ! '))\n",
    "        df[['Content']] = df[['Content']].apply(lambda x: x.str.replace('?',' ? '))\n",
    "        df[['Content']] = df[['Content']].apply(lambda x: x.str.replace(':',' '))\n",
    "        df[['Content']] = df[['Content']].apply(lambda x: x.str.replace(';',' '))\n",
    "        df[['Content']] = df[['Content']].apply(lambda x: x.str.lower())\n",
    "    if shuffle:\n",
    "        df.sample(frac=1).reset_index(drop=True) \n",
    "        #sample(frac=1) = 抽取樣本數,frac=0.8 就是抽取80%\n",
    "        # reset_index可以還原索引，從新變為預設的整型索引\n",
    "        # drop為False 則索引列會被還原為普通列，否則會遺失\n",
    "    if encode_ascii :\n",
    "        df[['Content']] = df[['Content']].apply(lambda x: x.str.normalize('NFKD').str.encode('ascii','ignore').str.decode('utf-8'))\n",
    "    #df['name'] = ' ' + df['name'] + ' '\n",
    "    df['Content'] = ' ' + df['Content'] + ' '\n",
    "    return df"
   ]
  },
  {
   "cell_type": "code",
   "execution_count": null,
   "metadata": {
    "collapsed": true
   },
   "outputs": [],
   "source": []
  },
  {
   "cell_type": "code",
   "execution_count": 14,
   "metadata": {},
   "outputs": [],
   "source": [
    "data_clean = clean_dataset(data, False, True, True) #前面先不執行  這邊再來執行"
   ]
  },
  {
   "cell_type": "code",
   "execution_count": 15,
   "metadata": {
    "collapsed": true
   },
   "outputs": [],
   "source": [
    "# 轉變一下欄位位置 把 polarity 到第一個\n",
    "data_clean = data_clean [['polarity','Content']]"
   ]
  },
  {
   "cell_type": "code",
   "execution_count": 16,
   "metadata": {},
   "outputs": [
    {
     "data": {
      "text/html": [
       "<div>\n",
       "<table border=\"1\" class=\"dataframe\">\n",
       "  <thead>\n",
       "    <tr style=\"text-align: right;\">\n",
       "      <th></th>\n",
       "      <th>polarity</th>\n",
       "      <th>Content</th>\n",
       "    </tr>\n",
       "  </thead>\n",
       "  <tbody>\n",
       "    <tr>\n",
       "      <th>0</th>\n",
       "      <td>__label__1</td>\n",
       "      <td>my daughter and i just returned from a four n...</td>\n",
       "    </tr>\n",
       "    <tr>\n",
       "      <th>2</th>\n",
       "      <td>__label__1</td>\n",
       "      <td>big mistake .</td>\n",
       "    </tr>\n",
       "    <tr>\n",
       "      <th>3</th>\n",
       "      <td>__label__1</td>\n",
       "      <td>our room was tiny</td>\n",
       "    </tr>\n",
       "    <tr>\n",
       "      <th>4</th>\n",
       "      <td>__label__1</td>\n",
       "      <td>and the bath was small too .</td>\n",
       "    </tr>\n",
       "    <tr>\n",
       "      <th>5</th>\n",
       "      <td>__label__1</td>\n",
       "      <td>the public areas were somewhat dingy and show...</td>\n",
       "    </tr>\n",
       "  </tbody>\n",
       "</table>\n",
       "</div>"
      ],
      "text/plain": [
       "      polarity                                            Content\n",
       "0  __label__1    my daughter and i just returned from a four n...\n",
       "2  __label__1                                     big mistake .  \n",
       "3  __label__1                                 our room was tiny  \n",
       "4  __label__1                      and the bath was small too .  \n",
       "5  __label__1    the public areas were somewhat dingy and show..."
      ]
     },
     "execution_count": 16,
     "metadata": {},
     "output_type": "execute_result"
    }
   ],
   "source": [
    "data_clean.head(5)"
   ]
  },
  {
   "cell_type": "code",
   "execution_count": 17,
   "metadata": {},
   "outputs": [],
   "source": [
    "# 看要轉csv 或 txt都可以\n",
    "data_clean.to_csv('./data/hotel_label_clean.txt', index=None, header=None)"
   ]
  },
  {
   "cell_type": "code",
   "execution_count": null,
   "metadata": {},
   "outputs": [],
   "source": []
  },
  {
   "cell_type": "code",
   "execution_count": null,
   "metadata": {
    "collapsed": true
   },
   "outputs": [],
   "source": []
  }
 ],
 "metadata": {
  "kernelspec": {
   "display_name": "Python 3",
   "language": "python",
   "name": "python3"
  },
  "language_info": {
   "codemirror_mode": {
    "name": "ipython",
    "version": 3
   },
   "file_extension": ".py",
   "mimetype": "text/x-python",
   "name": "python",
   "nbconvert_exporter": "python",
   "pygments_lexer": "ipython3",
   "version": "3.5.6"
  }
 },
 "nbformat": 4,
 "nbformat_minor": 2
}
