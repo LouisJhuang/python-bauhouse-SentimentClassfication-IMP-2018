{
 "cells": [
  {
   "cell_type": "code",
   "execution_count": 1,
   "metadata": {
    "collapsed": false
   },
   "outputs": [],
   "source": [
    "import fasttext\n",
    "import time"
   ]
  },
  {
   "cell_type": "code",
   "execution_count": null,
   "metadata": {
    "collapsed": true
   },
   "outputs": [],
   "source": []
  },
  {
   "cell_type": "markdown",
   "metadata": {},
   "source": [
    "# 詞向量模型學習\n",
    "## 使用supervised"
   ]
  },
  {
   "cell_type": "markdown",
   "metadata": {},
   "source": [
    "## Skipgram model"
   ]
  },
  {
   "cell_type": "code",
   "execution_count": 6,
   "metadata": {
    "collapsed": false
   },
   "outputs": [
    {
     "name": "stdout",
     "output_type": "stream",
     "text": [
      "CPU times: user 17.2 s, sys: 2.93 s, total: 20.1 s\n",
      "Wall time: 33.7 s\n"
     ]
    }
   ],
   "source": [
    "%%time\n",
    "\n",
    "# Skipgram model\n",
    "\n",
    "# 執行完會輸出一個 model.bin 以及 model.vec 在資料夾底下\n",
    "\n",
    "# 這個是處理過得文字檔案  有label\n",
    "# skip_model = fasttext.skipgram('hotel_label_clean_louis1.txt', 'skip_model')  \n",
    "\n",
    "#這個是只有文字  還未處理過  沒有label\n",
    "#  skip_model = fasttext.skipgram('hotel_label_clean_onlycontent1.txt', 'skip_model') \n",
    "\n",
    "# 這個是處理過得文字檔案  有label 但是只有postive跟negative  沒有編號1跟2\n",
    "skip_model = fasttext.skipgram('./data/hotel_label_onlyPN_train.txt', './model/skip_model'\n",
    "                              ,dim = 100, epoch = 7, lr = 0.4  )"
   ]
  },
  {
   "cell_type": "code",
   "execution_count": 7,
   "metadata": {
    "collapsed": false
   },
   "outputs": [
    {
     "data": {
      "text/plain": [
       "3643"
      ]
     },
     "execution_count": 7,
     "metadata": {},
     "output_type": "execute_result"
    }
   ],
   "source": [
    "# 全部有幾個字詞\n",
    "len(skip_model.words)"
   ]
  },
  {
   "cell_type": "code",
   "execution_count": 8,
   "metadata": {
    "collapsed": false
   },
   "outputs": [
    {
     "name": "stdout",
     "output_type": "stream",
     "text": [
      "dim = 100 , bucket= 2000000\n"
     ]
    }
   ],
   "source": [
    "print('dim =',skip_model.dim ,',' ,\n",
    "      'bucket=', skip_model.bucket )"
   ]
  },
  {
   "cell_type": "code",
   "execution_count": null,
   "metadata": {
    "collapsed": false
   },
   "outputs": [],
   "source": []
  },
  {
   "cell_type": "code",
   "execution_count": null,
   "metadata": {
    "collapsed": true
   },
   "outputs": [],
   "source": []
  },
  {
   "cell_type": "code",
   "execution_count": null,
   "metadata": {
    "collapsed": true
   },
   "outputs": [],
   "source": []
  },
  {
   "cell_type": "markdown",
   "metadata": {},
   "source": [
    "## CBOW model"
   ]
  },
  {
   "cell_type": "code",
   "execution_count": 6,
   "metadata": {
    "collapsed": false
   },
   "outputs": [
    {
     "name": "stdout",
     "output_type": "stream",
     "text": [
      "CPU times: user 12.4 s, sys: 1.14 s, total: 13.6 s\n",
      "Wall time: 19.9 s\n"
     ]
    }
   ],
   "source": [
    "%%time\n",
    "\n",
    "# CBOW model\n",
    "\n",
    "# 執行完會輸出一個 model.bin 以及 model.vec 在資料夾底下\n",
    "\n",
    "#cbow_model = fasttext.cbow('hotel_label_clean_louis1.txt', 'model')  #這個是處理過得文字檔案  有label\n",
    "\n",
    "#這個是只有文字  還未處理過  沒有label\n",
    "#cbow_model = fasttext.cbow('hotel_label_clean_onlycontent1.txt', 'cbow_model')\n",
    "\n",
    "# 這個是處理過得文字檔案  有label 但是只有postive跟negative  沒有編號1跟2\n",
    "cbow_model = fasttext.cbow('./data/hotel_label_clean_onlyPN.txt', './model/cbow_model')  \n"
   ]
  },
  {
   "cell_type": "code",
   "execution_count": 7,
   "metadata": {
    "collapsed": false
   },
   "outputs": [
    {
     "data": {
      "text/plain": [
       "3870"
      ]
     },
     "execution_count": 7,
     "metadata": {},
     "output_type": "execute_result"
    }
   ],
   "source": [
    "# 全部有幾個字詞\n",
    "len(cbow_model.words)"
   ]
  },
  {
   "cell_type": "code",
   "execution_count": null,
   "metadata": {
    "collapsed": true
   },
   "outputs": [],
   "source": []
  },
  {
   "cell_type": "code",
   "execution_count": null,
   "metadata": {
    "collapsed": true
   },
   "outputs": [],
   "source": []
  },
  {
   "cell_type": "markdown",
   "metadata": {},
   "source": [
    "# 切割資料集\n",
    "## 目前是用20%測試"
   ]
  },
  {
   "cell_type": "code",
   "execution_count": 2,
   "metadata": {
    "collapsed": false
   },
   "outputs": [
    {
     "name": "stderr",
     "output_type": "stream",
     "text": [
      "/opt/conda/lib/python3.5/importlib/_bootstrap.py:222: RuntimeWarning: numpy.dtype size changed, may indicate binary incompatibility. Expected 96, got 88\n",
      "  return f(*args, **kwds)\n",
      "/opt/conda/lib/python3.5/importlib/_bootstrap.py:222: RuntimeWarning: numpy.dtype size changed, may indicate binary incompatibility. Expected 96, got 88\n",
      "  return f(*args, **kwds)\n",
      "/opt/conda/lib/python3.5/site-packages/sklearn/cross_validation.py:41: DeprecationWarning: This module was deprecated in version 0.18 in favor of the model_selection module into which all the refactored classes and functions are moved. Also note that the interface of the new CV iterators are different from that of this module. This module will be removed in 0.20.\n",
      "  \"This module will be removed in 0.20.\", DeprecationWarning)\n"
     ]
    }
   ],
   "source": [
    "from sklearn.model_selection import train_test_split\n",
    "from sklearn.cross_validation import cross_val_score\n",
    "import pandas as pd"
   ]
  },
  {
   "cell_type": "code",
   "execution_count": 17,
   "metadata": {
    "collapsed": false
   },
   "outputs": [],
   "source": [
    "# 記得要用 header = none 因為沒有標題\n",
    "data = pd.read_csv('./data/hotel_label_clean_onlyPN.csv',header=None)"
   ]
  },
  {
   "cell_type": "code",
   "execution_count": 18,
   "metadata": {
    "collapsed": false
   },
   "outputs": [],
   "source": [
    "train, test = train_test_split(data, test_size = 0.2  )"
   ]
  },
  {
   "cell_type": "code",
   "execution_count": null,
   "metadata": {
    "collapsed": true
   },
   "outputs": [],
   "source": []
  },
  {
   "cell_type": "code",
   "execution_count": 19,
   "metadata": {
    "collapsed": false
   },
   "outputs": [
    {
     "data": {
      "text/plain": [
       "(24033, 2)"
      ]
     },
     "execution_count": 19,
     "metadata": {},
     "output_type": "execute_result"
    }
   ],
   "source": [
    "# 原本資料共有\n",
    "data.shape"
   ]
  },
  {
   "cell_type": "code",
   "execution_count": 20,
   "metadata": {
    "collapsed": false
   },
   "outputs": [
    {
     "data": {
      "text/plain": [
       "(19226, 2)"
      ]
     },
     "execution_count": 20,
     "metadata": {},
     "output_type": "execute_result"
    }
   ],
   "source": [
    "# 訓練資料集共有\n",
    "train.shape"
   ]
  },
  {
   "cell_type": "code",
   "execution_count": 21,
   "metadata": {
    "collapsed": false
   },
   "outputs": [
    {
     "data": {
      "text/html": [
       "<div>\n",
       "<table border=\"1\" class=\"dataframe\">\n",
       "  <thead>\n",
       "    <tr style=\"text-align: right;\">\n",
       "      <th></th>\n",
       "      <th>0</th>\n",
       "      <th>1</th>\n",
       "    </tr>\n",
       "  </thead>\n",
       "  <tbody>\n",
       "    <tr>\n",
       "      <th>4056</th>\n",
       "      <td>__label__POSITIVE</td>\n",
       "      <td>congratulations to the hotel arts for having s...</td>\n",
       "    </tr>\n",
       "    <tr>\n",
       "      <th>19499</th>\n",
       "      <td>__label__NEGATIVE</td>\n",
       "      <td>negatives  the a/c is noisy</td>\n",
       "    </tr>\n",
       "    <tr>\n",
       "      <th>16161</th>\n",
       "      <td>__label__POSITIVE</td>\n",
       "      <td>it is near to the overrated cablecars</td>\n",
       "    </tr>\n",
       "    <tr>\n",
       "      <th>21150</th>\n",
       "      <td>__label__NEGATIVE</td>\n",
       "      <td>and there are loads of places you can get a go...</td>\n",
       "    </tr>\n",
       "    <tr>\n",
       "      <th>5636</th>\n",
       "      <td>__label__NEGATIVE</td>\n",
       "      <td>but the food is not good at all .</td>\n",
       "    </tr>\n",
       "  </tbody>\n",
       "</table>\n",
       "</div>"
      ],
      "text/plain": [
       "                        0                                                  1\n",
       "4056   __label__POSITIVE   congratulations to the hotel arts for having s...\n",
       "19499  __label__NEGATIVE                         negatives  the a/c is noisy\n",
       "16161  __label__POSITIVE              it is near to the overrated cablecars \n",
       "21150  __label__NEGATIVE   and there are loads of places you can get a go...\n",
       "5636   __label__NEGATIVE                  but the food is not good at all . "
      ]
     },
     "execution_count": 21,
     "metadata": {},
     "output_type": "execute_result"
    }
   ],
   "source": [
    "train.head(5)"
   ]
  },
  {
   "cell_type": "code",
   "execution_count": 22,
   "metadata": {
    "collapsed": true
   },
   "outputs": [],
   "source": [
    "# 先存成txt  看要轉csv 或 txt都可以\n",
    "train.to_csv('./data/hotel_label_onlyPN_train.txt', index=None, header=None)"
   ]
  },
  {
   "cell_type": "code",
   "execution_count": null,
   "metadata": {
    "collapsed": true
   },
   "outputs": [],
   "source": []
  },
  {
   "cell_type": "code",
   "execution_count": 23,
   "metadata": {
    "collapsed": false
   },
   "outputs": [
    {
     "data": {
      "text/plain": [
       "(4807, 2)"
      ]
     },
     "execution_count": 23,
     "metadata": {},
     "output_type": "execute_result"
    }
   ],
   "source": [
    "# 測試資料集共有\n",
    "test.shape"
   ]
  },
  {
   "cell_type": "code",
   "execution_count": 24,
   "metadata": {
    "collapsed": false
   },
   "outputs": [
    {
     "data": {
      "text/html": [
       "<div>\n",
       "<table border=\"1\" class=\"dataframe\">\n",
       "  <thead>\n",
       "    <tr style=\"text-align: right;\">\n",
       "      <th></th>\n",
       "      <th>0</th>\n",
       "      <th>1</th>\n",
       "    </tr>\n",
       "  </thead>\n",
       "  <tbody>\n",
       "    <tr>\n",
       "      <th>20287</th>\n",
       "      <td>__label__POSITIVE</td>\n",
       "      <td>i don ' t always find this level of service at...</td>\n",
       "    </tr>\n",
       "    <tr>\n",
       "      <th>23531</th>\n",
       "      <td>__label__NEGATIVE</td>\n",
       "      <td>instead  there was an old metal frame to hang ...</td>\n",
       "    </tr>\n",
       "    <tr>\n",
       "      <th>9324</th>\n",
       "      <td>__label__POSITIVE</td>\n",
       "      <td>good bits  very reasonable price  convenient l...</td>\n",
       "    </tr>\n",
       "    <tr>\n",
       "      <th>11901</th>\n",
       "      <td>__label__POSITIVE</td>\n",
       "      <td>the hotel staff advised that there would be no...</td>\n",
       "    </tr>\n",
       "    <tr>\n",
       "      <th>1404</th>\n",
       "      <td>__label__NEGATIVE</td>\n",
       "      <td>but the decor is very dated</td>\n",
       "    </tr>\n",
       "  </tbody>\n",
       "</table>\n",
       "</div>"
      ],
      "text/plain": [
       "                        0                                                  1\n",
       "20287  __label__POSITIVE   i don ' t always find this level of service at...\n",
       "23531  __label__NEGATIVE   instead  there was an old metal frame to hang ...\n",
       "9324   __label__POSITIVE   good bits  very reasonable price  convenient l...\n",
       "11901  __label__POSITIVE   the hotel staff advised that there would be no...\n",
       "1404   __label__NEGATIVE                         but the decor is very dated"
      ]
     },
     "execution_count": 24,
     "metadata": {},
     "output_type": "execute_result"
    }
   ],
   "source": [
    "test.head(5)"
   ]
  },
  {
   "cell_type": "code",
   "execution_count": 25,
   "metadata": {
    "collapsed": true
   },
   "outputs": [],
   "source": [
    "# 先存成txt  看要轉csv 或 txt都可以\n",
    "test.to_csv('./data/hotel_label_onlyPN_test.txt', index=None, header=None)"
   ]
  },
  {
   "cell_type": "code",
   "execution_count": null,
   "metadata": {
    "collapsed": true
   },
   "outputs": [],
   "source": []
  },
  {
   "cell_type": "markdown",
   "metadata": {},
   "source": [
    "# 文章分類 - 分類模型(訓練分類器)\n",
    "\n",
    "### supervised 一定要吃有label的文件"
   ]
  },
  {
   "cell_type": "code",
   "execution_count": 12,
   "metadata": {
    "collapsed": true
   },
   "outputs": [],
   "source": [
    "import fasttext\n",
    "import time"
   ]
  },
  {
   "cell_type": "code",
   "execution_count": 26,
   "metadata": {
    "collapsed": false
   },
   "outputs": [
    {
     "name": "stdout",
     "output_type": "stream",
     "text": [
      "CPU times: user 990 ms, sys: 55.9 ms, total: 1.05 s\n",
      "Wall time: 1.83 s\n"
     ]
    }
   ],
   "source": [
    "%%time\n",
    "\n",
    "# 執行完會輸出一個 model.bin  在資料夾底下\n",
    "\n",
    "# 參數\n",
    "label_prefix='__label__'\n",
    "dim=10\n",
    "epoch=10\n",
    "lr=0.9\n",
    "ws=15\n",
    "neg=3\n",
    "minn=1\n",
    "\n",
    "#thread=12\n",
    "#loss='ns'\n",
    "\n",
    "# 這邊覆蓋掉了前面的沒有使用supervised模型\n",
    "# 這個是處理過得文字檔案  有label\n",
    "skip_classifier = fasttext.supervised('./data/hotel_label_onlyPN_train.txt', './model/skip_model_13'\n",
    "                    ,dim = dim, epoch = epoch, lr = lr, ws= ws, neg= neg, minn= minn\n",
    "#                     , thread= thread ,loss= loss,\n",
    "                    ,label_prefix= label_prefix)  \n"
   ]
  },
  {
   "cell_type": "code",
   "execution_count": 14,
   "metadata": {
    "collapsed": false
   },
   "outputs": [
    {
     "name": "stdout",
     "output_type": "stream",
     "text": [
      "dim = 10 \n",
      "epoch = 7 \n",
      "minn = 2 \n",
      "maxn = 0 \n",
      "word_ngrams = 1 \n",
      "min_count = 1 \n",
      "\n"
     ]
    }
   ],
   "source": [
    "# dim 字詞維度\n",
    "# epoch 訓練次數\n",
    "# minN-gram  最小 N-gram\n",
    "# maxN-gram  最大 N-gram\n",
    "# word_ngrams\n",
    "# min_count\n",
    "\n",
    "print (\n",
    "'dim =' ,skip_classifier.dim,'\\n'\n",
    "'epoch =' ,skip_classifier.epoch,'\\n'\n",
    "'minn =',skip_classifier.minn,'\\n'\n",
    "'maxn =',skip_classifier.maxn,'\\n'\n",
    "'word_ngrams =' ,skip_classifier.word_ngrams,'\\n'\n",
    "'min_count =' , skip_classifier.min_count,'\\n'\n",
    "    )"
   ]
  },
  {
   "cell_type": "code",
   "execution_count": null,
   "metadata": {
    "collapsed": true
   },
   "outputs": [],
   "source": []
  },
  {
   "cell_type": "markdown",
   "metadata": {},
   "source": [
    "# 訓練模型 - 參數說明"
   ]
  },
  {
   "cell_type": "raw",
   "metadata": {},
   "source": [
    "The following arguments are mandatory:\n",
    "  -input              training file path\n",
    "  -output             output file path\n",
    "\n",
    "The following arguments are optional:\n",
    "  -verbose            verbosity level [2]\n",
    "\n",
    "The following arguments for the dictionary are optional:\n",
    "  -minCount           minimal number of word occurences [1]\n",
    "  -minCountLabel      minimal number of label occurences [0]\n",
    "  -wordNgrams         max length of word ngram [1]\n",
    "  -bucket             number of buckets [2000000]\n",
    "  -minn               min length of char ngram [0]\n",
    "  -maxn               max length of char ngram [0]\n",
    "  -t                  sampling threshold [0.0001]\n",
    "  -label              labels prefix [__label__]\n",
    "\n",
    "The following arguments for training are optional:\n",
    "  -lr                 learning rate [0.1]\n",
    "  -lrUpdateRate       change the rate of updates for the learning rate [100]\n",
    "  -dim                size of word vectors [100]\n",
    "  -ws                 size of the context window [5]\n",
    "  -epoch              number of epochs [5]\n",
    "  -neg                number of negatives sampled [5]\n",
    "  -loss               loss function {ns, hs, softmax} [softmax]\n",
    "  -thread             number of threads [12]\n",
    "  -pretrainedVectors  pretrained word vectors for supervised learning []\n",
    "  -saveOutput         whether output params should be saved [0]\n",
    "\n",
    "The following arguments for quantization are optional:\n",
    "  -cutoff             number of words and ngrams to retain [0]\n",
    "  -retrain            finetune embeddings if a cutoff is applied [0]\n",
    "  -qnorm              quantizing the norm separately [0]\n",
    "  -qout               quantizing the classifier [0]\n",
    "  -dsub               size of each sub-vector [2]\n",
    "\n",
    "\n",
    "https://github.com/facebookresearch/fastText#word-representation-learning"
   ]
  },
  {
   "cell_type": "code",
   "execution_count": null,
   "metadata": {
    "collapsed": true
   },
   "outputs": [],
   "source": []
  },
  {
   "cell_type": "code",
   "execution_count": null,
   "metadata": {
    "collapsed": true
   },
   "outputs": [],
   "source": []
  },
  {
   "cell_type": "code",
   "execution_count": 5,
   "metadata": {
    "collapsed": true
   },
   "outputs": [],
   "source": [
    "# 目前試過的組合 \n",
    "# dim  100 ,200 ,300  效果差不多  85%\n",
    "# epoch  5 =85.399 ,  6 =85.482 , 7 =85.607 , 10 =85.440\n",
    "# lr  0.2 =85.274 , 0.3 =85.357 , 0.4 =85.648 ,  0.5 =85.149\n",
    "# ws  10 =85.357 , 11 =85.440 , 12=85.524 , 13 =85.856 , 14 =85.191\n",
    "# loss softmax =85.482 , ns =85.607 , hs =85.191\n",
    "# neg 1 =85.856 ,2 =85.732 , 3 =85.357, 4 =85.856 , 5 =85.524 , 6 =85.316 \n",
    "# minn 1 =85.274 , 2 =85.565 , 3 =85.066\n",
    "# thread 10 =85.024 , 11 = 85.690 ,12 =85.482 , 13=85.565 , 14 =85.191 , 15 = 85.108"
   ]
  },
  {
   "cell_type": "code",
   "execution_count": null,
   "metadata": {
    "collapsed": true
   },
   "outputs": [],
   "source": []
  },
  {
   "cell_type": "code",
   "execution_count": null,
   "metadata": {
    "collapsed": true
   },
   "outputs": [],
   "source": []
  },
  {
   "cell_type": "markdown",
   "metadata": {},
   "source": [
    "# 評估模型準確率 "
   ]
  },
  {
   "cell_type": "markdown",
   "metadata": {},
   "source": [
    "## skipgram"
   ]
  },
  {
   "cell_type": "code",
   "execution_count": 27,
   "metadata": {
    "collapsed": false
   },
   "outputs": [],
   "source": [
    "# 預測這個文字檔試試看  需要有label的文件\n",
    "skip_result = skip_classifier.test('./data/hotel_label_onlyPN_test.txt')  #這個是處理過得文字檔案  有label"
   ]
  },
  {
   "cell_type": "code",
   "execution_count": 28,
   "metadata": {
    "collapsed": false
   },
   "outputs": [
    {
     "name": "stdout",
     "output_type": "stream",
     "text": [
      "SkipgramModel precision = 0.8462658622841689\n"
     ]
    }
   ],
   "source": [
    "print ('SkipgramModel precision =',skip_result.precision)"
   ]
  },
  {
   "cell_type": "code",
   "execution_count": 29,
   "metadata": {
    "collapsed": false
   },
   "outputs": [
    {
     "name": "stdout",
     "output_type": "stream",
     "text": [
      "SkipgramModel recall = 0.8462658622841689\n"
     ]
    }
   ],
   "source": [
    "print ('SkipgramModel recall =',skip_result.recall) "
   ]
  },
  {
   "cell_type": "code",
   "execution_count": null,
   "metadata": {
    "collapsed": true
   },
   "outputs": [],
   "source": []
  },
  {
   "cell_type": "code",
   "execution_count": null,
   "metadata": {
    "collapsed": true
   },
   "outputs": [],
   "source": []
  },
  {
   "cell_type": "markdown",
   "metadata": {
    "collapsed": true
   },
   "source": [
    "# 預測一句話"
   ]
  },
  {
   "cell_type": "markdown",
   "metadata": {},
   "source": [
    "## skip_classifier"
   ]
  },
  {
   "cell_type": "code",
   "execution_count": 14,
   "metadata": {
    "collapsed": false
   },
   "outputs": [
    {
     "data": {
      "text/plain": [
       "[['NEGATIVE']]"
      ]
     },
     "execution_count": 14,
     "metadata": {},
     "output_type": "execute_result"
    }
   ],
   "source": [
    "# 看是正向還是負向\n",
    "skip_classifier.predict([\"I like it\"])"
   ]
  },
  {
   "cell_type": "code",
   "execution_count": 15,
   "metadata": {
    "collapsed": false
   },
   "outputs": [
    {
     "data": {
      "text/plain": [
       "[[('NEGATIVE', 0.800781)]]"
      ]
     },
     "execution_count": 15,
     "metadata": {},
     "output_type": "execute_result"
    }
   ],
   "source": [
    "# 看是那一個面向的機率有多少\n",
    "skip_classifier.predict_proba([\"I don't like it\"])"
   ]
  },
  {
   "cell_type": "code",
   "execution_count": 16,
   "metadata": {
    "collapsed": false
   },
   "outputs": [
    {
     "data": {
      "text/plain": [
       "[[('NEGATIVE', 0.800781), ('POSITIVE', 0.197266)]]"
      ]
     },
     "execution_count": 16,
     "metadata": {},
     "output_type": "execute_result"
    }
   ],
   "source": [
    "# 看是兩個面向的機率有多少\n",
    "skip_classifier.predict_proba([\"I don't like it\"],2)"
   ]
  },
  {
   "cell_type": "code",
   "execution_count": null,
   "metadata": {
    "collapsed": true
   },
   "outputs": [],
   "source": []
  },
  {
   "cell_type": "code",
   "execution_count": null,
   "metadata": {
    "collapsed": true
   },
   "outputs": [],
   "source": []
  },
  {
   "cell_type": "raw",
   "metadata": {},
   "source": [
    "分類指令\n",
    "\n",
    "classifier.labels                  # List of labels\n",
    "classifier.label_prefix            # Prefix of the label\n",
    "classifier.dim                     # Size of word vector\n",
    "classifier.ws                      # Size of context window\n",
    "classifier.epoch                   # Number of epochs\n",
    "classifier.min_count               # Minimal number of word occurences\n",
    "classifier.neg                     # Number of negative sampled\n",
    "classifier.word_ngrams             # Max length of word ngram\n",
    "classifier.loss_name               # Loss function name\n",
    "classifier.bucket                  # Number of buckets\n",
    "classifier.minn                    # Min length of char ngram\n",
    "classifier.maxn                    # Max length of char ngram\n",
    "classifier.lr_update_rate          # Rate of updates for the learning rate\n",
    "classifier.t                       # Value of sampling threshold\n",
    "classifier.encoding                # Encoding that used by classifier\n",
    "classifier.test(filename, k)       # Test the classifier\n",
    "classifier.predict(texts, k)       # Predict the most likely label\n",
    "classifier.predict_proba(texts, k) # Predict the most likely label include their probability"
   ]
  },
  {
   "cell_type": "code",
   "execution_count": null,
   "metadata": {
    "collapsed": true
   },
   "outputs": [],
   "source": []
  },
  {
   "cell_type": "code",
   "execution_count": null,
   "metadata": {
    "collapsed": true
   },
   "outputs": [],
   "source": []
  },
  {
   "cell_type": "code",
   "execution_count": null,
   "metadata": {
    "collapsed": true
   },
   "outputs": [],
   "source": [
    "# 底下想要測試隨便一句話  不是飯店留言 直接丟進去跑出來結果會如何  但不太準確"
   ]
  },
  {
   "cell_type": "code",
   "execution_count": 23,
   "metadata": {
    "collapsed": true
   },
   "outputs": [],
   "source": [
    "texts = [ 'example very longtext so I think that is not suitable'\n",
    "        ,'Washington Posts Attack Article on Google Duplex made me throw Alexa in the trash!'\n",
    "        ,'good nice well done'] "
   ]
  },
  {
   "cell_type": "code",
   "execution_count": 24,
   "metadata": {
    "collapsed": false
   },
   "outputs": [],
   "source": [
    "labels = skip_classifier.predict(texts)"
   ]
  },
  {
   "cell_type": "code",
   "execution_count": 25,
   "metadata": {
    "collapsed": false
   },
   "outputs": [
    {
     "name": "stdout",
     "output_type": "stream",
     "text": [
      "[['NEGATIVE'], ['POSITIVE'], ['POSITIVE']]\n"
     ]
    }
   ],
   "source": [
    "print (labels)"
   ]
  },
  {
   "cell_type": "code",
   "execution_count": null,
   "metadata": {
    "collapsed": true
   },
   "outputs": [],
   "source": []
  },
  {
   "cell_type": "code",
   "execution_count": 26,
   "metadata": {
    "collapsed": false
   },
   "outputs": [],
   "source": [
    "# 測試飯店留言看看?\n",
    "# test1 = 正向 , test2 = 負向\n",
    "text1 = ['./data/test1_labal','./data/test2_labal']"
   ]
  },
  {
   "cell_type": "code",
   "execution_count": 27,
   "metadata": {
    "collapsed": true
   },
   "outputs": [],
   "source": [
    "label1 = skip_classifier.predict(text1)"
   ]
  },
  {
   "cell_type": "code",
   "execution_count": 30,
   "metadata": {
    "collapsed": false
   },
   "outputs": [
    {
     "name": "stdout",
     "output_type": "stream",
     "text": [
      "[['POSITIVE'], ['POSITIVE']]\n"
     ]
    }
   ],
   "source": [
    "# 看得出來1準確  2不準確\n",
    "print (label1)"
   ]
  },
  {
   "cell_type": "code",
   "execution_count": null,
   "metadata": {
    "collapsed": false
   },
   "outputs": [],
   "source": []
  },
  {
   "cell_type": "code",
   "execution_count": 48,
   "metadata": {
    "collapsed": true
   },
   "outputs": [],
   "source": []
  },
  {
   "cell_type": "code",
   "execution_count": 49,
   "metadata": {
    "collapsed": true
   },
   "outputs": [],
   "source": []
  },
  {
   "cell_type": "code",
   "execution_count": null,
   "metadata": {
    "collapsed": false
   },
   "outputs": [],
   "source": []
  },
  {
   "cell_type": "code",
   "execution_count": null,
   "metadata": {
    "collapsed": true
   },
   "outputs": [],
   "source": []
  }
 ],
 "metadata": {
  "kernelspec": {
   "display_name": "Python 3",
   "language": "python",
   "name": "python3"
  },
  "language_info": {
   "codemirror_mode": {
    "name": "ipython",
    "version": 3
   },
   "file_extension": ".py",
   "mimetype": "text/x-python",
   "name": "python",
   "nbconvert_exporter": "python",
   "pygments_lexer": "ipython3",
   "version": "3.5.2"
  }
 },
 "nbformat": 4,
 "nbformat_minor": 2
}
