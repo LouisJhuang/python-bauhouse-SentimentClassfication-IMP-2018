{
 "cells": [
  {
   "cell_type": "code",
   "execution_count": 1,
   "metadata": {
    "collapsed": false
   },
   "outputs": [],
   "source": [
    "import fasttext\n",
    "import time"
   ]
  },
  {
   "cell_type": "code",
   "execution_count": null,
   "metadata": {
    "collapsed": true
   },
   "outputs": [],
   "source": []
  },
  {
   "cell_type": "markdown",
   "metadata": {},
   "source": [
    "# 詞向量模型學習\n",
    "## 使用supervised"
   ]
  },
  {
   "cell_type": "markdown",
   "metadata": {},
   "source": [
    "## Skipgram model"
   ]
  },
  {
   "cell_type": "code",
   "execution_count": 6,
   "metadata": {
    "collapsed": false
   },
   "outputs": [
    {
     "name": "stdout",
     "output_type": "stream",
     "text": [
      "CPU times: user 17.2 s, sys: 2.93 s, total: 20.1 s\n",
      "Wall time: 33.7 s\n"
     ]
    }
   ],
   "source": [
    "%%time\n",
    "\n",
    "# Skipgram model\n",
    "\n",
    "# 執行完會輸出一個 model.bin 以及 model.vec 在資料夾底下\n",
    "\n",
    "# 這個是處理過得文字檔案  有label\n",
    "# skip_model = fasttext.skipgram('hotel_label_clean_louis1.txt', 'skip_model')  \n",
    "\n",
    "#這個是只有文字  還未處理過  沒有label\n",
    "#  skip_model = fasttext.skipgram('hotel_label_clean_onlycontent1.txt', 'skip_model') \n",
    "\n",
    "# 這個是處理過得文字檔案  有label 但是只有postive跟negative  沒有編號1跟2\n",
    "skip_model = fasttext.skipgram('./data/hotel_label_onlyPN_train.txt', './model/skip_model'\n",
    "                              ,dim = 100, epoch = 7, lr = 0.4  )"
   ]
  },
  {
   "cell_type": "code",
   "execution_count": 7,
   "metadata": {
    "collapsed": false
   },
   "outputs": [
    {
     "data": {
      "text/plain": [
       "3643"
      ]
     },
     "execution_count": 7,
     "metadata": {},
     "output_type": "execute_result"
    }
   ],
   "source": [
    "# 全部有幾個字詞\n",
    "len(skip_model.words)"
   ]
  },
  {
   "cell_type": "code",
   "execution_count": 8,
   "metadata": {
    "collapsed": false
   },
   "outputs": [
    {
     "name": "stdout",
     "output_type": "stream",
     "text": [
      "dim = 100 , bucket= 2000000\n"
     ]
    }
   ],
   "source": [
    "print('dim =',skip_model.dim ,',' ,\n",
    "      'bucket=', skip_model.bucket )"
   ]
  },
  {
   "cell_type": "code",
   "execution_count": null,
   "metadata": {
    "collapsed": false
   },
   "outputs": [],
   "source": []
  },
  {
   "cell_type": "code",
   "execution_count": null,
   "metadata": {
    "collapsed": true
   },
   "outputs": [],
   "source": []
  },
  {
   "cell_type": "code",
   "execution_count": null,
   "metadata": {
    "collapsed": true
   },
   "outputs": [],
   "source": []
  },
  {
   "cell_type": "markdown",
   "metadata": {},
   "source": [
    "## CBOW model"
   ]
  },
  {
   "cell_type": "code",
   "execution_count": 6,
   "metadata": {
    "collapsed": false
   },
   "outputs": [
    {
     "name": "stdout",
     "output_type": "stream",
     "text": [
      "CPU times: user 12.4 s, sys: 1.14 s, total: 13.6 s\n",
      "Wall time: 19.9 s\n"
     ]
    }
   ],
   "source": [
    "%%time\n",
    "\n",
    "# CBOW model\n",
    "\n",
    "# 執行完會輸出一個 model.bin 以及 model.vec 在資料夾底下\n",
    "\n",
    "#cbow_model = fasttext.cbow('hotel_label_clean_louis1.txt', 'model')  #這個是處理過得文字檔案  有label\n",
    "\n",
    "#這個是只有文字  還未處理過  沒有label\n",
    "#cbow_model = fasttext.cbow('hotel_label_clean_onlycontent1.txt', 'cbow_model')\n",
    "\n",
    "# 這個是處理過得文字檔案  有label 但是只有postive跟negative  沒有編號1跟2\n",
    "cbow_model = fasttext.cbow('./data/hotel_label_clean_onlyPN.txt', './model/cbow_model')  \n"
   ]
  },
  {
   "cell_type": "code",
   "execution_count": 7,
   "metadata": {
    "collapsed": false
   },
   "outputs": [
    {
     "data": {
      "text/plain": [
       "3870"
      ]
     },
     "execution_count": 7,
     "metadata": {},
     "output_type": "execute_result"
    }
   ],
   "source": [
    "# 全部有幾個字詞\n",
    "len(cbow_model.words)"
   ]
  },
  {
   "cell_type": "code",
   "execution_count": null,
   "metadata": {
    "collapsed": true
   },
   "outputs": [],
   "source": []
  },
  {
   "cell_type": "code",
   "execution_count": null,
   "metadata": {
    "collapsed": true
   },
   "outputs": [],
   "source": []
  },
  {
   "cell_type": "markdown",
   "metadata": {},
   "source": [
    "# 切割資料集\n",
    "## 目前是用20%測試"
   ]
  },
  {
   "cell_type": "code",
   "execution_count": 44,
   "metadata": {
    "collapsed": false
   },
   "outputs": [],
   "source": [
    "from sklearn.model_selection import train_test_split\n",
    "from sklearn.cross_validation import cross_val_score\n",
    "import pandas as pd"
   ]
  },
  {
   "cell_type": "code",
   "execution_count": 45,
   "metadata": {
    "collapsed": false
   },
   "outputs": [],
   "source": [
    "# 記得要用 header = none 因為沒有標題\n",
    "data = pd.read_csv('./data/hotel_label_clean_onlyPN.csv',header=None)"
   ]
  },
  {
   "cell_type": "code",
   "execution_count": 46,
   "metadata": {
    "collapsed": false
   },
   "outputs": [],
   "source": [
    "train, test = train_test_split(data, test_size = 0.2  )"
   ]
  },
  {
   "cell_type": "code",
   "execution_count": null,
   "metadata": {
    "collapsed": true
   },
   "outputs": [],
   "source": []
  },
  {
   "cell_type": "code",
   "execution_count": 47,
   "metadata": {
    "collapsed": false
   },
   "outputs": [
    {
     "data": {
      "text/plain": [
       "(24033, 2)"
      ]
     },
     "execution_count": 47,
     "metadata": {},
     "output_type": "execute_result"
    }
   ],
   "source": [
    "# 原本資料共有\n",
    "data.shape"
   ]
  },
  {
   "cell_type": "code",
   "execution_count": 48,
   "metadata": {
    "collapsed": false
   },
   "outputs": [
    {
     "data": {
      "text/plain": [
       "(19226, 2)"
      ]
     },
     "execution_count": 48,
     "metadata": {},
     "output_type": "execute_result"
    }
   ],
   "source": [
    "# 訓練資料集共有\n",
    "train.shape"
   ]
  },
  {
   "cell_type": "code",
   "execution_count": 49,
   "metadata": {
    "collapsed": false
   },
   "outputs": [
    {
     "data": {
      "text/html": [
       "<div>\n",
       "<table border=\"1\" class=\"dataframe\">\n",
       "  <thead>\n",
       "    <tr style=\"text-align: right;\">\n",
       "      <th></th>\n",
       "      <th>0</th>\n",
       "      <th>1</th>\n",
       "    </tr>\n",
       "  </thead>\n",
       "  <tbody>\n",
       "    <tr>\n",
       "      <th>13212</th>\n",
       "      <td>__label__POSITIVE</td>\n",
       "      <td>the staff assisted us in securing taxis  ticke...</td>\n",
       "    </tr>\n",
       "    <tr>\n",
       "      <th>16112</th>\n",
       "      <td>__label__POSITIVE</td>\n",
       "      <td>the owners know almost everything there is to ...</td>\n",
       "    </tr>\n",
       "    <tr>\n",
       "      <th>13239</th>\n",
       "      <td>__label__POSITIVE</td>\n",
       "      <td>having said that- we would highly recommend st...</td>\n",
       "    </tr>\n",
       "    <tr>\n",
       "      <th>8477</th>\n",
       "      <td>__label__POSITIVE</td>\n",
       "      <td>and the cafes are fine for a croissant or a ro...</td>\n",
       "    </tr>\n",
       "    <tr>\n",
       "      <th>11100</th>\n",
       "      <td>__label__POSITIVE</td>\n",
       "      <td>but for the rest of us with a couple hunderd e...</td>\n",
       "    </tr>\n",
       "  </tbody>\n",
       "</table>\n",
       "</div>"
      ],
      "text/plain": [
       "                        0                                                  1\n",
       "13212  __label__POSITIVE   the staff assisted us in securing taxis  ticke...\n",
       "16112  __label__POSITIVE   the owners know almost everything there is to ...\n",
       "13239  __label__POSITIVE   having said that- we would highly recommend st...\n",
       "8477   __label__POSITIVE   and the cafes are fine for a croissant or a ro...\n",
       "11100  __label__POSITIVE   but for the rest of us with a couple hunderd e..."
      ]
     },
     "execution_count": 49,
     "metadata": {},
     "output_type": "execute_result"
    }
   ],
   "source": [
    "train.head(5)"
   ]
  },
  {
   "cell_type": "code",
   "execution_count": 50,
   "metadata": {
    "collapsed": true
   },
   "outputs": [],
   "source": [
    "# 先存成txt  看要轉csv 或 txt都可以\n",
    "train.to_csv('./data/hotel_label_onlyPN_train.txt', index=None, header=None)"
   ]
  },
  {
   "cell_type": "code",
   "execution_count": null,
   "metadata": {
    "collapsed": true
   },
   "outputs": [],
   "source": []
  },
  {
   "cell_type": "code",
   "execution_count": 51,
   "metadata": {
    "collapsed": false
   },
   "outputs": [
    {
     "data": {
      "text/plain": [
       "(4807, 2)"
      ]
     },
     "execution_count": 51,
     "metadata": {},
     "output_type": "execute_result"
    }
   ],
   "source": [
    "# 測試資料集共有\n",
    "test.shape"
   ]
  },
  {
   "cell_type": "code",
   "execution_count": 52,
   "metadata": {
    "collapsed": false
   },
   "outputs": [
    {
     "data": {
      "text/html": [
       "<div>\n",
       "<table border=\"1\" class=\"dataframe\">\n",
       "  <thead>\n",
       "    <tr style=\"text-align: right;\">\n",
       "      <th></th>\n",
       "      <th>0</th>\n",
       "      <th>1</th>\n",
       "    </tr>\n",
       "  </thead>\n",
       "  <tbody>\n",
       "    <tr>\n",
       "      <th>3705</th>\n",
       "      <td>__label__NEGATIVE</td>\n",
       "      <td>i can say that this was possibly the worst hot...</td>\n",
       "    </tr>\n",
       "    <tr>\n",
       "      <th>5859</th>\n",
       "      <td>__label__POSITIVE</td>\n",
       "      <td>good location  nice decor but very small room ...</td>\n",
       "    </tr>\n",
       "    <tr>\n",
       "      <th>3170</th>\n",
       "      <td>__label__POSITIVE</td>\n",
       "      <td>a very nice start to our weekend in amsterdam .</td>\n",
       "    </tr>\n",
       "    <tr>\n",
       "      <th>22208</th>\n",
       "      <td>__label__POSITIVE</td>\n",
       "      <td>swissotel sydney is in a great location</td>\n",
       "    </tr>\n",
       "    <tr>\n",
       "      <th>21036</th>\n",
       "      <td>__label__POSITIVE</td>\n",
       "      <td>we were give a rate which was very reasonable ...</td>\n",
       "    </tr>\n",
       "  </tbody>\n",
       "</table>\n",
       "</div>"
      ],
      "text/plain": [
       "                        0                                                  1\n",
       "3705   __label__NEGATIVE   i can say that this was possibly the worst hot...\n",
       "5859   __label__POSITIVE   good location  nice decor but very small room ...\n",
       "3170   __label__POSITIVE    a very nice start to our weekend in amsterdam . \n",
       "22208  __label__POSITIVE             swissotel sydney is in a great location\n",
       "21036  __label__POSITIVE   we were give a rate which was very reasonable ..."
      ]
     },
     "execution_count": 52,
     "metadata": {},
     "output_type": "execute_result"
    }
   ],
   "source": [
    "test.head(5)"
   ]
  },
  {
   "cell_type": "code",
   "execution_count": 53,
   "metadata": {
    "collapsed": true
   },
   "outputs": [],
   "source": [
    "# 先存成txt  看要轉csv 或 txt都可以\n",
    "test.to_csv('./data/hotel_label_onlyPN_test.txt', index=None, header=None)"
   ]
  },
  {
   "cell_type": "code",
   "execution_count": null,
   "metadata": {
    "collapsed": true
   },
   "outputs": [],
   "source": []
  },
  {
   "cell_type": "markdown",
   "metadata": {},
   "source": [
    "# 文章分類 - 分類模型(訓練分類器)\n",
    "\n",
    "### supervised 一定要吃有label的文件"
   ]
  },
  {
   "cell_type": "code",
   "execution_count": 54,
   "metadata": {
    "collapsed": true
   },
   "outputs": [],
   "source": [
    "import fasttext\n",
    "import time"
   ]
  },
  {
   "cell_type": "code",
   "execution_count": 55,
   "metadata": {
    "collapsed": false
   },
   "outputs": [
    {
     "name": "stdout",
     "output_type": "stream",
     "text": [
      "CPU times: user 945 ms, sys: 67.2 ms, total: 1.01 s\n",
      "Wall time: 1.81 s\n"
     ]
    }
   ],
   "source": [
    "%%time\n",
    "\n",
    "# 執行完會輸出一個 model.bin  在資料夾底下\n",
    "\n",
    "# 參數\n",
    "label_prefix='__label__'\n",
    "\n",
    "dim=10\n",
    "epoch=10\n",
    "lr=0.9\n",
    "ws=15\n",
    "neg=3\n",
    "minn=1\n",
    "\n",
    "\n",
    "#thread=12\n",
    "#loss='ns'\n",
    "\n",
    "# 這邊覆蓋掉了前面的沒有使用supervised模型\n",
    "# 這個是處理過得文字檔案  有label\n",
    "skip_classifier = fasttext.supervised('./data/hotel_label_onlyPN_train.txt', './model/skip_model'\n",
    "                    ,dim = dim, epoch = epoch, lr = lr, ws= ws, neg= neg, minn= minn\n",
    "#                     , thread= thread , loss= loss\n",
    "                    ,label_prefix= label_prefix)  \n"
   ]
  },
  {
   "cell_type": "markdown",
   "metadata": {},
   "source": [
    "# 評估準確率"
   ]
  },
  {
   "cell_type": "code",
   "execution_count": 56,
   "metadata": {
    "collapsed": true
   },
   "outputs": [],
   "source": [
    "# 預測這個文字檔試試看  需要有label的文件\n",
    "skip_result = skip_classifier.test('./data/hotel_label_onlyPN_test.txt')  #這個是處理過得文字檔案  有label"
   ]
  },
  {
   "cell_type": "code",
   "execution_count": 57,
   "metadata": {
    "collapsed": false
   },
   "outputs": [
    {
     "name": "stdout",
     "output_type": "stream",
     "text": [
      "SkipgramModel precision = 0.8493863116288746\n"
     ]
    }
   ],
   "source": [
    "print ('SkipgramModel precision =',skip_result.precision)"
   ]
  },
  {
   "cell_type": "code",
   "execution_count": null,
   "metadata": {
    "collapsed": true
   },
   "outputs": [],
   "source": []
  },
  {
   "cell_type": "code",
   "execution_count": 15,
   "metadata": {
    "collapsed": false
   },
   "outputs": [
    {
     "name": "stdout",
     "output_type": "stream",
     "text": [
      "dim = 10 \n",
      "epoch = 10 \n",
      "minn = 1 \n",
      "maxn = 0 \n",
      "word_ngrams = 1 \n",
      "min_count = 1 \n",
      "\n"
     ]
    }
   ],
   "source": [
    "# dim 字詞維度\n",
    "# epoch 訓練次數\n",
    "# minN-gram  最小 N-gram\n",
    "# maxN-gram  最大 N-gram\n",
    "# word_ngrams\n",
    "# min_count\n",
    "\n",
    "print (\n",
    "'dim =' ,skip_classifier.dim,'\\n'\n",
    "'epoch =' ,skip_classifier.epoch,'\\n'\n",
    "'minn =',skip_classifier.minn,'\\n'\n",
    "'maxn =',skip_classifier.maxn,'\\n'\n",
    "'word_ngrams =' ,skip_classifier.word_ngrams,'\\n'\n",
    "'min_count =' , skip_classifier.min_count,'\\n'\n",
    "    )"
   ]
  },
  {
   "cell_type": "code",
   "execution_count": null,
   "metadata": {
    "collapsed": true
   },
   "outputs": [],
   "source": []
  },
  {
   "cell_type": "markdown",
   "metadata": {},
   "source": [
    "# 訓練模型 - 參數說明"
   ]
  },
  {
   "cell_type": "raw",
   "metadata": {},
   "source": [
    "The following arguments are mandatory:\n",
    "  -input              training file path\n",
    "  -output             output file path\n",
    "\n",
    "The following arguments are optional:\n",
    "  -verbose            verbosity level [2]\n",
    "\n",
    "The following arguments for the dictionary are optional:\n",
    "  -minCount           minimal number of word occurences [1]\n",
    "  -minCountLabel      minimal number of label occurences [0]\n",
    "  -wordNgrams         max length of word ngram [1]\n",
    "  -bucket             number of buckets [2000000]\n",
    "  -minn               min length of char ngram [0]\n",
    "  -maxn               max length of char ngram [0]\n",
    "  -t                  sampling threshold [0.0001]\n",
    "  -label              labels prefix [__label__]\n",
    "\n",
    "The following arguments for training are optional:\n",
    "  -lr                 learning rate [0.1]\n",
    "  -lrUpdateRate       change the rate of updates for the learning rate [100]\n",
    "  -dim                size of word vectors [100]\n",
    "  -ws                 size of the context window [5]\n",
    "  -epoch              number of epochs [5]\n",
    "  -neg                number of negatives sampled [5]\n",
    "  -loss               loss function {ns, hs, softmax} [softmax]\n",
    "  -thread             number of threads [12]\n",
    "  -pretrainedVectors  pretrained word vectors for supervised learning []\n",
    "  -saveOutput         whether output params should be saved [0]\n",
    "\n",
    "The following arguments for quantization are optional:\n",
    "  -cutoff             number of words and ngrams to retain [0]\n",
    "  -retrain            finetune embeddings if a cutoff is applied [0]\n",
    "  -qnorm              quantizing the norm separately [0]\n",
    "  -qout               quantizing the classifier [0]\n",
    "  -dsub               size of each sub-vector [2]\n",
    "\n",
    "\n",
    "https://github.com/facebookresearch/fastText#word-representation-learning"
   ]
  },
  {
   "cell_type": "code",
   "execution_count": null,
   "metadata": {
    "collapsed": true
   },
   "outputs": [],
   "source": []
  },
  {
   "cell_type": "code",
   "execution_count": null,
   "metadata": {
    "collapsed": true
   },
   "outputs": [],
   "source": []
  },
  {
   "cell_type": "code",
   "execution_count": 5,
   "metadata": {
    "collapsed": true
   },
   "outputs": [],
   "source": [
    "# 目前試過的組合 \n",
    "# dim  100 ,200 ,300  效果差不多  85%\n",
    "# epoch  5 =85.399 ,  6 =85.482 , 7 =85.607 , 10 =85.440\n",
    "# lr  0.2 =85.274 , 0.3 =85.357 , 0.4 =85.648 ,  0.5 =85.149\n",
    "# ws  10 =85.357 , 11 =85.440 , 12=85.524 , 13 =85.856 , 14 =85.191\n",
    "# loss softmax =85.482 , ns =85.607 , hs =85.191\n",
    "# neg 1 =85.856 ,2 =85.732 , 3 =85.357, 4 =85.856 , 5 =85.524 , 6 =85.316 \n",
    "# minn 1 =85.274 , 2 =85.565 , 3 =85.066\n",
    "# thread 10 =85.024 , 11 = 85.690 ,12 =85.482 , 13=85.565 , 14 =85.191 , 15 = 85.108"
   ]
  },
  {
   "cell_type": "code",
   "execution_count": null,
   "metadata": {
    "collapsed": true
   },
   "outputs": [],
   "source": []
  },
  {
   "cell_type": "code",
   "execution_count": null,
   "metadata": {
    "collapsed": true
   },
   "outputs": [],
   "source": []
  },
  {
   "cell_type": "markdown",
   "metadata": {},
   "source": [
    "# 評估模型準確率 "
   ]
  },
  {
   "cell_type": "markdown",
   "metadata": {},
   "source": [
    "## skipgram"
   ]
  },
  {
   "cell_type": "code",
   "execution_count": 24,
   "metadata": {
    "collapsed": false
   },
   "outputs": [],
   "source": [
    "# 預測這個文字檔試試看  需要有label的文件\n",
    "skip_result = skip_classifier.test('./data/hotel_label_onlyPN_test.txt')  #這個是處理過得文字檔案  有label"
   ]
  },
  {
   "cell_type": "code",
   "execution_count": 25,
   "metadata": {
    "collapsed": false
   },
   "outputs": [
    {
     "name": "stdout",
     "output_type": "stream",
     "text": [
      "SkipgramModel precision = 0.8548252911813644\n"
     ]
    }
   ],
   "source": [
    "print ('SkipgramModel precision =',skip_result.precision)"
   ]
  },
  {
   "cell_type": "code",
   "execution_count": 26,
   "metadata": {
    "collapsed": false
   },
   "outputs": [
    {
     "name": "stdout",
     "output_type": "stream",
     "text": [
      "SkipgramModel recall = 0.8548252911813644\n"
     ]
    }
   ],
   "source": [
    "print ('SkipgramModel recall =',skip_result.recall) "
   ]
  },
  {
   "cell_type": "code",
   "execution_count": null,
   "metadata": {
    "collapsed": true
   },
   "outputs": [],
   "source": []
  },
  {
   "cell_type": "code",
   "execution_count": null,
   "metadata": {
    "collapsed": true
   },
   "outputs": [],
   "source": []
  },
  {
   "cell_type": "markdown",
   "metadata": {
    "collapsed": true
   },
   "source": [
    "# 預測一句話"
   ]
  },
  {
   "cell_type": "markdown",
   "metadata": {},
   "source": [
    "## skip_classifier"
   ]
  },
  {
   "cell_type": "code",
   "execution_count": 14,
   "metadata": {
    "collapsed": false
   },
   "outputs": [
    {
     "data": {
      "text/plain": [
       "[['NEGATIVE']]"
      ]
     },
     "execution_count": 14,
     "metadata": {},
     "output_type": "execute_result"
    }
   ],
   "source": [
    "# 看是正向還是負向\n",
    "skip_classifier.predict([\"I like it\"])"
   ]
  },
  {
   "cell_type": "code",
   "execution_count": 15,
   "metadata": {
    "collapsed": false
   },
   "outputs": [
    {
     "data": {
      "text/plain": [
       "[[('NEGATIVE', 0.800781)]]"
      ]
     },
     "execution_count": 15,
     "metadata": {},
     "output_type": "execute_result"
    }
   ],
   "source": [
    "# 看是那一個面向的機率有多少\n",
    "skip_classifier.predict_proba([\"I don't like it\"])"
   ]
  },
  {
   "cell_type": "code",
   "execution_count": 16,
   "metadata": {
    "collapsed": false
   },
   "outputs": [
    {
     "data": {
      "text/plain": [
       "[[('NEGATIVE', 0.800781), ('POSITIVE', 0.197266)]]"
      ]
     },
     "execution_count": 16,
     "metadata": {},
     "output_type": "execute_result"
    }
   ],
   "source": [
    "# 看是兩個面向的機率有多少\n",
    "skip_classifier.predict_proba([\"I don't like it\"],2)"
   ]
  },
  {
   "cell_type": "code",
   "execution_count": null,
   "metadata": {
    "collapsed": true
   },
   "outputs": [],
   "source": []
  },
  {
   "cell_type": "code",
   "execution_count": null,
   "metadata": {
    "collapsed": true
   },
   "outputs": [],
   "source": []
  },
  {
   "cell_type": "raw",
   "metadata": {},
   "source": [
    "分類指令\n",
    "\n",
    "classifier.labels                  # List of labels\n",
    "classifier.label_prefix            # Prefix of the label\n",
    "classifier.dim                     # Size of word vector\n",
    "classifier.ws                      # Size of context window\n",
    "classifier.epoch                   # Number of epochs\n",
    "classifier.min_count               # Minimal number of word occurences\n",
    "classifier.neg                     # Number of negative sampled\n",
    "classifier.word_ngrams             # Max length of word ngram\n",
    "classifier.loss_name               # Loss function name\n",
    "classifier.bucket                  # Number of buckets\n",
    "classifier.minn                    # Min length of char ngram\n",
    "classifier.maxn                    # Max length of char ngram\n",
    "classifier.lr_update_rate          # Rate of updates for the learning rate\n",
    "classifier.t                       # Value of sampling threshold\n",
    "classifier.encoding                # Encoding that used by classifier\n",
    "classifier.test(filename, k)       # Test the classifier\n",
    "classifier.predict(texts, k)       # Predict the most likely label\n",
    "classifier.predict_proba(texts, k) # Predict the most likely label include their probability"
   ]
  },
  {
   "cell_type": "code",
   "execution_count": null,
   "metadata": {
    "collapsed": true
   },
   "outputs": [],
   "source": []
  },
  {
   "cell_type": "code",
   "execution_count": null,
   "metadata": {
    "collapsed": true
   },
   "outputs": [],
   "source": []
  },
  {
   "cell_type": "code",
   "execution_count": null,
   "metadata": {
    "collapsed": true
   },
   "outputs": [],
   "source": [
    "# 底下想要測試隨便一句話  不是飯店留言 直接丟進去跑出來結果會如何  但不太準確"
   ]
  },
  {
   "cell_type": "code",
   "execution_count": 23,
   "metadata": {
    "collapsed": true
   },
   "outputs": [],
   "source": [
    "texts = [ 'example very longtext so I think that is not suitable'\n",
    "        ,'Washington Posts Attack Article on Google Duplex made me throw Alexa in the trash!'\n",
    "        ,'good nice well done'] "
   ]
  },
  {
   "cell_type": "code",
   "execution_count": 24,
   "metadata": {
    "collapsed": false
   },
   "outputs": [],
   "source": [
    "labels = skip_classifier.predict(texts)"
   ]
  },
  {
   "cell_type": "code",
   "execution_count": 25,
   "metadata": {
    "collapsed": false
   },
   "outputs": [
    {
     "name": "stdout",
     "output_type": "stream",
     "text": [
      "[['NEGATIVE'], ['POSITIVE'], ['POSITIVE']]\n"
     ]
    }
   ],
   "source": [
    "print (labels)"
   ]
  },
  {
   "cell_type": "code",
   "execution_count": null,
   "metadata": {
    "collapsed": true
   },
   "outputs": [],
   "source": []
  },
  {
   "cell_type": "code",
   "execution_count": 26,
   "metadata": {
    "collapsed": false
   },
   "outputs": [],
   "source": [
    "# 測試飯店留言看看?\n",
    "# test1 = 正向 , test2 = 負向\n",
    "text1 = ['./data/test1_labal','./data/test2_labal']"
   ]
  },
  {
   "cell_type": "code",
   "execution_count": 27,
   "metadata": {
    "collapsed": true
   },
   "outputs": [],
   "source": [
    "label1 = skip_classifier.predict(text1)"
   ]
  },
  {
   "cell_type": "code",
   "execution_count": 30,
   "metadata": {
    "collapsed": false
   },
   "outputs": [
    {
     "name": "stdout",
     "output_type": "stream",
     "text": [
      "[['POSITIVE'], ['POSITIVE']]\n"
     ]
    }
   ],
   "source": [
    "# 看得出來1準確  2不準確\n",
    "print (label1)"
   ]
  },
  {
   "cell_type": "code",
   "execution_count": null,
   "metadata": {
    "collapsed": false
   },
   "outputs": [],
   "source": []
  },
  {
   "cell_type": "code",
   "execution_count": 48,
   "metadata": {
    "collapsed": true
   },
   "outputs": [],
   "source": []
  },
  {
   "cell_type": "code",
   "execution_count": 49,
   "metadata": {
    "collapsed": true
   },
   "outputs": [],
   "source": []
  },
  {
   "cell_type": "code",
   "execution_count": null,
   "metadata": {
    "collapsed": false
   },
   "outputs": [],
   "source": []
  },
  {
   "cell_type": "code",
   "execution_count": null,
   "metadata": {
    "collapsed": true
   },
   "outputs": [],
   "source": []
  }
 ],
 "metadata": {
  "kernelspec": {
   "display_name": "Python 3",
   "language": "python",
   "name": "python3"
  },
  "language_info": {
   "codemirror_mode": {
    "name": "ipython",
    "version": 3
   },
   "file_extension": ".py",
   "mimetype": "text/x-python",
   "name": "python",
   "nbconvert_exporter": "python",
   "pygments_lexer": "ipython3",
   "version": "3.5.2"
  }
 },
 "nbformat": 4,
 "nbformat_minor": 2
}
